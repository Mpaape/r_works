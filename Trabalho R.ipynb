{
 "cells": [
  {
   "cell_type": "markdown",
   "id": "d24249d2",
   "metadata": {},
   "source": [
    "INSTITUTO INFNET \\\n",
    "MIT BIG DATA\\\n",
    "Big Data Analytics com R\\\n",
    "Prof.: Cassius Figueiredo\\\n",
    "Alunos : Mateus Magnus Paape, Kelvin Spealer, Felipe Delamar\\\n",
    "AVALIAÇÃO FINAL\\"
   ]
  },
  {
   "cell_type": "markdown",
   "id": "54c424da",
   "metadata": {},
   "source": [
    "\n",
    "\n",
    "#### INSTRUÇÕES\n",
    "\n",
    "Cada grupo deve preparar uma apresentação contendo:\n",
    "\n",
    "##### 1) Apresentação dos conjuntos de dados definidos e, para cada um deles,apresentar as características principais do problema:\n",
    "\n",
    "* 1.1) Descrição sucinta da aplicação;\n",
    "* 1.2) Tipo de problema (classificação ou regressão). Cada base inclui uma proposta de pergunta que deverá ser o foco do trabalho com o conjunto de dados;\n",
    "* 1.3) Número de variáveis e de registros;\n",
    "* 1.4) Existência de valores ausentes. Caso existam, como trataram?\n",
    "\n",
    "##### 2) Realizar a análise exploratória dos dados e discutir:\n",
    "\n",
    "* 2.1) Estatísticas básicas: mínimos, máximos, médias, desvios, etc. de cadavariável;\n",
    "* 2.2) Avaliar os histogramas e as características das distribuições das variáveis;\n",
    "* 2.3) Verificar a existência de outliers e decidir o que fazer com eles;\n",
    "* 2.4) Verificar correlações.\n",
    "\n",
    "##### 3) Aplicar um modelo (visto em aula ou não) para entregar uma respostaembasada à pergunta apresentada. Documentar a aplicação do modelo.\n",
    "\n",
    "##### 4) Apresentar as conclusões da análise realizada."
   ]
  },
  {
   "cell_type": "markdown",
   "id": "021ae270",
   "metadata": {},
   "source": [
    "## 1) Apresentação dos conjuntos de dados definidos e, para cada um deles,apresentar as características principais do problema:"
   ]
  },
  {
   "cell_type": "markdown",
   "id": "ca689fd3",
   "metadata": {},
   "source": [
    " ### bank client data:\n",
    " \n",
    "   - age (numeric)\n",
    "   - job : type of job (categorical: \"admin.\",\"blue-collar\",\"entrepreneur\",\"housemaid\",\"management\",\"retired\",\"self-employed\",\"services\",\"student\",\"technician\",\"unemployed\",\"unknown\")\n",
    "   - marital : marital status (categorical: \"divorced\",\"married\",\"single\",\"unknown\"; note: \"divorced\" means divorced or widowed)\n",
    "   - education (categorical: \"basic.4y\",\"basic.6y\",\"basic.9y\",\"high.school\",\"illiterate\",\"professional.course\",\"university.degree\",\"unknown\")\n",
    "   - default: has credit in default? (categorical: \"no\",\"yes\",\"unknown\")\n",
    "   - housing: has housing loan? (categorical: \"no\",\"yes\",\"unknown\")\n",
    "   - loan: has personal loan? (categorical: \"no\",\"yes\",\"unknown\")\n",
    "   \n",
    "   ### related with the last contact of the current campaign:\n",
    "   \n",
    "   - contact: contact communication type (categorical: \"cellular\",\"telephone\") \n",
    "   - month: last contact month of year (categorical: \"jan\", \"feb\", \"mar\", ..., \"nov\", \"dec\")\n",
    "   - day_of_week: last contact day of the week (categorical: \"mon\",\"tue\",\"wed\",\"thu\",\"fri\")\n",
    "   - duration: last contact duration, in seconds (numeric). Important note:  this attribute highly affects the output target (e.g., if duration=0 then y=\"no\"). Yet, the duration is not known before a call is performed. Also, after the end of the call y is obviously known. Thus, this input should only be included for benchmark purposes and should be discarded if the intention is to have a realistic predictive model.\n",
    "  \n",
    "   ### other attributes:\n",
    "   \n",
    "   - campaign: number of contacts performed during this campaign and for this client (numeric, includes last contact)\n",
    "   - pdays: number of days that passed by after the client was last contacted from a previous campaign (numeric; 999 means client was not previously contacted)\n",
    "   - previous: number of contacts performed before this campaign and for this client (numeric)\n",
    "   - poutcome: outcome of the previous marketing campaign (categorical: \"failure\",\"nonexistent\",\"success\")\n",
    "  \n",
    " ### social and economic context attributes\n",
    " \n",
    "  - emp.var.rate: employment variation rate - quarterly indicator (numeric)\n",
    "  - cons.price.idx: consumer price index - monthly indicator (numeric)     \n",
    "  - cons.conf.idx: consumer confidence index - monthly indicator (numeric)     \n",
    "  - euribor3m: euribor 3 month rate - daily indicator (numeric)\n",
    "  - nr.employed: number of employees - quarterly indicator (numeric)\n",
    "\n",
    "  Output variable (desired target):\n",
    "  - y - has the client subscribed a term deposit? (binary: \"yes\",\"no\")\n",
    "\n",
    "- Missing Attribute Values: There are several missing values in some categorical attributes, all coded with the \"unknown\" label. These missing values can be treated as a possible class label or using deletion or imputation techniques. \n"
   ]
  },
  {
   "cell_type": "markdown",
   "id": "5e8bd5c0",
   "metadata": {},
   "source": [
    "## 1) Apresentação dos conjuntos de dados definidos e, para cada um deles,apresentar as características principais do problema:"
   ]
  },
  {
   "cell_type": "markdown",
   "id": "90b2316f",
   "metadata": {},
   "source": [
    "### 1.1) Descrição sucinta da aplicação;"
   ]
  },
  {
   "cell_type": "code",
   "execution_count": null,
   "id": "feb83179",
   "metadata": {},
   "outputs": [],
   "source": []
  },
  {
   "cell_type": "markdown",
   "id": "3d5223d1",
   "metadata": {},
   "source": [
    "### 1.2) Tipo de problema (classificação ou regressão). Cada base inclui uma proposta de pergunta que deverá ser o foco do trabalho com o conjunto dedados;"
   ]
  },
  {
   "cell_type": "code",
   "execution_count": null,
   "id": "c7a2fa89",
   "metadata": {},
   "outputs": [],
   "source": []
  },
  {
   "cell_type": "markdown",
   "id": "0d309746",
   "metadata": {},
   "source": [
    "### 1.3) Número de variáveis e de registros;"
   ]
  },
  {
   "cell_type": "code",
   "execution_count": 26,
   "id": "99605741",
   "metadata": {},
   "outputs": [],
   "source": [
    "##Demo: How to build a recommendation engine in R\n",
    "setwd(\"C:\\\\Users\\\\Pichau\\\\Documents\\\\Trabalho R\\\\r_works\")\n",
    "\n",
    "#APRESENTACAO DOS DADOS \n",
    "train_df=read.csv2(\"bank-additional-full.csv\",sep = ';', dec= '.')\n",
    "test_df=read.csv2(\"bank-additional.csv\",sep = ';',dec= '.')\n"
   ]
  },
  {
   "cell_type": "code",
   "execution_count": 27,
   "id": "dfbf3a6d",
   "metadata": {},
   "outputs": [
    {
     "name": "stdout",
     "output_type": "stream",
     "text": [
      "[1] \"o número de linhas do dataframe é :\"\n",
      " int 41188\n",
      "NULL\n",
      "[1] \"o número de colunas do dataframe é :\"\n",
      " int 21\n",
      "NULL\n"
     ]
    }
   ],
   "source": [
    "#numero de variaves e registros\n",
    "\n",
    "print('o número de linhas do dataframe é :')\n",
    "print(str(nrow(train_df)))\n",
    "\n",
    "\n",
    "print('o número de colunas do dataframe é :')\n",
    "print(str(ncol(train_df)))\n",
    " \n",
    " "
   ]
  },
  {
   "cell_type": "code",
   "execution_count": 28,
   "id": "5b5f73e0",
   "metadata": {},
   "outputs": [
    {
     "name": "stdout",
     "output_type": "stream",
     "text": [
      "[1] \"o número de linhas do dataframe é :\"\n",
      " int 4119\n",
      "NULL\n",
      "[1] \"o número de colunas do dataframe é :\"\n",
      " int 21\n",
      "NULL\n"
     ]
    }
   ],
   "source": [
    "#numero de variaves e registros\n",
    "\n",
    "print('o número de linhas do dataframe é :')\n",
    "print(str(nrow(test_df)))\n",
    "\n",
    "\n",
    "print('o número de colunas do dataframe é :')\n",
    "print(str(ncol(test_df)))\n",
    " "
   ]
  },
  {
   "cell_type": "code",
   "execution_count": 29,
   "id": "b2ccf36f",
   "metadata": {},
   "outputs": [
    {
     "data": {
      "text/html": [
       "<ol class=list-inline>\n",
       "\t<li>'age'</li>\n",
       "\t<li>'job'</li>\n",
       "\t<li>'marital'</li>\n",
       "\t<li>'education'</li>\n",
       "\t<li>'default'</li>\n",
       "\t<li>'housing'</li>\n",
       "\t<li>'loan'</li>\n",
       "\t<li>'contact'</li>\n",
       "\t<li>'month'</li>\n",
       "\t<li>'day_of_week'</li>\n",
       "\t<li>'duration'</li>\n",
       "\t<li>'campaign'</li>\n",
       "\t<li>'pdays'</li>\n",
       "\t<li>'previous'</li>\n",
       "\t<li>'poutcome'</li>\n",
       "\t<li>'emp.var.rate'</li>\n",
       "\t<li>'cons.price.idx'</li>\n",
       "\t<li>'cons.conf.idx'</li>\n",
       "\t<li>'euribor3m'</li>\n",
       "\t<li>'nr.employed'</li>\n",
       "\t<li>'y'</li>\n",
       "</ol>\n"
      ],
      "text/latex": [
       "\\begin{enumerate*}\n",
       "\\item 'age'\n",
       "\\item 'job'\n",
       "\\item 'marital'\n",
       "\\item 'education'\n",
       "\\item 'default'\n",
       "\\item 'housing'\n",
       "\\item 'loan'\n",
       "\\item 'contact'\n",
       "\\item 'month'\n",
       "\\item 'day\\_of\\_week'\n",
       "\\item 'duration'\n",
       "\\item 'campaign'\n",
       "\\item 'pdays'\n",
       "\\item 'previous'\n",
       "\\item 'poutcome'\n",
       "\\item 'emp.var.rate'\n",
       "\\item 'cons.price.idx'\n",
       "\\item 'cons.conf.idx'\n",
       "\\item 'euribor3m'\n",
       "\\item 'nr.employed'\n",
       "\\item 'y'\n",
       "\\end{enumerate*}\n"
      ],
      "text/markdown": [
       "1. 'age'\n",
       "2. 'job'\n",
       "3. 'marital'\n",
       "4. 'education'\n",
       "5. 'default'\n",
       "6. 'housing'\n",
       "7. 'loan'\n",
       "8. 'contact'\n",
       "9. 'month'\n",
       "10. 'day_of_week'\n",
       "11. 'duration'\n",
       "12. 'campaign'\n",
       "13. 'pdays'\n",
       "14. 'previous'\n",
       "15. 'poutcome'\n",
       "16. 'emp.var.rate'\n",
       "17. 'cons.price.idx'\n",
       "18. 'cons.conf.idx'\n",
       "19. 'euribor3m'\n",
       "20. 'nr.employed'\n",
       "21. 'y'\n",
       "\n",
       "\n"
      ],
      "text/plain": [
       " [1] \"age\"            \"job\"            \"marital\"        \"education\"     \n",
       " [5] \"default\"        \"housing\"        \"loan\"           \"contact\"       \n",
       " [9] \"month\"          \"day_of_week\"    \"duration\"       \"campaign\"      \n",
       "[13] \"pdays\"          \"previous\"       \"poutcome\"       \"emp.var.rate\"  \n",
       "[17] \"cons.price.idx\" \"cons.conf.idx\"  \"euribor3m\"      \"nr.employed\"   \n",
       "[21] \"y\"             "
      ]
     },
     "metadata": {},
     "output_type": "display_data"
    }
   ],
   "source": [
    "#colunas do dataset\n",
    "names(train_df)"
   ]
  },
  {
   "cell_type": "code",
   "execution_count": 30,
   "id": "e66b1448",
   "metadata": {},
   "outputs": [
    {
     "name": "stdout",
     "output_type": "stream",
     "text": [
      "'data.frame':\t41188 obs. of  21 variables:\n",
      " $ age           : int  56 57 37 40 56 45 59 41 24 25 ...\n",
      " $ job           : Factor w/ 12 levels \"admin.\",\"blue-collar\",..: 4 8 8 1 8 8 1 2 10 8 ...\n",
      " $ marital       : Factor w/ 4 levels \"divorced\",\"married\",..: 2 2 2 2 2 2 2 2 3 3 ...\n",
      " $ education     : Factor w/ 8 levels \"basic.4y\",\"basic.6y\",..: 1 4 4 2 4 3 6 8 6 4 ...\n",
      " $ default       : Factor w/ 3 levels \"no\",\"unknown\",..: 1 2 1 1 1 2 1 2 1 1 ...\n",
      " $ housing       : Factor w/ 3 levels \"no\",\"unknown\",..: 1 1 3 1 1 1 1 1 3 3 ...\n",
      " $ loan          : Factor w/ 3 levels \"no\",\"unknown\",..: 1 1 1 1 3 1 1 1 1 1 ...\n",
      " $ contact       : Factor w/ 2 levels \"cellular\",\"telephone\": 2 2 2 2 2 2 2 2 2 2 ...\n",
      " $ month         : Factor w/ 10 levels \"apr\",\"aug\",\"dec\",..: 7 7 7 7 7 7 7 7 7 7 ...\n",
      " $ day_of_week   : Factor w/ 5 levels \"fri\",\"mon\",\"thu\",..: 2 2 2 2 2 2 2 2 2 2 ...\n",
      " $ duration      : int  261 149 226 151 307 198 139 217 380 50 ...\n",
      " $ campaign      : int  1 1 1 1 1 1 1 1 1 1 ...\n",
      " $ pdays         : int  999 999 999 999 999 999 999 999 999 999 ...\n",
      " $ previous      : int  0 0 0 0 0 0 0 0 0 0 ...\n",
      " $ poutcome      : Factor w/ 3 levels \"failure\",\"nonexistent\",..: 2 2 2 2 2 2 2 2 2 2 ...\n",
      " $ emp.var.rate  : num  1.1 1.1 1.1 1.1 1.1 1.1 1.1 1.1 1.1 1.1 ...\n",
      " $ cons.price.idx: num  94 94 94 94 94 ...\n",
      " $ cons.conf.idx : num  -36.4 -36.4 -36.4 -36.4 -36.4 -36.4 -36.4 -36.4 -36.4 -36.4 ...\n",
      " $ euribor3m     : num  4.86 4.86 4.86 4.86 4.86 ...\n",
      " $ nr.employed   : num  5191 5191 5191 5191 5191 ...\n",
      " $ y             : Factor w/ 2 levels \"no\",\"yes\": 1 1 1 1 1 1 1 1 1 1 ...\n"
     ]
    }
   ],
   "source": [
    "str(train_df)"
   ]
  },
  {
   "cell_type": "code",
   "execution_count": 31,
   "id": "af92f26a",
   "metadata": {
    "scrolled": true
   },
   "outputs": [
    {
     "data": {
      "text/html": [
       "<table>\n",
       "<thead><tr><th scope=col>age</th><th scope=col>job</th><th scope=col>marital</th><th scope=col>education</th><th scope=col>default</th><th scope=col>housing</th><th scope=col>loan</th><th scope=col>contact</th><th scope=col>month</th><th scope=col>day_of_week</th><th scope=col>...</th><th scope=col>campaign</th><th scope=col>pdays</th><th scope=col>previous</th><th scope=col>poutcome</th><th scope=col>emp.var.rate</th><th scope=col>cons.price.idx</th><th scope=col>cons.conf.idx</th><th scope=col>euribor3m</th><th scope=col>nr.employed</th><th scope=col>y</th></tr></thead>\n",
       "<tbody>\n",
       "\t<tr><td>56         </td><td>housemaid  </td><td>married    </td><td>basic.4y   </td><td>no         </td><td>no         </td><td>no         </td><td>telephone  </td><td>may        </td><td>mon        </td><td>...        </td><td>1          </td><td>999        </td><td>0          </td><td>nonexistent</td><td>1.1        </td><td>93.994     </td><td>-36.4      </td><td>4.857      </td><td>5191       </td><td>no         </td></tr>\n",
       "\t<tr><td>57         </td><td>services   </td><td>married    </td><td>high.school</td><td>unknown    </td><td>no         </td><td>no         </td><td>telephone  </td><td>may        </td><td>mon        </td><td>...        </td><td>1          </td><td>999        </td><td>0          </td><td>nonexistent</td><td>1.1        </td><td>93.994     </td><td>-36.4      </td><td>4.857      </td><td>5191       </td><td>no         </td></tr>\n",
       "\t<tr><td>37         </td><td>services   </td><td>married    </td><td>high.school</td><td>no         </td><td>yes        </td><td>no         </td><td>telephone  </td><td>may        </td><td>mon        </td><td>...        </td><td>1          </td><td>999        </td><td>0          </td><td>nonexistent</td><td>1.1        </td><td>93.994     </td><td>-36.4      </td><td>4.857      </td><td>5191       </td><td>no         </td></tr>\n",
       "\t<tr><td>40         </td><td>admin.     </td><td>married    </td><td>basic.6y   </td><td>no         </td><td>no         </td><td>no         </td><td>telephone  </td><td>may        </td><td>mon        </td><td>...        </td><td>1          </td><td>999        </td><td>0          </td><td>nonexistent</td><td>1.1        </td><td>93.994     </td><td>-36.4      </td><td>4.857      </td><td>5191       </td><td>no         </td></tr>\n",
       "\t<tr><td>56         </td><td>services   </td><td>married    </td><td>high.school</td><td>no         </td><td>no         </td><td>yes        </td><td>telephone  </td><td>may        </td><td>mon        </td><td>...        </td><td>1          </td><td>999        </td><td>0          </td><td>nonexistent</td><td>1.1        </td><td>93.994     </td><td>-36.4      </td><td>4.857      </td><td>5191       </td><td>no         </td></tr>\n",
       "</tbody>\n",
       "</table>\n"
      ],
      "text/latex": [
       "\\begin{tabular}{r|lllllllllllllllllllll}\n",
       " age & job & marital & education & default & housing & loan & contact & month & day\\_of\\_week & ... & campaign & pdays & previous & poutcome & emp.var.rate & cons.price.idx & cons.conf.idx & euribor3m & nr.employed & y\\\\\n",
       "\\hline\n",
       "\t 56          & housemaid   & married     & basic.4y    & no          & no          & no          & telephone   & may         & mon         & ...         & 1           & 999         & 0           & nonexistent & 1.1         & 93.994      & -36.4       & 4.857       & 5191        & no         \\\\\n",
       "\t 57          & services    & married     & high.school & unknown     & no          & no          & telephone   & may         & mon         & ...         & 1           & 999         & 0           & nonexistent & 1.1         & 93.994      & -36.4       & 4.857       & 5191        & no         \\\\\n",
       "\t 37          & services    & married     & high.school & no          & yes         & no          & telephone   & may         & mon         & ...         & 1           & 999         & 0           & nonexistent & 1.1         & 93.994      & -36.4       & 4.857       & 5191        & no         \\\\\n",
       "\t 40          & admin.      & married     & basic.6y    & no          & no          & no          & telephone   & may         & mon         & ...         & 1           & 999         & 0           & nonexistent & 1.1         & 93.994      & -36.4       & 4.857       & 5191        & no         \\\\\n",
       "\t 56          & services    & married     & high.school & no          & no          & yes         & telephone   & may         & mon         & ...         & 1           & 999         & 0           & nonexistent & 1.1         & 93.994      & -36.4       & 4.857       & 5191        & no         \\\\\n",
       "\\end{tabular}\n"
      ],
      "text/markdown": [
       "\n",
       "| age | job | marital | education | default | housing | loan | contact | month | day_of_week | ... | campaign | pdays | previous | poutcome | emp.var.rate | cons.price.idx | cons.conf.idx | euribor3m | nr.employed | y |\n",
       "|---|---|---|---|---|---|---|---|---|---|---|---|---|---|---|---|---|---|---|---|---|\n",
       "| 56          | housemaid   | married     | basic.4y    | no          | no          | no          | telephone   | may         | mon         | ...         | 1           | 999         | 0           | nonexistent | 1.1         | 93.994      | -36.4       | 4.857       | 5191        | no          |\n",
       "| 57          | services    | married     | high.school | unknown     | no          | no          | telephone   | may         | mon         | ...         | 1           | 999         | 0           | nonexistent | 1.1         | 93.994      | -36.4       | 4.857       | 5191        | no          |\n",
       "| 37          | services    | married     | high.school | no          | yes         | no          | telephone   | may         | mon         | ...         | 1           | 999         | 0           | nonexistent | 1.1         | 93.994      | -36.4       | 4.857       | 5191        | no          |\n",
       "| 40          | admin.      | married     | basic.6y    | no          | no          | no          | telephone   | may         | mon         | ...         | 1           | 999         | 0           | nonexistent | 1.1         | 93.994      | -36.4       | 4.857       | 5191        | no          |\n",
       "| 56          | services    | married     | high.school | no          | no          | yes         | telephone   | may         | mon         | ...         | 1           | 999         | 0           | nonexistent | 1.1         | 93.994      | -36.4       | 4.857       | 5191        | no          |\n",
       "\n"
      ],
      "text/plain": [
       "  age job       marital education   default housing loan contact   month\n",
       "1 56  housemaid married basic.4y    no      no      no   telephone may  \n",
       "2 57  services  married high.school unknown no      no   telephone may  \n",
       "3 37  services  married high.school no      yes     no   telephone may  \n",
       "4 40  admin.    married basic.6y    no      no      no   telephone may  \n",
       "5 56  services  married high.school no      no      yes  telephone may  \n",
       "  day_of_week ... campaign pdays previous poutcome    emp.var.rate\n",
       "1 mon         ... 1        999   0        nonexistent 1.1         \n",
       "2 mon         ... 1        999   0        nonexistent 1.1         \n",
       "3 mon         ... 1        999   0        nonexistent 1.1         \n",
       "4 mon         ... 1        999   0        nonexistent 1.1         \n",
       "5 mon         ... 1        999   0        nonexistent 1.1         \n",
       "  cons.price.idx cons.conf.idx euribor3m nr.employed y \n",
       "1 93.994         -36.4         4.857     5191        no\n",
       "2 93.994         -36.4         4.857     5191        no\n",
       "3 93.994         -36.4         4.857     5191        no\n",
       "4 93.994         -36.4         4.857     5191        no\n",
       "5 93.994         -36.4         4.857     5191        no"
      ]
     },
     "metadata": {},
     "output_type": "display_data"
    }
   ],
   "source": [
    "#inspecionando o dataframe \n",
    "head(train_df, n =5 )"
   ]
  },
  {
   "cell_type": "markdown",
   "id": "3857715f",
   "metadata": {},
   "source": [
    "#### Duplicidade de dados"
   ]
  },
  {
   "cell_type": "code",
   "execution_count": 32,
   "id": "daaa9008",
   "metadata": {},
   "outputs": [
    {
     "data": {
      "text/html": [
       "12"
      ],
      "text/latex": [
       "12"
      ],
      "text/markdown": [
       "12"
      ],
      "text/plain": [
       "[1] 12"
      ]
     },
     "metadata": {},
     "output_type": "display_data"
    }
   ],
   "source": [
    "#verificando linhas duplicadas\n",
    "sum(duplicated(train_df))"
   ]
  },
  {
   "cell_type": "markdown",
   "id": "bc65a7e8",
   "metadata": {},
   "source": [
    "Como o nosso dataframe não tem identificação única de usuário, não existe problema em haver linhas duplicadas. Mas ainda sim, somente 12 são identicas"
   ]
  },
  {
   "cell_type": "code",
   "execution_count": 33,
   "id": "f5b7037c",
   "metadata": {},
   "outputs": [
    {
     "data": {
      "text/html": [
       "<table>\n",
       "<thead><tr><th scope=col>Row.names</th><th scope=col>x</th><th scope=col>y</th></tr></thead>\n",
       "<tbody>\n",
       "\t<tr><td>age           </td><td>0             </td><td>0             </td></tr>\n",
       "\t<tr><td>campaign      </td><td>0             </td><td>0             </td></tr>\n",
       "\t<tr><td>cons.conf.idx </td><td>0             </td><td>0             </td></tr>\n",
       "\t<tr><td>cons.price.idx</td><td>0             </td><td>0             </td></tr>\n",
       "\t<tr><td>contact       </td><td>0             </td><td>0             </td></tr>\n",
       "\t<tr><td>day_of_week   </td><td>0             </td><td>0             </td></tr>\n",
       "\t<tr><td>default       </td><td>0             </td><td>0             </td></tr>\n",
       "\t<tr><td>duration      </td><td>0             </td><td>0             </td></tr>\n",
       "\t<tr><td>education     </td><td>0             </td><td>0             </td></tr>\n",
       "\t<tr><td>emp.var.rate  </td><td>0             </td><td>0             </td></tr>\n",
       "\t<tr><td>euribor3m     </td><td>0             </td><td>0             </td></tr>\n",
       "\t<tr><td>housing       </td><td>0             </td><td>0             </td></tr>\n",
       "\t<tr><td>job           </td><td>0             </td><td>0             </td></tr>\n",
       "\t<tr><td>loan          </td><td>0             </td><td>0             </td></tr>\n",
       "\t<tr><td>marital       </td><td>0             </td><td>0             </td></tr>\n",
       "\t<tr><td>month         </td><td>0             </td><td>0             </td></tr>\n",
       "\t<tr><td>nr.employed   </td><td>0             </td><td>0             </td></tr>\n",
       "\t<tr><td>pdays         </td><td>0             </td><td>0             </td></tr>\n",
       "\t<tr><td>poutcome      </td><td>0             </td><td>0             </td></tr>\n",
       "\t<tr><td>previous      </td><td>0             </td><td>0             </td></tr>\n",
       "\t<tr><td>y             </td><td>0             </td><td>0             </td></tr>\n",
       "</tbody>\n",
       "</table>\n"
      ],
      "text/latex": [
       "\\begin{tabular}{r|lll}\n",
       " Row.names & x & y\\\\\n",
       "\\hline\n",
       "\t age            & 0              & 0             \\\\\n",
       "\t campaign       & 0              & 0             \\\\\n",
       "\t cons.conf.idx  & 0              & 0             \\\\\n",
       "\t cons.price.idx & 0              & 0             \\\\\n",
       "\t contact        & 0              & 0             \\\\\n",
       "\t day\\_of\\_week    & 0                  & 0                 \\\\\n",
       "\t default        & 0              & 0             \\\\\n",
       "\t duration       & 0              & 0             \\\\\n",
       "\t education      & 0              & 0             \\\\\n",
       "\t emp.var.rate   & 0              & 0             \\\\\n",
       "\t euribor3m      & 0              & 0             \\\\\n",
       "\t housing        & 0              & 0             \\\\\n",
       "\t job            & 0              & 0             \\\\\n",
       "\t loan           & 0              & 0             \\\\\n",
       "\t marital        & 0              & 0             \\\\\n",
       "\t month          & 0              & 0             \\\\\n",
       "\t nr.employed    & 0              & 0             \\\\\n",
       "\t pdays          & 0              & 0             \\\\\n",
       "\t poutcome       & 0              & 0             \\\\\n",
       "\t previous       & 0              & 0             \\\\\n",
       "\t y              & 0              & 0             \\\\\n",
       "\\end{tabular}\n"
      ],
      "text/markdown": [
       "\n",
       "| Row.names | x | y |\n",
       "|---|---|---|\n",
       "| age            | 0              | 0              |\n",
       "| campaign       | 0              | 0              |\n",
       "| cons.conf.idx  | 0              | 0              |\n",
       "| cons.price.idx | 0              | 0              |\n",
       "| contact        | 0              | 0              |\n",
       "| day_of_week    | 0              | 0              |\n",
       "| default        | 0              | 0              |\n",
       "| duration       | 0              | 0              |\n",
       "| education      | 0              | 0              |\n",
       "| emp.var.rate   | 0              | 0              |\n",
       "| euribor3m      | 0              | 0              |\n",
       "| housing        | 0              | 0              |\n",
       "| job            | 0              | 0              |\n",
       "| loan           | 0              | 0              |\n",
       "| marital        | 0              | 0              |\n",
       "| month          | 0              | 0              |\n",
       "| nr.employed    | 0              | 0              |\n",
       "| pdays          | 0              | 0              |\n",
       "| poutcome       | 0              | 0              |\n",
       "| previous       | 0              | 0              |\n",
       "| y              | 0              | 0              |\n",
       "\n"
      ],
      "text/plain": [
       "   Row.names      x y\n",
       "1  age            0 0\n",
       "2  campaign       0 0\n",
       "3  cons.conf.idx  0 0\n",
       "4  cons.price.idx 0 0\n",
       "5  contact        0 0\n",
       "6  day_of_week    0 0\n",
       "7  default        0 0\n",
       "8  duration       0 0\n",
       "9  education      0 0\n",
       "10 emp.var.rate   0 0\n",
       "11 euribor3m      0 0\n",
       "12 housing        0 0\n",
       "13 job            0 0\n",
       "14 loan           0 0\n",
       "15 marital        0 0\n",
       "16 month          0 0\n",
       "17 nr.employed    0 0\n",
       "18 pdays          0 0\n",
       "19 poutcome       0 0\n",
       "20 previous       0 0\n",
       "21 y              0 0"
      ]
     },
     "metadata": {},
     "output_type": "display_data"
    }
   ],
   "source": [
    " \n",
    "na_df <- colSums(is.na(train_df))\n",
    "vazio_df <-colSums(train_df == \"\") \n",
    "\n",
    "     \n",
    "df = merge(x = na_df, y = vazio_df, by = c(na_df))\n",
    "df"
   ]
  },
  {
   "cell_type": "markdown",
   "id": "9a7d9999",
   "metadata": {},
   "source": [
    "Apesar do meta arquivo esclarecer que o faltante é \"unknow\" verificamos dados \"\" ou na tbm"
   ]
  },
  {
   "cell_type": "code",
   "execution_count": 34,
   "id": "2780555e",
   "metadata": {},
   "outputs": [
    {
     "data": {
      "text/html": [
       "<dl class=dl-horizontal>\n",
       "\t<dt>age</dt>\n",
       "\t\t<dd>0</dd>\n",
       "\t<dt>job</dt>\n",
       "\t\t<dd>330</dd>\n",
       "\t<dt>marital</dt>\n",
       "\t\t<dd>80</dd>\n",
       "\t<dt>education</dt>\n",
       "\t\t<dd>1731</dd>\n",
       "\t<dt>default</dt>\n",
       "\t\t<dd>8597</dd>\n",
       "\t<dt>housing</dt>\n",
       "\t\t<dd>990</dd>\n",
       "\t<dt>loan</dt>\n",
       "\t\t<dd>990</dd>\n",
       "\t<dt>contact</dt>\n",
       "\t\t<dd>0</dd>\n",
       "\t<dt>month</dt>\n",
       "\t\t<dd>0</dd>\n",
       "\t<dt>day_of_week</dt>\n",
       "\t\t<dd>0</dd>\n",
       "\t<dt>duration</dt>\n",
       "\t\t<dd>0</dd>\n",
       "\t<dt>campaign</dt>\n",
       "\t\t<dd>0</dd>\n",
       "\t<dt>pdays</dt>\n",
       "\t\t<dd>0</dd>\n",
       "\t<dt>previous</dt>\n",
       "\t\t<dd>0</dd>\n",
       "\t<dt>poutcome</dt>\n",
       "\t\t<dd>0</dd>\n",
       "\t<dt>emp.var.rate</dt>\n",
       "\t\t<dd>0</dd>\n",
       "\t<dt>cons.price.idx</dt>\n",
       "\t\t<dd>0</dd>\n",
       "\t<dt>cons.conf.idx</dt>\n",
       "\t\t<dd>0</dd>\n",
       "\t<dt>euribor3m</dt>\n",
       "\t\t<dd>0</dd>\n",
       "\t<dt>nr.employed</dt>\n",
       "\t\t<dd>0</dd>\n",
       "\t<dt>y</dt>\n",
       "\t\t<dd>0</dd>\n",
       "</dl>\n"
      ],
      "text/latex": [
       "\\begin{description*}\n",
       "\\item[age] 0\n",
       "\\item[job] 330\n",
       "\\item[marital] 80\n",
       "\\item[education] 1731\n",
       "\\item[default] 8597\n",
       "\\item[housing] 990\n",
       "\\item[loan] 990\n",
       "\\item[contact] 0\n",
       "\\item[month] 0\n",
       "\\item[day\\textbackslash{}\\_of\\textbackslash{}\\_week] 0\n",
       "\\item[duration] 0\n",
       "\\item[campaign] 0\n",
       "\\item[pdays] 0\n",
       "\\item[previous] 0\n",
       "\\item[poutcome] 0\n",
       "\\item[emp.var.rate] 0\n",
       "\\item[cons.price.idx] 0\n",
       "\\item[cons.conf.idx] 0\n",
       "\\item[euribor3m] 0\n",
       "\\item[nr.employed] 0\n",
       "\\item[y] 0\n",
       "\\end{description*}\n"
      ],
      "text/markdown": [
       "age\n",
       ":   0job\n",
       ":   330marital\n",
       ":   80education\n",
       ":   1731default\n",
       ":   8597housing\n",
       ":   990loan\n",
       ":   990contact\n",
       ":   0month\n",
       ":   0day_of_week\n",
       ":   0duration\n",
       ":   0campaign\n",
       ":   0pdays\n",
       ":   0previous\n",
       ":   0poutcome\n",
       ":   0emp.var.rate\n",
       ":   0cons.price.idx\n",
       ":   0cons.conf.idx\n",
       ":   0euribor3m\n",
       ":   0nr.employed\n",
       ":   0y\n",
       ":   0\n",
       "\n"
      ],
      "text/plain": [
       "           age            job        marital      education        default \n",
       "             0            330             80           1731           8597 \n",
       "       housing           loan        contact          month    day_of_week \n",
       "           990            990              0              0              0 \n",
       "      duration       campaign          pdays       previous       poutcome \n",
       "             0              0              0              0              0 \n",
       "  emp.var.rate cons.price.idx  cons.conf.idx      euribor3m    nr.employed \n",
       "             0              0              0              0              0 \n",
       "             y \n",
       "             0 "
      ]
     },
     "metadata": {},
     "output_type": "display_data"
    },
    {
     "data": {
      "text/html": [
       "<dl class=dl-horizontal>\n",
       "\t<dt>age</dt>\n",
       "\t\t<dd>0</dd>\n",
       "\t<dt>job</dt>\n",
       "\t\t<dd>0.008</dd>\n",
       "\t<dt>marital</dt>\n",
       "\t\t<dd>0.0019</dd>\n",
       "\t<dt>education</dt>\n",
       "\t\t<dd>0.042</dd>\n",
       "\t<dt>default</dt>\n",
       "\t\t<dd>0.2087</dd>\n",
       "\t<dt>housing</dt>\n",
       "\t\t<dd>0.024</dd>\n",
       "\t<dt>loan</dt>\n",
       "\t\t<dd>0.024</dd>\n",
       "\t<dt>contact</dt>\n",
       "\t\t<dd>0</dd>\n",
       "\t<dt>month</dt>\n",
       "\t\t<dd>0</dd>\n",
       "\t<dt>day_of_week</dt>\n",
       "\t\t<dd>0</dd>\n",
       "\t<dt>duration</dt>\n",
       "\t\t<dd>0</dd>\n",
       "\t<dt>campaign</dt>\n",
       "\t\t<dd>0</dd>\n",
       "\t<dt>pdays</dt>\n",
       "\t\t<dd>0</dd>\n",
       "\t<dt>previous</dt>\n",
       "\t\t<dd>0</dd>\n",
       "\t<dt>poutcome</dt>\n",
       "\t\t<dd>0</dd>\n",
       "\t<dt>emp.var.rate</dt>\n",
       "\t\t<dd>0</dd>\n",
       "\t<dt>cons.price.idx</dt>\n",
       "\t\t<dd>0</dd>\n",
       "\t<dt>cons.conf.idx</dt>\n",
       "\t\t<dd>0</dd>\n",
       "\t<dt>euribor3m</dt>\n",
       "\t\t<dd>0</dd>\n",
       "\t<dt>nr.employed</dt>\n",
       "\t\t<dd>0</dd>\n",
       "\t<dt>y</dt>\n",
       "\t\t<dd>0</dd>\n",
       "</dl>\n"
      ],
      "text/latex": [
       "\\begin{description*}\n",
       "\\item[age] 0\n",
       "\\item[job] 0.008\n",
       "\\item[marital] 0.0019\n",
       "\\item[education] 0.042\n",
       "\\item[default] 0.2087\n",
       "\\item[housing] 0.024\n",
       "\\item[loan] 0.024\n",
       "\\item[contact] 0\n",
       "\\item[month] 0\n",
       "\\item[day\\textbackslash{}\\_of\\textbackslash{}\\_week] 0\n",
       "\\item[duration] 0\n",
       "\\item[campaign] 0\n",
       "\\item[pdays] 0\n",
       "\\item[previous] 0\n",
       "\\item[poutcome] 0\n",
       "\\item[emp.var.rate] 0\n",
       "\\item[cons.price.idx] 0\n",
       "\\item[cons.conf.idx] 0\n",
       "\\item[euribor3m] 0\n",
       "\\item[nr.employed] 0\n",
       "\\item[y] 0\n",
       "\\end{description*}\n"
      ],
      "text/markdown": [
       "age\n",
       ":   0job\n",
       ":   0.008marital\n",
       ":   0.0019education\n",
       ":   0.042default\n",
       ":   0.2087housing\n",
       ":   0.024loan\n",
       ":   0.024contact\n",
       ":   0month\n",
       ":   0day_of_week\n",
       ":   0duration\n",
       ":   0campaign\n",
       ":   0pdays\n",
       ":   0previous\n",
       ":   0poutcome\n",
       ":   0emp.var.rate\n",
       ":   0cons.price.idx\n",
       ":   0cons.conf.idx\n",
       ":   0euribor3m\n",
       ":   0nr.employed\n",
       ":   0y\n",
       ":   0\n",
       "\n"
      ],
      "text/plain": [
       "           age            job        marital      education        default \n",
       "        0.0000         0.0080         0.0019         0.0420         0.2087 \n",
       "       housing           loan        contact          month    day_of_week \n",
       "        0.0240         0.0240         0.0000         0.0000         0.0000 \n",
       "      duration       campaign          pdays       previous       poutcome \n",
       "        0.0000         0.0000         0.0000         0.0000         0.0000 \n",
       "  emp.var.rate cons.price.idx  cons.conf.idx      euribor3m    nr.employed \n",
       "        0.0000         0.0000         0.0000         0.0000         0.0000 \n",
       "             y \n",
       "        0.0000 "
      ]
     },
     "metadata": {},
     "output_type": "display_data"
    }
   ],
   "source": [
    "unknown_df <-colSums(train_df == \"unknown\") \n",
    "sum <- colSums(train_df!=\"\")\n",
    "perc <- round(unknown_df/sum,4)\n",
    "unknown_df\n",
    "perc"
   ]
  },
  {
   "cell_type": "markdown",
   "id": "3a518668",
   "metadata": {},
   "source": [
    "Temos 20% dos dados desconhecidos para a variável default\n"
   ]
  },
  {
   "cell_type": "markdown",
   "id": "93e6bcea",
   "metadata": {},
   "source": [
    "## 2) Realizar a análise exploratória dos dados e discutir:"
   ]
  },
  {
   "cell_type": "markdown",
   "id": "b964a232",
   "metadata": {},
   "source": [
    "### 2.1) Estatísticas básicas: mínimos, máximos, médias, desvios, etc. de cadavariável;"
   ]
  },
  {
   "cell_type": "code",
   "execution_count": 35,
   "id": "87defa84",
   "metadata": {},
   "outputs": [
    {
     "data": {
      "text/plain": [
       "      age                   job            marital     \n",
       " Min.   :17.00   admin.       :10422   divorced: 4612  \n",
       " 1st Qu.:32.00   blue-collar  : 9254   married :24928  \n",
       " Median :38.00   entrepreneur : 1456   single  :11568  \n",
       " Mean   :40.02   housemaid    : 1060   unknown :   80  \n",
       " 3rd Qu.:47.00   management   : 2924                   \n",
       " Max.   :98.00   retired      : 1720                   \n",
       "                 self-employed: 1421                   \n",
       "                 services     : 3969                   \n",
       "                 student      :  875                   \n",
       "                 technician   : 6743                   \n",
       "                 unemployed   : 1014                   \n",
       "                 unknown      :  330                   \n",
       "               education        default         housing           loan      \n",
       " basic.4y           : 4176   no     :32588   no     :18622   no     :33950  \n",
       " basic.6y           : 2292   unknown: 8597   unknown:  990   unknown:  990  \n",
       " basic.9y           : 6045   yes    :    3   yes    :21576   yes    : 6248  \n",
       " high.school        : 9515                                                  \n",
       " illiterate         :   18                                                  \n",
       " professional.course: 5243                                                  \n",
       " university.degree  :12168                                                  \n",
       " unknown            : 1731                                                  \n",
       "                                                                            \n",
       "                                                                            \n",
       "                                                                            \n",
       "                                                                            \n",
       "      contact      month       day_of_week    duration         campaign     \n",
       " cellular :26144   apr: 2632   fri:7827    Min.   :   0.0   Min.   : 1.000  \n",
       " telephone:15044   aug: 6178   mon:8514    1st Qu.: 102.0   1st Qu.: 1.000  \n",
       "                   dec:  182   thu:8623    Median : 180.0   Median : 2.000  \n",
       "                   jul: 7174   tue:8090    Mean   : 258.3   Mean   : 2.568  \n",
       "                   jun: 5318   wed:8134    3rd Qu.: 319.0   3rd Qu.: 3.000  \n",
       "                   mar:  546               Max.   :4918.0   Max.   :56.000  \n",
       "                   may:13769                                                \n",
       "                   nov: 4101                                                \n",
       "                   oct:  718                                                \n",
       "                   sep:  570                                                \n",
       "                                                                            \n",
       "                                                                            \n",
       "     pdays          previous            poutcome      emp.var.rate     \n",
       " Min.   :  0.0   Min.   :0.000   failure    : 4252   Min.   :-3.40000  \n",
       " 1st Qu.:999.0   1st Qu.:0.000   nonexistent:35563   1st Qu.:-1.80000  \n",
       " Median :999.0   Median :0.000   success    : 1373   Median : 1.10000  \n",
       " Mean   :962.5   Mean   :0.173                       Mean   : 0.08189  \n",
       " 3rd Qu.:999.0   3rd Qu.:0.000                       3rd Qu.: 1.40000  \n",
       " Max.   :999.0   Max.   :7.000                       Max.   : 1.40000  \n",
       "                                                                       \n",
       "                                                                       \n",
       "                                                                       \n",
       "                                                                       \n",
       "                                                                       \n",
       "                                                                       \n",
       " cons.price.idx  cons.conf.idx     euribor3m      nr.employed     y        \n",
       " Min.   :92.20   Min.   :-50.8   Min.   :0.634   Min.   :4964   no :36548  \n",
       " 1st Qu.:93.08   1st Qu.:-42.7   1st Qu.:1.344   1st Qu.:5099   yes: 4640  \n",
       " Median :93.75   Median :-41.8   Median :4.857   Median :5191              \n",
       " Mean   :93.58   Mean   :-40.5   Mean   :3.621   Mean   :5167              \n",
       " 3rd Qu.:93.99   3rd Qu.:-36.4   3rd Qu.:4.961   3rd Qu.:5228              \n",
       " Max.   :94.77   Max.   :-26.9   Max.   :5.045   Max.   :5228              \n",
       "                                                                           \n",
       "                                                                           \n",
       "                                                                           \n",
       "                                                                           \n",
       "                                                                           \n",
       "                                                                           "
      ]
     },
     "metadata": {},
     "output_type": "display_data"
    }
   ],
   "source": [
    "summary(train_df, maxsum = max(lengths(lapply(train_df, unique))))"
   ]
  },
  {
   "cell_type": "markdown",
   "id": "78da3978",
   "metadata": {},
   "source": [
    " - A variavel default não parece trazer ganhos ao modelo em termos interpretativos já que a classe yes é de apenas 3 e desconhecido e não são todo o resto.\n",
    " - Educacao pode ser mais padronizada em Basico, ensino médio, ensino superior\n",
    " - jobs tem blue collar que é genérico, talvez seja interessante adotar essa nomeclatura (blue collar, pink collar,... etc)\n",
    " - Transformar Age em factors pode trazer ganhos em modelos de classificação. \n",
    " - Retirar duration do modelo, pois como o metarquivo diz: é uma variável que não pode ser sabida antes da campanha e após a campanha já é sabido o resultado y.\n"
   ]
  },
  {
   "cell_type": "markdown",
   "id": "548ed466",
   "metadata": {},
   "source": [
    "### 2.2) Avaliar os histogramas e as características das distribuições das variáveis;"
   ]
  },
  {
   "cell_type": "code",
   "execution_count": 36,
   "id": "0959b419",
   "metadata": {},
   "outputs": [
    {
     "data": {
      "image/png": "[encoded data removed]",
      "text/plain": [
       "plot without title"
      ]
     },
     "metadata": {},
     "output_type": "display_data"
    }
   ],
   "source": [
    " \n",
    "boxplot(train_df,horizontal = FALSE,las=2)\n",
    " "
   ]
  },
  {
   "cell_type": "code",
   "execution_count": 37,
   "id": "0c1423cc",
   "metadata": {},
   "outputs": [
    {
     "data": {
      "image/png": "[encoded data removed]",
      "text/plain": [
       "Plot with title \"Histograma dos Dados de Idade\""
      ]
     },
     "metadata": {},
     "output_type": "display_data"
    }
   ],
   "source": [
    "histograma<-hist(train_df$age,  col=\"lightblue\", border=\"black\", xlab=\"Idade\", ylab=\"FREQUÊNCIA\", main=\"Histograma dos Dados de Idade\", breaks=10, xlim=c(0, 100)) #breaks: muda o número de barras do gráfico\n",
    "abline(v=mean(train_df$age), col=\"red\", lwd=2) #Adicionando uma linha vertical vermelha representando a média dos dados\n",
    "# Acrescentando a curva normal ao gráfico\n",
    "xfit <- seq(min(train_df$age), max(train_df$age))\n",
    "yfit <- dnorm(xfit, mean=mean(train_df$age), sd=sd(train_df$age))\n",
    "yfit <- yfit*diff(histograma$mids[1:2]) * length(train_df$age)\n",
    "lines(xfit, yfit, col=\"black\", lwd=2)\n",
    "# Adicionando a legenda\n",
    "legend(x=\"topright\", #Posição da legenda\n",
    "       c(\"Média\", \"Curva normal\"), #Nome da legenda\n",
    "       col=c(\"red\", \"black\"), #Cor\n",
    "       lty=c(1, 1), #Estilo da linha\n",
    "       lwd=c(2, 2)) #Grossura das linhas"
   ]
  },
  {
   "cell_type": "markdown",
   "id": "ce886cdd",
   "metadata": {},
   "source": [
    "### 2.3) Verificar a existência de outliers e decidir o que fazer com eles;"
   ]
  },
  {
   "cell_type": "code",
   "execution_count": 38,
   "id": "d750c0c0",
   "metadata": {},
   "outputs": [
    {
     "data": {
      "image/png": "[encoded data removed]",
      "text/plain": [
       "plot without title"
      ]
     },
     "metadata": {},
     "output_type": "display_data"
    }
   ],
   "source": [
    "boxplot(train_df$age, xlab=\"Idade\")"
   ]
  },
  {
   "cell_type": "markdown",
   "id": "ff1e1023",
   "metadata": {},
   "source": [
    "Algoritimos de machine learning tendem a ser viesados por outliers. Vamos separar o dataframe com e sem duration  "
   ]
  },
  {
   "cell_type": "markdown",
   "id": "0e6c6583",
   "metadata": {},
   "source": [
    "### 2.4) Verificar correlações."
   ]
  },
  {
   "cell_type": "code",
   "execution_count": 39,
   "id": "7886ec9b",
   "metadata": {},
   "outputs": [
    {
     "name": "stdout",
     "output_type": "stream",
     "text": [
      "package 'gridExtra' successfully unpacked and MD5 sums checked\n",
      "\n",
      "The downloaded binary packages are in\n",
      "\tC:\\Users\\Pichau\\AppData\\Local\\Temp\\RtmpW6eGTj\\downloaded_packages\n"
     ]
    }
   ],
   "source": [
    "install.packages('corrplot')\n",
    "install.packages('gridExtra')\n",
    "install.packages('psych')"
   ]
  },
  {
   "cell_type": "code",
   "execution_count": 40,
   "id": "7f043494",
   "metadata": {
    "scrolled": false
   },
   "outputs": [
    {
     "data": {
      "image/png": "[encoded data removed]",
      "text/plain": [
       "plot without title"
      ]
     },
     "metadata": {},
     "output_type": "display_data"
    },
    {
     "data": {
      "image/png": "[encoded data removed]",
      "text/plain": [
       "plot without title"
      ]
     },
     "metadata": {},
     "output_type": "display_data"
    },
    {
     "data": {
      "image/png": "[encoded data removed]",
      "text/plain": [
       "plot without title"
      ]
     },
     "metadata": {},
     "output_type": "display_data"
    },
    {
     "data": {
      "image/png": "[encoded data removed]",
      "text/plain": [
       "plot without title"
      ]
     },
     "metadata": {},
     "output_type": "display_data"
    },
    {
     "data": {
      "image/png": "[encoded data removed]",
      "text/plain": [
       "plot without title"
      ]
     },
     "metadata": {},
     "output_type": "display_data"
    },
    {
     "data": {
      "image/png": "[encoded data removed]",
      "text/plain": [
       "plot without title"
      ]
     },
     "metadata": {},
     "output_type": "display_data"
    },
    {
     "data": {
      "image/png": "[encoded data removed]",
      "text/plain": [
       "plot without title"
      ]
     },
     "metadata": {},
     "output_type": "display_data"
    },
    {
     "data": {
      "image/png": "[encoded data removed]",
      "text/plain": [
       "plot without title"
      ]
     },
     "metadata": {},
     "output_type": "display_data"
    },
    {
     "data": {
      "image/png": "[encoded data removed]",
      "text/plain": [
       "plot without title"
      ]
     },
     "metadata": {},
     "output_type": "display_data"
    },
    {
     "data": {
      "image/png": "[encoded data removed]",
      "text/plain": [
       "plot without title"
      ]
     },
     "metadata": {},
     "output_type": "display_data"
    },
    {
     "data": {
      "image/png": "[encoded data removed]",
      "text/plain": [
       "plot without title"
      ]
     },
     "metadata": {},
     "output_type": "display_data"
    }
   ],
   "source": [
    "#EDA\n",
    "library(ggplot2)\n",
    "ggplot(train_df,aes(age,fill=y))+geom_bar()+\n",
    "  ggtitle(\"Age vs Deposit\")->p1\n",
    "p1\n",
    "#older people have deposit rate\n",
    "\n",
    "ggplot(train_df,aes(job,fill=y))+geom_bar()+\n",
    "  ggtitle(\"Job vs Deposit\")+ theme(axis.text.x = element_text(angle = 90, hjust = 1)) ->p2\n",
    "p2\n",
    "#people who are at the management deposit more followed by technicians and bluecollars\n",
    "\n",
    "ggplot(train_df,aes(marital,fill=y))+geom_bar()+\n",
    "  ggtitle(\"Marital vs Depsoit\")->p3\n",
    "p3\n",
    "#married people deposit more than others\n",
    "\n",
    "ggplot(train_df,aes(education,fill=y))+geom_bar()+\n",
    "  ggtitle(\"Education vs Deposit\")+ theme(axis.text.x = element_text(angle = 90, hjust = 1)) ->p4\n",
    "p4\n",
    "#people who have secondary level education deposit more followed by \n",
    "#people who have tertiary level education\n",
    "\n",
    "ggplot(train_df,aes(default,fill=y))+geom_bar()+\n",
    "  ggtitle(\"Default vs Deposit\") ->p5\n",
    "p5\n",
    "#people who have no credit default deposit more and people who have credit default\n",
    "#almost have no deposit\n",
    "\n",
    "ggplot(train_df,aes(housing,fill=y))+geom_bar()+\n",
    "  ggtitle(\"Housing vs Deposit\")->p7\n",
    "p7\n",
    "#people who dont have house loan deposit more than people who have home loans.\n",
    "\n",
    "ggplot(train_df,aes(loan,fill=y))+geom_bar()+\n",
    "  ggtitle(\"Loan vs Deposit\")->p8\n",
    "p8\n",
    "#people who dont have personal loan deposit more than people who have personal loans\n",
    "\n",
    "ggplot(train_df,aes(contact,fill=y))+geom_bar()+\n",
    "  ggtitle(\"Contact vs Deposit\")->p9\n",
    "p9\n",
    "#people who are contacted by cellular deposit more\n",
    "\n",
    "ggplot(train_df,aes(month,fill=y))+geom_bar()+\n",
    "  ggtitle(\"Month vs Deposit\")->p10\n",
    "p10\n",
    "#people who are contacted in the month of may deposit more followed by august,july and april\n",
    "\n",
    "ggplot(train_df,aes(campaign))+geom_histogram(aes(fill=y),color=\"black\",binwidth =5)+\n",
    "  ggtitle(\"Campaign vs Deposit\")->p11\n",
    "p11\n",
    "#people who are contacted for less than 5 times deposit more\n",
    "\n",
    "ggplot(train_df,aes(duration,fill=y))+geom_bar()+\n",
    "  ggtitle(\"Duration vs Deposit\")->p12\n",
    "p12\n",
    "#people whose duration of contact is less than 5 minutes deposit more \n",
    "#but people whose duration of contact exceeded 5 minutes have higher deposit rate\n",
    "\n",
    "#suprimindo warnning\n",
    "oldw <- getOption(\"warn\")\n",
    "options(warn = -1)"
   ]
  },
  {
   "cell_type": "code",
   "execution_count": 41,
   "id": "479a3110",
   "metadata": {},
   "outputs": [
    {
     "data": {
      "image/png": "[encoded data removed]",
      "text/plain": [
       "Plot with title \"\""
      ]
     },
     "metadata": {},
     "output_type": "display_data"
    }
   ],
   "source": [
    "#correaltion matrix\n",
    "library(corrplot)\n",
    "library(psych)\n",
    "bank_cor <- train_df\n",
    "\n",
    "for(i in 1:ncol(train_df)){\n",
    "  \n",
    "  bank_cor[,i]<- as.integer(bank_cor[,i])\n",
    "}\n",
    "\n",
    "corrplot(cor(bank_cor))"
   ]
  },
  {
   "cell_type": "code",
   "execution_count": 131,
   "id": "23dd2042",
   "metadata": {},
   "outputs": [
    {
     "name": "stdout",
     "output_type": "stream",
     "text": [
      "[1] \"jobs vs Y\"\n"
     ]
    },
    {
     "data": {
      "text/plain": [
       "               y\n",
       "job               no  yes\n",
       "  admin.        9070 1352\n",
       "  blue-collar   8616  638\n",
       "  entrepreneur  1332  124\n",
       "  housemaid      954  106\n",
       "  management    2596  328\n",
       "  retired       1286  434\n",
       "  self-employed 1272  149\n",
       "  services      3646  323\n",
       "  student        600  275\n",
       "  technician    6013  730\n",
       "  unemployed     870  144\n",
       "  unknown        293   37"
      ]
     },
     "metadata": {},
     "output_type": "display_data"
    }
   ],
   "source": [
    "print('jobs vs Y')\n",
    "cross <- xtabs(~ job+y, data = train_df)\n",
    "cross"
   ]
  },
  {
   "cell_type": "code",
   "execution_count": 129,
   "id": "1223daae",
   "metadata": {},
   "outputs": [
    {
     "name": "stdout",
     "output_type": "stream",
     "text": [
      "[1] \"Yes / No\"\n"
     ]
    },
    {
     "data": {
      "text/html": [
       "<dl class=dl-horizontal>\n",
       "\t<dt>admin.</dt>\n",
       "\t\t<dd>14.91</dd>\n",
       "\t<dt>blue-collar</dt>\n",
       "\t\t<dd>7.4</dd>\n",
       "\t<dt>entrepreneur</dt>\n",
       "\t\t<dd>9.31</dd>\n",
       "\t<dt>housemaid</dt>\n",
       "\t\t<dd>11.11</dd>\n",
       "\t<dt>management</dt>\n",
       "\t\t<dd>12.63</dd>\n",
       "\t<dt>retired</dt>\n",
       "\t\t<dd>33.75</dd>\n",
       "\t<dt>self-employed</dt>\n",
       "\t\t<dd>11.71</dd>\n",
       "\t<dt>services</dt>\n",
       "\t\t<dd>8.86</dd>\n",
       "\t<dt>student</dt>\n",
       "\t\t<dd>45.83</dd>\n",
       "\t<dt>technician</dt>\n",
       "\t\t<dd>12.14</dd>\n",
       "\t<dt>unemployed</dt>\n",
       "\t\t<dd>16.55</dd>\n",
       "\t<dt>unknown</dt>\n",
       "\t\t<dd>12.63</dd>\n",
       "</dl>\n"
      ],
      "text/latex": [
       "\\begin{description*}\n",
       "\\item[admin.] 14.91\n",
       "\\item[blue-collar] 7.4\n",
       "\\item[entrepreneur] 9.31\n",
       "\\item[housemaid] 11.11\n",
       "\\item[management] 12.63\n",
       "\\item[retired] 33.75\n",
       "\\item[self-employed] 11.71\n",
       "\\item[services] 8.86\n",
       "\\item[student] 45.83\n",
       "\\item[technician] 12.14\n",
       "\\item[unemployed] 16.55\n",
       "\\item[unknown] 12.63\n",
       "\\end{description*}\n"
      ],
      "text/markdown": [
       "admin.\n",
       ":   14.91blue-collar\n",
       ":   7.4entrepreneur\n",
       ":   9.31housemaid\n",
       ":   11.11management\n",
       ":   12.63retired\n",
       ":   33.75self-employed\n",
       ":   11.71services\n",
       ":   8.86student\n",
       ":   45.83technician\n",
       ":   12.14unemployed\n",
       ":   16.55unknown\n",
       ":   12.63\n",
       "\n"
      ],
      "text/plain": [
       "       admin.   blue-collar  entrepreneur     housemaid    management \n",
       "        14.91          7.40          9.31         11.11         12.63 \n",
       "      retired self-employed      services       student    technician \n",
       "        33.75         11.71          8.86         45.83         12.14 \n",
       "   unemployed       unknown \n",
       "        16.55         12.63 "
      ]
     },
     "metadata": {},
     "output_type": "display_data"
    }
   ],
   "source": [
    "print('Yes / No')\n",
    "round(cross[1:12,2]/cross[1:12,1] *100,2)"
   ]
  },
  {
   "cell_type": "code",
   "execution_count": 133,
   "id": "b1565313",
   "metadata": {},
   "outputs": [
    {
     "data": {
      "text/plain": [
       "                     y\n",
       "education                no   yes\n",
       "  basic.4y             3748   428\n",
       "  basic.6y             2104   188\n",
       "  basic.9y             5572   473\n",
       "  high.school          8484  1031\n",
       "  illiterate             14     4\n",
       "  professional.course  4648   595\n",
       "  university.degree   10498  1670\n",
       "  unknown              1480   251"
      ]
     },
     "metadata": {},
     "output_type": "display_data"
    }
   ],
   "source": [
    "cross <- xtabs(~ education+y, data = train_df)\n",
    "cross"
   ]
  },
  {
   "cell_type": "code",
   "execution_count": 134,
   "id": "90c94992",
   "metadata": {},
   "outputs": [
    {
     "name": "stdout",
     "output_type": "stream",
     "text": [
      "[1] \"Yes / No\"\n"
     ]
    },
    {
     "data": {
      "text/html": [
       "<dl class=dl-horizontal>\n",
       "\t<dt>basic.4y</dt>\n",
       "\t\t<dd>11.42</dd>\n",
       "\t<dt>basic.6y</dt>\n",
       "\t\t<dd>8.94</dd>\n",
       "\t<dt>basic.9y</dt>\n",
       "\t\t<dd>8.49</dd>\n",
       "\t<dt>high.school</dt>\n",
       "\t\t<dd>12.15</dd>\n",
       "\t<dt>illiterate</dt>\n",
       "\t\t<dd>28.57</dd>\n",
       "\t<dt>professional.course</dt>\n",
       "\t\t<dd>12.8</dd>\n",
       "\t<dt>university.degree</dt>\n",
       "\t\t<dd>15.91</dd>\n",
       "\t<dt>unknown</dt>\n",
       "\t\t<dd>16.96</dd>\n",
       "</dl>\n"
      ],
      "text/latex": [
       "\\begin{description*}\n",
       "\\item[basic.4y] 11.42\n",
       "\\item[basic.6y] 8.94\n",
       "\\item[basic.9y] 8.49\n",
       "\\item[high.school] 12.15\n",
       "\\item[illiterate] 28.57\n",
       "\\item[professional.course] 12.8\n",
       "\\item[university.degree] 15.91\n",
       "\\item[unknown] 16.96\n",
       "\\end{description*}\n"
      ],
      "text/markdown": [
       "basic.4y\n",
       ":   11.42basic.6y\n",
       ":   8.94basic.9y\n",
       ":   8.49high.school\n",
       ":   12.15illiterate\n",
       ":   28.57professional.course\n",
       ":   12.8university.degree\n",
       ":   15.91unknown\n",
       ":   16.96\n",
       "\n"
      ],
      "text/plain": [
       "           basic.4y            basic.6y            basic.9y         high.school \n",
       "              11.42                8.94                8.49               12.15 \n",
       "         illiterate professional.course   university.degree             unknown \n",
       "              28.57               12.80               15.91               16.96 "
      ]
     },
     "metadata": {},
     "output_type": "display_data"
    }
   ],
   "source": [
    "print('Yes / No')\n",
    "round(cross[1:8,2]/cross[1:8,1] *100,2)"
   ]
  },
  {
   "cell_type": "code",
   "execution_count": 135,
   "id": "d8a59fb1",
   "metadata": {},
   "outputs": [
    {
     "data": {
      "text/plain": [
       "           y\n",
       "day_of_week   no  yes\n",
       "        fri 6981  846\n",
       "        mon 7667  847\n",
       "        thu 7578 1045\n",
       "        tue 7137  953\n",
       "        wed 7185  949"
      ]
     },
     "metadata": {},
     "output_type": "display_data"
    }
   ],
   "source": [
    "cross <- xtabs(~ day_of_week+y, data = train_df)\n",
    "cross"
   ]
  },
  {
   "cell_type": "code",
   "execution_count": 137,
   "id": "39397ba7",
   "metadata": {},
   "outputs": [
    {
     "name": "stdout",
     "output_type": "stream",
     "text": [
      "[1] \"Yes / No\"\n"
     ]
    },
    {
     "data": {
      "text/html": [
       "<dl class=dl-horizontal>\n",
       "\t<dt>fri</dt>\n",
       "\t\t<dd>12.12</dd>\n",
       "\t<dt>mon</dt>\n",
       "\t\t<dd>11.05</dd>\n",
       "\t<dt>thu</dt>\n",
       "\t\t<dd>13.79</dd>\n",
       "\t<dt>tue</dt>\n",
       "\t\t<dd>13.35</dd>\n",
       "\t<dt>wed</dt>\n",
       "\t\t<dd>13.21</dd>\n",
       "</dl>\n"
      ],
      "text/latex": [
       "\\begin{description*}\n",
       "\\item[fri] 12.12\n",
       "\\item[mon] 11.05\n",
       "\\item[thu] 13.79\n",
       "\\item[tue] 13.35\n",
       "\\item[wed] 13.21\n",
       "\\end{description*}\n"
      ],
      "text/markdown": [
       "fri\n",
       ":   12.12mon\n",
       ":   11.05thu\n",
       ":   13.79tue\n",
       ":   13.35wed\n",
       ":   13.21\n",
       "\n"
      ],
      "text/plain": [
       "  fri   mon   thu   tue   wed \n",
       "12.12 11.05 13.79 13.35 13.21 "
      ]
     },
     "metadata": {},
     "output_type": "display_data"
    }
   ],
   "source": [
    "print('Yes / No')\n",
    "round(cross[1:5,2]/cross[1:5,1] *100,2)"
   ]
  },
  {
   "cell_type": "markdown",
   "id": "ace2cf9b",
   "metadata": {},
   "source": [
    "Aparentemente não existe muita diferença na conversão por dias da semana"
   ]
  },
  {
   "cell_type": "code",
   "execution_count": 44,
   "id": "b5fdba5e",
   "metadata": {},
   "outputs": [
    {
     "data": {
      "text/plain": [
       "        y\n",
       "campaign    no   yes\n",
       "      1  15342  2300\n",
       "      2   9359  1211\n",
       "      3   4767   574\n",
       "      4   2402   249\n",
       "      5   1479   120\n",
       "      6    904    75\n",
       "      7    591    38\n",
       "      8    383    17\n",
       "      9    266    17\n",
       "      10   213    12\n",
       "      11   165    12\n",
       "      12   122     3\n",
       "      13    88     4\n",
       "      14    68     1\n",
       "      15    49     2\n",
       "      16    51     0\n",
       "      17    54     4\n",
       "      18    33     0\n",
       "      19    26     0\n",
       "      20    30     0\n",
       "      21    24     0\n",
       "      22    17     0\n",
       "      23    15     1\n",
       "      24    15     0\n",
       "      25     8     0\n",
       "      26     8     0\n",
       "      27    11     0\n",
       "      28     8     0\n",
       "      29    10     0\n",
       "      30     7     0\n",
       "      31     7     0\n",
       "      32     4     0\n",
       "      33     4     0\n",
       "      34     3     0\n",
       "      35     5     0\n",
       "      37     1     0\n",
       "      39     1     0\n",
       "      40     2     0\n",
       "      41     1     0\n",
       "      42     2     0\n",
       "      43     2     0\n",
       "      56     1     0"
      ]
     },
     "metadata": {},
     "output_type": "display_data"
    }
   ],
   "source": [
    "cross <- xtabs(~ campaign+y, data = train_df)\n",
    "cross"
   ]
  },
  {
   "cell_type": "code",
   "execution_count": null,
   "id": "96da50b5",
   "metadata": {},
   "outputs": [],
   "source": []
  },
  {
   "cell_type": "code",
   "execution_count": null,
   "id": "928e3ad3",
   "metadata": {},
   "outputs": [],
   "source": []
  },
  {
   "cell_type": "markdown",
   "id": "db8c72ae",
   "metadata": {},
   "source": [
    "## 3) Aplicar um modelo (visto em aula ou não) para entregar uma resposta embasada à pergunta apresentada. Documentar a aplicação do modelo."
   ]
  },
  {
   "cell_type": "markdown",
   "id": "348259f2",
   "metadata": {},
   "source": [
    "Aplicaremos dois modelos amplamente utilizados para problemas que envolvem classes binárias. \n",
    "\n",
    ".Regressão Logistica\\\n",
    ".Arvore de Decisão\n",
    "\n",
    "Também aplicaremos antes e depois do balanceamento de Classes utilizando o método SMOTE* para gerar dados sintéticos balancear o dataset e verificar qual modelo se ajusta melhor e se existe diferença após a correção"
   ]
  },
  {
   "cell_type": "markdown",
   "id": "1989b71f",
   "metadata": {},
   "source": [
    "### Feature Enginering "
   ]
  },
  {
   "cell_type": "markdown",
   "id": "561233a0",
   "metadata": {},
   "source": [
    "#### Tratando Age"
   ]
  },
  {
   "cell_type": "code",
   "execution_count": 48,
   "id": "255f438f",
   "metadata": {},
   "outputs": [
    {
     "name": "stdout",
     "output_type": "stream",
     "text": [
      "[1] \"Valores únicos :\"\n"
     ]
    },
    {
     "data": {
      "text/html": [
       "78"
      ],
      "text/latex": [
       "78"
      ],
      "text/markdown": [
       "78"
      ],
      "text/plain": [
       "[1] 78"
      ]
     },
     "metadata": {},
     "output_type": "display_data"
    },
    {
     "name": "stdout",
     "output_type": "stream",
     "text": [
      "[1] \"numero de classes Raiz(número de únicos) :\"\n"
     ]
    },
    {
     "data": {
      "text/html": [
       "8.83176086632785"
      ],
      "text/latex": [
       "8.83176086632785"
      ],
      "text/markdown": [
       "8.83176086632785"
      ],
      "text/plain": [
       "[1] 8.831761"
      ]
     },
     "metadata": {},
     "output_type": "display_data"
    },
    {
     "name": "stdout",
     "output_type": "stream",
     "text": [
      "[1] \"Máximos e Mínimos\"\n"
     ]
    },
    {
     "data": {
      "text/html": [
       "98"
      ],
      "text/latex": [
       "98"
      ],
      "text/markdown": [
       "98"
      ],
      "text/plain": [
       "[1] 98"
      ]
     },
     "metadata": {},
     "output_type": "display_data"
    },
    {
     "data": {
      "text/html": [
       "17"
      ],
      "text/latex": [
       "17"
      ],
      "text/markdown": [
       "17"
      ],
      "text/plain": [
       "[1] 17"
      ]
     },
     "metadata": {},
     "output_type": "display_data"
    },
    {
     "name": "stdout",
     "output_type": "stream",
     "text": [
      "[1] \"intervalo entre as classes : \"\n"
     ]
    },
    {
     "data": {
      "text/html": [
       "9.17144397657122"
      ],
      "text/latex": [
       "9.17144397657122"
      ],
      "text/markdown": [
       "9.17144397657122"
      ],
      "text/plain": [
       "[1] 9.171444"
      ]
     },
     "metadata": {},
     "output_type": "display_data"
    },
    {
     "data": {
      "text/plain": [
       "   Min. 1st Qu.  Median    Mean 3rd Qu.    Max. \n",
       "  17.00   32.00   38.00   40.02   47.00   98.00 "
      ]
     },
     "metadata": {},
     "output_type": "display_data"
    }
   ],
   "source": [
    "print('Valores únicos :')\n",
    "length((unique(train_df$age)))\n",
    "print('numero de classes Raiz(número de únicos) :')\n",
    "sqrt(length((unique(train_df$age))))\n",
    "print('Máximos e Mínimos')\n",
    "max(train_df$age)\n",
    "min(train_df$age)\n",
    "classes = (max(train_df$age) -  min(train_df$age)) /sqrt(length((unique(train_df$age))))\n",
    "print('intervalo entre as classes : ')\n",
    "classes\n",
    "\n",
    "age_i = summary(train_df$age,)\n",
    "age_i\n",
    "#print('Adotaremos um intervalo de 10 anos')"
   ]
  },
  {
   "cell_type": "code",
   "execution_count": 49,
   "id": "db33bbe0",
   "metadata": {},
   "outputs": [],
   "source": [
    "train_df$age_bin <-  ifelse(train_df$age >= 0 & train_df$age < 17, \"<17\",\n",
    "                            ifelse(train_df$age >= 17 & train_df$age <= 20, \"17-20\",\n",
    "                                   ifelse(train_df$age >= 21 & train_df$age <= 30, \"21-30\",\n",
    "                                          ifelse(train_df$age >= 21 & train_df$age <= 30, \"21-30\",\n",
    "                                                 ifelse(train_df$age >= 31 & train_df$age <= 40, \"31-40\",\n",
    "                                                        ifelse(train_df$age >= 41 & train_df$age <= 50, \"41-40\",\n",
    "                                                               ifelse(train_df$age >= 51 & train_df$age <= 60, \"51-60\", \n",
    "                                                                      ifelse(train_df$age >= 61 & train_df$age <= 70, \"61-70\",\n",
    "                                                                             ifelse(train_df$age >= 71 & train_df$age <= 80, \"71-80\", \n",
    "                                                                                    ifelse(train_df$age >= 81, \"80+\", 'unknown'))))))))))"
   ]
  },
  {
   "cell_type": "code",
   "execution_count": 51,
   "id": "c8af14f9",
   "metadata": {},
   "outputs": [
    {
     "name": "stderr",
     "output_type": "stream",
     "text": [
      "\n",
      "Attaching package: 'dplyr'\n",
      "\n",
      "The following objects are masked from 'package:stats':\n",
      "\n",
      "    filter, lag\n",
      "\n",
      "The following objects are masked from 'package:base':\n",
      "\n",
      "    intersect, setdiff, setequal, union\n",
      "\n"
     ]
    },
    {
     "data": {
      "text/html": [
       "<table>\n",
       "<thead><tr><th></th><th scope=col>age</th><th scope=col>age_bin</th></tr></thead>\n",
       "<tbody>\n",
       "\t<tr><th scope=row>1</th><td>56   </td><td>51-60</td></tr>\n",
       "\t<tr><th scope=row>2</th><td>57   </td><td>51-60</td></tr>\n",
       "\t<tr><th scope=row>3</th><td>37   </td><td>31-40</td></tr>\n",
       "\t<tr><th scope=row>4</th><td>40   </td><td>31-40</td></tr>\n",
       "\t<tr><th scope=row>6</th><td>45   </td><td>41-40</td></tr>\n",
       "\t<tr><th scope=row>7</th><td>59   </td><td>51-60</td></tr>\n",
       "\t<tr><th scope=row>8</th><td>41   </td><td>41-40</td></tr>\n",
       "\t<tr><th scope=row>9</th><td>24   </td><td>21-30</td></tr>\n",
       "\t<tr><th scope=row>10</th><td>25   </td><td>21-30</td></tr>\n",
       "\t<tr><th scope=row>13</th><td>29   </td><td>21-30</td></tr>\n",
       "\t<tr><th scope=row>15</th><td>35   </td><td>31-40</td></tr>\n",
       "\t<tr><th scope=row>16</th><td>54   </td><td>51-60</td></tr>\n",
       "\t<tr><th scope=row>18</th><td>46   </td><td>41-40</td></tr>\n",
       "\t<tr><th scope=row>19</th><td>50   </td><td>41-40</td></tr>\n",
       "\t<tr><th scope=row>20</th><td>39   </td><td>31-40</td></tr>\n",
       "\t<tr><th scope=row>21</th><td>30   </td><td>21-30</td></tr>\n",
       "\t<tr><th scope=row>22</th><td>55   </td><td>51-60</td></tr>\n",
       "\t<tr><th scope=row>33</th><td>49   </td><td>41-40</td></tr>\n",
       "\t<tr><th scope=row>37</th><td>34   </td><td>31-40</td></tr>\n",
       "\t<tr><th scope=row>38</th><td>52   </td><td>51-60</td></tr>\n",
       "\t<tr><th scope=row>41</th><td>58   </td><td>51-60</td></tr>\n",
       "\t<tr><th scope=row>42</th><td>32   </td><td>31-40</td></tr>\n",
       "\t<tr><th scope=row>43</th><td>38   </td><td>31-40</td></tr>\n",
       "\t<tr><th scope=row>45</th><td>44   </td><td>41-40</td></tr>\n",
       "\t<tr><th scope=row>46</th><td>42   </td><td>41-40</td></tr>\n",
       "\t<tr><th scope=row>53</th><td>60   </td><td>51-60</td></tr>\n",
       "\t<tr><th scope=row>54</th><td>53   </td><td>51-60</td></tr>\n",
       "\t<tr><th scope=row>61</th><td>47   </td><td>41-40</td></tr>\n",
       "\t<tr><th scope=row>62</th><td>51   </td><td>51-60</td></tr>\n",
       "\t<tr><th scope=row>65</th><td>48   </td><td>41-40</td></tr>\n",
       "\t<tr><th scope=row>...</th><td>...</td><td>...</td></tr>\n",
       "\t<tr><th scope=row>27781</th><td>73   </td><td>71-80</td></tr>\n",
       "\t<tr><th scope=row>27801</th><td>88   </td><td>80+  </td></tr>\n",
       "\t<tr><th scope=row>27827</th><td>95   </td><td>80+  </td></tr>\n",
       "\t<tr><th scope=row>27852</th><td>77   </td><td>71-80</td></tr>\n",
       "\t<tr><th scope=row>27867</th><td>68   </td><td>61-70</td></tr>\n",
       "\t<tr><th scope=row>27876</th><td>75   </td><td>71-80</td></tr>\n",
       "\t<tr><th scope=row>27895</th><td>63   </td><td>61-70</td></tr>\n",
       "\t<tr><th scope=row>27951</th><td>80   </td><td>71-80</td></tr>\n",
       "\t<tr><th scope=row>27959</th><td>62   </td><td>61-70</td></tr>\n",
       "\t<tr><th scope=row>28138</th><td>65   </td><td>61-70</td></tr>\n",
       "\t<tr><th scope=row>28221</th><td>72   </td><td>71-80</td></tr>\n",
       "\t<tr><th scope=row>28313</th><td>82   </td><td>80+  </td></tr>\n",
       "\t<tr><th scope=row>28321</th><td>64   </td><td>61-70</td></tr>\n",
       "\t<tr><th scope=row>28505</th><td>71   </td><td>71-80</td></tr>\n",
       "\t<tr><th scope=row>28520</th><td>69   </td><td>61-70</td></tr>\n",
       "\t<tr><th scope=row>29978</th><td>78   </td><td>71-80</td></tr>\n",
       "\t<tr><th scope=row>30007</th><td>85   </td><td>80+  </td></tr>\n",
       "\t<tr><th scope=row>30134</th><td>79   </td><td>71-80</td></tr>\n",
       "\t<tr><th scope=row>30215</th><td>83   </td><td>80+  </td></tr>\n",
       "\t<tr><th scope=row>30226</th><td>81   </td><td>80+  </td></tr>\n",
       "\t<tr><th scope=row>36817</th><td>74   </td><td>71-80</td></tr>\n",
       "\t<tr><th scope=row>37141</th><td>17   </td><td>17-20</td></tr>\n",
       "\t<tr><th scope=row>37744</th><td>87   </td><td>80+  </td></tr>\n",
       "\t<tr><th scope=row>38023</th><td>91   </td><td>80+  </td></tr>\n",
       "\t<tr><th scope=row>38207</th><td>86   </td><td>80+  </td></tr>\n",
       "\t<tr><th scope=row>38453</th><td>98   </td><td>80+  </td></tr>\n",
       "\t<tr><th scope=row>38922</th><td>94   </td><td>80+  </td></tr>\n",
       "\t<tr><th scope=row>39043</th><td>84   </td><td>80+  </td></tr>\n",
       "\t<tr><th scope=row>39656</th><td>92   </td><td>80+  </td></tr>\n",
       "\t<tr><th scope=row>39848</th><td>89   </td><td>80+  </td></tr>\n",
       "</tbody>\n",
       "</table>\n"
      ],
      "text/latex": [
       "\\begin{tabular}{r|ll}\n",
       "  & age & age\\_bin\\\\\n",
       "\\hline\n",
       "\t1 & 56    & 51-60\\\\\n",
       "\t2 & 57    & 51-60\\\\\n",
       "\t3 & 37    & 31-40\\\\\n",
       "\t4 & 40    & 31-40\\\\\n",
       "\t6 & 45    & 41-40\\\\\n",
       "\t7 & 59    & 51-60\\\\\n",
       "\t8 & 41    & 41-40\\\\\n",
       "\t9 & 24    & 21-30\\\\\n",
       "\t10 & 25    & 21-30\\\\\n",
       "\t13 & 29    & 21-30\\\\\n",
       "\t15 & 35    & 31-40\\\\\n",
       "\t16 & 54    & 51-60\\\\\n",
       "\t18 & 46    & 41-40\\\\\n",
       "\t19 & 50    & 41-40\\\\\n",
       "\t20 & 39    & 31-40\\\\\n",
       "\t21 & 30    & 21-30\\\\\n",
       "\t22 & 55    & 51-60\\\\\n",
       "\t33 & 49    & 41-40\\\\\n",
       "\t37 & 34    & 31-40\\\\\n",
       "\t38 & 52    & 51-60\\\\\n",
       "\t41 & 58    & 51-60\\\\\n",
       "\t42 & 32    & 31-40\\\\\n",
       "\t43 & 38    & 31-40\\\\\n",
       "\t45 & 44    & 41-40\\\\\n",
       "\t46 & 42    & 41-40\\\\\n",
       "\t53 & 60    & 51-60\\\\\n",
       "\t54 & 53    & 51-60\\\\\n",
       "\t61 & 47    & 41-40\\\\\n",
       "\t62 & 51    & 51-60\\\\\n",
       "\t65 & 48    & 41-40\\\\\n",
       "\t... & ... & ...\\\\\n",
       "\t27781 & 73    & 71-80\\\\\n",
       "\t27801 & 88    & 80+  \\\\\n",
       "\t27827 & 95    & 80+  \\\\\n",
       "\t27852 & 77    & 71-80\\\\\n",
       "\t27867 & 68    & 61-70\\\\\n",
       "\t27876 & 75    & 71-80\\\\\n",
       "\t27895 & 63    & 61-70\\\\\n",
       "\t27951 & 80    & 71-80\\\\\n",
       "\t27959 & 62    & 61-70\\\\\n",
       "\t28138 & 65    & 61-70\\\\\n",
       "\t28221 & 72    & 71-80\\\\\n",
       "\t28313 & 82    & 80+  \\\\\n",
       "\t28321 & 64    & 61-70\\\\\n",
       "\t28505 & 71    & 71-80\\\\\n",
       "\t28520 & 69    & 61-70\\\\\n",
       "\t29978 & 78    & 71-80\\\\\n",
       "\t30007 & 85    & 80+  \\\\\n",
       "\t30134 & 79    & 71-80\\\\\n",
       "\t30215 & 83    & 80+  \\\\\n",
       "\t30226 & 81    & 80+  \\\\\n",
       "\t36817 & 74    & 71-80\\\\\n",
       "\t37141 & 17    & 17-20\\\\\n",
       "\t37744 & 87    & 80+  \\\\\n",
       "\t38023 & 91    & 80+  \\\\\n",
       "\t38207 & 86    & 80+  \\\\\n",
       "\t38453 & 98    & 80+  \\\\\n",
       "\t38922 & 94    & 80+  \\\\\n",
       "\t39043 & 84    & 80+  \\\\\n",
       "\t39656 & 92    & 80+  \\\\\n",
       "\t39848 & 89    & 80+  \\\\\n",
       "\\end{tabular}\n"
      ],
      "text/markdown": [
       "\n",
       "| <!--/--> | age | age_bin |\n",
       "|---|---|---|\n",
       "| 1 | 56    | 51-60 |\n",
       "| 2 | 57    | 51-60 |\n",
       "| 3 | 37    | 31-40 |\n",
       "| 4 | 40    | 31-40 |\n",
       "| 6 | 45    | 41-40 |\n",
       "| 7 | 59    | 51-60 |\n",
       "| 8 | 41    | 41-40 |\n",
       "| 9 | 24    | 21-30 |\n",
       "| 10 | 25    | 21-30 |\n",
       "| 13 | 29    | 21-30 |\n",
       "| 15 | 35    | 31-40 |\n",
       "| 16 | 54    | 51-60 |\n",
       "| 18 | 46    | 41-40 |\n",
       "| 19 | 50    | 41-40 |\n",
       "| 20 | 39    | 31-40 |\n",
       "| 21 | 30    | 21-30 |\n",
       "| 22 | 55    | 51-60 |\n",
       "| 33 | 49    | 41-40 |\n",
       "| 37 | 34    | 31-40 |\n",
       "| 38 | 52    | 51-60 |\n",
       "| 41 | 58    | 51-60 |\n",
       "| 42 | 32    | 31-40 |\n",
       "| 43 | 38    | 31-40 |\n",
       "| 45 | 44    | 41-40 |\n",
       "| 46 | 42    | 41-40 |\n",
       "| 53 | 60    | 51-60 |\n",
       "| 54 | 53    | 51-60 |\n",
       "| 61 | 47    | 41-40 |\n",
       "| 62 | 51    | 51-60 |\n",
       "| 65 | 48    | 41-40 |\n",
       "| ... | ... | ... |\n",
       "| 27781 | 73    | 71-80 |\n",
       "| 27801 | 88    | 80+   |\n",
       "| 27827 | 95    | 80+   |\n",
       "| 27852 | 77    | 71-80 |\n",
       "| 27867 | 68    | 61-70 |\n",
       "| 27876 | 75    | 71-80 |\n",
       "| 27895 | 63    | 61-70 |\n",
       "| 27951 | 80    | 71-80 |\n",
       "| 27959 | 62    | 61-70 |\n",
       "| 28138 | 65    | 61-70 |\n",
       "| 28221 | 72    | 71-80 |\n",
       "| 28313 | 82    | 80+   |\n",
       "| 28321 | 64    | 61-70 |\n",
       "| 28505 | 71    | 71-80 |\n",
       "| 28520 | 69    | 61-70 |\n",
       "| 29978 | 78    | 71-80 |\n",
       "| 30007 | 85    | 80+   |\n",
       "| 30134 | 79    | 71-80 |\n",
       "| 30215 | 83    | 80+   |\n",
       "| 30226 | 81    | 80+   |\n",
       "| 36817 | 74    | 71-80 |\n",
       "| 37141 | 17    | 17-20 |\n",
       "| 37744 | 87    | 80+   |\n",
       "| 38023 | 91    | 80+   |\n",
       "| 38207 | 86    | 80+   |\n",
       "| 38453 | 98    | 80+   |\n",
       "| 38922 | 94    | 80+   |\n",
       "| 39043 | 84    | 80+   |\n",
       "| 39656 | 92    | 80+   |\n",
       "| 39848 | 89    | 80+   |\n",
       "\n"
      ],
      "text/plain": [
       "      age age_bin\n",
       "1     56  51-60  \n",
       "2     57  51-60  \n",
       "3     37  31-40  \n",
       "4     40  31-40  \n",
       "6     45  41-40  \n",
       "7     59  51-60  \n",
       "8     41  41-40  \n",
       "9     24  21-30  \n",
       "10    25  21-30  \n",
       "13    29  21-30  \n",
       "15    35  31-40  \n",
       "16    54  51-60  \n",
       "18    46  41-40  \n",
       "19    50  41-40  \n",
       "20    39  31-40  \n",
       "21    30  21-30  \n",
       "22    55  51-60  \n",
       "33    49  41-40  \n",
       "37    34  31-40  \n",
       "38    52  51-60  \n",
       "41    58  51-60  \n",
       "42    32  31-40  \n",
       "43    38  31-40  \n",
       "45    44  41-40  \n",
       "46    42  41-40  \n",
       "53    60  51-60  \n",
       "54    53  51-60  \n",
       "61    47  41-40  \n",
       "62    51  51-60  \n",
       "65    48  41-40  \n",
       "...   ... ...    \n",
       "27781 73  71-80  \n",
       "27801 88  80+    \n",
       "27827 95  80+    \n",
       "27852 77  71-80  \n",
       "27867 68  61-70  \n",
       "27876 75  71-80  \n",
       "27895 63  61-70  \n",
       "27951 80  71-80  \n",
       "27959 62  61-70  \n",
       "28138 65  61-70  \n",
       "28221 72  71-80  \n",
       "28313 82  80+    \n",
       "28321 64  61-70  \n",
       "28505 71  71-80  \n",
       "28520 69  61-70  \n",
       "29978 78  71-80  \n",
       "30007 85  80+    \n",
       "30134 79  71-80  \n",
       "30215 83  80+    \n",
       "30226 81  80+    \n",
       "36817 74  71-80  \n",
       "37141 17  17-20  \n",
       "37744 87  80+    \n",
       "38023 91  80+    \n",
       "38207 86  80+    \n",
       "38453 98  80+    \n",
       "38922 94  80+    \n",
       "39043 84  80+    \n",
       "39656 92  80+    \n",
       "39848 89  80+    "
      ]
     },
     "metadata": {},
     "output_type": "display_data"
    }
   ],
   "source": [
    "library(dplyr)\n",
    "t <- train_df[!duplicated(train_df[,c('age','age_bin')]),]\n",
    "t %>% select(age,age_bin)"
   ]
  },
  {
   "cell_type": "code",
   "execution_count": 52,
   "id": "6e0f66d2",
   "metadata": {},
   "outputs": [
    {
     "data": {
      "image/png": "[encoded data removed]",
      "text/plain": [
       "plot without title"
      ]
     },
     "metadata": {},
     "output_type": "display_data"
    },
    {
     "data": {
      "image/png": "[encoded data removed]",
      "text/plain": [
       "plot without title"
      ]
     },
     "metadata": {},
     "output_type": "display_data"
    }
   ],
   "source": [
    "library(ggplot2)\n",
    "ggplot(train_df,aes(age,fill=y))+geom_bar()+\n",
    "  ggtitle(\"Age vs Deposit\")->p1\n",
    "p1\n",
    "library(ggplot2)\n",
    "ggplot(train_df,aes(age_bin,fill=y))+geom_bar()+\n",
    "  ggtitle(\"Age_bin vs Deposit\")->p2\n",
    "p2"
   ]
  },
  {
   "cell_type": "markdown",
   "id": "1f8ed25b",
   "metadata": {},
   "source": [
    "#### Trantando o Campaign"
   ]
  },
  {
   "cell_type": "code",
   "execution_count": 53,
   "id": "bf0f4ea2",
   "metadata": {},
   "outputs": [
    {
     "data": {
      "text/plain": [
       "        y\n",
       "campaign    no   yes\n",
       "      1  15342  2300\n",
       "      2   9359  1211\n",
       "      3   4767   574\n",
       "      4   2402   249\n",
       "      5   1479   120\n",
       "      6    904    75\n",
       "      7    591    38\n",
       "      8    383    17\n",
       "      9    266    17\n",
       "      10   213    12\n",
       "      11   165    12\n",
       "      12   122     3\n",
       "      13    88     4\n",
       "      14    68     1\n",
       "      15    49     2\n",
       "      16    51     0\n",
       "      17    54     4\n",
       "      18    33     0\n",
       "      19    26     0\n",
       "      20    30     0\n",
       "      21    24     0\n",
       "      22    17     0\n",
       "      23    15     1\n",
       "      24    15     0\n",
       "      25     8     0\n",
       "      26     8     0\n",
       "      27    11     0\n",
       "      28     8     0\n",
       "      29    10     0\n",
       "      30     7     0\n",
       "      31     7     0\n",
       "      32     4     0\n",
       "      33     4     0\n",
       "      34     3     0\n",
       "      35     5     0\n",
       "      37     1     0\n",
       "      39     1     0\n",
       "      40     2     0\n",
       "      41     1     0\n",
       "      42     2     0\n",
       "      43     2     0\n",
       "      56     1     0"
      ]
     },
     "metadata": {},
     "output_type": "display_data"
    }
   ],
   "source": [
    "cross <- xtabs(~ campaign+y, data = train_df)\n",
    "cross"
   ]
  },
  {
   "cell_type": "code",
   "execution_count": 54,
   "id": "770564d2",
   "metadata": {},
   "outputs": [
    {
     "data": {
      "text/html": [
       "<dl class=dl-horizontal>\n",
       "\t<dt>1</dt>\n",
       "\t\t<dd>14.99</dd>\n",
       "\t<dt>2</dt>\n",
       "\t\t<dd>12.94</dd>\n",
       "\t<dt>3</dt>\n",
       "\t\t<dd>12.04</dd>\n",
       "\t<dt>4</dt>\n",
       "\t\t<dd>10.37</dd>\n",
       "\t<dt>5</dt>\n",
       "\t\t<dd>8.11</dd>\n",
       "\t<dt>6</dt>\n",
       "\t\t<dd>8.3</dd>\n",
       "\t<dt>7</dt>\n",
       "\t\t<dd>6.43</dd>\n",
       "\t<dt>8</dt>\n",
       "\t\t<dd>4.44</dd>\n",
       "\t<dt>9</dt>\n",
       "\t\t<dd>6.39</dd>\n",
       "\t<dt>10</dt>\n",
       "\t\t<dd>5.63</dd>\n",
       "\t<dt>11</dt>\n",
       "\t\t<dd>7.27</dd>\n",
       "\t<dt>12</dt>\n",
       "\t\t<dd>2.46</dd>\n",
       "\t<dt>13</dt>\n",
       "\t\t<dd>4.55</dd>\n",
       "\t<dt>14</dt>\n",
       "\t\t<dd>1.47</dd>\n",
       "\t<dt>15</dt>\n",
       "\t\t<dd>4.08</dd>\n",
       "\t<dt>16</dt>\n",
       "\t\t<dd>0</dd>\n",
       "\t<dt>17</dt>\n",
       "\t\t<dd>7.41</dd>\n",
       "\t<dt>18</dt>\n",
       "\t\t<dd>0</dd>\n",
       "\t<dt>19</dt>\n",
       "\t\t<dd>0</dd>\n",
       "\t<dt>20</dt>\n",
       "\t\t<dd>0</dd>\n",
       "\t<dt>21</dt>\n",
       "\t\t<dd>0</dd>\n",
       "\t<dt>22</dt>\n",
       "\t\t<dd>0</dd>\n",
       "\t<dt>23</dt>\n",
       "\t\t<dd>6.67</dd>\n",
       "\t<dt>24</dt>\n",
       "\t\t<dd>0</dd>\n",
       "\t<dt>25</dt>\n",
       "\t\t<dd>0</dd>\n",
       "\t<dt>26</dt>\n",
       "\t\t<dd>0</dd>\n",
       "\t<dt>27</dt>\n",
       "\t\t<dd>0</dd>\n",
       "\t<dt>28</dt>\n",
       "\t\t<dd>0</dd>\n",
       "\t<dt>29</dt>\n",
       "\t\t<dd>0</dd>\n",
       "\t<dt>30</dt>\n",
       "\t\t<dd>0</dd>\n",
       "\t<dt>31</dt>\n",
       "\t\t<dd>0</dd>\n",
       "\t<dt>32</dt>\n",
       "\t\t<dd>0</dd>\n",
       "\t<dt>33</dt>\n",
       "\t\t<dd>0</dd>\n",
       "\t<dt>34</dt>\n",
       "\t\t<dd>0</dd>\n",
       "\t<dt>35</dt>\n",
       "\t\t<dd>0</dd>\n",
       "\t<dt>37</dt>\n",
       "\t\t<dd>0</dd>\n",
       "\t<dt>39</dt>\n",
       "\t\t<dd>0</dd>\n",
       "\t<dt>40</dt>\n",
       "\t\t<dd>0</dd>\n",
       "\t<dt>41</dt>\n",
       "\t\t<dd>0</dd>\n",
       "\t<dt>42</dt>\n",
       "\t\t<dd>0</dd>\n",
       "\t<dt>43</dt>\n",
       "\t\t<dd>0</dd>\n",
       "\t<dt>56</dt>\n",
       "\t\t<dd>0</dd>\n",
       "</dl>\n"
      ],
      "text/latex": [
       "\\begin{description*}\n",
       "\\item[1] 14.99\n",
       "\\item[2] 12.94\n",
       "\\item[3] 12.04\n",
       "\\item[4] 10.37\n",
       "\\item[5] 8.11\n",
       "\\item[6] 8.3\n",
       "\\item[7] 6.43\n",
       "\\item[8] 4.44\n",
       "\\item[9] 6.39\n",
       "\\item[10] 5.63\n",
       "\\item[11] 7.27\n",
       "\\item[12] 2.46\n",
       "\\item[13] 4.55\n",
       "\\item[14] 1.47\n",
       "\\item[15] 4.08\n",
       "\\item[16] 0\n",
       "\\item[17] 7.41\n",
       "\\item[18] 0\n",
       "\\item[19] 0\n",
       "\\item[20] 0\n",
       "\\item[21] 0\n",
       "\\item[22] 0\n",
       "\\item[23] 6.67\n",
       "\\item[24] 0\n",
       "\\item[25] 0\n",
       "\\item[26] 0\n",
       "\\item[27] 0\n",
       "\\item[28] 0\n",
       "\\item[29] 0\n",
       "\\item[30] 0\n",
       "\\item[31] 0\n",
       "\\item[32] 0\n",
       "\\item[33] 0\n",
       "\\item[34] 0\n",
       "\\item[35] 0\n",
       "\\item[37] 0\n",
       "\\item[39] 0\n",
       "\\item[40] 0\n",
       "\\item[41] 0\n",
       "\\item[42] 0\n",
       "\\item[43] 0\n",
       "\\item[56] 0\n",
       "\\end{description*}\n"
      ],
      "text/markdown": [
       "1\n",
       ":   14.992\n",
       ":   12.943\n",
       ":   12.044\n",
       ":   10.375\n",
       ":   8.116\n",
       ":   8.37\n",
       ":   6.438\n",
       ":   4.449\n",
       ":   6.3910\n",
       ":   5.6311\n",
       ":   7.2712\n",
       ":   2.4613\n",
       ":   4.5514\n",
       ":   1.4715\n",
       ":   4.0816\n",
       ":   017\n",
       ":   7.4118\n",
       ":   019\n",
       ":   020\n",
       ":   021\n",
       ":   022\n",
       ":   023\n",
       ":   6.6724\n",
       ":   025\n",
       ":   026\n",
       ":   027\n",
       ":   028\n",
       ":   029\n",
       ":   030\n",
       ":   031\n",
       ":   032\n",
       ":   033\n",
       ":   034\n",
       ":   035\n",
       ":   037\n",
       ":   039\n",
       ":   040\n",
       ":   041\n",
       ":   042\n",
       ":   043\n",
       ":   056\n",
       ":   0\n",
       "\n"
      ],
      "text/plain": [
       "    1     2     3     4     5     6     7     8     9    10    11    12    13 \n",
       "14.99 12.94 12.04 10.37  8.11  8.30  6.43  4.44  6.39  5.63  7.27  2.46  4.55 \n",
       "   14    15    16    17    18    19    20    21    22    23    24    25    26 \n",
       " 1.47  4.08  0.00  7.41  0.00  0.00  0.00  0.00  0.00  6.67  0.00  0.00  0.00 \n",
       "   27    28    29    30    31    32    33    34    35    37    39    40    41 \n",
       " 0.00  0.00  0.00  0.00  0.00  0.00  0.00  0.00  0.00  0.00  0.00  0.00  0.00 \n",
       "   42    43    56 \n",
       " 0.00  0.00  0.00 "
      ]
     },
     "metadata": {},
     "output_type": "display_data"
    }
   ],
   "source": [
    "conversao =round(cross[1:42,2]/cross[1:42,1] *100,2)\n",
    "conversao"
   ]
  },
  {
   "cell_type": "code",
   "execution_count": 55,
   "id": "7dc913f5",
   "metadata": {},
   "outputs": [
    {
     "data": {
      "image/png": "[encoded data removed]",
      "text/plain": [
       "plot without title"
      ]
     },
     "metadata": {},
     "output_type": "display_data"
    }
   ],
   "source": [
    "plot(conversao)\n"
   ]
  },
  {
   "cell_type": "code",
   "execution_count": 111,
   "id": "20ae675a",
   "metadata": {},
   "outputs": [],
   "source": [
    "train_df$campaign_bin <-  ifelse(train_df$campaign >= 1 & train_df$campaign <=11 , train_df$campaign, '11+')\n"
   ]
  },
  {
   "cell_type": "code",
   "execution_count": 112,
   "id": "4feba3db",
   "metadata": {},
   "outputs": [
    {
     "data": {
      "text/html": [
       "<table>\n",
       "<thead><tr><th></th><th scope=col>campaign</th><th scope=col>campaign_bin</th></tr></thead>\n",
       "<tbody>\n",
       "\t<tr><th scope=row>1</th><td> 1 </td><td>1  </td></tr>\n",
       "\t<tr><th scope=row>29</th><td> 2 </td><td>2  </td></tr>\n",
       "\t<tr><th scope=row>102</th><td> 3 </td><td>3  </td></tr>\n",
       "\t<tr><th scope=row>279</th><td> 4 </td><td>4  </td></tr>\n",
       "\t<tr><th scope=row>333</th><td> 5 </td><td>5  </td></tr>\n",
       "\t<tr><th scope=row>695</th><td> 6 </td><td>6  </td></tr>\n",
       "\t<tr><th scope=row>888</th><td> 7 </td><td>7  </td></tr>\n",
       "\t<tr><th scope=row>1044</th><td> 8 </td><td>8  </td></tr>\n",
       "\t<tr><th scope=row>1468</th><td> 9 </td><td>9  </td></tr>\n",
       "\t<tr><th scope=row>2184</th><td>10 </td><td>10 </td></tr>\n",
       "\t<tr><th scope=row>2190</th><td>11 </td><td>11 </td></tr>\n",
       "\t<tr><th scope=row>2235</th><td>12 </td><td>11+</td></tr>\n",
       "\t<tr><th scope=row>2555</th><td>13 </td><td>11+</td></tr>\n",
       "\t<tr><th scope=row>2632</th><td>19 </td><td>11+</td></tr>\n",
       "\t<tr><th scope=row>2982</th><td>18 </td><td>11+</td></tr>\n",
       "\t<tr><th scope=row>3220</th><td>23 </td><td>11+</td></tr>\n",
       "\t<tr><th scope=row>3361</th><td>14 </td><td>11+</td></tr>\n",
       "\t<tr><th scope=row>3371</th><td>22 </td><td>11+</td></tr>\n",
       "\t<tr><th scope=row>3439</th><td>25 </td><td>11+</td></tr>\n",
       "\t<tr><th scope=row>3485</th><td>16 </td><td>11+</td></tr>\n",
       "\t<tr><th scope=row>3533</th><td>17 </td><td>11+</td></tr>\n",
       "\t<tr><th scope=row>3540</th><td>15 </td><td>11+</td></tr>\n",
       "\t<tr><th scope=row>3873</th><td>20 </td><td>11+</td></tr>\n",
       "\t<tr><th scope=row>4108</th><td>56 </td><td>11+</td></tr>\n",
       "\t<tr><th scope=row>4115</th><td>39 </td><td>11+</td></tr>\n",
       "\t<tr><th scope=row>4140</th><td>35 </td><td>11+</td></tr>\n",
       "\t<tr><th scope=row>4169</th><td>42 </td><td>11+</td></tr>\n",
       "\t<tr><th scope=row>4651</th><td>28 </td><td>11+</td></tr>\n",
       "\t<tr><th scope=row>4898</th><td>26 </td><td>11+</td></tr>\n",
       "\t<tr><th scope=row>5338</th><td>27 </td><td>11+</td></tr>\n",
       "\t<tr><th scope=row>5565</th><td>32 </td><td>11+</td></tr>\n",
       "\t<tr><th scope=row>6535</th><td>21 </td><td>11+</td></tr>\n",
       "\t<tr><th scope=row>7278</th><td>24 </td><td>11+</td></tr>\n",
       "\t<tr><th scope=row>9014</th><td>29 </td><td>11+</td></tr>\n",
       "\t<tr><th scope=row>9060</th><td>31 </td><td>11+</td></tr>\n",
       "\t<tr><th scope=row>10428</th><td>30 </td><td>11+</td></tr>\n",
       "\t<tr><th scope=row>11034</th><td>41 </td><td>11+</td></tr>\n",
       "\t<tr><th scope=row>11594</th><td>37 </td><td>11+</td></tr>\n",
       "\t<tr><th scope=row>11770</th><td>40 </td><td>11+</td></tr>\n",
       "\t<tr><th scope=row>12643</th><td>33 </td><td>11+</td></tr>\n",
       "\t<tr><th scope=row>12698</th><td>34 </td><td>11+</td></tr>\n",
       "\t<tr><th scope=row>13448</th><td>43 </td><td>11+</td></tr>\n",
       "</tbody>\n",
       "</table>\n"
      ],
      "text/latex": [
       "\\begin{tabular}{r|ll}\n",
       "  & campaign & campaign\\_bin\\\\\n",
       "\\hline\n",
       "\t1 &  1  & 1  \\\\\n",
       "\t29 &  2  & 2  \\\\\n",
       "\t102 &  3  & 3  \\\\\n",
       "\t279 &  4  & 4  \\\\\n",
       "\t333 &  5  & 5  \\\\\n",
       "\t695 &  6  & 6  \\\\\n",
       "\t888 &  7  & 7  \\\\\n",
       "\t1044 &  8  & 8  \\\\\n",
       "\t1468 &  9  & 9  \\\\\n",
       "\t2184 & 10  & 10 \\\\\n",
       "\t2190 & 11  & 11 \\\\\n",
       "\t2235 & 12  & 11+\\\\\n",
       "\t2555 & 13  & 11+\\\\\n",
       "\t2632 & 19  & 11+\\\\\n",
       "\t2982 & 18  & 11+\\\\\n",
       "\t3220 & 23  & 11+\\\\\n",
       "\t3361 & 14  & 11+\\\\\n",
       "\t3371 & 22  & 11+\\\\\n",
       "\t3439 & 25  & 11+\\\\\n",
       "\t3485 & 16  & 11+\\\\\n",
       "\t3533 & 17  & 11+\\\\\n",
       "\t3540 & 15  & 11+\\\\\n",
       "\t3873 & 20  & 11+\\\\\n",
       "\t4108 & 56  & 11+\\\\\n",
       "\t4115 & 39  & 11+\\\\\n",
       "\t4140 & 35  & 11+\\\\\n",
       "\t4169 & 42  & 11+\\\\\n",
       "\t4651 & 28  & 11+\\\\\n",
       "\t4898 & 26  & 11+\\\\\n",
       "\t5338 & 27  & 11+\\\\\n",
       "\t5565 & 32  & 11+\\\\\n",
       "\t6535 & 21  & 11+\\\\\n",
       "\t7278 & 24  & 11+\\\\\n",
       "\t9014 & 29  & 11+\\\\\n",
       "\t9060 & 31  & 11+\\\\\n",
       "\t10428 & 30  & 11+\\\\\n",
       "\t11034 & 41  & 11+\\\\\n",
       "\t11594 & 37  & 11+\\\\\n",
       "\t11770 & 40  & 11+\\\\\n",
       "\t12643 & 33  & 11+\\\\\n",
       "\t12698 & 34  & 11+\\\\\n",
       "\t13448 & 43  & 11+\\\\\n",
       "\\end{tabular}\n"
      ],
      "text/markdown": [
       "\n",
       "| <!--/--> | campaign | campaign_bin |\n",
       "|---|---|---|\n",
       "| 1 |  1  | 1   |\n",
       "| 29 |  2  | 2   |\n",
       "| 102 |  3  | 3   |\n",
       "| 279 |  4  | 4   |\n",
       "| 333 |  5  | 5   |\n",
       "| 695 |  6  | 6   |\n",
       "| 888 |  7  | 7   |\n",
       "| 1044 |  8  | 8   |\n",
       "| 1468 |  9  | 9   |\n",
       "| 2184 | 10  | 10  |\n",
       "| 2190 | 11  | 11  |\n",
       "| 2235 | 12  | 11+ |\n",
       "| 2555 | 13  | 11+ |\n",
       "| 2632 | 19  | 11+ |\n",
       "| 2982 | 18  | 11+ |\n",
       "| 3220 | 23  | 11+ |\n",
       "| 3361 | 14  | 11+ |\n",
       "| 3371 | 22  | 11+ |\n",
       "| 3439 | 25  | 11+ |\n",
       "| 3485 | 16  | 11+ |\n",
       "| 3533 | 17  | 11+ |\n",
       "| 3540 | 15  | 11+ |\n",
       "| 3873 | 20  | 11+ |\n",
       "| 4108 | 56  | 11+ |\n",
       "| 4115 | 39  | 11+ |\n",
       "| 4140 | 35  | 11+ |\n",
       "| 4169 | 42  | 11+ |\n",
       "| 4651 | 28  | 11+ |\n",
       "| 4898 | 26  | 11+ |\n",
       "| 5338 | 27  | 11+ |\n",
       "| 5565 | 32  | 11+ |\n",
       "| 6535 | 21  | 11+ |\n",
       "| 7278 | 24  | 11+ |\n",
       "| 9014 | 29  | 11+ |\n",
       "| 9060 | 31  | 11+ |\n",
       "| 10428 | 30  | 11+ |\n",
       "| 11034 | 41  | 11+ |\n",
       "| 11594 | 37  | 11+ |\n",
       "| 11770 | 40  | 11+ |\n",
       "| 12643 | 33  | 11+ |\n",
       "| 12698 | 34  | 11+ |\n",
       "| 13448 | 43  | 11+ |\n",
       "\n"
      ],
      "text/plain": [
       "      campaign campaign_bin\n",
       "1      1       1           \n",
       "29     2       2           \n",
       "102    3       3           \n",
       "279    4       4           \n",
       "333    5       5           \n",
       "695    6       6           \n",
       "888    7       7           \n",
       "1044   8       8           \n",
       "1468   9       9           \n",
       "2184  10       10          \n",
       "2190  11       11          \n",
       "2235  12       11+         \n",
       "2555  13       11+         \n",
       "2632  19       11+         \n",
       "2982  18       11+         \n",
       "3220  23       11+         \n",
       "3361  14       11+         \n",
       "3371  22       11+         \n",
       "3439  25       11+         \n",
       "3485  16       11+         \n",
       "3533  17       11+         \n",
       "3540  15       11+         \n",
       "3873  20       11+         \n",
       "4108  56       11+         \n",
       "4115  39       11+         \n",
       "4140  35       11+         \n",
       "4169  42       11+         \n",
       "4651  28       11+         \n",
       "4898  26       11+         \n",
       "5338  27       11+         \n",
       "5565  32       11+         \n",
       "6535  21       11+         \n",
       "7278  24       11+         \n",
       "9014  29       11+         \n",
       "9060  31       11+         \n",
       "10428 30       11+         \n",
       "11034 41       11+         \n",
       "11594 37       11+         \n",
       "11770 40       11+         \n",
       "12643 33       11+         \n",
       "12698 34       11+         \n",
       "13448 43       11+         "
      ]
     },
     "metadata": {},
     "output_type": "display_data"
    }
   ],
   "source": [
    "t <- train_df[!duplicated(train_df[,c('campaign','campaign_bin')]),]\n",
    "t %>% select(campaign,campaign_bin)"
   ]
  },
  {
   "cell_type": "markdown",
   "id": "364661dc",
   "metadata": {},
   "source": [
    "#### Tratando pdays"
   ]
  },
  {
   "cell_type": "code",
   "execution_count": 94,
   "id": "00a43262",
   "metadata": {},
   "outputs": [],
   "source": [
    " train_df$pdays_bin <-  0"
   ]
  },
  {
   "cell_type": "code",
   "execution_count": 102,
   "id": "82e3c7f3",
   "metadata": {},
   "outputs": [],
   "source": [
    "train_df$pdays_bin <-  ifelse(train_df$pdays != '999',train_df$pdays, 'NA')"
   ]
  },
  {
   "cell_type": "code",
   "execution_count": 103,
   "id": "9cc66a77",
   "metadata": {},
   "outputs": [
    {
     "data": {
      "text/html": [
       "<table>\n",
       "<thead><tr><th scope=col>pdays</th><th scope=col>pdays_bin</th></tr></thead>\n",
       "<tbody>\n",
       "\t<tr><td>999</td><td>NA </td></tr>\n",
       "\t<tr><td>999</td><td>NA </td></tr>\n",
       "\t<tr><td>999</td><td>NA </td></tr>\n",
       "\t<tr><td>999</td><td>NA </td></tr>\n",
       "\t<tr><td>999</td><td>NA </td></tr>\n",
       "\t<tr><td>999</td><td>NA </td></tr>\n",
       "\t<tr><td>999</td><td>NA </td></tr>\n",
       "\t<tr><td>999</td><td>NA </td></tr>\n",
       "\t<tr><td>999</td><td>NA </td></tr>\n",
       "\t<tr><td>999</td><td>NA </td></tr>\n",
       "\t<tr><td>999</td><td>NA </td></tr>\n",
       "\t<tr><td>999</td><td>NA </td></tr>\n",
       "\t<tr><td>999</td><td>NA </td></tr>\n",
       "\t<tr><td>999</td><td>NA </td></tr>\n",
       "\t<tr><td>999</td><td>NA </td></tr>\n",
       "\t<tr><td>999</td><td>NA </td></tr>\n",
       "\t<tr><td>999</td><td>NA </td></tr>\n",
       "\t<tr><td>999</td><td>NA </td></tr>\n",
       "\t<tr><td>999</td><td>NA </td></tr>\n",
       "\t<tr><td>999</td><td>NA </td></tr>\n",
       "\t<tr><td>999</td><td>NA </td></tr>\n",
       "\t<tr><td>999</td><td>NA </td></tr>\n",
       "\t<tr><td>999</td><td>NA </td></tr>\n",
       "\t<tr><td>999</td><td>NA </td></tr>\n",
       "\t<tr><td>999</td><td>NA </td></tr>\n",
       "\t<tr><td>999</td><td>NA </td></tr>\n",
       "\t<tr><td>999</td><td>NA </td></tr>\n",
       "\t<tr><td>999</td><td>NA </td></tr>\n",
       "\t<tr><td>999</td><td>NA </td></tr>\n",
       "\t<tr><td>999</td><td>NA </td></tr>\n",
       "\t<tr><td>...</td><td>...</td></tr>\n",
       "\t<tr><td>999</td><td>NA </td></tr>\n",
       "\t<tr><td>  9</td><td>9  </td></tr>\n",
       "\t<tr><td>999</td><td>NA </td></tr>\n",
       "\t<tr><td>999</td><td>NA </td></tr>\n",
       "\t<tr><td>  4</td><td>4  </td></tr>\n",
       "\t<tr><td>  4</td><td>4  </td></tr>\n",
       "\t<tr><td> 10</td><td>10 </td></tr>\n",
       "\t<tr><td>999</td><td>NA </td></tr>\n",
       "\t<tr><td>999</td><td>NA </td></tr>\n",
       "\t<tr><td>999</td><td>NA </td></tr>\n",
       "\t<tr><td>999</td><td>NA </td></tr>\n",
       "\t<tr><td>999</td><td>NA </td></tr>\n",
       "\t<tr><td>999</td><td>NA </td></tr>\n",
       "\t<tr><td>999</td><td>NA </td></tr>\n",
       "\t<tr><td>999</td><td>NA </td></tr>\n",
       "\t<tr><td>999</td><td>NA </td></tr>\n",
       "\t<tr><td>  1</td><td>1  </td></tr>\n",
       "\t<tr><td>999</td><td>NA </td></tr>\n",
       "\t<tr><td>999</td><td>NA </td></tr>\n",
       "\t<tr><td>999</td><td>NA </td></tr>\n",
       "\t<tr><td>  6</td><td>6  </td></tr>\n",
       "\t<tr><td>999</td><td>NA </td></tr>\n",
       "\t<tr><td>999</td><td>NA </td></tr>\n",
       "\t<tr><td>999</td><td>NA </td></tr>\n",
       "\t<tr><td>  9</td><td>9  </td></tr>\n",
       "\t<tr><td>999</td><td>NA </td></tr>\n",
       "\t<tr><td>999</td><td>NA </td></tr>\n",
       "\t<tr><td>999</td><td>NA </td></tr>\n",
       "\t<tr><td>999</td><td>NA </td></tr>\n",
       "\t<tr><td>999</td><td>NA </td></tr>\n",
       "</tbody>\n",
       "</table>\n"
      ],
      "text/latex": [
       "\\begin{tabular}{r|ll}\n",
       " pdays & pdays\\_bin\\\\\n",
       "\\hline\n",
       "\t 999 & NA \\\\\n",
       "\t 999 & NA \\\\\n",
       "\t 999 & NA \\\\\n",
       "\t 999 & NA \\\\\n",
       "\t 999 & NA \\\\\n",
       "\t 999 & NA \\\\\n",
       "\t 999 & NA \\\\\n",
       "\t 999 & NA \\\\\n",
       "\t 999 & NA \\\\\n",
       "\t 999 & NA \\\\\n",
       "\t 999 & NA \\\\\n",
       "\t 999 & NA \\\\\n",
       "\t 999 & NA \\\\\n",
       "\t 999 & NA \\\\\n",
       "\t 999 & NA \\\\\n",
       "\t 999 & NA \\\\\n",
       "\t 999 & NA \\\\\n",
       "\t 999 & NA \\\\\n",
       "\t 999 & NA \\\\\n",
       "\t 999 & NA \\\\\n",
       "\t 999 & NA \\\\\n",
       "\t 999 & NA \\\\\n",
       "\t 999 & NA \\\\\n",
       "\t 999 & NA \\\\\n",
       "\t 999 & NA \\\\\n",
       "\t 999 & NA \\\\\n",
       "\t 999 & NA \\\\\n",
       "\t 999 & NA \\\\\n",
       "\t 999 & NA \\\\\n",
       "\t 999 & NA \\\\\n",
       "\t ... & ...\\\\\n",
       "\t 999 & NA \\\\\n",
       "\t   9 & 9  \\\\\n",
       "\t 999 & NA \\\\\n",
       "\t 999 & NA \\\\\n",
       "\t   4 & 4  \\\\\n",
       "\t   4 & 4  \\\\\n",
       "\t  10 & 10 \\\\\n",
       "\t 999 & NA \\\\\n",
       "\t 999 & NA \\\\\n",
       "\t 999 & NA \\\\\n",
       "\t 999 & NA \\\\\n",
       "\t 999 & NA \\\\\n",
       "\t 999 & NA \\\\\n",
       "\t 999 & NA \\\\\n",
       "\t 999 & NA \\\\\n",
       "\t 999 & NA \\\\\n",
       "\t   1 & 1  \\\\\n",
       "\t 999 & NA \\\\\n",
       "\t 999 & NA \\\\\n",
       "\t 999 & NA \\\\\n",
       "\t   6 & 6  \\\\\n",
       "\t 999 & NA \\\\\n",
       "\t 999 & NA \\\\\n",
       "\t 999 & NA \\\\\n",
       "\t   9 & 9  \\\\\n",
       "\t 999 & NA \\\\\n",
       "\t 999 & NA \\\\\n",
       "\t 999 & NA \\\\\n",
       "\t 999 & NA \\\\\n",
       "\t 999 & NA \\\\\n",
       "\\end{tabular}\n"
      ],
      "text/markdown": [
       "\n",
       "| pdays | pdays_bin |\n",
       "|---|---|\n",
       "| 999 | NA  |\n",
       "| 999 | NA  |\n",
       "| 999 | NA  |\n",
       "| 999 | NA  |\n",
       "| 999 | NA  |\n",
       "| 999 | NA  |\n",
       "| 999 | NA  |\n",
       "| 999 | NA  |\n",
       "| 999 | NA  |\n",
       "| 999 | NA  |\n",
       "| 999 | NA  |\n",
       "| 999 | NA  |\n",
       "| 999 | NA  |\n",
       "| 999 | NA  |\n",
       "| 999 | NA  |\n",
       "| 999 | NA  |\n",
       "| 999 | NA  |\n",
       "| 999 | NA  |\n",
       "| 999 | NA  |\n",
       "| 999 | NA  |\n",
       "| 999 | NA  |\n",
       "| 999 | NA  |\n",
       "| 999 | NA  |\n",
       "| 999 | NA  |\n",
       "| 999 | NA  |\n",
       "| 999 | NA  |\n",
       "| 999 | NA  |\n",
       "| 999 | NA  |\n",
       "| 999 | NA  |\n",
       "| 999 | NA  |\n",
       "| ... | ... |\n",
       "| 999 | NA  |\n",
       "|   9 | 9   |\n",
       "| 999 | NA  |\n",
       "| 999 | NA  |\n",
       "|   4 | 4   |\n",
       "|   4 | 4   |\n",
       "|  10 | 10  |\n",
       "| 999 | NA  |\n",
       "| 999 | NA  |\n",
       "| 999 | NA  |\n",
       "| 999 | NA  |\n",
       "| 999 | NA  |\n",
       "| 999 | NA  |\n",
       "| 999 | NA  |\n",
       "| 999 | NA  |\n",
       "| 999 | NA  |\n",
       "|   1 | 1   |\n",
       "| 999 | NA  |\n",
       "| 999 | NA  |\n",
       "| 999 | NA  |\n",
       "|   6 | 6   |\n",
       "| 999 | NA  |\n",
       "| 999 | NA  |\n",
       "| 999 | NA  |\n",
       "|   9 | 9   |\n",
       "| 999 | NA  |\n",
       "| 999 | NA  |\n",
       "| 999 | NA  |\n",
       "| 999 | NA  |\n",
       "| 999 | NA  |\n",
       "\n"
      ],
      "text/plain": [
       "      pdays pdays_bin\n",
       "1     999   NA       \n",
       "2     999   NA       \n",
       "3     999   NA       \n",
       "4     999   NA       \n",
       "5     999   NA       \n",
       "6     999   NA       \n",
       "7     999   NA       \n",
       "8     999   NA       \n",
       "9     999   NA       \n",
       "10    999   NA       \n",
       "11    999   NA       \n",
       "12    999   NA       \n",
       "13    999   NA       \n",
       "14    999   NA       \n",
       "15    999   NA       \n",
       "16    999   NA       \n",
       "17    999   NA       \n",
       "18    999   NA       \n",
       "19    999   NA       \n",
       "20    999   NA       \n",
       "21    999   NA       \n",
       "22    999   NA       \n",
       "23    999   NA       \n",
       "24    999   NA       \n",
       "25    999   NA       \n",
       "26    999   NA       \n",
       "27    999   NA       \n",
       "28    999   NA       \n",
       "29    999   NA       \n",
       "30    999   NA       \n",
       "...   ...   ...      \n",
       "41159 999   NA       \n",
       "41160   9   9        \n",
       "41161 999   NA       \n",
       "41162 999   NA       \n",
       "41163   4   4        \n",
       "41164   4   4        \n",
       "41165  10   10       \n",
       "41166 999   NA       \n",
       "41167 999   NA       \n",
       "41168 999   NA       \n",
       "41169 999   NA       \n",
       "41170 999   NA       \n",
       "41171 999   NA       \n",
       "41172 999   NA       \n",
       "41173 999   NA       \n",
       "41174 999   NA       \n",
       "41175   1   1        \n",
       "41176 999   NA       \n",
       "41177 999   NA       \n",
       "41178 999   NA       \n",
       "41179   6   6        \n",
       "41180 999   NA       \n",
       "41181 999   NA       \n",
       "41182 999   NA       \n",
       "41183   9   9        \n",
       "41184 999   NA       \n",
       "41185 999   NA       \n",
       "41186 999   NA       \n",
       "41187 999   NA       \n",
       "41188 999   NA       "
      ]
     },
     "metadata": {},
     "output_type": "display_data"
    }
   ],
   "source": [
    " train_df %>% select(pdays,pdays_bin)"
   ]
  },
  {
   "cell_type": "markdown",
   "id": "29a5f0f8",
   "metadata": {},
   "source": [
    "##### Tratando previous"
   ]
  },
  {
   "cell_type": "code",
   "execution_count": 116,
   "id": "273c5dd2",
   "metadata": {},
   "outputs": [],
   "source": [
    "train_df$previous_bin <- lapply(train_df$previous, toString)"
   ]
  },
  {
   "cell_type": "code",
   "execution_count": 119,
   "id": "2a3f97d4",
   "metadata": {},
   "outputs": [
    {
     "data": {
      "text/html": [
       "<table>\n",
       "<thead><tr><th scope=col>previous</th><th scope=col>previous_bin</th></tr></thead>\n",
       "<tbody>\n",
       "\t<tr><td>0</td><td>0</td></tr>\n",
       "\t<tr><td>0</td><td>0</td></tr>\n",
       "\t<tr><td>0</td><td>0</td></tr>\n",
       "\t<tr><td>0</td><td>0</td></tr>\n",
       "\t<tr><td>0</td><td>0</td></tr>\n",
       "\t<tr><td>0</td><td>0</td></tr>\n",
       "\t<tr><td>0</td><td>0</td></tr>\n",
       "\t<tr><td>0</td><td>0</td></tr>\n",
       "\t<tr><td>0</td><td>0</td></tr>\n",
       "\t<tr><td>0</td><td>0</td></tr>\n",
       "\t<tr><td>0</td><td>0</td></tr>\n",
       "\t<tr><td>0</td><td>0</td></tr>\n",
       "\t<tr><td>0</td><td>0</td></tr>\n",
       "\t<tr><td>0</td><td>0</td></tr>\n",
       "\t<tr><td>0</td><td>0</td></tr>\n",
       "\t<tr><td>0</td><td>0</td></tr>\n",
       "\t<tr><td>0</td><td>0</td></tr>\n",
       "\t<tr><td>0</td><td>0</td></tr>\n",
       "\t<tr><td>0</td><td>0</td></tr>\n",
       "\t<tr><td>0</td><td>0</td></tr>\n",
       "\t<tr><td>0</td><td>0</td></tr>\n",
       "\t<tr><td>0</td><td>0</td></tr>\n",
       "\t<tr><td>0</td><td>0</td></tr>\n",
       "\t<tr><td>0</td><td>0</td></tr>\n",
       "\t<tr><td>0</td><td>0</td></tr>\n",
       "\t<tr><td>0</td><td>0</td></tr>\n",
       "\t<tr><td>0</td><td>0</td></tr>\n",
       "\t<tr><td>0</td><td>0</td></tr>\n",
       "\t<tr><td>0</td><td>0</td></tr>\n",
       "\t<tr><td>0</td><td>0</td></tr>\n",
       "\t<tr><td>...</td><td>...</td></tr>\n",
       "\t<tr><td>0</td><td>0</td></tr>\n",
       "\t<tr><td>4</td><td>4</td></tr>\n",
       "\t<tr><td>0</td><td>0</td></tr>\n",
       "\t<tr><td>1</td><td>1</td></tr>\n",
       "\t<tr><td>1</td><td>1</td></tr>\n",
       "\t<tr><td>2</td><td>2</td></tr>\n",
       "\t<tr><td>1</td><td>1</td></tr>\n",
       "\t<tr><td>0</td><td>0</td></tr>\n",
       "\t<tr><td>1</td><td>1</td></tr>\n",
       "\t<tr><td>0</td><td>0</td></tr>\n",
       "\t<tr><td>0</td><td>0</td></tr>\n",
       "\t<tr><td>0</td><td>0</td></tr>\n",
       "\t<tr><td>4</td><td>4</td></tr>\n",
       "\t<tr><td>0</td><td>0</td></tr>\n",
       "\t<tr><td>0</td><td>0</td></tr>\n",
       "\t<tr><td>2</td><td>2</td></tr>\n",
       "\t<tr><td>6</td><td>6</td></tr>\n",
       "\t<tr><td>2</td><td>2</td></tr>\n",
       "\t<tr><td>0</td><td>0</td></tr>\n",
       "\t<tr><td>0</td><td>0</td></tr>\n",
       "\t<tr><td>3</td><td>3</td></tr>\n",
       "\t<tr><td>0</td><td>0</td></tr>\n",
       "\t<tr><td>0</td><td>0</td></tr>\n",
       "\t<tr><td>0</td><td>0</td></tr>\n",
       "\t<tr><td>1</td><td>1</td></tr>\n",
       "\t<tr><td>0</td><td>0</td></tr>\n",
       "\t<tr><td>0</td><td>0</td></tr>\n",
       "\t<tr><td>0</td><td>0</td></tr>\n",
       "\t<tr><td>0</td><td>0</td></tr>\n",
       "\t<tr><td>1</td><td>1</td></tr>\n",
       "</tbody>\n",
       "</table>\n"
      ],
      "text/latex": [
       "\\begin{tabular}{r|ll}\n",
       " previous & previous\\_bin\\\\\n",
       "\\hline\n",
       "\t 0 & 0\\\\\n",
       "\t 0 & 0\\\\\n",
       "\t 0 & 0\\\\\n",
       "\t 0 & 0\\\\\n",
       "\t 0 & 0\\\\\n",
       "\t 0 & 0\\\\\n",
       "\t 0 & 0\\\\\n",
       "\t 0 & 0\\\\\n",
       "\t 0 & 0\\\\\n",
       "\t 0 & 0\\\\\n",
       "\t 0 & 0\\\\\n",
       "\t 0 & 0\\\\\n",
       "\t 0 & 0\\\\\n",
       "\t 0 & 0\\\\\n",
       "\t 0 & 0\\\\\n",
       "\t 0 & 0\\\\\n",
       "\t 0 & 0\\\\\n",
       "\t 0 & 0\\\\\n",
       "\t 0 & 0\\\\\n",
       "\t 0 & 0\\\\\n",
       "\t 0 & 0\\\\\n",
       "\t 0 & 0\\\\\n",
       "\t 0 & 0\\\\\n",
       "\t 0 & 0\\\\\n",
       "\t 0 & 0\\\\\n",
       "\t 0 & 0\\\\\n",
       "\t 0 & 0\\\\\n",
       "\t 0 & 0\\\\\n",
       "\t 0 & 0\\\\\n",
       "\t 0 & 0\\\\\n",
       "\t ... & ...\\\\\n",
       "\t 0 & 0\\\\\n",
       "\t 4 & 4\\\\\n",
       "\t 0 & 0\\\\\n",
       "\t 1 & 1\\\\\n",
       "\t 1 & 1\\\\\n",
       "\t 2 & 2\\\\\n",
       "\t 1 & 1\\\\\n",
       "\t 0 & 0\\\\\n",
       "\t 1 & 1\\\\\n",
       "\t 0 & 0\\\\\n",
       "\t 0 & 0\\\\\n",
       "\t 0 & 0\\\\\n",
       "\t 4 & 4\\\\\n",
       "\t 0 & 0\\\\\n",
       "\t 0 & 0\\\\\n",
       "\t 2 & 2\\\\\n",
       "\t 6 & 6\\\\\n",
       "\t 2 & 2\\\\\n",
       "\t 0 & 0\\\\\n",
       "\t 0 & 0\\\\\n",
       "\t 3 & 3\\\\\n",
       "\t 0 & 0\\\\\n",
       "\t 0 & 0\\\\\n",
       "\t 0 & 0\\\\\n",
       "\t 1 & 1\\\\\n",
       "\t 0 & 0\\\\\n",
       "\t 0 & 0\\\\\n",
       "\t 0 & 0\\\\\n",
       "\t 0 & 0\\\\\n",
       "\t 1 & 1\\\\\n",
       "\\end{tabular}\n"
      ],
      "text/markdown": [
       "\n",
       "| previous | previous_bin |\n",
       "|---|---|\n",
       "| 0 | 0 |\n",
       "| 0 | 0 |\n",
       "| 0 | 0 |\n",
       "| 0 | 0 |\n",
       "| 0 | 0 |\n",
       "| 0 | 0 |\n",
       "| 0 | 0 |\n",
       "| 0 | 0 |\n",
       "| 0 | 0 |\n",
       "| 0 | 0 |\n",
       "| 0 | 0 |\n",
       "| 0 | 0 |\n",
       "| 0 | 0 |\n",
       "| 0 | 0 |\n",
       "| 0 | 0 |\n",
       "| 0 | 0 |\n",
       "| 0 | 0 |\n",
       "| 0 | 0 |\n",
       "| 0 | 0 |\n",
       "| 0 | 0 |\n",
       "| 0 | 0 |\n",
       "| 0 | 0 |\n",
       "| 0 | 0 |\n",
       "| 0 | 0 |\n",
       "| 0 | 0 |\n",
       "| 0 | 0 |\n",
       "| 0 | 0 |\n",
       "| 0 | 0 |\n",
       "| 0 | 0 |\n",
       "| 0 | 0 |\n",
       "| ... | ... |\n",
       "| 0 | 0 |\n",
       "| 4 | 4 |\n",
       "| 0 | 0 |\n",
       "| 1 | 1 |\n",
       "| 1 | 1 |\n",
       "| 2 | 2 |\n",
       "| 1 | 1 |\n",
       "| 0 | 0 |\n",
       "| 1 | 1 |\n",
       "| 0 | 0 |\n",
       "| 0 | 0 |\n",
       "| 0 | 0 |\n",
       "| 4 | 4 |\n",
       "| 0 | 0 |\n",
       "| 0 | 0 |\n",
       "| 2 | 2 |\n",
       "| 6 | 6 |\n",
       "| 2 | 2 |\n",
       "| 0 | 0 |\n",
       "| 0 | 0 |\n",
       "| 3 | 3 |\n",
       "| 0 | 0 |\n",
       "| 0 | 0 |\n",
       "| 0 | 0 |\n",
       "| 1 | 1 |\n",
       "| 0 | 0 |\n",
       "| 0 | 0 |\n",
       "| 0 | 0 |\n",
       "| 0 | 0 |\n",
       "| 1 | 1 |\n",
       "\n"
      ],
      "text/plain": [
       "      previous previous_bin\n",
       "1     0        0           \n",
       "2     0        0           \n",
       "3     0        0           \n",
       "4     0        0           \n",
       "5     0        0           \n",
       "6     0        0           \n",
       "7     0        0           \n",
       "8     0        0           \n",
       "9     0        0           \n",
       "10    0        0           \n",
       "11    0        0           \n",
       "12    0        0           \n",
       "13    0        0           \n",
       "14    0        0           \n",
       "15    0        0           \n",
       "16    0        0           \n",
       "17    0        0           \n",
       "18    0        0           \n",
       "19    0        0           \n",
       "20    0        0           \n",
       "21    0        0           \n",
       "22    0        0           \n",
       "23    0        0           \n",
       "24    0        0           \n",
       "25    0        0           \n",
       "26    0        0           \n",
       "27    0        0           \n",
       "28    0        0           \n",
       "29    0        0           \n",
       "30    0        0           \n",
       "...   ...      ...         \n",
       "41159 0        0           \n",
       "41160 4        4           \n",
       "41161 0        0           \n",
       "41162 1        1           \n",
       "41163 1        1           \n",
       "41164 2        2           \n",
       "41165 1        1           \n",
       "41166 0        0           \n",
       "41167 1        1           \n",
       "41168 0        0           \n",
       "41169 0        0           \n",
       "41170 0        0           \n",
       "41171 4        4           \n",
       "41172 0        0           \n",
       "41173 0        0           \n",
       "41174 2        2           \n",
       "41175 6        6           \n",
       "41176 2        2           \n",
       "41177 0        0           \n",
       "41178 0        0           \n",
       "41179 3        3           \n",
       "41180 0        0           \n",
       "41181 0        0           \n",
       "41182 0        0           \n",
       "41183 1        1           \n",
       "41184 0        0           \n",
       "41185 0        0           \n",
       "41186 0        0           \n",
       "41187 0        0           \n",
       "41188 1        1           "
      ]
     },
     "metadata": {},
     "output_type": "display_data"
    }
   ],
   "source": [
    "train_df %>% select(previous,previous_bin) "
   ]
  },
  {
   "cell_type": "markdown",
   "id": "f84a4e47",
   "metadata": {},
   "source": [
    "#### Trabalhando as Variáveis de Contexto"
   ]
  },
  {
   "cell_type": "markdown",
   "id": "64a382bc",
   "metadata": {},
   "source": [
    "The factor analysis model is\n",
    "\n",
    "x = Λ f + e\n",
    "\n",
    "for a p–element vector x, a p x k matrix Λ of loadings, a k–element vector f of scores and a p–element vector e of errors. None of the components other than x is observed, but the major restriction is that the scores be uncorrelated and of unit variance, and that the errors be independent with variances Psi, the uniquenesses. It is also common to scale the observed variables to unit variance, and done in this function.\n",
    "\n",
    "Thus factor analysis is in essence a model for the correlation matrix of x,"
   ]
  },
  {
   "cell_type": "code",
   "execution_count": 260,
   "id": "0f996c26",
   "metadata": {},
   "outputs": [],
   "source": [
    "social <- train_df %>% select(y,nr.employed,euribor3m,cons.price.idx,cons.conf.idx,emp.var.rate)\n",
    "for(i in 1:ncol(social)){\n",
    "  \n",
    "  social[,i]<- as.integer(social[,i])\n",
    "}"
   ]
  },
  {
   "cell_type": "code",
   "execution_count": 261,
   "id": "a8b1231b",
   "metadata": {},
   "outputs": [
    {
     "data": {
      "text/html": [
       "<table>\n",
       "<thead><tr><th></th><th scope=col>y</th><th scope=col>nr.employed</th><th scope=col>euribor3m</th><th scope=col>cons.price.idx</th><th scope=col>cons.conf.idx</th><th scope=col>emp.var.rate</th></tr></thead>\n",
       "<tbody>\n",
       "\t<tr><th scope=row>y</th><td> 1.00000000</td><td>-0.3549247 </td><td>-0.3274218 </td><td>-0.06897486</td><td>0.05575727 </td><td>-0.3152557 </td></tr>\n",
       "\t<tr><th scope=row>nr.employed</th><td>-0.35492469</td><td> 1.0000000 </td><td> 0.9510864 </td><td> 0.42429007</td><td>0.10993981 </td><td> 0.8967484 </td></tr>\n",
       "\t<tr><th scope=row>euribor3m</th><td>-0.32742184</td><td> 0.9510864 </td><td> 1.0000000 </td><td> 0.52582523</td><td>0.21685179 </td><td> 0.9293453 </td></tr>\n",
       "\t<tr><th scope=row>cons.price.idx</th><td>-0.06897486</td><td> 0.4242901 </td><td> 0.5258252 </td><td> 1.00000000</td><td>0.08100694 </td><td> 0.6069694 </td></tr>\n",
       "\t<tr><th scope=row>cons.conf.idx</th><td> 0.05575727</td><td> 0.1099398 </td><td> 0.2168518 </td><td> 0.08100694</td><td>1.00000000 </td><td> 0.1406748 </td></tr>\n",
       "\t<tr><th scope=row>emp.var.rate</th><td>-0.31525570</td><td> 0.8967484 </td><td> 0.9293453 </td><td> 0.60696937</td><td>0.14067480 </td><td> 1.0000000 </td></tr>\n",
       "</tbody>\n",
       "</table>\n"
      ],
      "text/latex": [
       "\\begin{tabular}{r|llllll}\n",
       "  & y & nr.employed & euribor3m & cons.price.idx & cons.conf.idx & emp.var.rate\\\\\n",
       "\\hline\n",
       "\ty &  1.00000000 & -0.3549247  & -0.3274218  & -0.06897486 & 0.05575727  & -0.3152557 \\\\\n",
       "\tnr.employed & -0.35492469 &  1.0000000  &  0.9510864  &  0.42429007 & 0.10993981  &  0.8967484 \\\\\n",
       "\teuribor3m & -0.32742184 &  0.9510864  &  1.0000000  &  0.52582523 & 0.21685179  &  0.9293453 \\\\\n",
       "\tcons.price.idx & -0.06897486 &  0.4242901  &  0.5258252  &  1.00000000 & 0.08100694  &  0.6069694 \\\\\n",
       "\tcons.conf.idx &  0.05575727 &  0.1099398  &  0.2168518  &  0.08100694 & 1.00000000  &  0.1406748 \\\\\n",
       "\temp.var.rate & -0.31525570 &  0.8967484  &  0.9293453  &  0.60696937 & 0.14067480  &  1.0000000 \\\\\n",
       "\\end{tabular}\n"
      ],
      "text/markdown": [
       "\n",
       "| <!--/--> | y | nr.employed | euribor3m | cons.price.idx | cons.conf.idx | emp.var.rate |\n",
       "|---|---|---|---|---|---|---|\n",
       "| y |  1.00000000 | -0.3549247  | -0.3274218  | -0.06897486 | 0.05575727  | -0.3152557  |\n",
       "| nr.employed | -0.35492469 |  1.0000000  |  0.9510864  |  0.42429007 | 0.10993981  |  0.8967484  |\n",
       "| euribor3m | -0.32742184 |  0.9510864  |  1.0000000  |  0.52582523 | 0.21685179  |  0.9293453  |\n",
       "| cons.price.idx | -0.06897486 |  0.4242901  |  0.5258252  |  1.00000000 | 0.08100694  |  0.6069694  |\n",
       "| cons.conf.idx |  0.05575727 |  0.1099398  |  0.2168518  |  0.08100694 | 1.00000000  |  0.1406748  |\n",
       "| emp.var.rate | -0.31525570 |  0.8967484  |  0.9293453  |  0.60696937 | 0.14067480  |  1.0000000  |\n",
       "\n"
      ],
      "text/plain": [
       "               y           nr.employed euribor3m  cons.price.idx cons.conf.idx\n",
       "y               1.00000000 -0.3549247  -0.3274218 -0.06897486    0.05575727   \n",
       "nr.employed    -0.35492469  1.0000000   0.9510864  0.42429007    0.10993981   \n",
       "euribor3m      -0.32742184  0.9510864   1.0000000  0.52582523    0.21685179   \n",
       "cons.price.idx -0.06897486  0.4242901   0.5258252  1.00000000    0.08100694   \n",
       "cons.conf.idx   0.05575727  0.1099398   0.2168518  0.08100694    1.00000000   \n",
       "emp.var.rate   -0.31525570  0.8967484   0.9293453  0.60696937    0.14067480   \n",
       "               emp.var.rate\n",
       "y              -0.3152557  \n",
       "nr.employed     0.8967484  \n",
       "euribor3m       0.9293453  \n",
       "cons.price.idx  0.6069694  \n",
       "cons.conf.idx   0.1406748  \n",
       "emp.var.rate    1.0000000  "
      ]
     },
     "metadata": {},
     "output_type": "display_data"
    }
   ],
   "source": [
    "cor(social, method = 'pearson')"
   ]
  },
  {
   "cell_type": "markdown",
   "id": "410b5207",
   "metadata": {},
   "source": [
    "Pouca correlação entre as séries e a variável target e fortíssima correlação entre euribor3m e nr.employed e emp var rate. "
   ]
  },
  {
   "cell_type": "code",
   "execution_count": 278,
   "id": "064d1c65",
   "metadata": {},
   "outputs": [
    {
     "name": "stdout",
     "output_type": "stream",
     "text": [
      "'data.frame':\t41188 obs. of  5 variables:\n",
      " $ nr.employed   : int  5191 5191 5191 5191 5191 5191 5191 5191 5191 5191 ...\n",
      " $ euribor3m     : int  4 4 4 4 4 4 4 4 4 4 ...\n",
      " $ cons.price.idx: int  93 93 93 93 93 93 93 93 93 93 ...\n",
      " $ cons.conf.idx : int  -36 -36 -36 -36 -36 -36 -36 -36 -36 -36 ...\n",
      " $ emp.var.rate  : int  1 1 1 1 1 1 1 1 1 1 ...\n"
     ]
    }
   ],
   "source": [
    "#dropando o Y\n",
    "social2 <- social[2:6]\n",
    "str(social2)"
   ]
  },
  {
   "cell_type": "code",
   "execution_count": 291,
   "id": "032090c1",
   "metadata": {},
   "outputs": [
    {
     "data": {
      "text/plain": [
       "\n",
       "Call:\n",
       "factanal(x = social2, factors = 1)\n",
       "\n",
       "Uniquenesses:\n",
       "   nr.employed      euribor3m cons.price.idx  cons.conf.idx   emp.var.rate \n",
       "         0.088          0.009          0.721          0.958          0.126 \n",
       "\n",
       "Loadings:\n",
       "               Factor1\n",
       "nr.employed    0.955  \n",
       "euribor3m      0.995  \n",
       "cons.price.idx 0.528  \n",
       "cons.conf.idx  0.205  \n",
       "emp.var.rate   0.935  \n",
       "\n",
       "               Factor1\n",
       "SS loadings      3.098\n",
       "Proportion Var   0.620\n",
       "\n",
       "Test of the hypothesis that 1 factor is sufficient.\n",
       "The chi square statistic is 17927.43 on 5 degrees of freedom.\n",
       "The p-value is 0 "
      ]
     },
     "metadata": {},
     "output_type": "display_data"
    }
   ],
   "source": [
    "social.fa <- factanal(social2, factors = 1,scores = \"Bartlett\") \n",
    "social.fa"
   ]
  },
  {
   "cell_type": "code",
   "execution_count": 328,
   "id": "a661ab54",
   "metadata": {},
   "outputs": [
    {
     "name": "stdout",
     "output_type": "stream",
     "text": [
      "\n",
      "Call:\n",
      "factanal(x = social2, factors = nfactors, scores = c(\"regression\"),     rotation = \"none\")\n",
      "\n",
      "Uniquenesses:\n",
      "   nr.employed      euribor3m cons.price.idx  cons.conf.idx   emp.var.rate \n",
      "         0.088          0.009          0.721          0.958          0.126 \n",
      "\n",
      "Loadings:\n",
      "               Factor1\n",
      "nr.employed    0.955  \n",
      "euribor3m      0.995  \n",
      "cons.price.idx 0.528  \n",
      "cons.conf.idx  0.205  \n",
      "emp.var.rate   0.935  \n",
      "\n",
      "               Factor1\n",
      "SS loadings      3.098\n",
      "Proportion Var   0.620\n",
      "\n",
      "Test of the hypothesis that 1 factor is sufficient.\n",
      "The chi square statistic is 17927.43 on 5 degrees of freedom.\n",
      "The p-value is 0 \n"
     ]
    }
   ],
   "source": [
    "#Using factanal command:\n",
    "nfactors <- 1\n",
    "fit <- factanal(social2, nfactors, scores = c(\"regression\"),rotation = \"none\")\n",
    "print(fit)"
   ]
  },
  {
   "cell_type": "code",
   "execution_count": 322,
   "id": "b8aafe63",
   "metadata": {},
   "outputs": [
    {
     "data": {
      "text/html": [
       "<strong>$uniquenesses</strong> = <dl class=dl-horizontal>\n",
       "\t<dt>nr.employed</dt>\n",
       "\t\t<dd>0.0876824340603757</dd>\n",
       "\t<dt>euribor3m</dt>\n",
       "\t\t<dd>0.00945872071467719</dd>\n",
       "\t<dt>cons.price.idx</dt>\n",
       "\t\t<dd>0.721217534109708</dd>\n",
       "\t<dt>cons.conf.idx</dt>\n",
       "\t\t<dd>0.957922422044141</dd>\n",
       "\t<dt>emp.var.rate</dt>\n",
       "\t\t<dd>0.126043578123705</dd>\n",
       "</dl>\n"
      ],
      "text/latex": [
       "\\textbf{\\$uniquenesses} = \\begin{description*}\n",
       "\\item[nr.employed] 0.0876824340603757\n",
       "\\item[euribor3m] 0.00945872071467719\n",
       "\\item[cons.price.idx] 0.721217534109708\n",
       "\\item[cons.conf.idx] 0.957922422044141\n",
       "\\item[emp.var.rate] 0.126043578123705\n",
       "\\end{description*}\n"
      ],
      "text/markdown": [
       "**$uniquenesses** = nr.employed\n",
       ":   0.0876824340603757euribor3m\n",
       ":   0.00945872071467719cons.price.idx\n",
       ":   0.721217534109708cons.conf.idx\n",
       ":   0.957922422044141emp.var.rate\n",
       ":   0.126043578123705\n",
       "\n"
      ],
      "text/plain": [
       "$uniquenesses\n",
       "   nr.employed      euribor3m cons.price.idx  cons.conf.idx   emp.var.rate \n",
       "   0.087682434    0.009458721    0.721217534    0.957922422    0.126043578 \n"
      ]
     },
     "metadata": {},
     "output_type": "display_data"
    }
   ],
   "source": [
    "social.fa[4]"
   ]
  },
  {
   "cell_type": "code",
   "execution_count": 340,
   "id": "a5ce2ab2",
   "metadata": {},
   "outputs": [
    {
     "name": "stdout",
     "output_type": "stream",
     "text": [
      "package 'psych' successfully unpacked and MD5 sums checked\n",
      "\n",
      "The downloaded binary packages are in\n",
      "\tC:\\Users\\Pichau\\AppData\\Local\\Temp\\RtmpC4DftU\\downloaded_packages\n"
     ]
    }
   ],
   "source": [
    "#install.packages('psych')\n",
    "library(psych)"
   ]
  },
  {
   "cell_type": "code",
   "execution_count": 381,
   "id": "493acb62",
   "metadata": {},
   "outputs": [],
   "source": [
    "help(fa)"
   ]
  },
  {
   "cell_type": "code",
   "execution_count": 140,
   "id": "641d2951",
   "metadata": {},
   "outputs": [
    {
     "ename": "ERROR",
     "evalue": "Error in NROW(x): objeto 'social2' não encontrado\n",
     "output_type": "error",
     "traceback": [
      "Error in NROW(x): objeto 'social2' não encontrado\nTraceback:\n",
      "1. fa(r = social2, nfactors = 1)",
      "2. isCorrelation(r)",
      "3. NROW(x)"
     ]
    }
   ],
   "source": [
    "fanone <-  fa(r=social2,nfactors = 1)\n",
    "fa.diagram(fanone,digits = 4)"
   ]
  },
  {
   "cell_type": "code",
   "execution_count": 364,
   "id": "1e062118",
   "metadata": {},
   "outputs": [],
   "source": [
    "\n",
    "#nr.employed\teuribor3m\tcons.price.idx\tcons.conf.idx\temp.var.rate \n",
    "#5191\t4\t93\t-36\t1\n",
    "social$s_factor =\n",
    "social$nr.employed*0.955   + \n",
    "social$euribor3m*0.995   + \n",
    "social$cons.price.idx*0.528   + \n",
    "social$cons.conf.idx *0.205   +\n",
    "social$emp.var.rate*0.935  \n",
    "\n",
    "\n"
   ]
  },
  {
   "cell_type": "code",
   "execution_count": 372,
   "id": "df226b91",
   "metadata": {},
   "outputs": [
    {
     "data": {
      "text/html": [
       "<ol class=list-inline>\n",
       "\t<li>5004.044</li>\n",
       "\t<li>5038.882</li>\n",
       "\t<li>5038.149</li>\n",
       "\t<li>5039.379</li>\n",
       "\t<li>5007.104</li>\n",
       "\t<li>5006.109</li>\n",
       "\t<li>5005.699</li>\n",
       "\t<li>5004.704</li>\n",
       "\t<li>4985.416</li>\n",
       "\t<li>4907.931</li>\n",
       "\t<li>4909.074</li>\n",
       "\t<li>4908.751</li>\n",
       "\t<li>4887.081</li>\n",
       "\t<li>4888.516</li>\n",
       "\t<li>4887.521</li>\n",
       "\t<li>4887.931</li>\n",
       "\t<li>4831.061</li>\n",
       "\t<li>4831.676</li>\n",
       "\t<li>4830.856</li>\n",
       "\t<li>4835.971</li>\n",
       "\t<li>4823.839</li>\n",
       "\t<li>4822.609</li>\n",
       "\t<li>4807.107</li>\n",
       "\t<li>4806.902</li>\n",
       "\t<li>4807.312</li>\n",
       "\t<li>4780.777</li>\n",
       "\t<li>4778.317</li>\n",
       "\t<li>4779.312</li>\n",
       "\t<li>4779.107</li>\n",
       "</ol>\n"
      ],
      "text/latex": [
       "\\begin{enumerate*}\n",
       "\\item 5004.044\n",
       "\\item 5038.882\n",
       "\\item 5038.149\n",
       "\\item 5039.379\n",
       "\\item 5007.104\n",
       "\\item 5006.109\n",
       "\\item 5005.699\n",
       "\\item 5004.704\n",
       "\\item 4985.416\n",
       "\\item 4907.931\n",
       "\\item 4909.074\n",
       "\\item 4908.751\n",
       "\\item 4887.081\n",
       "\\item 4888.516\n",
       "\\item 4887.521\n",
       "\\item 4887.931\n",
       "\\item 4831.061\n",
       "\\item 4831.676\n",
       "\\item 4830.856\n",
       "\\item 4835.971\n",
       "\\item 4823.839\n",
       "\\item 4822.609\n",
       "\\item 4807.107\n",
       "\\item 4806.902\n",
       "\\item 4807.312\n",
       "\\item 4780.777\n",
       "\\item 4778.317\n",
       "\\item 4779.312\n",
       "\\item 4779.107\n",
       "\\end{enumerate*}\n"
      ],
      "text/markdown": [
       "1. 5004.044\n",
       "2. 5038.882\n",
       "3. 5038.149\n",
       "4. 5039.379\n",
       "5. 5007.104\n",
       "6. 5006.109\n",
       "7. 5005.699\n",
       "8. 5004.704\n",
       "9. 4985.416\n",
       "10. 4907.931\n",
       "11. 4909.074\n",
       "12. 4908.751\n",
       "13. 4887.081\n",
       "14. 4888.516\n",
       "15. 4887.521\n",
       "16. 4887.931\n",
       "17. 4831.061\n",
       "18. 4831.676\n",
       "19. 4830.856\n",
       "20. 4835.971\n",
       "21. 4823.839\n",
       "22. 4822.609\n",
       "23. 4807.107\n",
       "24. 4806.902\n",
       "25. 4807.312\n",
       "26. 4780.777\n",
       "27. 4778.317\n",
       "28. 4779.312\n",
       "29. 4779.107\n",
       "\n",
       "\n"
      ],
      "text/plain": [
       " [1] 5004.044 5038.882 5038.149 5039.379 5007.104 5006.109 5005.699 5004.704\n",
       " [9] 4985.416 4907.931 4909.074 4908.751 4887.081 4888.516 4887.521 4887.931\n",
       "[17] 4831.061 4831.676 4830.856 4835.971 4823.839 4822.609 4807.107 4806.902\n",
       "[25] 4807.312 4780.777 4778.317 4779.312 4779.107"
      ]
     },
     "metadata": {},
     "output_type": "display_data"
    }
   ],
   "source": [
    "unique(social$factor)"
   ]
  },
  {
   "cell_type": "markdown",
   "id": "8bd9d16f",
   "metadata": {},
   "source": [
    "O p-value do teste chi-quadrado nos garante que 1 componente é suficiente para unir essas variáveis.\n",
    "\n",
    "O modelo precisará ser aplicado no conjunto de treino posteriormente. "
   ]
  },
  {
   "cell_type": "code",
   "execution_count": null,
   "id": "beea1c98",
   "metadata": {},
   "outputs": [],
   "source": [
    "#Installing the Psych package and loading it\n",
    "install.packages(\"psych\")\n",
    "library(psych)\n",
    "#Loading the dataset\n",
    "bfi_data=bfi\n",
    "#Remove rows with missing values and keep only complete cases\n",
    "bfi_data=bfi_data[complete.cases(bfi_data),]\n",
    "#Create the correlation matrix from bfi_data\n",
    "bfi_cor <- cor(bfi_data)\n",
    "#Factor analysis of the data\n",
    "factors_data <- fa(r = bfi_cor, nfactors = 6)\n",
    "#Getting the factor loadings and model analysis\n",
    "factors_data"
   ]
  },
  {
   "cell_type": "markdown",
   "id": "f99306b5",
   "metadata": {},
   "source": [
    "### Resolvendo os desbalanceamento de classes"
   ]
  },
  {
   "cell_type": "code",
   "execution_count": null,
   "id": "ea65813b",
   "metadata": {},
   "outputs": [],
   "source": [
    "#checando a tabela\n",
    "table(train_df$y)\n",
    " \n",
    "#check classes distribution\n",
    "prop.table(table(train_df$y))"
   ]
  },
  {
   "cell_type": "code",
   "execution_count": null,
   "id": "a70d002e",
   "metadata": {},
   "outputs": [],
   "source": [
    "#install packages\n",
    "#install.packages(\"ROSE\")\n",
    "library(ROSE)\n",
    "\n",
    "\n",
    "train_df_b <- ROSE(y ~ ., data = train_df, seed = 1)$data\n",
    "table(train_df_b$y)"
   ]
  },
  {
   "cell_type": "code",
   "execution_count": null,
   "id": "1bdf658e",
   "metadata": {},
   "outputs": [],
   "source": []
  },
  {
   "cell_type": "code",
   "execution_count": null,
   "id": "73b62d0c",
   "metadata": {},
   "outputs": [],
   "source": []
  },
  {
   "cell_type": "code",
   "execution_count": null,
   "id": "216c810d",
   "metadata": {},
   "outputs": [],
   "source": []
  },
  {
   "cell_type": "code",
   "execution_count": null,
   "id": "9c7036c9",
   "metadata": {},
   "outputs": [],
   "source": []
  },
  {
   "cell_type": "markdown",
   "id": "c5b19340",
   "metadata": {
    "scrolled": true
   },
   "source": [
    "### Dataframe Tratado para Rodar os Modelos"
   ]
  },
  {
   "cell_type": "markdown",
   "id": "98627a63",
   "metadata": {},
   "source": [
    "Variáveis desconsideradas \n",
    "\n",
    "- Duration: O arquivo de descrição do Dataset indica que essa variável precisa ser removida para um estimador robusto\n",
    "- default: Variável apesar de binária não tem informações na classe Yes (apenas 3 registros)\n",
    "\n",
    "[confirmar~] - days_of_week: baixa correlação da variavel com o Target e pouca variancia na proporção de Y/N nos dias da semana\n",
    "\n",
    "\n",
    "\n",
    "Variáveis tratadas\n",
    "- age: Transformamos em classes com intervalos de 9 anos\n",
    "- campaign: transformamos em classes com intervalos e agrupamos os dias 11+ em um único categorico.\n",
    "- pdays: transformamos o tipo para categorico e tratamos o 999 para NA.\n",
    "- previous: Tratado para string\n",
    "\n",
    "\n",
    "Variáveis geradas \n",
    "- nr.employed\t\n",
    "- euribor3m\t\n",
    "- cons.price.idx\t\n",
    "- cons.conf.idx\t\n",
    "- emp.var.rate\n",
    "- s_factor : PCA analysis juntando as variáveis economicas em uma única, pois são muito correlacionadas.\n",
    "\n",
    "\n",
    " "
   ]
  },
  {
   "cell_type": "code",
   "execution_count": null,
   "id": "c8bec1c4",
   "metadata": {},
   "outputs": [],
   "source": [
    "#Variáveis desconsideradas \n",
    "train_dfFiltrado <-  subset(train_df, select = -c(Duration,default))\n",
    "\n",
    "#Variáveis tratadas\n",
    "train_dfFiltrado <-  subset(train_df, select = -c(age,campaign,pdays,previous))\n",
    "\n",
    "#Variáveis geradas\n",
    "train_dfFiltrado<-  subset(train_df, select = -c(s_factor))\n",
    "    \n",
    "#Variáveis geradas\n",
    "train_dfFiltrado_PCA<-  subset(train_df, select = -c(nr.employed,euribor3m,cons.price.idx,cons.conf.idx,emp.var.rate))"
   ]
  },
  {
   "cell_type": "code",
   "execution_count": null,
   "id": "932235c3",
   "metadata": {},
   "outputs": [],
   "source": [
    "#Variaveis Retiradas da Análise\n",
    "train_dfFiltrado <- train_df %>% select(y,month,day_of_week,duration,previous, pdays,nr.employed,euribor3m,emp.var.rate,poutcome)\n",
    "\n",
    "train_dfFiltrado = subset(train_df, select = -c(x,z) )"
   ]
  },
  {
   "cell_type": "code",
   "execution_count": null,
   "id": "62936a86",
   "metadata": {},
   "outputs": [],
   "source": [
    "#criando outro dataset com colunas mais relevantes para treino\n",
    "library(dplyr)\n",
    "train_dfFiltrado <- train_df %>% select(y,month,day_of_week,duration,previous, pdays,nr.employed,euribor3m,emp.var.rate,poutcome)\n",
    "\n",
    "\n",
    "\n"
   ]
  },
  {
   "cell_type": "markdown",
   "id": "3fd4fdd3",
   "metadata": {},
   "source": [
    "### Instanciando Modelo Regressão Logistica"
   ]
  },
  {
   "cell_type": "code",
   "execution_count": 63,
   "id": "0f1dd246",
   "metadata": {},
   "outputs": [
    {
     "name": "stderr",
     "output_type": "stream",
     "text": [
      "also installing the dependency 'proxy'\n",
      "\n"
     ]
    },
    {
     "name": "stdout",
     "output_type": "stream",
     "text": [
      "package 'proxy' successfully unpacked and MD5 sums checked\n",
      "package 'e1071' successfully unpacked and MD5 sums checked\n",
      "\n",
      "The downloaded binary packages are in\n",
      "\tC:\\Users\\Pichau\\AppData\\Local\\Temp\\RtmpQZb31e\\downloaded_packages\n"
     ]
    }
   ],
   "source": [
    "#install.packages('e1071')"
   ]
  },
  {
   "cell_type": "code",
   "execution_count": 65,
   "id": "182233c2",
   "metadata": {},
   "outputs": [
    {
     "name": "stdout",
     "output_type": "stream",
     "text": [
      "Generalized Linear Model \n",
      "\n",
      "41188 samples\n",
      "   20 predictor\n",
      "    2 classes: 'no', 'yes' \n",
      "\n",
      "No pre-processing\n",
      "Resampling: Cross-Validated (10 fold) \n",
      "Summary of sample sizes: 37069, 37069, 37069, 37069, 37069, 37070, ... \n",
      "Resampling results:\n",
      "\n",
      "  Accuracy   Kappa    \n",
      "  0.9108964  0.4702039\n",
      "\n"
     ]
    }
   ],
   "source": [
    "#suprimindo warnning\n",
    "oldw <- getOption(\"warn\")\n",
    "options(warn = -1)\n",
    "\n",
    "#biblioteca para cross validation\n",
    "library(caret)\n",
    "library(e1071)\n",
    "\n",
    "#semente aleatoria\n",
    "set.seed(123) \n",
    "# Define training control\n",
    "ctrl <- trainControl(method = \"cv\", number = 10, classProbs = TRUE)\n",
    "\n",
    "\n",
    "# Train the modeo sem PCA\n",
    "log_fit <- train(y ~., data = train_df,\n",
    "                 method = \"glm\",\n",
    "                 trControl = ctrl)\n",
    "\n",
    "\n",
    "# Train the modeo com PCA\n",
    "log_fit_PCA <- train(y ~., data = train_df,\n",
    "                 method = \"glm\",\n",
    "                 trControl = ctrl)\n",
    "\n",
    "print(log_fit)\n",
    "\n",
    "print(log_fit_PCA) "
   ]
  },
  {
   "cell_type": "code",
   "execution_count": 66,
   "id": "e64d40a7",
   "metadata": {},
   "outputs": [
    {
     "data": {
      "text/plain": [
       "\n",
       "Call:\n",
       "NULL\n",
       "\n",
       "Deviance Residuals: \n",
       "    Min       1Q   Median       3Q      Max  \n",
       "-6.0022  -0.2984  -0.1855  -0.1344   3.3804  \n",
       "\n",
       "Coefficients: (1 not defined because of singularities)\n",
       "                               Estimate Std. Error z value Pr(>|z|)    \n",
       "(Intercept)                  -2.366e+02  3.831e+01  -6.176 6.56e-10 ***\n",
       "age                           1.966e-04  2.434e-03   0.081 0.935624    \n",
       "`jobblue-collar`             -2.347e-01  7.988e-02  -2.939 0.003295 ** \n",
       "jobentrepreneur              -1.780e-01  1.260e-01  -1.413 0.157566    \n",
       "jobhousemaid                 -2.432e-02  1.478e-01  -0.165 0.869320    \n",
       "jobmanagement                -5.614e-02  8.536e-02  -0.658 0.510710    \n",
       "jobretired                    2.858e-01  1.071e-01   2.669 0.007606 ** \n",
       "`jobself-employed`           -1.578e-01  1.178e-01  -1.340 0.180396    \n",
       "jobservices                  -1.399e-01  8.610e-02  -1.624 0.104286    \n",
       "jobstudent                    2.034e-01  1.115e-01   1.823 0.068230 .  \n",
       "jobtechnician                -1.401e-02  7.113e-02  -0.197 0.843838    \n",
       "jobunemployed                 2.116e-02  1.279e-01   0.165 0.868636    \n",
       "jobunknown                   -7.049e-02  2.386e-01  -0.295 0.767646    \n",
       "maritalmarried               -2.734e-03  6.854e-02  -0.040 0.968188    \n",
       "maritalsingle                 5.591e-02  7.826e-02   0.714 0.474969    \n",
       "maritalunknown                2.949e-02  4.167e-01   0.071 0.943587    \n",
       "educationbasic.6y             1.226e-01  1.206e-01   1.017 0.309241    \n",
       "educationbasic.9y            -9.772e-04  9.535e-02  -0.010 0.991823    \n",
       "educationhigh.school          4.861e-02  9.210e-02   0.528 0.597676    \n",
       "educationilliterate           1.067e+00  7.550e-01   1.413 0.157706    \n",
       "educationprofessional.course  1.150e-01  1.015e-01   1.133 0.257261    \n",
       "educationuniversity.degree    1.958e-01  9.220e-02   2.124 0.033667 *  \n",
       "educationunknown              1.497e-01  1.195e-01   1.253 0.210204    \n",
       "defaultunknown               -3.003e-01  6.740e-02  -4.456 8.36e-06 ***\n",
       "defaultyes                   -7.298e+00  1.134e+02  -0.064 0.948704    \n",
       "housingunknown               -9.331e-02  1.398e-01  -0.668 0.504354    \n",
       "housingyes                   -4.731e-03  4.135e-02  -0.114 0.908909    \n",
       "loanunknown                          NA         NA      NA       NA    \n",
       "loanyes                      -5.160e-02  5.747e-02  -0.898 0.369227    \n",
       "contacttelephone             -6.460e-01  7.688e-02  -8.402  < 2e-16 ***\n",
       "monthaug                      8.653e-01  1.206e-01   7.174 7.26e-13 ***\n",
       "monthdec                      3.192e-01  2.093e-01   1.525 0.127236    \n",
       "monthjul                      1.346e-01  9.630e-02   1.398 0.162205    \n",
       "monthjun                     -5.243e-01  1.262e-01  -4.154 3.27e-05 ***\n",
       "monthmar                      2.014e+00  1.444e-01  13.949  < 2e-16 ***\n",
       "monthmay                     -4.439e-01  8.261e-02  -5.373 7.74e-08 ***\n",
       "monthnov                     -4.180e-01  1.210e-01  -3.454 0.000552 ***\n",
       "monthoct                      1.940e-01  1.538e-01   1.262 0.207028    \n",
       "monthsep                      3.740e-01  1.795e-01   2.083 0.037226 *  \n",
       "day_of_weekmon               -1.168e-01  6.613e-02  -1.767 0.077304 .  \n",
       "day_of_weekthu                5.600e-02  6.409e-02   0.874 0.382274    \n",
       "day_of_weektue                9.719e-02  6.587e-02   1.476 0.140067    \n",
       "day_of_weekwed                1.753e-01  6.567e-02   2.669 0.007603 ** \n",
       "duration                      4.706e-03  7.457e-05  63.108  < 2e-16 ***\n",
       "campaign                     -4.015e-02  1.156e-02  -3.473 0.000514 ***\n",
       "pdays                        -9.388e-04  2.170e-04  -4.326 1.52e-05 ***\n",
       "previous                     -6.277e-02  5.912e-02  -1.062 0.288383    \n",
       "poutcomenonexistent           4.258e-01  9.423e-02   4.519 6.23e-06 ***\n",
       "poutcomesuccess               9.597e-01  2.115e-01   4.538 5.67e-06 ***\n",
       "emp.var.rate                 -1.758e+00  1.420e-01 -12.380  < 2e-16 ***\n",
       "cons.price.idx                2.190e+00  2.524e-01   8.679  < 2e-16 ***\n",
       "cons.conf.idx                 2.069e-02  7.768e-03   2.664 0.007733 ** \n",
       "euribor3m                     3.316e-01  1.300e-01   2.551 0.010737 *  \n",
       "nr.employed                   5.413e-03  3.115e-03   1.738 0.082275 .  \n",
       "---\n",
       "Signif. codes:  0 '***' 0.001 '**' 0.01 '*' 0.05 '.' 0.1 ' ' 1\n",
       "\n",
       "(Dispersion parameter for binomial family taken to be 1)\n",
       "\n",
       "    Null deviance: 28999  on 41187  degrees of freedom\n",
       "Residual deviance: 17078  on 41135  degrees of freedom\n",
       "AIC: 17184\n",
       "\n",
       "Number of Fisher Scoring iterations: 10\n"
      ]
     },
     "metadata": {},
     "output_type": "display_data"
    }
   ],
   "source": [
    "# Summarize the results\n",
    "summary(log_fit)\n",
    "summary(log_fit_PCA)"
   ]
  },
  {
   "cell_type": "markdown",
   "id": "6c990b54",
   "metadata": {},
   "source": [
    "#### Importancia das variáveis"
   ]
  },
  {
   "cell_type": "code",
   "execution_count": 67,
   "id": "fcf6c55c",
   "metadata": {},
   "outputs": [
    {
     "data": {
      "text/plain": [
       "glm variable importance\n",
       "\n",
       "  only 20 most important variables shown (out of 52)\n",
       "\n",
       "                           Overall\n",
       "duration                    63.108\n",
       "monthmar                    13.949\n",
       "emp.var.rate                12.380\n",
       "cons.price.idx               8.679\n",
       "contacttelephone             8.402\n",
       "monthaug                     7.174\n",
       "monthmay                     5.373\n",
       "poutcomesuccess              4.538\n",
       "poutcomenonexistent          4.519\n",
       "defaultunknown               4.456\n",
       "pdays                        4.326\n",
       "monthjun                     4.154\n",
       "campaign                     3.473\n",
       "monthnov                     3.454\n",
       "`jobblue-collar`             2.939\n",
       "day_of_weekwed               2.669\n",
       "jobretired                   2.669\n",
       "cons.conf.idx                2.664\n",
       "euribor3m                    2.551\n",
       "educationuniversity.degree   2.124"
      ]
     },
     "metadata": {},
     "output_type": "display_data"
    }
   ],
   "source": [
    "log_imp <- varImp(log_fit, scale = FALSE, competes = FALSE)\n",
    "log_imp"
   ]
  },
  {
   "cell_type": "markdown",
   "id": "1e249a79",
   "metadata": {},
   "source": [
    "#### Matriz de confusão e Previsões"
   ]
  },
  {
   "cell_type": "code",
   "execution_count": 68,
   "id": "2d28bf7b",
   "metadata": {},
   "outputs": [
    {
     "data": {
      "text/plain": [
       "Confusion Matrix and Statistics\n",
       "\n",
       "          Reference\n",
       "Prediction   no  yes\n",
       "       no  3570  259\n",
       "       yes   98  192\n",
       "                                          \n",
       "               Accuracy : 0.9133          \n",
       "                 95% CI : (0.9043, 0.9217)\n",
       "    No Information Rate : 0.8905          \n",
       "    P-Value [Acc > NIR] : 7.375e-07       \n",
       "                                          \n",
       "                  Kappa : 0.4731          \n",
       "                                          \n",
       " Mcnemar's Test P-Value : < 2.2e-16       \n",
       "                                          \n",
       "            Sensitivity : 0.9733          \n",
       "            Specificity : 0.4257          \n",
       "         Pos Pred Value : 0.9324          \n",
       "         Neg Pred Value : 0.6621          \n",
       "             Prevalence : 0.8905          \n",
       "         Detection Rate : 0.8667          \n",
       "   Detection Prevalence : 0.9296          \n",
       "      Balanced Accuracy : 0.6995          \n",
       "                                          \n",
       "       'Positive' Class : no              \n",
       "                                          "
      ]
     },
     "metadata": {},
     "output_type": "display_data"
    }
   ],
   "source": [
    "pred_log <- predict(log_fit, newdata = test_df)\n",
    "confusionMatrix(pred_log, test_df$y)"
   ]
  },
  {
   "cell_type": "code",
   "execution_count": 174,
   "id": "c4653a78",
   "metadata": {},
   "outputs": [
    {
     "data": {
      "text/plain": [
       "\n",
       "Call:\n",
       "NULL\n",
       "\n",
       "Deviance Residuals: \n",
       "    Min       1Q   Median       3Q      Max  \n",
       "-6.0022  -0.2984  -0.1855  -0.1344   3.3804  \n",
       "\n",
       "Coefficients: (1 not defined because of singularities)\n",
       "                               Estimate Std. Error z value Pr(>|z|)    \n",
       "(Intercept)                  -2.366e+02  3.831e+01  -6.176 6.56e-10 ***\n",
       "age                           1.966e-04  2.434e-03   0.081 0.935624    \n",
       "`jobblue-collar`             -2.347e-01  7.988e-02  -2.939 0.003295 ** \n",
       "jobentrepreneur              -1.780e-01  1.260e-01  -1.413 0.157566    \n",
       "jobhousemaid                 -2.432e-02  1.478e-01  -0.165 0.869320    \n",
       "jobmanagement                -5.614e-02  8.536e-02  -0.658 0.510710    \n",
       "jobretired                    2.858e-01  1.071e-01   2.669 0.007606 ** \n",
       "`jobself-employed`           -1.578e-01  1.178e-01  -1.340 0.180396    \n",
       "jobservices                  -1.399e-01  8.610e-02  -1.624 0.104286    \n",
       "jobstudent                    2.034e-01  1.115e-01   1.823 0.068230 .  \n",
       "jobtechnician                -1.401e-02  7.113e-02  -0.197 0.843838    \n",
       "jobunemployed                 2.116e-02  1.279e-01   0.165 0.868636    \n",
       "jobunknown                   -7.049e-02  2.386e-01  -0.295 0.767646    \n",
       "maritalmarried               -2.734e-03  6.854e-02  -0.040 0.968188    \n",
       "maritalsingle                 5.591e-02  7.826e-02   0.714 0.474969    \n",
       "maritalunknown                2.949e-02  4.167e-01   0.071 0.943587    \n",
       "educationbasic.6y             1.226e-01  1.206e-01   1.017 0.309241    \n",
       "educationbasic.9y            -9.772e-04  9.535e-02  -0.010 0.991823    \n",
       "educationhigh.school          4.861e-02  9.210e-02   0.528 0.597676    \n",
       "educationilliterate           1.067e+00  7.550e-01   1.413 0.157706    \n",
       "educationprofessional.course  1.150e-01  1.015e-01   1.133 0.257261    \n",
       "educationuniversity.degree    1.958e-01  9.220e-02   2.124 0.033667 *  \n",
       "educationunknown              1.497e-01  1.195e-01   1.253 0.210204    \n",
       "defaultunknown               -3.003e-01  6.740e-02  -4.456 8.36e-06 ***\n",
       "defaultyes                   -7.298e+00  1.134e+02  -0.064 0.948704    \n",
       "housingunknown               -9.331e-02  1.398e-01  -0.668 0.504354    \n",
       "housingyes                   -4.731e-03  4.135e-02  -0.114 0.908909    \n",
       "loanunknown                          NA         NA      NA       NA    \n",
       "loanyes                      -5.160e-02  5.747e-02  -0.898 0.369227    \n",
       "contacttelephone             -6.460e-01  7.688e-02  -8.402  < 2e-16 ***\n",
       "monthaug                      8.653e-01  1.206e-01   7.174 7.26e-13 ***\n",
       "monthdec                      3.192e-01  2.093e-01   1.525 0.127236    \n",
       "monthjul                      1.346e-01  9.630e-02   1.398 0.162205    \n",
       "monthjun                     -5.243e-01  1.262e-01  -4.154 3.27e-05 ***\n",
       "monthmar                      2.014e+00  1.444e-01  13.949  < 2e-16 ***\n",
       "monthmay                     -4.439e-01  8.261e-02  -5.373 7.74e-08 ***\n",
       "monthnov                     -4.180e-01  1.210e-01  -3.454 0.000552 ***\n",
       "monthoct                      1.940e-01  1.538e-01   1.262 0.207028    \n",
       "monthsep                      3.740e-01  1.795e-01   2.083 0.037226 *  \n",
       "day_of_weekmon               -1.168e-01  6.613e-02  -1.767 0.077304 .  \n",
       "day_of_weekthu                5.600e-02  6.409e-02   0.874 0.382274    \n",
       "day_of_weektue                9.719e-02  6.587e-02   1.476 0.140067    \n",
       "day_of_weekwed                1.753e-01  6.567e-02   2.669 0.007603 ** \n",
       "duration                      4.706e-03  7.457e-05  63.108  < 2e-16 ***\n",
       "campaign                     -4.015e-02  1.156e-02  -3.473 0.000514 ***\n",
       "pdays                        -9.388e-04  2.170e-04  -4.326 1.52e-05 ***\n",
       "previous                     -6.277e-02  5.912e-02  -1.062 0.288383    \n",
       "poutcomenonexistent           4.258e-01  9.423e-02   4.519 6.23e-06 ***\n",
       "poutcomesuccess               9.597e-01  2.115e-01   4.538 5.67e-06 ***\n",
       "emp.var.rate                 -1.758e+00  1.420e-01 -12.380  < 2e-16 ***\n",
       "cons.price.idx                2.190e+00  2.524e-01   8.679  < 2e-16 ***\n",
       "cons.conf.idx                 2.069e-02  7.768e-03   2.664 0.007733 ** \n",
       "euribor3m                     3.316e-01  1.300e-01   2.551 0.010737 *  \n",
       "nr.employed                   5.413e-03  3.115e-03   1.738 0.082275 .  \n",
       "---\n",
       "Signif. codes:  0 '***' 0.001 '**' 0.01 '*' 0.05 '.' 0.1 ' ' 1\n",
       "\n",
       "(Dispersion parameter for binomial family taken to be 1)\n",
       "\n",
       "    Null deviance: 28999  on 41187  degrees of freedom\n",
       "Residual deviance: 17078  on 41135  degrees of freedom\n",
       "AIC: 17184\n",
       "\n",
       "Number of Fisher Scoring iterations: 10\n"
      ]
     },
     "metadata": {},
     "output_type": "display_data"
    }
   ],
   "source": [
    " summary(log_fit)"
   ]
  },
  {
   "cell_type": "code",
   "execution_count": 171,
   "id": "a259333e",
   "metadata": {},
   "outputs": [
    {
     "name": "stdout",
     "output_type": "stream",
     "text": [
      "[1] \"Matrix de Confusão\"\n"
     ]
    },
    {
     "data": {
      "text/plain": [
       "          Reference\n",
       "Prediction   no  yes\n",
       "       no  3570  259\n",
       "       yes   98  192"
      ]
     },
     "metadata": {},
     "output_type": "display_data"
    }
   ],
   "source": [
    "tab <- confusionMatrix(pred_log, test_train_dfdf$y)$table\n",
    "print('Matrix de Confusão')\n",
    "tab"
   ]
  },
  {
   "cell_type": "code",
   "execution_count": 226,
   "id": "08560425",
   "metadata": {},
   "outputs": [],
   "source": [
    "#estimar a propensão a aderir\n",
    "fitted.results.tst.raw_treino <- predict(log_fit, \n",
    "                                  newdata = train_df, \n",
    "                                  type = 'prob')\n",
    "\n",
    "fitted.results.tst.raw_teste <- predict(log_fit, \n",
    "                                  newdata = test_df, \n",
    "                                  type = 'prob')\n",
    "\n"
   ]
  },
  {
   "cell_type": "code",
   "execution_count": 227,
   "id": "1106ea8f",
   "metadata": {},
   "outputs": [],
   "source": [
    "#insere no data frame\n",
    "train_df$prob_aderir <-fitted.results.tst.raw_treino$yes\n",
    "test_df$prob_aderir <-fitted.results.tst.raw_teste$yes"
   ]
  },
  {
   "cell_type": "code",
   "execution_count": 228,
   "id": "4641d55e",
   "metadata": {},
   "outputs": [
    {
     "data": {
      "text/html": [
       "<table>\n",
       "<thead><tr><th scope=col>age</th><th scope=col>job</th><th scope=col>marital</th><th scope=col>education</th><th scope=col>default</th><th scope=col>housing</th><th scope=col>loan</th><th scope=col>contact</th><th scope=col>month</th><th scope=col>day_of_week</th><th scope=col>...</th><th scope=col>pdays</th><th scope=col>previous</th><th scope=col>poutcome</th><th scope=col>emp.var.rate</th><th scope=col>cons.price.idx</th><th scope=col>cons.conf.idx</th><th scope=col>euribor3m</th><th scope=col>nr.employed</th><th scope=col>y</th><th scope=col>prob_aderir</th></tr></thead>\n",
       "<tbody>\n",
       "\t<tr><td>56         </td><td>housemaid  </td><td>married    </td><td>basic.4y   </td><td>no         </td><td>no         </td><td>no         </td><td>telephone  </td><td>may        </td><td>mon        </td><td>...        </td><td>999        </td><td>0          </td><td>nonexistent</td><td>1.1        </td><td>93.994     </td><td>-36.4      </td><td>4.857      </td><td>5191       </td><td>no         </td><td>0.014277524</td></tr>\n",
       "\t<tr><td>57         </td><td>services   </td><td>married    </td><td>high.school</td><td>unknown    </td><td>no         </td><td>no         </td><td>telephone  </td><td>may        </td><td>mon        </td><td>...        </td><td>999        </td><td>0          </td><td>nonexistent</td><td>1.1        </td><td>93.994     </td><td>-36.4      </td><td>4.857      </td><td>5191       </td><td>no         </td><td>0.005888432</td></tr>\n",
       "\t<tr><td>37         </td><td>services   </td><td>married    </td><td>high.school</td><td>no         </td><td>yes        </td><td>no         </td><td>telephone  </td><td>may        </td><td>mon        </td><td>...        </td><td>999        </td><td>0          </td><td>nonexistent</td><td>1.1        </td><td>93.994     </td><td>-36.4      </td><td>4.857      </td><td>5191       </td><td>no         </td><td>0.011263960</td></tr>\n",
       "\t<tr><td>40         </td><td>admin.     </td><td>married    </td><td>basic.6y   </td><td>no         </td><td>no         </td><td>no         </td><td>telephone  </td><td>may        </td><td>mon        </td><td>...        </td><td>999        </td><td>0          </td><td>nonexistent</td><td>1.1        </td><td>93.994     </td><td>-36.4      </td><td>4.857      </td><td>5191       </td><td>no         </td><td>0.009867516</td></tr>\n",
       "\t<tr><td>56         </td><td>services   </td><td>married    </td><td>high.school</td><td>no         </td><td>no         </td><td>yes        </td><td>telephone  </td><td>may        </td><td>mon        </td><td>...        </td><td>999        </td><td>0          </td><td>nonexistent</td><td>1.1        </td><td>93.994     </td><td>-36.4      </td><td>4.857      </td><td>5191       </td><td>no         </td><td>0.015723497</td></tr>\n",
       "</tbody>\n",
       "</table>\n"
      ],
      "text/latex": [
       "\\begin{tabular}{r|llllllllllllllllllllll}\n",
       " age & job & marital & education & default & housing & loan & contact & month & day\\_of\\_week & ... & pdays & previous & poutcome & emp.var.rate & cons.price.idx & cons.conf.idx & euribor3m & nr.employed & y & prob\\_aderir\\\\\n",
       "\\hline\n",
       "\t 56          & housemaid   & married     & basic.4y    & no          & no          & no          & telephone   & may         & mon         & ...         & 999         & 0           & nonexistent & 1.1         & 93.994      & -36.4       & 4.857       & 5191        & no          & 0.014277524\\\\\n",
       "\t 57          & services    & married     & high.school & unknown     & no          & no          & telephone   & may         & mon         & ...         & 999         & 0           & nonexistent & 1.1         & 93.994      & -36.4       & 4.857       & 5191        & no          & 0.005888432\\\\\n",
       "\t 37          & services    & married     & high.school & no          & yes         & no          & telephone   & may         & mon         & ...         & 999         & 0           & nonexistent & 1.1         & 93.994      & -36.4       & 4.857       & 5191        & no          & 0.011263960\\\\\n",
       "\t 40          & admin.      & married     & basic.6y    & no          & no          & no          & telephone   & may         & mon         & ...         & 999         & 0           & nonexistent & 1.1         & 93.994      & -36.4       & 4.857       & 5191        & no          & 0.009867516\\\\\n",
       "\t 56          & services    & married     & high.school & no          & no          & yes         & telephone   & may         & mon         & ...         & 999         & 0           & nonexistent & 1.1         & 93.994      & -36.4       & 4.857       & 5191        & no          & 0.015723497\\\\\n",
       "\\end{tabular}\n"
      ],
      "text/markdown": [
       "\n",
       "| age | job | marital | education | default | housing | loan | contact | month | day_of_week | ... | pdays | previous | poutcome | emp.var.rate | cons.price.idx | cons.conf.idx | euribor3m | nr.employed | y | prob_aderir |\n",
       "|---|---|---|---|---|---|---|---|---|---|---|---|---|---|---|---|---|---|---|---|---|\n",
       "| 56          | housemaid   | married     | basic.4y    | no          | no          | no          | telephone   | may         | mon         | ...         | 999         | 0           | nonexistent | 1.1         | 93.994      | -36.4       | 4.857       | 5191        | no          | 0.014277524 |\n",
       "| 57          | services    | married     | high.school | unknown     | no          | no          | telephone   | may         | mon         | ...         | 999         | 0           | nonexistent | 1.1         | 93.994      | -36.4       | 4.857       | 5191        | no          | 0.005888432 |\n",
       "| 37          | services    | married     | high.school | no          | yes         | no          | telephone   | may         | mon         | ...         | 999         | 0           | nonexistent | 1.1         | 93.994      | -36.4       | 4.857       | 5191        | no          | 0.011263960 |\n",
       "| 40          | admin.      | married     | basic.6y    | no          | no          | no          | telephone   | may         | mon         | ...         | 999         | 0           | nonexistent | 1.1         | 93.994      | -36.4       | 4.857       | 5191        | no          | 0.009867516 |\n",
       "| 56          | services    | married     | high.school | no          | no          | yes         | telephone   | may         | mon         | ...         | 999         | 0           | nonexistent | 1.1         | 93.994      | -36.4       | 4.857       | 5191        | no          | 0.015723497 |\n",
       "\n"
      ],
      "text/plain": [
       "  age job       marital education   default housing loan contact   month\n",
       "1 56  housemaid married basic.4y    no      no      no   telephone may  \n",
       "2 57  services  married high.school unknown no      no   telephone may  \n",
       "3 37  services  married high.school no      yes     no   telephone may  \n",
       "4 40  admin.    married basic.6y    no      no      no   telephone may  \n",
       "5 56  services  married high.school no      no      yes  telephone may  \n",
       "  day_of_week ... pdays previous poutcome    emp.var.rate cons.price.idx\n",
       "1 mon         ... 999   0        nonexistent 1.1          93.994        \n",
       "2 mon         ... 999   0        nonexistent 1.1          93.994        \n",
       "3 mon         ... 999   0        nonexistent 1.1          93.994        \n",
       "4 mon         ... 999   0        nonexistent 1.1          93.994        \n",
       "5 mon         ... 999   0        nonexistent 1.1          93.994        \n",
       "  cons.conf.idx euribor3m nr.employed y  prob_aderir\n",
       "1 -36.4         4.857     5191        no 0.014277524\n",
       "2 -36.4         4.857     5191        no 0.005888432\n",
       "3 -36.4         4.857     5191        no 0.011263960\n",
       "4 -36.4         4.857     5191        no 0.009867516\n",
       "5 -36.4         4.857     5191        no 0.015723497"
      ]
     },
     "metadata": {},
     "output_type": "display_data"
    }
   ],
   "source": [
    "head(train_df, n =5 )"
   ]
  },
  {
   "cell_type": "code",
   "execution_count": 229,
   "id": "264d683a",
   "metadata": {
    "scrolled": true
   },
   "outputs": [
    {
     "data": {
      "text/html": [
       "<table>\n",
       "<thead><tr><th scope=col>age</th><th scope=col>job</th><th scope=col>marital</th><th scope=col>education</th><th scope=col>default</th><th scope=col>housing</th><th scope=col>loan</th><th scope=col>contact</th><th scope=col>month</th><th scope=col>day_of_week</th><th scope=col>...</th><th scope=col>pdays</th><th scope=col>previous</th><th scope=col>poutcome</th><th scope=col>emp.var.rate</th><th scope=col>cons.price.idx</th><th scope=col>cons.conf.idx</th><th scope=col>euribor3m</th><th scope=col>nr.employed</th><th scope=col>y</th><th scope=col>prob_aderir</th></tr></thead>\n",
       "<tbody>\n",
       "\t<tr><td>30               </td><td>blue-collar      </td><td>married          </td><td>basic.9y         </td><td>no               </td><td>yes              </td><td>no               </td><td>cellular         </td><td>may              </td><td>fri              </td><td>...              </td><td>999              </td><td>0                </td><td>nonexistent      </td><td>-1.8             </td><td>92.893           </td><td>-46.2            </td><td>1.313            </td><td>5099.1           </td><td>no               </td><td>0.134758342      </td></tr>\n",
       "\t<tr><td>39               </td><td>services         </td><td>single           </td><td>high.school      </td><td>no               </td><td>no               </td><td>no               </td><td>telephone        </td><td>may              </td><td>fri              </td><td>...              </td><td>999              </td><td>0                </td><td>nonexistent      </td><td> 1.1             </td><td>93.994           </td><td>-36.4            </td><td>4.855            </td><td>5191.0           </td><td>no               </td><td>0.020824055      </td></tr>\n",
       "\t<tr><td>25               </td><td>services         </td><td>married          </td><td>high.school      </td><td>no               </td><td>yes              </td><td>no               </td><td>telephone        </td><td>jun              </td><td>wed              </td><td>...              </td><td>999              </td><td>0                </td><td>nonexistent      </td><td> 1.4             </td><td>94.465           </td><td>-41.8            </td><td>4.962            </td><td>5228.1           </td><td>no               </td><td>0.025769879      </td></tr>\n",
       "\t<tr><td>38               </td><td>services         </td><td>married          </td><td>basic.9y         </td><td>no               </td><td>unknown          </td><td>unknown          </td><td>telephone        </td><td>jun              </td><td>fri              </td><td>...              </td><td>999              </td><td>0                </td><td>nonexistent      </td><td> 1.4             </td><td>94.465           </td><td>-41.8            </td><td>4.959            </td><td>5228.1           </td><td>no               </td><td>0.006607435      </td></tr>\n",
       "\t<tr><td>47               </td><td>admin.           </td><td>married          </td><td>university.degree</td><td>no               </td><td>yes              </td><td>no               </td><td>cellular         </td><td>nov              </td><td>mon              </td><td>...              </td><td>999              </td><td>0                </td><td>nonexistent      </td><td>-0.1             </td><td>93.200           </td><td>-42.0            </td><td>4.191            </td><td>5195.8           </td><td>no               </td><td>0.014128692      </td></tr>\n",
       "</tbody>\n",
       "</table>\n"
      ],
      "text/latex": [
       "\\begin{tabular}{r|llllllllllllllllllllll}\n",
       " age & job & marital & education & default & housing & loan & contact & month & day\\_of\\_week & ... & pdays & previous & poutcome & emp.var.rate & cons.price.idx & cons.conf.idx & euribor3m & nr.employed & y & prob\\_aderir\\\\\n",
       "\\hline\n",
       "\t 30                & blue-collar       & married           & basic.9y          & no                & yes               & no                & cellular          & may               & fri               & ...               & 999               & 0                 & nonexistent       & -1.8              & 92.893            & -46.2             & 1.313             & 5099.1            & no                & 0.134758342      \\\\\n",
       "\t 39                & services          & single            & high.school       & no                & no                & no                & telephone         & may               & fri               & ...               & 999               & 0                 & nonexistent       &  1.1              & 93.994            & -36.4             & 4.855             & 5191.0            & no                & 0.020824055      \\\\\n",
       "\t 25                & services          & married           & high.school       & no                & yes               & no                & telephone         & jun               & wed               & ...               & 999               & 0                 & nonexistent       &  1.4              & 94.465            & -41.8             & 4.962             & 5228.1            & no                & 0.025769879      \\\\\n",
       "\t 38                & services          & married           & basic.9y          & no                & unknown           & unknown           & telephone         & jun               & fri               & ...               & 999               & 0                 & nonexistent       &  1.4              & 94.465            & -41.8             & 4.959             & 5228.1            & no                & 0.006607435      \\\\\n",
       "\t 47                & admin.            & married           & university.degree & no                & yes               & no                & cellular          & nov               & mon               & ...               & 999               & 0                 & nonexistent       & -0.1              & 93.200            & -42.0             & 4.191             & 5195.8            & no                & 0.014128692      \\\\\n",
       "\\end{tabular}\n"
      ],
      "text/markdown": [
       "\n",
       "| age | job | marital | education | default | housing | loan | contact | month | day_of_week | ... | pdays | previous | poutcome | emp.var.rate | cons.price.idx | cons.conf.idx | euribor3m | nr.employed | y | prob_aderir |\n",
       "|---|---|---|---|---|---|---|---|---|---|---|---|---|---|---|---|---|---|---|---|---|\n",
       "| 30                | blue-collar       | married           | basic.9y          | no                | yes               | no                | cellular          | may               | fri               | ...               | 999               | 0                 | nonexistent       | -1.8              | 92.893            | -46.2             | 1.313             | 5099.1            | no                | 0.134758342       |\n",
       "| 39                | services          | single            | high.school       | no                | no                | no                | telephone         | may               | fri               | ...               | 999               | 0                 | nonexistent       |  1.1              | 93.994            | -36.4             | 4.855             | 5191.0            | no                | 0.020824055       |\n",
       "| 25                | services          | married           | high.school       | no                | yes               | no                | telephone         | jun               | wed               | ...               | 999               | 0                 | nonexistent       |  1.4              | 94.465            | -41.8             | 4.962             | 5228.1            | no                | 0.025769879       |\n",
       "| 38                | services          | married           | basic.9y          | no                | unknown           | unknown           | telephone         | jun               | fri               | ...               | 999               | 0                 | nonexistent       |  1.4              | 94.465            | -41.8             | 4.959             | 5228.1            | no                | 0.006607435       |\n",
       "| 47                | admin.            | married           | university.degree | no                | yes               | no                | cellular          | nov               | mon               | ...               | 999               | 0                 | nonexistent       | -0.1              | 93.200            | -42.0             | 4.191             | 5195.8            | no                | 0.014128692       |\n",
       "\n"
      ],
      "text/plain": [
       "  age job         marital education         default housing loan    contact  \n",
       "1 30  blue-collar married basic.9y          no      yes     no      cellular \n",
       "2 39  services    single  high.school       no      no      no      telephone\n",
       "3 25  services    married high.school       no      yes     no      telephone\n",
       "4 38  services    married basic.9y          no      unknown unknown telephone\n",
       "5 47  admin.      married university.degree no      yes     no      cellular \n",
       "  month day_of_week ... pdays previous poutcome    emp.var.rate cons.price.idx\n",
       "1 may   fri         ... 999   0        nonexistent -1.8         92.893        \n",
       "2 may   fri         ... 999   0        nonexistent  1.1         93.994        \n",
       "3 jun   wed         ... 999   0        nonexistent  1.4         94.465        \n",
       "4 jun   fri         ... 999   0        nonexistent  1.4         94.465        \n",
       "5 nov   mon         ... 999   0        nonexistent -0.1         93.200        \n",
       "  cons.conf.idx euribor3m nr.employed y  prob_aderir\n",
       "1 -46.2         1.313     5099.1      no 0.134758342\n",
       "2 -36.4         4.855     5191.0      no 0.020824055\n",
       "3 -41.8         4.962     5228.1      no 0.025769879\n",
       "4 -41.8         4.959     5228.1      no 0.006607435\n",
       "5 -42.0         4.191     5195.8      no 0.014128692"
      ]
     },
     "metadata": {},
     "output_type": "display_data"
    }
   ],
   "source": [
    "head(test_df, n =5 )"
   ]
  },
  {
   "cell_type": "code",
   "execution_count": 241,
   "id": "edf9cadb",
   "metadata": {},
   "outputs": [],
   "source": [
    "full_df<- rbind(test_df ,train_df)\n"
   ]
  },
  {
   "cell_type": "code",
   "execution_count": 247,
   "id": "7d3af102",
   "metadata": {},
   "outputs": [],
   "source": [
    "#salvando o arquivo Csv\n",
    "write.csv2(full_df,'C:\\\\Users\\\\Pichau\\\\Documents\\\\Trabalho R\\\\r_works\\\\full_df.csv' ) "
   ]
  },
  {
   "cell_type": "code",
   "execution_count": null,
   "id": "6a060ef0",
   "metadata": {},
   "outputs": [],
   "source": [
    "scatterplot()"
   ]
  },
  {
   "cell_type": "markdown",
   "id": "68826b29",
   "metadata": {},
   "source": [
    "## 4) Apresentar as conclusões da análise realizada."
   ]
  },
  {
   "cell_type": "code",
   "execution_count": null,
   "id": "5183bebe",
   "metadata": {},
   "outputs": [],
   "source": []
  },
  {
   "cell_type": "code",
   "execution_count": null,
   "id": "cb73173e",
   "metadata": {},
   "outputs": [],
   "source": []
  }
 ],
 "metadata": {
  "kernelspec": {
   "display_name": "R",
   "language": "R",
   "name": "ir"
  },
  "language_info": {
   "codemirror_mode": "r",
   "file_extension": ".r",
   "mimetype": "text/x-r-source",
   "name": "R",
   "pygments_lexer": "r",
   "version": "3.6.1"
  }
 },
 "nbformat": 4,
 "nbformat_minor": 5
}
