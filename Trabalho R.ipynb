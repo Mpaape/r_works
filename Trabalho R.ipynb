{
 "cells": [
  {
   "cell_type": "markdown",
   "id": "d24249d2",
   "metadata": {},
   "source": [
    "INSTITUTO INFNET \\\n",
    "MIT BIG DATA\\\n",
    "Big Data Analytics com R\\\n",
    "Prof.: Cassius Figueiredo\\\n",
    "Alunos : Mateus Magnus Paape, Kelvin Spaler, Felipe Delamar\\\n",
    "AVALIAÇÃO FINAL\\"
   ]
  },
  {
   "cell_type": "markdown",
   "id": "54c424da",
   "metadata": {},
   "source": [
    "\n",
    "\n",
    "#### INSTRUÇÕES\n",
    "\n",
    "Cada grupo deve preparar uma apresentação contendo:\n",
    "\n",
    "##### 1) Apresentação dos conjuntos de dados definidos e, para cada um deles,apresentar as características principais do problema:\n",
    "\n",
    "* 1.1) Descrição sucinta da aplicação;\n",
    "* 1.2) Tipo de problema (classificação ou regressão). Cada base inclui uma proposta de pergunta que deverá ser o foco do trabalho com o conjunto de dados;\n",
    "* 1.3) Número de variáveis e de registros;\n",
    "* 1.4) Existência de valores ausentes. Caso existam, como trataram?\n",
    "\n",
    "##### 2) Realizar a análise exploratória dos dados e discutir:\n",
    "\n",
    "* 2.1) Estatísticas básicas: mínimos, máximos, médias, desvios, etc. de cadavariável;\n",
    "* 2.2) Avaliar os histogramas e as características das distribuições das variáveis;\n",
    "* 2.3) Verificar a existência de outliers e decidir o que fazer com eles;\n",
    "* 2.4) Verificar correlações.\n",
    "\n",
    "##### 3) Aplicar um modelo (visto em aula ou não) para entregar uma respostaembasada à pergunta apresentada. Documentar a aplicação do modelo.\n",
    "\n",
    "##### 4) Apresentar as conclusões da análise realizada."
   ]
  },
  {
   "cell_type": "markdown",
   "id": "021ae270",
   "metadata": {},
   "source": [
    "## 1) Apresentação dos conjuntos de dados definidos e, para cada um deles,apresentar as características principais do problema:"
   ]
  },
  {
   "cell_type": "markdown",
   "id": "ca689fd3",
   "metadata": {},
   "source": [
    " ### bank client data:\n",
    " \n",
    "   - age (numeric)\n",
    "   - job : type of job (categorical: \"admin.\",\"blue-collar\",\"entrepreneur\",\"housemaid\",\"management\",\"retired\",\"self-employed\",\"services\",\"student\",\"technician\",\"unemployed\",\"unknown\")\n",
    "   - marital : marital status (categorical: \"divorced\",\"married\",\"single\",\"unknown\"; note: \"divorced\" means divorced or widowed)\n",
    "   - education (categorical: \"basic.4y\",\"basic.6y\",\"basic.9y\",\"high.school\",\"illiterate\",\"professional.course\",\"university.degree\",\"unknown\")\n",
    "   - default: has credit in default? (categorical: \"no\",\"yes\",\"unknown\")\n",
    "   - housing: has housing loan? (categorical: \"no\",\"yes\",\"unknown\")\n",
    "   - loan: has personal loan? (categorical: \"no\",\"yes\",\"unknown\")\n",
    "   \n",
    "   ### related with the last contact of the current campaign:\n",
    "   \n",
    "   - contact: contact communication type (categorical: \"cellular\",\"telephone\") \n",
    "   - month: last contact month of year (categorical: \"jan\", \"feb\", \"mar\", ..., \"nov\", \"dec\")\n",
    "   - day_of_week: last contact day of the week (categorical: \"mon\",\"tue\",\"wed\",\"thu\",\"fri\")\n",
    "   - duration: last contact duration, in seconds (numeric). Important note:  this attribute highly affects the output target (e.g., if duration=0 then y=\"no\"). Yet, the duration is not known before a call is performed. Also, after the end of the call y is obviously known. Thus, this input should only be included for benchmark purposes and should be discarded if the intention is to have a realistic predictive model.\n",
    "  \n",
    "   ### other attributes:\n",
    "   \n",
    "   - campaign: number of contacts performed during this campaign and for this client (numeric, includes last contact)\n",
    "   - pdays: number of days that passed by after the client was last contacted from a previous campaign (numeric; 999 means client was not previously contacted)\n",
    "   - previous: number of contacts performed before this campaign and for this client (numeric)\n",
    "   - poutcome: outcome of the previous marketing campaign (categorical: \"failure\",\"nonexistent\",\"success\")\n",
    "  \n",
    " ### social and economic context attributes\n",
    " \n",
    "  - emp.var.rate: employment variation rate - quarterly indicator (numeric)\n",
    "  - cons.price.idx: consumer price index - monthly indicator (numeric)     \n",
    "  - cons.conf.idx: consumer confidence index - monthly indicator (numeric)     \n",
    "  - euribor3m: euribor 3 month rate - daily indicator (numeric)\n",
    "  - nr.employed: number of employees - quarterly indicator (numeric)\n",
    "\n",
    "  Output variable (desired target):\n",
    "  - y - has the client subscribed a term deposit? (binary: \"yes\",\"no\")\n",
    "\n",
    "- Missing Attribute Values: There are several missing values in some categorical attributes, all coded with the \"unknown\" label. These missing values can be treated as a possible class label or using deletion or imputation techniques. \n"
   ]
  },
  {
   "cell_type": "markdown",
   "id": "52d58ed6",
   "metadata": {},
   "source": [
    "#### Bibliotecas Utilizadas"
   ]
  },
  {
   "cell_type": "code",
   "execution_count": 349,
   "id": "f9e2772a",
   "metadata": {},
   "outputs": [],
   "source": [
    "#suprimindo warnning\n",
    "oldw <- getOption(\"warn\")\n",
    "options(warn = -1)\n",
    "#graficos\n",
    "library(ggplot2)\n",
    "library(corrplot)\n",
    "library(psych)\n",
    "#seleções e manipulações de dados\n",
    "library(dplyr)\n",
    "library(psych)\n",
    "#amostragem aleatoria \n",
    "library(ROSE)\n",
    "#modelagem\n",
    "library(caret)\n",
    "library(e1071)"
   ]
  },
  {
   "cell_type": "markdown",
   "id": "5e8bd5c0",
   "metadata": {},
   "source": [
    "## 1) Apresentação dos conjuntos de dados definidos e, para cada um deles,apresentar as características principais do problema:"
   ]
  },
  {
   "cell_type": "markdown",
   "id": "90b2316f",
   "metadata": {},
   "source": [
    "### 1.1) Descrição sucinta da aplicação;"
   ]
  },
  {
   "cell_type": "markdown",
   "id": "6ce7d0c8",
   "metadata": {},
   "source": [
    "- O Dataset:\n",
    "\n",
    "O dataset reune contatos feitos durante uma campanha de marketing por telefone conduzida  por Banco Português com o objetivo de converter a adesão do cliente a investir em depósito a termo.\n",
    "\n",
    "- O objetivo da Aplicação:\n",
    "\n",
    "Estimar a propensão dos clientes, dado os dados conhecidos, à adesão do produto."
   ]
  },
  {
   "cell_type": "markdown",
   "id": "449dd749",
   "metadata": {},
   "source": [
    "### 1.2) Tipo de problema (classificação ou regressão). Cada base inclui uma proposta de pergunta que deverá ser o foco do trabalho com o conjunto de dados"
   ]
  },
  {
   "cell_type": "markdown",
   "id": "2408884f",
   "metadata": {},
   "source": [
    "O problema é um problema de Regressão, poís é pedido a estimativa da propensão do cliente a aderir(variável contínua). Embora seja de nosso conhecimento que a regressão logistica é amplamente utilizada em problemas de classificação e durante fases desse trabalho obteremos para fim de mensuração do modelo classificações também."
   ]
  },
  {
   "cell_type": "markdown",
   "id": "0d309746",
   "metadata": {},
   "source": [
    "### 1.3) Número de variáveis e de registros;"
   ]
  },
  {
   "cell_type": "code",
   "execution_count": 509,
   "id": "99605741",
   "metadata": {},
   "outputs": [],
   "source": [
    "setwd(\"C:\\\\Users\\\\Pichau\\\\Documents\\\\Trabalho R\\\\r_works\")\n",
    "\n",
    "#APRESENTACAO DOS DADOS \n",
    "train_df=read.csv2(\"bank-additional-full.csv\",sep = ';', dec= '.')\n",
    "test_df=read.csv2(\"bank-additional.csv\",sep = ';',dec= '.')\n"
   ]
  },
  {
   "cell_type": "code",
   "execution_count": 351,
   "id": "dfbf3a6d",
   "metadata": {},
   "outputs": [
    {
     "name": "stdout",
     "output_type": "stream",
     "text": [
      "[1] \"o número de linhas do dataframe é :\"\n",
      " int 41188\n",
      "NULL\n",
      "[1] \"o número de colunas do dataframe é :\"\n",
      " int 21\n",
      "NULL\n"
     ]
    }
   ],
   "source": [
    "#numero de variaves e registros\n",
    "\n",
    "print('o número de linhas do dataframe é :')\n",
    "print(str(nrow(train_df)))\n",
    "\n",
    "\n",
    "print('o número de colunas do dataframe é :')\n",
    "print(str(ncol(train_df)))\n",
    " \n",
    " "
   ]
  },
  {
   "cell_type": "code",
   "execution_count": 352,
   "id": "5b5f73e0",
   "metadata": {},
   "outputs": [
    {
     "name": "stdout",
     "output_type": "stream",
     "text": [
      "[1] \"o número de linhas do dataframe é :\"\n",
      " int 4119\n",
      "NULL\n",
      "[1] \"o número de colunas do dataframe é :\"\n",
      " int 21\n",
      "NULL\n"
     ]
    }
   ],
   "source": [
    "#numero de variaves e registros\n",
    "\n",
    "print('o número de linhas do dataframe é :')\n",
    "print(str(nrow(test_df)))\n",
    "\n",
    "\n",
    "print('o número de colunas do dataframe é :')\n",
    "print(str(ncol(test_df)))\n",
    " "
   ]
  },
  {
   "cell_type": "code",
   "execution_count": 353,
   "id": "b2ccf36f",
   "metadata": {},
   "outputs": [
    {
     "data": {
      "text/html": [
       "<style>\n",
       ".list-inline {list-style: none; margin:0; padding: 0}\n",
       ".list-inline>li {display: inline-block}\n",
       ".list-inline>li:not(:last-child)::after {content: \"\\00b7\"; padding: 0 .5ex}\n",
       "</style>\n",
       "<ol class=list-inline><li>'age'</li><li>'job'</li><li>'marital'</li><li>'education'</li><li>'default'</li><li>'housing'</li><li>'loan'</li><li>'contact'</li><li>'month'</li><li>'day_of_week'</li><li>'duration'</li><li>'campaign'</li><li>'pdays'</li><li>'previous'</li><li>'poutcome'</li><li>'emp.var.rate'</li><li>'cons.price.idx'</li><li>'cons.conf.idx'</li><li>'euribor3m'</li><li>'nr.employed'</li><li>'y'</li></ol>\n"
      ],
      "text/latex": [
       "\\begin{enumerate*}\n",
       "\\item 'age'\n",
       "\\item 'job'\n",
       "\\item 'marital'\n",
       "\\item 'education'\n",
       "\\item 'default'\n",
       "\\item 'housing'\n",
       "\\item 'loan'\n",
       "\\item 'contact'\n",
       "\\item 'month'\n",
       "\\item 'day\\_of\\_week'\n",
       "\\item 'duration'\n",
       "\\item 'campaign'\n",
       "\\item 'pdays'\n",
       "\\item 'previous'\n",
       "\\item 'poutcome'\n",
       "\\item 'emp.var.rate'\n",
       "\\item 'cons.price.idx'\n",
       "\\item 'cons.conf.idx'\n",
       "\\item 'euribor3m'\n",
       "\\item 'nr.employed'\n",
       "\\item 'y'\n",
       "\\end{enumerate*}\n"
      ],
      "text/markdown": [
       "1. 'age'\n",
       "2. 'job'\n",
       "3. 'marital'\n",
       "4. 'education'\n",
       "5. 'default'\n",
       "6. 'housing'\n",
       "7. 'loan'\n",
       "8. 'contact'\n",
       "9. 'month'\n",
       "10. 'day_of_week'\n",
       "11. 'duration'\n",
       "12. 'campaign'\n",
       "13. 'pdays'\n",
       "14. 'previous'\n",
       "15. 'poutcome'\n",
       "16. 'emp.var.rate'\n",
       "17. 'cons.price.idx'\n",
       "18. 'cons.conf.idx'\n",
       "19. 'euribor3m'\n",
       "20. 'nr.employed'\n",
       "21. 'y'\n",
       "\n",
       "\n"
      ],
      "text/plain": [
       " [1] \"age\"            \"job\"            \"marital\"        \"education\"     \n",
       " [5] \"default\"        \"housing\"        \"loan\"           \"contact\"       \n",
       " [9] \"month\"          \"day_of_week\"    \"duration\"       \"campaign\"      \n",
       "[13] \"pdays\"          \"previous\"       \"poutcome\"       \"emp.var.rate\"  \n",
       "[17] \"cons.price.idx\" \"cons.conf.idx\"  \"euribor3m\"      \"nr.employed\"   \n",
       "[21] \"y\"             "
      ]
     },
     "metadata": {},
     "output_type": "display_data"
    }
   ],
   "source": [
    "#colunas do dataset\n",
    "names(train_df)"
   ]
  },
  {
   "cell_type": "code",
   "execution_count": 354,
   "id": "e66b1448",
   "metadata": {},
   "outputs": [
    {
     "name": "stdout",
     "output_type": "stream",
     "text": [
      "'data.frame':\t41188 obs. of  21 variables:\n",
      " $ age           : int  56 57 37 40 56 45 59 41 24 25 ...\n",
      " $ job           : Factor w/ 12 levels \"admin.\",\"blue-collar\",..: 4 8 8 1 8 8 1 2 10 8 ...\n",
      " $ marital       : Factor w/ 4 levels \"divorced\",\"married\",..: 2 2 2 2 2 2 2 2 3 3 ...\n",
      " $ education     : Factor w/ 8 levels \"basic.4y\",\"basic.6y\",..: 1 4 4 2 4 3 6 8 6 4 ...\n",
      " $ default       : Factor w/ 3 levels \"no\",\"unknown\",..: 1 2 1 1 1 2 1 2 1 1 ...\n",
      " $ housing       : Factor w/ 3 levels \"no\",\"unknown\",..: 1 1 3 1 1 1 1 1 3 3 ...\n",
      " $ loan          : Factor w/ 3 levels \"no\",\"unknown\",..: 1 1 1 1 3 1 1 1 1 1 ...\n",
      " $ contact       : Factor w/ 2 levels \"cellular\",\"telephone\": 2 2 2 2 2 2 2 2 2 2 ...\n",
      " $ month         : Factor w/ 10 levels \"apr\",\"aug\",\"dec\",..: 7 7 7 7 7 7 7 7 7 7 ...\n",
      " $ day_of_week   : Factor w/ 5 levels \"fri\",\"mon\",\"thu\",..: 2 2 2 2 2 2 2 2 2 2 ...\n",
      " $ duration      : int  261 149 226 151 307 198 139 217 380 50 ...\n",
      " $ campaign      : int  1 1 1 1 1 1 1 1 1 1 ...\n",
      " $ pdays         : int  999 999 999 999 999 999 999 999 999 999 ...\n",
      " $ previous      : int  0 0 0 0 0 0 0 0 0 0 ...\n",
      " $ poutcome      : Factor w/ 3 levels \"failure\",\"nonexistent\",..: 2 2 2 2 2 2 2 2 2 2 ...\n",
      " $ emp.var.rate  : num  1.1 1.1 1.1 1.1 1.1 1.1 1.1 1.1 1.1 1.1 ...\n",
      " $ cons.price.idx: num  94 94 94 94 94 ...\n",
      " $ cons.conf.idx : num  -36.4 -36.4 -36.4 -36.4 -36.4 -36.4 -36.4 -36.4 -36.4 -36.4 ...\n",
      " $ euribor3m     : num  4.86 4.86 4.86 4.86 4.86 ...\n",
      " $ nr.employed   : num  5191 5191 5191 5191 5191 ...\n",
      " $ y             : Factor w/ 2 levels \"no\",\"yes\": 1 1 1 1 1 1 1 1 1 1 ...\n",
      "'data.frame':\t4119 obs. of  21 variables:\n",
      " $ age           : int  30 39 25 38 47 32 32 41 31 35 ...\n",
      " $ job           : Factor w/ 12 levels \"admin.\",\"blue-collar\",..: 2 8 8 8 1 8 1 3 8 2 ...\n",
      " $ marital       : Factor w/ 4 levels \"divorced\",\"married\",..: 2 3 2 2 2 3 3 2 1 2 ...\n",
      " $ education     : Factor w/ 8 levels \"basic.4y\",\"basic.6y\",..: 3 4 4 3 7 7 7 7 6 3 ...\n",
      " $ default       : Factor w/ 3 levels \"no\",\"unknown\",..: 1 1 1 1 1 1 1 2 1 2 ...\n",
      " $ housing       : Factor w/ 3 levels \"no\",\"unknown\",..: 3 1 3 2 3 1 3 3 1 1 ...\n",
      " $ loan          : Factor w/ 3 levels \"no\",\"unknown\",..: 1 1 1 2 1 1 1 1 1 1 ...\n",
      " $ contact       : Factor w/ 2 levels \"cellular\",\"telephone\": 1 2 2 2 1 1 1 1 1 2 ...\n",
      " $ month         : Factor w/ 10 levels \"apr\",\"aug\",\"dec\",..: 7 7 5 5 8 10 10 8 8 7 ...\n",
      " $ day_of_week   : Factor w/ 5 levels \"fri\",\"mon\",\"thu\",..: 1 1 5 1 2 3 2 2 4 3 ...\n",
      " $ duration      : int  487 346 227 17 58 128 290 44 68 170 ...\n",
      " $ campaign      : int  2 4 1 3 1 3 4 2 1 1 ...\n",
      " $ pdays         : int  999 999 999 999 999 999 999 999 999 999 ...\n",
      " $ previous      : int  0 0 0 0 0 2 0 0 1 0 ...\n",
      " $ poutcome      : Factor w/ 3 levels \"failure\",\"nonexistent\",..: 2 2 2 2 2 1 2 2 1 2 ...\n",
      " $ emp.var.rate  : num  -1.8 1.1 1.4 1.4 -0.1 -1.1 -1.1 -0.1 -0.1 1.1 ...\n",
      " $ cons.price.idx: num  92.9 94 94.5 94.5 93.2 ...\n",
      " $ cons.conf.idx : num  -46.2 -36.4 -41.8 -41.8 -42 -37.5 -37.5 -42 -42 -36.4 ...\n",
      " $ euribor3m     : num  1.31 4.86 4.96 4.96 4.19 ...\n",
      " $ nr.employed   : num  5099 5191 5228 5228 5196 ...\n",
      " $ y             : Factor w/ 2 levels \"no\",\"yes\": 1 1 1 1 1 1 1 1 1 1 ...\n"
     ]
    }
   ],
   "source": [
    "str(train_df)\n",
    "str(test_df)"
   ]
  },
  {
   "cell_type": "code",
   "execution_count": 355,
   "id": "af92f26a",
   "metadata": {
    "scrolled": true
   },
   "outputs": [
    {
     "data": {
      "text/html": [
       "<table class=\"dataframe\">\n",
       "<caption>A data.frame: 5 × 21</caption>\n",
       "<thead>\n",
       "\t<tr><th></th><th scope=col>age</th><th scope=col>job</th><th scope=col>marital</th><th scope=col>education</th><th scope=col>default</th><th scope=col>housing</th><th scope=col>loan</th><th scope=col>contact</th><th scope=col>month</th><th scope=col>day_of_week</th><th scope=col>...</th><th scope=col>campaign</th><th scope=col>pdays</th><th scope=col>previous</th><th scope=col>poutcome</th><th scope=col>emp.var.rate</th><th scope=col>cons.price.idx</th><th scope=col>cons.conf.idx</th><th scope=col>euribor3m</th><th scope=col>nr.employed</th><th scope=col>y</th></tr>\n",
       "\t<tr><th></th><th scope=col>&lt;int&gt;</th><th scope=col>&lt;fct&gt;</th><th scope=col>&lt;fct&gt;</th><th scope=col>&lt;fct&gt;</th><th scope=col>&lt;fct&gt;</th><th scope=col>&lt;fct&gt;</th><th scope=col>&lt;fct&gt;</th><th scope=col>&lt;fct&gt;</th><th scope=col>&lt;fct&gt;</th><th scope=col>&lt;fct&gt;</th><th scope=col>...</th><th scope=col>&lt;int&gt;</th><th scope=col>&lt;int&gt;</th><th scope=col>&lt;int&gt;</th><th scope=col>&lt;fct&gt;</th><th scope=col>&lt;dbl&gt;</th><th scope=col>&lt;dbl&gt;</th><th scope=col>&lt;dbl&gt;</th><th scope=col>&lt;dbl&gt;</th><th scope=col>&lt;dbl&gt;</th><th scope=col>&lt;fct&gt;</th></tr>\n",
       "</thead>\n",
       "<tbody>\n",
       "\t<tr><th scope=row>1</th><td>56</td><td>housemaid</td><td>married</td><td>basic.4y   </td><td>no     </td><td>no </td><td>no </td><td>telephone</td><td>may</td><td>mon</td><td>...</td><td>1</td><td>999</td><td>0</td><td>nonexistent</td><td>1.1</td><td>93.994</td><td>-36.4</td><td>4.857</td><td>5191</td><td>no</td></tr>\n",
       "\t<tr><th scope=row>2</th><td>57</td><td>services </td><td>married</td><td>high.school</td><td>unknown</td><td>no </td><td>no </td><td>telephone</td><td>may</td><td>mon</td><td>...</td><td>1</td><td>999</td><td>0</td><td>nonexistent</td><td>1.1</td><td>93.994</td><td>-36.4</td><td>4.857</td><td>5191</td><td>no</td></tr>\n",
       "\t<tr><th scope=row>3</th><td>37</td><td>services </td><td>married</td><td>high.school</td><td>no     </td><td>yes</td><td>no </td><td>telephone</td><td>may</td><td>mon</td><td>...</td><td>1</td><td>999</td><td>0</td><td>nonexistent</td><td>1.1</td><td>93.994</td><td>-36.4</td><td>4.857</td><td>5191</td><td>no</td></tr>\n",
       "\t<tr><th scope=row>4</th><td>40</td><td>admin.   </td><td>married</td><td>basic.6y   </td><td>no     </td><td>no </td><td>no </td><td>telephone</td><td>may</td><td>mon</td><td>...</td><td>1</td><td>999</td><td>0</td><td>nonexistent</td><td>1.1</td><td>93.994</td><td>-36.4</td><td>4.857</td><td>5191</td><td>no</td></tr>\n",
       "\t<tr><th scope=row>5</th><td>56</td><td>services </td><td>married</td><td>high.school</td><td>no     </td><td>no </td><td>yes</td><td>telephone</td><td>may</td><td>mon</td><td>...</td><td>1</td><td>999</td><td>0</td><td>nonexistent</td><td>1.1</td><td>93.994</td><td>-36.4</td><td>4.857</td><td>5191</td><td>no</td></tr>\n",
       "</tbody>\n",
       "</table>\n"
      ],
      "text/latex": [
       "A data.frame: 5 × 21\n",
       "\\begin{tabular}{r|lllllllllllllllllllll}\n",
       "  & age & job & marital & education & default & housing & loan & contact & month & day\\_of\\_week & ... & campaign & pdays & previous & poutcome & emp.var.rate & cons.price.idx & cons.conf.idx & euribor3m & nr.employed & y\\\\\n",
       "  & <int> & <fct> & <fct> & <fct> & <fct> & <fct> & <fct> & <fct> & <fct> & <fct> & ... & <int> & <int> & <int> & <fct> & <dbl> & <dbl> & <dbl> & <dbl> & <dbl> & <fct>\\\\\n",
       "\\hline\n",
       "\t1 & 56 & housemaid & married & basic.4y    & no      & no  & no  & telephone & may & mon & ... & 1 & 999 & 0 & nonexistent & 1.1 & 93.994 & -36.4 & 4.857 & 5191 & no\\\\\n",
       "\t2 & 57 & services  & married & high.school & unknown & no  & no  & telephone & may & mon & ... & 1 & 999 & 0 & nonexistent & 1.1 & 93.994 & -36.4 & 4.857 & 5191 & no\\\\\n",
       "\t3 & 37 & services  & married & high.school & no      & yes & no  & telephone & may & mon & ... & 1 & 999 & 0 & nonexistent & 1.1 & 93.994 & -36.4 & 4.857 & 5191 & no\\\\\n",
       "\t4 & 40 & admin.    & married & basic.6y    & no      & no  & no  & telephone & may & mon & ... & 1 & 999 & 0 & nonexistent & 1.1 & 93.994 & -36.4 & 4.857 & 5191 & no\\\\\n",
       "\t5 & 56 & services  & married & high.school & no      & no  & yes & telephone & may & mon & ... & 1 & 999 & 0 & nonexistent & 1.1 & 93.994 & -36.4 & 4.857 & 5191 & no\\\\\n",
       "\\end{tabular}\n"
      ],
      "text/markdown": [
       "\n",
       "A data.frame: 5 × 21\n",
       "\n",
       "| <!--/--> | age &lt;int&gt; | job &lt;fct&gt; | marital &lt;fct&gt; | education &lt;fct&gt; | default &lt;fct&gt; | housing &lt;fct&gt; | loan &lt;fct&gt; | contact &lt;fct&gt; | month &lt;fct&gt; | day_of_week &lt;fct&gt; | ... ... | campaign &lt;int&gt; | pdays &lt;int&gt; | previous &lt;int&gt; | poutcome &lt;fct&gt; | emp.var.rate &lt;dbl&gt; | cons.price.idx &lt;dbl&gt; | cons.conf.idx &lt;dbl&gt; | euribor3m &lt;dbl&gt; | nr.employed &lt;dbl&gt; | y &lt;fct&gt; |\n",
       "|---|---|---|---|---|---|---|---|---|---|---|---|---|---|---|---|---|---|---|---|---|---|\n",
       "| 1 | 56 | housemaid | married | basic.4y    | no      | no  | no  | telephone | may | mon | ... | 1 | 999 | 0 | nonexistent | 1.1 | 93.994 | -36.4 | 4.857 | 5191 | no |\n",
       "| 2 | 57 | services  | married | high.school | unknown | no  | no  | telephone | may | mon | ... | 1 | 999 | 0 | nonexistent | 1.1 | 93.994 | -36.4 | 4.857 | 5191 | no |\n",
       "| 3 | 37 | services  | married | high.school | no      | yes | no  | telephone | may | mon | ... | 1 | 999 | 0 | nonexistent | 1.1 | 93.994 | -36.4 | 4.857 | 5191 | no |\n",
       "| 4 | 40 | admin.    | married | basic.6y    | no      | no  | no  | telephone | may | mon | ... | 1 | 999 | 0 | nonexistent | 1.1 | 93.994 | -36.4 | 4.857 | 5191 | no |\n",
       "| 5 | 56 | services  | married | high.school | no      | no  | yes | telephone | may | mon | ... | 1 | 999 | 0 | nonexistent | 1.1 | 93.994 | -36.4 | 4.857 | 5191 | no |\n",
       "\n"
      ],
      "text/plain": [
       "  age job       marital education   default housing loan contact   month\n",
       "1 56  housemaid married basic.4y    no      no      no   telephone may  \n",
       "2 57  services  married high.school unknown no      no   telephone may  \n",
       "3 37  services  married high.school no      yes     no   telephone may  \n",
       "4 40  admin.    married basic.6y    no      no      no   telephone may  \n",
       "5 56  services  married high.school no      no      yes  telephone may  \n",
       "  day_of_week ... campaign pdays previous poutcome    emp.var.rate\n",
       "1 mon         ... 1        999   0        nonexistent 1.1         \n",
       "2 mon         ... 1        999   0        nonexistent 1.1         \n",
       "3 mon         ... 1        999   0        nonexistent 1.1         \n",
       "4 mon         ... 1        999   0        nonexistent 1.1         \n",
       "5 mon         ... 1        999   0        nonexistent 1.1         \n",
       "  cons.price.idx cons.conf.idx euribor3m nr.employed y \n",
       "1 93.994         -36.4         4.857     5191        no\n",
       "2 93.994         -36.4         4.857     5191        no\n",
       "3 93.994         -36.4         4.857     5191        no\n",
       "4 93.994         -36.4         4.857     5191        no\n",
       "5 93.994         -36.4         4.857     5191        no"
      ]
     },
     "metadata": {},
     "output_type": "display_data"
    }
   ],
   "source": [
    "#inspecionando o dataframe \n",
    "head(train_df, n =5 )"
   ]
  },
  {
   "cell_type": "markdown",
   "id": "3857715f",
   "metadata": {},
   "source": [
    "#### Duplicidade de dados"
   ]
  },
  {
   "cell_type": "code",
   "execution_count": 356,
   "id": "daaa9008",
   "metadata": {},
   "outputs": [
    {
     "data": {
      "text/html": [
       "12"
      ],
      "text/latex": [
       "12"
      ],
      "text/markdown": [
       "12"
      ],
      "text/plain": [
       "[1] 12"
      ]
     },
     "metadata": {},
     "output_type": "display_data"
    }
   ],
   "source": [
    "#verificando linhas duplicadas\n",
    "sum(duplicated(train_df))"
   ]
  },
  {
   "cell_type": "markdown",
   "id": "bc65a7e8",
   "metadata": {},
   "source": [
    "Como o nosso dataframe não tem identificação única de usuário, não existe problema em haver linhas duplicadas. Mas ainda sim, somente 12 são identicas"
   ]
  },
  {
   "cell_type": "code",
   "execution_count": 357,
   "id": "f5b7037c",
   "metadata": {},
   "outputs": [
    {
     "name": "stdout",
     "output_type": "stream",
     "text": [
      "        Row.names x y\n",
      "1             age 0 0\n",
      "2        campaign 0 0\n",
      "3   cons.conf.idx 0 0\n",
      "4  cons.price.idx 0 0\n",
      "5         contact 0 0\n",
      "6     day_of_week 0 0\n",
      "7         default 0 0\n",
      "8        duration 0 0\n",
      "9       education 0 0\n",
      "10   emp.var.rate 0 0\n",
      "11      euribor3m 0 0\n",
      "12        housing 0 0\n",
      "13            job 0 0\n",
      "14           loan 0 0\n",
      "15        marital 0 0\n",
      "16          month 0 0\n",
      "17    nr.employed 0 0\n",
      "18          pdays 0 0\n",
      "19       poutcome 0 0\n",
      "20       previous 0 0\n",
      "21              y 0 0\n"
     ]
    }
   ],
   "source": [
    " \n",
    "na_df <- colSums(is.na(train_df))\n",
    "vazio_df <-colSums(train_df == \"\") \n",
    "\n",
    "     \n",
    "df = merge(x = na_df, y = vazio_df, by = c(na_df))\n",
    "print(df)"
   ]
  },
  {
   "cell_type": "markdown",
   "id": "9a7d9999",
   "metadata": {},
   "source": [
    "Apesar do meta arquivo esclarecer que o faltante é \"unknow\" verificamos dados \"\" ou na tbm"
   ]
  },
  {
   "cell_type": "code",
   "execution_count": 358,
   "id": "2780555e",
   "metadata": {},
   "outputs": [
    {
     "name": "stdout",
     "output_type": "stream",
     "text": [
      "           age            job        marital      education        default \n",
      "             0            330             80           1731           8597 \n",
      "       housing           loan        contact          month    day_of_week \n",
      "           990            990              0              0              0 \n",
      "      duration       campaign          pdays       previous       poutcome \n",
      "             0              0              0              0              0 \n",
      "  emp.var.rate cons.price.idx  cons.conf.idx      euribor3m    nr.employed \n",
      "             0              0              0              0              0 \n",
      "             y \n",
      "             0 \n",
      "           age            job        marital      education        default \n",
      "        0.0000         0.0080         0.0019         0.0420         0.2087 \n",
      "       housing           loan        contact          month    day_of_week \n",
      "        0.0240         0.0240         0.0000         0.0000         0.0000 \n",
      "      duration       campaign          pdays       previous       poutcome \n",
      "        0.0000         0.0000         0.0000         0.0000         0.0000 \n",
      "  emp.var.rate cons.price.idx  cons.conf.idx      euribor3m    nr.employed \n",
      "        0.0000         0.0000         0.0000         0.0000         0.0000 \n",
      "             y \n",
      "        0.0000 \n"
     ]
    }
   ],
   "source": [
    "unknown_df <-colSums(train_df == \"unknown\") \n",
    "sum <- colSums(train_df!=\"\")\n",
    "perc <- round(unknown_df/sum,4)\n",
    "print(unknown_df)\n",
    "print(perc)"
   ]
  },
  {
   "cell_type": "markdown",
   "id": "3a518668",
   "metadata": {},
   "source": [
    "Temos 20% dos dados desconhecidos para a variável default\n"
   ]
  },
  {
   "cell_type": "markdown",
   "id": "93e6bcea",
   "metadata": {},
   "source": [
    "## 2) Realizar a análise exploratória dos dados e discutir:"
   ]
  },
  {
   "cell_type": "markdown",
   "id": "b964a232",
   "metadata": {},
   "source": [
    "### 2.1) Estatísticas básicas: mínimos, máximos, médias, desvios, etc. de cada variável;"
   ]
  },
  {
   "cell_type": "code",
   "execution_count": 359,
   "id": "87defa84",
   "metadata": {},
   "outputs": [
    {
     "data": {
      "text/plain": [
       "      age                   job            marital     \n",
       " Min.   :17.00   admin.       :10422   divorced: 4612  \n",
       " 1st Qu.:32.00   blue-collar  : 9254   married :24928  \n",
       " Median :38.00   entrepreneur : 1456   single  :11568  \n",
       " Mean   :40.02   housemaid    : 1060   unknown :   80  \n",
       " 3rd Qu.:47.00   management   : 2924                   \n",
       " Max.   :98.00   retired      : 1720                   \n",
       "                 self-employed: 1421                   \n",
       "                 services     : 3969                   \n",
       "                 student      :  875                   \n",
       "                 technician   : 6743                   \n",
       "                 unemployed   : 1014                   \n",
       "                 unknown      :  330                   \n",
       "               education        default         housing           loan      \n",
       " basic.4y           : 4176   no     :32588   no     :18622   no     :33950  \n",
       " basic.6y           : 2292   unknown: 8597   unknown:  990   unknown:  990  \n",
       " basic.9y           : 6045   yes    :    3   yes    :21576   yes    : 6248  \n",
       " high.school        : 9515                                                  \n",
       " illiterate         :   18                                                  \n",
       " professional.course: 5243                                                  \n",
       " university.degree  :12168                                                  \n",
       " unknown            : 1731                                                  \n",
       "                                                                            \n",
       "                                                                            \n",
       "                                                                            \n",
       "                                                                            \n",
       "      contact      month       day_of_week    duration         campaign     \n",
       " cellular :26144   apr: 2632   fri:7827    Min.   :   0.0   Min.   : 1.000  \n",
       " telephone:15044   aug: 6178   mon:8514    1st Qu.: 102.0   1st Qu.: 1.000  \n",
       "                   dec:  182   thu:8623    Median : 180.0   Median : 2.000  \n",
       "                   jul: 7174   tue:8090    Mean   : 258.3   Mean   : 2.568  \n",
       "                   jun: 5318   wed:8134    3rd Qu.: 319.0   3rd Qu.: 3.000  \n",
       "                   mar:  546               Max.   :4918.0   Max.   :56.000  \n",
       "                   may:13769                                                \n",
       "                   nov: 4101                                                \n",
       "                   oct:  718                                                \n",
       "                   sep:  570                                                \n",
       "                                                                            \n",
       "                                                                            \n",
       "     pdays          previous            poutcome      emp.var.rate     \n",
       " Min.   :  0.0   Min.   :0.000   failure    : 4252   Min.   :-3.40000  \n",
       " 1st Qu.:999.0   1st Qu.:0.000   nonexistent:35563   1st Qu.:-1.80000  \n",
       " Median :999.0   Median :0.000   success    : 1373   Median : 1.10000  \n",
       " Mean   :962.5   Mean   :0.173                       Mean   : 0.08189  \n",
       " 3rd Qu.:999.0   3rd Qu.:0.000                       3rd Qu.: 1.40000  \n",
       " Max.   :999.0   Max.   :7.000                       Max.   : 1.40000  \n",
       "                                                                       \n",
       "                                                                       \n",
       "                                                                       \n",
       "                                                                       \n",
       "                                                                       \n",
       "                                                                       \n",
       " cons.price.idx  cons.conf.idx     euribor3m      nr.employed     y        \n",
       " Min.   :92.20   Min.   :-50.8   Min.   :0.634   Min.   :4964   no :36548  \n",
       " 1st Qu.:93.08   1st Qu.:-42.7   1st Qu.:1.344   1st Qu.:5099   yes: 4640  \n",
       " Median :93.75   Median :-41.8   Median :4.857   Median :5191              \n",
       " Mean   :93.58   Mean   :-40.5   Mean   :3.621   Mean   :5167              \n",
       " 3rd Qu.:93.99   3rd Qu.:-36.4   3rd Qu.:4.961   3rd Qu.:5228              \n",
       " Max.   :94.77   Max.   :-26.9   Max.   :5.045   Max.   :5228              \n",
       "                                                                           \n",
       "                                                                           \n",
       "                                                                           \n",
       "                                                                           \n",
       "                                                                           \n",
       "                                                                           "
      ]
     },
     "metadata": {},
     "output_type": "display_data"
    }
   ],
   "source": [
    "summary(train_df, maxsum = max(lengths(lapply(train_df, unique))))"
   ]
  },
  {
   "cell_type": "markdown",
   "id": "78da3978",
   "metadata": {},
   "source": [
    " - A variavel default não parece trazer ganhos ao modelo em termos interpretativos já que a classe yes é de apenas 3 e desconhecido e não são todo o resto.\n",
    " - Transformar Age em factors pode trazer ganhos em modelos de classificação. \n",
    " - Retirar duration do modelo, pois como o metarquivo diz: é uma variável que não pode ser sabida antes da campanha e após a campanha já é sabido o resultado y.\n",
    " - Classe alvo(y) é bastante desbalanceada\n",
    " - Pdays, apesar de numérica não trouxe estatísticas relevantes para análise em uma primeira inspeção. Precisará ser tratada.\n"
   ]
  },
  {
   "cell_type": "markdown",
   "id": "548ed466",
   "metadata": {},
   "source": [
    "### 2.2) Avaliar os histogramas e as características das distribuições das variáveis;"
   ]
  },
  {
   "cell_type": "code",
   "execution_count": 471,
   "id": "0d3aab04",
   "metadata": {
    "scrolled": false
   },
   "outputs": [
    {
     "data": {
      "image/png": "[encoded data removed]",
      "text/plain": [
       "plot without title"
      ]
     },
     "metadata": {
      "image/png": {
       "height": 720,
       "width": 720
      }
     },
     "output_type": "display_data"
    },
    {
     "data": {
      "image/png": "[encoded data removed]",
      "text/plain": [
       "plot without title"
      ]
     },
     "metadata": {
      "image/png": {
       "height": 720,
       "width": 720
      }
     },
     "output_type": "display_data"
    },
    {
     "data": {
      "image/png": "[encoded data removed]",
      "text/plain": [
       "plot without title"
      ]
     },
     "metadata": {
      "image/png": {
       "height": 720,
       "width": 720
      }
     },
     "output_type": "display_data"
    },
    {
     "data": {
      "image/png": "[encoded data removed]",
      "text/plain": [
       "plot without title"
      ]
     },
     "metadata": {
      "image/png": {
       "height": 720,
       "width": 720
      }
     },
     "output_type": "display_data"
    },
    {
     "data": {
      "image/png": "[encoded data removed]",
      "text/plain": [
       "plot without title"
      ]
     },
     "metadata": {
      "image/png": {
       "height": 720,
       "width": 720
      }
     },
     "output_type": "display_data"
    },
    {
     "data": {
      "image/png": "[encoded data removed]",
      "text/plain": [
       "plot without title"
      ]
     },
     "metadata": {
      "image/png": {
       "height": 720,
       "width": 720
      }
     },
     "output_type": "display_data"
    },
    {
     "data": {
      "image/png": "[encoded data removed]",
      "text/plain": [
       "plot without title"
      ]
     },
     "metadata": {
      "image/png": {
       "height": 720,
       "width": 720
      }
     },
     "output_type": "display_data"
    },
    {
     "data": {
      "image/png": "[encoded data removed]",
      "text/plain": [
       "plot without title"
      ]
     },
     "metadata": {
      "image/png": {
       "height": 720,
       "width": 720
      }
     },
     "output_type": "display_data"
    },
    {
     "data": {
      "image/png": "[encoded data removed]",
      "text/plain": [
       "plot without title"
      ]
     },
     "metadata": {
      "image/png": {
       "height": 720,
       "width": 720
      }
     },
     "output_type": "display_data"
    },
    {
     "data": {
      "image/png": "[encoded data removed]",
      "text/plain": [
       "plot without title"
      ]
     },
     "metadata": {
      "image/png": {
       "height": 720,
       "width": 720
      }
     },
     "output_type": "display_data"
    },
    {
     "data": {
      "image/png": "[encoded data removed]",
      "text/plain": [
       "plot without title"
      ]
     },
     "metadata": {
      "image/png": {
       "height": 720,
       "width": 720
      }
     },
     "output_type": "display_data"
    }
   ],
   "source": [
    "#EDA\n",
    "library(ggplot2)\n",
    "ggplot(train_df,aes(age,fill=y))+geom_bar()+\n",
    "  ggtitle(\"Age vs Deposit\")->p1\n",
    "p1\n",
    "#older people have deposit rate\n",
    "\n",
    "ggplot(train_df,aes(job,fill=y))+geom_bar()+\n",
    "  ggtitle(\"Job vs Deposit\")+ theme(axis.text.x = element_text(angle = 90, hjust = 1)) ->p2\n",
    "p2\n",
    "#people who are at the management deposit more followed by technicians and bluecollars\n",
    "\n",
    "ggplot(train_df,aes(marital,fill=y))+geom_bar()+\n",
    "  ggtitle(\"Marital vs Depsoit\")->p3\n",
    "p3\n",
    "#married people deposit more than others\n",
    "\n",
    "ggplot(train_df,aes(education,fill=y))+geom_bar()+\n",
    "  ggtitle(\"Education vs Deposit\")+ theme(axis.text.x = element_text(angle = 90, hjust = 1)) ->p4\n",
    "p4\n",
    "#people who have secondary level education deposit more followed by \n",
    "#people who have tertiary level education\n",
    "\n",
    "ggplot(train_df,aes(default,fill=y))+geom_bar()+\n",
    "  ggtitle(\"Default vs Deposit\") ->p5\n",
    "p5\n",
    "#people who have no credit default deposit more and people who have credit default\n",
    "#almost have no deposit\n",
    "\n",
    "ggplot(train_df,aes(housing,fill=y))+geom_bar()+\n",
    "  ggtitle(\"Housing vs Deposit\")->p7\n",
    "p7\n",
    "#people who dont have house loan deposit more than people who have home loans.\n",
    "\n",
    "ggplot(train_df,aes(loan,fill=y))+geom_bar()+\n",
    "  ggtitle(\"Loan vs Deposit\")->p8\n",
    "p8\n",
    "#people who dont have personal loan deposit more than people who have personal loans\n",
    "\n",
    "ggplot(train_df,aes(contact,fill=y))+geom_bar()+\n",
    "  ggtitle(\"Contact vs Deposit\")->p9\n",
    "p9\n",
    "#people who are contacted by cellular deposit more\n",
    "\n",
    "ggplot(train_df,aes(month,fill=y))+geom_bar()+\n",
    "  ggtitle(\"Month vs Deposit\")->p10\n",
    "p10\n",
    "#people who are contacted in the month of may deposit more followed by august,july and april\n",
    "\n",
    "ggplot(train_df,aes(campaign))+geom_histogram(aes(fill=y),color=\"black\",binwidth =5)+\n",
    "  ggtitle(\"Campaign vs Deposit\")->p11\n",
    "p11\n",
    "#people who are contacted for less than 5 times deposit more\n",
    "\n",
    "ggplot(train_df,aes(duration,fill=y))+geom_bar()+\n",
    "  ggtitle(\"Duration vs Deposit\")->p12\n",
    "p12\n",
    "#people whose duration of contact is less than 5 minutes deposit more \n",
    "#but people whose duration of contact exceeded 5 minutes have higher deposit rate\n",
    "\n",
    "#suprimindo warnning\n",
    "oldw <- getOption(\"warn\")\n",
    "options(warn = -1)"
   ]
  },
  {
   "cell_type": "markdown",
   "id": "a6bec334",
   "metadata": {},
   "source": [
    "### 2.3) Verificar a existência de outliers e decidir o que fazer com eles;\n"
   ]
  },
  {
   "cell_type": "code",
   "execution_count": 16,
   "id": "0959b419",
   "metadata": {},
   "outputs": [
    {
     "data": {
      "image/png": "[encoded data removed]",
      "text/plain": [
       "plot without title"
      ]
     },
     "metadata": {},
     "output_type": "display_data"
    },
    {
     "data": {
      "image/png": "[encoded data removed]",
      "text/plain": [
       "plot without title"
      ]
     },
     "metadata": {},
     "output_type": "display_data"
    }
   ],
   "source": [
    "boxplot(train_df[1:10],horizontal = FALSE,las=2)\n",
    "boxplot(train_df[11:21],horizontal = FALSE,las=2)"
   ]
  },
  {
   "cell_type": "markdown",
   "id": "9e20f5e8",
   "metadata": {},
   "source": [
    "- Verificamos alguns Outliers que precisarão de tratamento na idade.\n",
    "- Não nos preocuparemos com os Outliers em duration e default pois essas variáveis serão retiradas do dataset\n",
    "- Trataremos a variável pdays posteriormente."
   ]
  },
  {
   "cell_type": "code",
   "execution_count": 472,
   "id": "0c1423cc",
   "metadata": {},
   "outputs": [
    {
     "data": {
      "image/png": "[encoded data removed]",
      "text/plain": [
       "Plot with title \"Histograma dos Dados de Idade\""
      ]
     },
     "metadata": {
      "image/png": {
       "height": 720,
       "width": 720
      }
     },
     "output_type": "display_data"
    }
   ],
   "source": [
    "histograma<-hist(train_df$age,  col=\"lightblue\", border=\"black\", xlab=\"Idade\", ylab=\"FREQUÊNCIA\", main=\"Histograma dos Dados de Idade\", breaks=10, xlim=c(0, 100)) #breaks: muda o número de barras do gráfico\n",
    "abline(v=mean(train_df$age), col=\"red\", lwd=2) #Adicionando uma linha vertical vermelha representando a média dos dados\n",
    "# Acrescentando a curva normal ao gráfico\n",
    "xfit <- seq(min(train_df$age), max(train_df$age))\n",
    "yfit <- dnorm(xfit, mean=mean(train_df$age), sd=sd(train_df$age))\n",
    "yfit <- yfit*diff(histograma$mids[1:2]) * length(train_df$age)\n",
    "lines(xfit, yfit, col=\"black\", lwd=2)\n",
    "# Adicionando a legenda\n",
    "legend(x=\"topright\", #Posição da legenda\n",
    "       c(\"Média\", \"Curva normal\"), #Nome da legenda\n",
    "       col=c(\"red\", \"black\"), #Cor\n",
    "       lty=c(1, 1), #Estilo da linha\n",
    "       lwd=c(2, 2)) #Grossura das linhas"
   ]
  },
  {
   "cell_type": "code",
   "execution_count": 363,
   "id": "d750c0c0",
   "metadata": {},
   "outputs": [
    {
     "data": {
      "image/png": "[encoded data removed]",
      "text/plain": [
       "plot without title"
      ]
     },
     "metadata": {
      "image/png": {
       "height": 300,
       "width": 300
      }
     },
     "output_type": "display_data"
    }
   ],
   "source": [
    "options(repr.plot.width = 5, repr.plot.height =5)\n",
    "boxplot(train_df$age, xlab=\"Idade\")"
   ]
  },
  {
   "cell_type": "markdown",
   "id": "ff1e1023",
   "metadata": {},
   "source": [
    "Algoritimos de machine learning tendem a ser viesados por outliers. Vamos separar o dataframe com e sem duration  "
   ]
  },
  {
   "cell_type": "markdown",
   "id": "8bb1b397",
   "metadata": {},
   "source": [
    "### 2.4) Verificar correlações."
   ]
  },
  {
   "cell_type": "code",
   "execution_count": 493,
   "id": "379bf429",
   "metadata": {},
   "outputs": [],
   "source": [
    "options(repr.plot.width = 15, repr.plot.height =15)\n",
    "repr.plot.res = 3100"
   ]
  },
  {
   "cell_type": "code",
   "execution_count": 494,
   "id": "479a3110",
   "metadata": {},
   "outputs": [
    {
     "data": {
      "image/png": "[encoded data removed]",
      "text/plain": [
       "Plot with title \"\""
      ]
     },
     "metadata": {
      "image/png": {
       "height": 900,
       "width": 900
      }
     },
     "output_type": "display_data"
    }
   ],
   "source": [
    "#correaltion matrix\n",
    "#library(corrplot)\n",
    "#library(psych)\n",
    "bank_cor <- train_df\n",
    "\n",
    "for(i in 1:ncol(train_df)){\n",
    "  \n",
    "  bank_cor[,i]<- as.integer(bank_cor[,i])\n",
    "}\n",
    "\n",
    "corrplot(cor(bank_cor,method = 'pearson'))"
   ]
  },
  {
   "cell_type": "markdown",
   "id": "670ccc71",
   "metadata": {},
   "source": [
    "Verifica-se que as variáveis: \n",
    "Duration\n",
    "pdays\n",
    "marital\n",
    "cons.conf.idx\t\n",
    "possuem uma correlação moderada/ baixa com a variavel y \n",
    "\n",
    "Acendemos um alerta para possível colinearidade das variáveis de contexto que proporemos um tratamento mais a frente\n",
    "\n"
   ]
  },
  {
   "cell_type": "code",
   "execution_count": 488,
   "id": "83ed4457",
   "metadata": {},
   "outputs": [
    {
     "data": {
      "text/html": [
       "<table class=\"dataframe\">\n",
       "<caption>A matrix: 21 × 21 of type dbl</caption>\n",
       "<thead>\n",
       "\t<tr><th></th><th scope=col>age</th><th scope=col>job</th><th scope=col>marital</th><th scope=col>education</th><th scope=col>default</th><th scope=col>housing</th><th scope=col>loan</th><th scope=col>contact</th><th scope=col>month</th><th scope=col>day_of_week</th><th scope=col>...</th><th scope=col>campaign</th><th scope=col>pdays</th><th scope=col>previous</th><th scope=col>poutcome</th><th scope=col>emp.var.rate</th><th scope=col>cons.price.idx</th><th scope=col>cons.conf.idx</th><th scope=col>euribor3m</th><th scope=col>nr.employed</th><th scope=col>y</th></tr>\n",
       "</thead>\n",
       "<tbody>\n",
       "\t<tr><th scope=row>age</th><td> 1.000000000</td><td> 0.0012495914</td><td>-0.389753255</td><td>-0.1178920140</td><td> 0.164965292</td><td>-0.001603329</td><td>-0.0073681548</td><td> 0.007020948</td><td>-0.024877246</td><td>-0.0175715068</td><td>...</td><td> 0.0045935805</td><td>-0.0343689512</td><td> 0.024364741</td><td> 0.019750327</td><td>-0.016575862</td><td> 0.045492424</td><td> 0.127882955</td><td> 0.0010208069</td><td>-0.017917462</td><td> 0.030398803</td></tr>\n",
       "\t<tr><th scope=row>job</th><td> 0.001249591</td><td> 1.0000000000</td><td> 0.027897495</td><td> 0.1341209518</td><td>-0.028277248</td><td> 0.006962066</td><td>-0.0102088867</td><td>-0.025132072</td><td>-0.033213305</td><td>-0.0008441851</td><td>...</td><td>-0.0069232951</td><td>-0.0284677429</td><td> 0.020964908</td><td> 0.011504256</td><td>-0.015375061</td><td> 0.013136468</td><td> 0.050981338</td><td>-0.0127281636</td><td>-0.019665655</td><td> 0.025122170</td></tr>\n",
       "\t<tr><th scope=row>marital</th><td>-0.389753255</td><td> 0.0278974953</td><td> 1.000000000</td><td> 0.1092195115</td><td>-0.079450057</td><td> 0.010466826</td><td> 0.0057881585</td><td>-0.054500920</td><td>-0.007628582</td><td> 0.0022018496</td><td>...</td><td>-0.0072404930</td><td>-0.0379417279</td><td> 0.038689373</td><td> 0.001912068</td><td>-0.082879710</td><td>-0.058244816</td><td>-0.033370199</td><td>-0.0943835224</td><td>-0.086150569</td><td> 0.046202607</td></tr>\n",
       "\t<tr><th scope=row>education</th><td>-0.117892014</td><td> 0.1341209518</td><td> 0.109219511</td><td> 1.0000000000</td><td>-0.186858755</td><td> 0.016825478</td><td> 0.0063837076</td><td>-0.105725678</td><td>-0.082683625</td><td>-0.0179863714</td><td>...</td><td> 0.0003706314</td><td>-0.0466261293</td><td> 0.038831313</td><td> 0.017009184</td><td>-0.057170303</td><td>-0.009693804</td><td> 0.073442881</td><td>-0.0381330264</td><td>-0.041797992</td><td> 0.057798893</td></tr>\n",
       "\t<tr><th scope=row>default</th><td> 0.164965292</td><td>-0.0282772477</td><td>-0.079450057</td><td>-0.1868587547</td><td> 1.000000000</td><td>-0.015814545</td><td>-0.0037820611</td><td> 0.135237728</td><td>-0.015829785</td><td>-0.0087009210</td><td>...</td><td> 0.0328245362</td><td> 0.0800616841</td><td>-0.102416455</td><td> 0.023417483</td><td> 0.209159350</td><td> 0.104001767</td><td> 0.031173429</td><td> 0.1876515953</td><td> 0.190183623</td><td>-0.099351798</td></tr>\n",
       "\t<tr><th scope=row>housing</th><td>-0.001603329</td><td> 0.0069620661</td><td> 0.010466826</td><td> 0.0168254780</td><td>-0.015814545</td><td> 1.000000000</td><td> 0.0442958069</td><td>-0.082185681</td><td>-0.018140803</td><td> 0.0033389395</td><td>...</td><td>-0.0110100056</td><td>-0.0105506834</td><td> 0.021313699</td><td>-0.011782581</td><td>-0.059581279</td><td>-0.060201318</td><td>-0.037605239</td><td>-0.0528447818</td><td>-0.045964314</td><td> 0.011551686</td></tr>\n",
       "\t<tr><th scope=row>loan</th><td>-0.007368155</td><td>-0.0102088867</td><td> 0.005788158</td><td> 0.0063837076</td><td>-0.003782061</td><td> 0.044295807</td><td> 1.0000000000</td><td>-0.008556335</td><td>-0.005705236</td><td>-0.0093441852</td><td>...</td><td> 0.0051655359</td><td> 0.0003450298</td><td>-0.001327406</td><td>-0.001511016</td><td> 0.002397115</td><td>-0.007004348</td><td>-0.012154773</td><td> 0.0001671285</td><td> 0.003923823</td><td>-0.004908593</td></tr>\n",
       "\t<tr><th scope=row>contact</th><td> 0.007020948</td><td>-0.0251320719</td><td>-0.054500920</td><td>-0.1057256776</td><td> 0.135237728</td><td>-0.082185681</td><td>-0.0085563347</td><td> 1.000000000</td><td> 0.276564568</td><td>-0.0095754648</td><td>...</td><td> 0.0773675370</td><td> 0.1179703208</td><td>-0.212847787</td><td> 0.118743611</td><td> 0.413064921</td><td> 0.428343049</td><td> 0.271664879</td><td> 0.3745294436</td><td> 0.269908100</td><td>-0.144773056</td></tr>\n",
       "\t<tr><th scope=row>month</th><td>-0.024877246</td><td>-0.0332133053</td><td>-0.007628582</td><td>-0.0826836245</td><td>-0.015829785</td><td>-0.018140803</td><td>-0.0057052364</td><td> 0.276564568</td><td> 1.000000000</td><td> 0.0276770525</td><td>...</td><td>-0.0620588013</td><td>-0.0478910005</td><td> 0.103156555</td><td>-0.065012157</td><td>-0.172841180</td><td>-0.189730693</td><td> 0.010597504</td><td>-0.0496983379</td><td>-0.222280627</td><td>-0.006064778</td></tr>\n",
       "\t<tr><th scope=row>day_of_week</th><td>-0.017571507</td><td>-0.0008441851</td><td> 0.002201850</td><td>-0.0179863714</td><td>-0.008700921</td><td> 0.003338940</td><td>-0.0093441852</td><td>-0.009575465</td><td> 0.027677052</td><td> 1.0000000000</td><td>...</td><td>-0.0382875200</td><td>-0.0095306060</td><td>-0.004102260</td><td> 0.018731952</td><td> 0.029031206</td><td>-0.018670491</td><td> 0.041754014</td><td> 0.0369657636</td><td> 0.028317172</td><td> 0.015967190</td></tr>\n",
       "\t<tr><th scope=row>duration</th><td>-0.000865705</td><td>-0.0064896410</td><td> 0.010290443</td><td>-0.0151020736</td><td>-0.011794197</td><td>-0.007658347</td><td>-0.0009162984</td><td>-0.026656806</td><td> 0.003689985</td><td> 0.0219496366</td><td>...</td><td>-0.0716992263</td><td>-0.0475770154</td><td> 0.020640351</td><td> 0.033360435</td><td>-0.027835455</td><td>-0.001061290</td><td>-0.007015401</td><td>-0.0354840291</td><td>-0.044679588</td><td> 0.405273801</td></tr>\n",
       "\t<tr><th scope=row>campaign</th><td> 0.004593580</td><td>-0.0069232951</td><td>-0.007240493</td><td> 0.0003706314</td><td> 0.032824536</td><td>-0.011010006</td><td> 0.0051655359</td><td> 0.077367537</td><td>-0.062058801</td><td>-0.0382875200</td><td>...</td><td> 1.0000000000</td><td> 0.0525835734</td><td>-0.079141472</td><td> 0.032586035</td><td> 0.145984783</td><td> 0.088768500</td><td>-0.007413809</td><td> 0.1234638375</td><td> 0.144298574</td><td>-0.066357415</td></tr>\n",
       "\t<tr><th scope=row>pdays</th><td>-0.034368951</td><td>-0.0284677429</td><td>-0.037941728</td><td>-0.0466261293</td><td> 0.080061684</td><td>-0.010550683</td><td> 0.0003450298</td><td> 0.117970321</td><td>-0.047891000</td><td>-0.0095306060</td><td>...</td><td> 0.0525835734</td><td> 1.0000000000</td><td>-0.587513856</td><td>-0.475618851</td><td> 0.291094890</td><td> 0.013846377</td><td>-0.092209796</td><td> 0.3199024977</td><td> 0.372950919</td><td>-0.324914478</td></tr>\n",
       "\t<tr><th scope=row>previous</th><td> 0.024364741</td><td> 0.0209649079</td><td> 0.038689373</td><td> 0.0388313129</td><td>-0.102416455</td><td> 0.021313699</td><td>-0.0013274063</td><td>-0.212847787</td><td> 0.103156555</td><td>-0.0041022600</td><td>...</td><td>-0.0791414724</td><td>-0.5875138561</td><td> 1.000000000</td><td>-0.313110205</td><td>-0.425266571</td><td>-0.109034869</td><td>-0.056066369</td><td>-0.4579133143</td><td>-0.501779870</td><td> 0.230181003</td></tr>\n",
       "\t<tr><th scope=row>poutcome</th><td> 0.019750327</td><td> 0.0115042564</td><td> 0.001912068</td><td> 0.0170091842</td><td> 0.023417483</td><td>-0.011782581</td><td>-0.0015110162</td><td> 0.118743611</td><td>-0.065012157</td><td> 0.0187319515</td><td>...</td><td> 0.0325860354</td><td>-0.4756188510</td><td>-0.313110205</td><td> 1.000000000</td><td> 0.172637517</td><td> 0.180117363</td><td> 0.186706225</td><td> 0.1533080470</td><td> 0.119751688</td><td> 0.129789470</td></tr>\n",
       "\t<tr><th scope=row>emp.var.rate</th><td>-0.016575862</td><td>-0.0153750615</td><td>-0.082879710</td><td>-0.0571703034</td><td> 0.209159350</td><td>-0.059581279</td><td> 0.0023971155</td><td> 0.413064921</td><td>-0.172841180</td><td> 0.0290312058</td><td>...</td><td> 0.1459847826</td><td> 0.2910948901</td><td>-0.425266571</td><td> 0.172637517</td><td> 1.000000000</td><td> 0.606969366</td><td> 0.140674802</td><td> 0.9293452681</td><td> 0.896748380</td><td>-0.315255697</td></tr>\n",
       "\t<tr><th scope=row>cons.price.idx</th><td> 0.045492424</td><td> 0.0131364683</td><td>-0.058244816</td><td>-0.0096938036</td><td> 0.104001767</td><td>-0.060201318</td><td>-0.0070043482</td><td> 0.428343049</td><td>-0.189730693</td><td>-0.0186704914</td><td>...</td><td> 0.0887685001</td><td> 0.0138463767</td><td>-0.109034869</td><td> 0.180117363</td><td> 0.606969366</td><td> 1.000000000</td><td> 0.081006940</td><td> 0.5258252282</td><td> 0.424290069</td><td>-0.068974860</td></tr>\n",
       "\t<tr><th scope=row>cons.conf.idx</th><td> 0.127882955</td><td> 0.0509813384</td><td>-0.033370199</td><td> 0.0734428814</td><td> 0.031173429</td><td>-0.037605239</td><td>-0.0121547729</td><td> 0.271664879</td><td> 0.010597504</td><td> 0.0417540143</td><td>...</td><td>-0.0074138092</td><td>-0.0922097957</td><td>-0.056066369</td><td> 0.186706225</td><td> 0.140674802</td><td> 0.081006940</td><td> 1.000000000</td><td> 0.2168517944</td><td> 0.109939811</td><td> 0.055757271</td></tr>\n",
       "\t<tr><th scope=row>euribor3m</th><td> 0.001020807</td><td>-0.0127281636</td><td>-0.094383522</td><td>-0.0381330264</td><td> 0.187651595</td><td>-0.052844782</td><td> 0.0001671285</td><td> 0.374529444</td><td>-0.049698338</td><td> 0.0369657636</td><td>...</td><td> 0.1234638375</td><td> 0.3199024977</td><td>-0.457913314</td><td> 0.153308047</td><td> 0.929345268</td><td> 0.525825228</td><td> 0.216851794</td><td> 1.0000000000</td><td> 0.951086352</td><td>-0.327421837</td></tr>\n",
       "\t<tr><th scope=row>nr.employed</th><td>-0.017917462</td><td>-0.0196656547</td><td>-0.086150569</td><td>-0.0417979916</td><td> 0.190183623</td><td>-0.045964314</td><td> 0.0039238231</td><td> 0.269908100</td><td>-0.222280627</td><td> 0.0283171723</td><td>...</td><td> 0.1442985736</td><td> 0.3729509190</td><td>-0.501779870</td><td> 0.119751688</td><td> 0.896748380</td><td> 0.424290069</td><td> 0.109939811</td><td> 0.9510863516</td><td> 1.000000000</td><td>-0.354924685</td></tr>\n",
       "\t<tr><th scope=row>y</th><td> 0.030398803</td><td> 0.0251221699</td><td> 0.046202607</td><td> 0.0577988927</td><td>-0.099351798</td><td> 0.011551686</td><td>-0.0049085933</td><td>-0.144773056</td><td>-0.006064778</td><td> 0.0159671898</td><td>...</td><td>-0.0663574148</td><td>-0.3249144776</td><td> 0.230181003</td><td> 0.129789470</td><td>-0.315255697</td><td>-0.068974860</td><td> 0.055757271</td><td>-0.3274218368</td><td>-0.354924685</td><td> 1.000000000</td></tr>\n",
       "</tbody>\n",
       "</table>\n"
      ],
      "text/latex": [
       "A matrix: 21 × 21 of type dbl\n",
       "\\begin{tabular}{r|lllllllllllllllllllll}\n",
       "  & age & job & marital & education & default & housing & loan & contact & month & day\\_of\\_week & ... & campaign & pdays & previous & poutcome & emp.var.rate & cons.price.idx & cons.conf.idx & euribor3m & nr.employed & y\\\\\n",
       "\\hline\n",
       "\tage &  1.000000000 &  0.0012495914 & -0.389753255 & -0.1178920140 &  0.164965292 & -0.001603329 & -0.0073681548 &  0.007020948 & -0.024877246 & -0.0175715068 & ... &  0.0045935805 & -0.0343689512 &  0.024364741 &  0.019750327 & -0.016575862 &  0.045492424 &  0.127882955 &  0.0010208069 & -0.017917462 &  0.030398803\\\\\n",
       "\tjob &  0.001249591 &  1.0000000000 &  0.027897495 &  0.1341209518 & -0.028277248 &  0.006962066 & -0.0102088867 & -0.025132072 & -0.033213305 & -0.0008441851 & ... & -0.0069232951 & -0.0284677429 &  0.020964908 &  0.011504256 & -0.015375061 &  0.013136468 &  0.050981338 & -0.0127281636 & -0.019665655 &  0.025122170\\\\\n",
       "\tmarital & -0.389753255 &  0.0278974953 &  1.000000000 &  0.1092195115 & -0.079450057 &  0.010466826 &  0.0057881585 & -0.054500920 & -0.007628582 &  0.0022018496 & ... & -0.0072404930 & -0.0379417279 &  0.038689373 &  0.001912068 & -0.082879710 & -0.058244816 & -0.033370199 & -0.0943835224 & -0.086150569 &  0.046202607\\\\\n",
       "\teducation & -0.117892014 &  0.1341209518 &  0.109219511 &  1.0000000000 & -0.186858755 &  0.016825478 &  0.0063837076 & -0.105725678 & -0.082683625 & -0.0179863714 & ... &  0.0003706314 & -0.0466261293 &  0.038831313 &  0.017009184 & -0.057170303 & -0.009693804 &  0.073442881 & -0.0381330264 & -0.041797992 &  0.057798893\\\\\n",
       "\tdefault &  0.164965292 & -0.0282772477 & -0.079450057 & -0.1868587547 &  1.000000000 & -0.015814545 & -0.0037820611 &  0.135237728 & -0.015829785 & -0.0087009210 & ... &  0.0328245362 &  0.0800616841 & -0.102416455 &  0.023417483 &  0.209159350 &  0.104001767 &  0.031173429 &  0.1876515953 &  0.190183623 & -0.099351798\\\\\n",
       "\thousing & -0.001603329 &  0.0069620661 &  0.010466826 &  0.0168254780 & -0.015814545 &  1.000000000 &  0.0442958069 & -0.082185681 & -0.018140803 &  0.0033389395 & ... & -0.0110100056 & -0.0105506834 &  0.021313699 & -0.011782581 & -0.059581279 & -0.060201318 & -0.037605239 & -0.0528447818 & -0.045964314 &  0.011551686\\\\\n",
       "\tloan & -0.007368155 & -0.0102088867 &  0.005788158 &  0.0063837076 & -0.003782061 &  0.044295807 &  1.0000000000 & -0.008556335 & -0.005705236 & -0.0093441852 & ... &  0.0051655359 &  0.0003450298 & -0.001327406 & -0.001511016 &  0.002397115 & -0.007004348 & -0.012154773 &  0.0001671285 &  0.003923823 & -0.004908593\\\\\n",
       "\tcontact &  0.007020948 & -0.0251320719 & -0.054500920 & -0.1057256776 &  0.135237728 & -0.082185681 & -0.0085563347 &  1.000000000 &  0.276564568 & -0.0095754648 & ... &  0.0773675370 &  0.1179703208 & -0.212847787 &  0.118743611 &  0.413064921 &  0.428343049 &  0.271664879 &  0.3745294436 &  0.269908100 & -0.144773056\\\\\n",
       "\tmonth & -0.024877246 & -0.0332133053 & -0.007628582 & -0.0826836245 & -0.015829785 & -0.018140803 & -0.0057052364 &  0.276564568 &  1.000000000 &  0.0276770525 & ... & -0.0620588013 & -0.0478910005 &  0.103156555 & -0.065012157 & -0.172841180 & -0.189730693 &  0.010597504 & -0.0496983379 & -0.222280627 & -0.006064778\\\\\n",
       "\tday\\_of\\_week & -0.017571507 & -0.0008441851 &  0.002201850 & -0.0179863714 & -0.008700921 &  0.003338940 & -0.0093441852 & -0.009575465 &  0.027677052 &  1.0000000000 & ... & -0.0382875200 & -0.0095306060 & -0.004102260 &  0.018731952 &  0.029031206 & -0.018670491 &  0.041754014 &  0.0369657636 &  0.028317172 &  0.015967190\\\\\n",
       "\tduration & -0.000865705 & -0.0064896410 &  0.010290443 & -0.0151020736 & -0.011794197 & -0.007658347 & -0.0009162984 & -0.026656806 &  0.003689985 &  0.0219496366 & ... & -0.0716992263 & -0.0475770154 &  0.020640351 &  0.033360435 & -0.027835455 & -0.001061290 & -0.007015401 & -0.0354840291 & -0.044679588 &  0.405273801\\\\\n",
       "\tcampaign &  0.004593580 & -0.0069232951 & -0.007240493 &  0.0003706314 &  0.032824536 & -0.011010006 &  0.0051655359 &  0.077367537 & -0.062058801 & -0.0382875200 & ... &  1.0000000000 &  0.0525835734 & -0.079141472 &  0.032586035 &  0.145984783 &  0.088768500 & -0.007413809 &  0.1234638375 &  0.144298574 & -0.066357415\\\\\n",
       "\tpdays & -0.034368951 & -0.0284677429 & -0.037941728 & -0.0466261293 &  0.080061684 & -0.010550683 &  0.0003450298 &  0.117970321 & -0.047891000 & -0.0095306060 & ... &  0.0525835734 &  1.0000000000 & -0.587513856 & -0.475618851 &  0.291094890 &  0.013846377 & -0.092209796 &  0.3199024977 &  0.372950919 & -0.324914478\\\\\n",
       "\tprevious &  0.024364741 &  0.0209649079 &  0.038689373 &  0.0388313129 & -0.102416455 &  0.021313699 & -0.0013274063 & -0.212847787 &  0.103156555 & -0.0041022600 & ... & -0.0791414724 & -0.5875138561 &  1.000000000 & -0.313110205 & -0.425266571 & -0.109034869 & -0.056066369 & -0.4579133143 & -0.501779870 &  0.230181003\\\\\n",
       "\tpoutcome &  0.019750327 &  0.0115042564 &  0.001912068 &  0.0170091842 &  0.023417483 & -0.011782581 & -0.0015110162 &  0.118743611 & -0.065012157 &  0.0187319515 & ... &  0.0325860354 & -0.4756188510 & -0.313110205 &  1.000000000 &  0.172637517 &  0.180117363 &  0.186706225 &  0.1533080470 &  0.119751688 &  0.129789470\\\\\n",
       "\temp.var.rate & -0.016575862 & -0.0153750615 & -0.082879710 & -0.0571703034 &  0.209159350 & -0.059581279 &  0.0023971155 &  0.413064921 & -0.172841180 &  0.0290312058 & ... &  0.1459847826 &  0.2910948901 & -0.425266571 &  0.172637517 &  1.000000000 &  0.606969366 &  0.140674802 &  0.9293452681 &  0.896748380 & -0.315255697\\\\\n",
       "\tcons.price.idx &  0.045492424 &  0.0131364683 & -0.058244816 & -0.0096938036 &  0.104001767 & -0.060201318 & -0.0070043482 &  0.428343049 & -0.189730693 & -0.0186704914 & ... &  0.0887685001 &  0.0138463767 & -0.109034869 &  0.180117363 &  0.606969366 &  1.000000000 &  0.081006940 &  0.5258252282 &  0.424290069 & -0.068974860\\\\\n",
       "\tcons.conf.idx &  0.127882955 &  0.0509813384 & -0.033370199 &  0.0734428814 &  0.031173429 & -0.037605239 & -0.0121547729 &  0.271664879 &  0.010597504 &  0.0417540143 & ... & -0.0074138092 & -0.0922097957 & -0.056066369 &  0.186706225 &  0.140674802 &  0.081006940 &  1.000000000 &  0.2168517944 &  0.109939811 &  0.055757271\\\\\n",
       "\teuribor3m &  0.001020807 & -0.0127281636 & -0.094383522 & -0.0381330264 &  0.187651595 & -0.052844782 &  0.0001671285 &  0.374529444 & -0.049698338 &  0.0369657636 & ... &  0.1234638375 &  0.3199024977 & -0.457913314 &  0.153308047 &  0.929345268 &  0.525825228 &  0.216851794 &  1.0000000000 &  0.951086352 & -0.327421837\\\\\n",
       "\tnr.employed & -0.017917462 & -0.0196656547 & -0.086150569 & -0.0417979916 &  0.190183623 & -0.045964314 &  0.0039238231 &  0.269908100 & -0.222280627 &  0.0283171723 & ... &  0.1442985736 &  0.3729509190 & -0.501779870 &  0.119751688 &  0.896748380 &  0.424290069 &  0.109939811 &  0.9510863516 &  1.000000000 & -0.354924685\\\\\n",
       "\ty &  0.030398803 &  0.0251221699 &  0.046202607 &  0.0577988927 & -0.099351798 &  0.011551686 & -0.0049085933 & -0.144773056 & -0.006064778 &  0.0159671898 & ... & -0.0663574148 & -0.3249144776 &  0.230181003 &  0.129789470 & -0.315255697 & -0.068974860 &  0.055757271 & -0.3274218368 & -0.354924685 &  1.000000000\\\\\n",
       "\\end{tabular}\n"
      ],
      "text/markdown": [
       "\n",
       "A matrix: 21 × 21 of type dbl\n",
       "\n",
       "| <!--/--> | age | job | marital | education | default | housing | loan | contact | month | day_of_week | ... | campaign | pdays | previous | poutcome | emp.var.rate | cons.price.idx | cons.conf.idx | euribor3m | nr.employed | y |\n",
       "|---|---|---|---|---|---|---|---|---|---|---|---|---|---|---|---|---|---|---|---|---|---|\n",
       "| age |  1.000000000 |  0.0012495914 | -0.389753255 | -0.1178920140 |  0.164965292 | -0.001603329 | -0.0073681548 |  0.007020948 | -0.024877246 | -0.0175715068 | ... |  0.0045935805 | -0.0343689512 |  0.024364741 |  0.019750327 | -0.016575862 |  0.045492424 |  0.127882955 |  0.0010208069 | -0.017917462 |  0.030398803 |\n",
       "| job |  0.001249591 |  1.0000000000 |  0.027897495 |  0.1341209518 | -0.028277248 |  0.006962066 | -0.0102088867 | -0.025132072 | -0.033213305 | -0.0008441851 | ... | -0.0069232951 | -0.0284677429 |  0.020964908 |  0.011504256 | -0.015375061 |  0.013136468 |  0.050981338 | -0.0127281636 | -0.019665655 |  0.025122170 |\n",
       "| marital | -0.389753255 |  0.0278974953 |  1.000000000 |  0.1092195115 | -0.079450057 |  0.010466826 |  0.0057881585 | -0.054500920 | -0.007628582 |  0.0022018496 | ... | -0.0072404930 | -0.0379417279 |  0.038689373 |  0.001912068 | -0.082879710 | -0.058244816 | -0.033370199 | -0.0943835224 | -0.086150569 |  0.046202607 |\n",
       "| education | -0.117892014 |  0.1341209518 |  0.109219511 |  1.0000000000 | -0.186858755 |  0.016825478 |  0.0063837076 | -0.105725678 | -0.082683625 | -0.0179863714 | ... |  0.0003706314 | -0.0466261293 |  0.038831313 |  0.017009184 | -0.057170303 | -0.009693804 |  0.073442881 | -0.0381330264 | -0.041797992 |  0.057798893 |\n",
       "| default |  0.164965292 | -0.0282772477 | -0.079450057 | -0.1868587547 |  1.000000000 | -0.015814545 | -0.0037820611 |  0.135237728 | -0.015829785 | -0.0087009210 | ... |  0.0328245362 |  0.0800616841 | -0.102416455 |  0.023417483 |  0.209159350 |  0.104001767 |  0.031173429 |  0.1876515953 |  0.190183623 | -0.099351798 |\n",
       "| housing | -0.001603329 |  0.0069620661 |  0.010466826 |  0.0168254780 | -0.015814545 |  1.000000000 |  0.0442958069 | -0.082185681 | -0.018140803 |  0.0033389395 | ... | -0.0110100056 | -0.0105506834 |  0.021313699 | -0.011782581 | -0.059581279 | -0.060201318 | -0.037605239 | -0.0528447818 | -0.045964314 |  0.011551686 |\n",
       "| loan | -0.007368155 | -0.0102088867 |  0.005788158 |  0.0063837076 | -0.003782061 |  0.044295807 |  1.0000000000 | -0.008556335 | -0.005705236 | -0.0093441852 | ... |  0.0051655359 |  0.0003450298 | -0.001327406 | -0.001511016 |  0.002397115 | -0.007004348 | -0.012154773 |  0.0001671285 |  0.003923823 | -0.004908593 |\n",
       "| contact |  0.007020948 | -0.0251320719 | -0.054500920 | -0.1057256776 |  0.135237728 | -0.082185681 | -0.0085563347 |  1.000000000 |  0.276564568 | -0.0095754648 | ... |  0.0773675370 |  0.1179703208 | -0.212847787 |  0.118743611 |  0.413064921 |  0.428343049 |  0.271664879 |  0.3745294436 |  0.269908100 | -0.144773056 |\n",
       "| month | -0.024877246 | -0.0332133053 | -0.007628582 | -0.0826836245 | -0.015829785 | -0.018140803 | -0.0057052364 |  0.276564568 |  1.000000000 |  0.0276770525 | ... | -0.0620588013 | -0.0478910005 |  0.103156555 | -0.065012157 | -0.172841180 | -0.189730693 |  0.010597504 | -0.0496983379 | -0.222280627 | -0.006064778 |\n",
       "| day_of_week | -0.017571507 | -0.0008441851 |  0.002201850 | -0.0179863714 | -0.008700921 |  0.003338940 | -0.0093441852 | -0.009575465 |  0.027677052 |  1.0000000000 | ... | -0.0382875200 | -0.0095306060 | -0.004102260 |  0.018731952 |  0.029031206 | -0.018670491 |  0.041754014 |  0.0369657636 |  0.028317172 |  0.015967190 |\n",
       "| duration | -0.000865705 | -0.0064896410 |  0.010290443 | -0.0151020736 | -0.011794197 | -0.007658347 | -0.0009162984 | -0.026656806 |  0.003689985 |  0.0219496366 | ... | -0.0716992263 | -0.0475770154 |  0.020640351 |  0.033360435 | -0.027835455 | -0.001061290 | -0.007015401 | -0.0354840291 | -0.044679588 |  0.405273801 |\n",
       "| campaign |  0.004593580 | -0.0069232951 | -0.007240493 |  0.0003706314 |  0.032824536 | -0.011010006 |  0.0051655359 |  0.077367537 | -0.062058801 | -0.0382875200 | ... |  1.0000000000 |  0.0525835734 | -0.079141472 |  0.032586035 |  0.145984783 |  0.088768500 | -0.007413809 |  0.1234638375 |  0.144298574 | -0.066357415 |\n",
       "| pdays | -0.034368951 | -0.0284677429 | -0.037941728 | -0.0466261293 |  0.080061684 | -0.010550683 |  0.0003450298 |  0.117970321 | -0.047891000 | -0.0095306060 | ... |  0.0525835734 |  1.0000000000 | -0.587513856 | -0.475618851 |  0.291094890 |  0.013846377 | -0.092209796 |  0.3199024977 |  0.372950919 | -0.324914478 |\n",
       "| previous |  0.024364741 |  0.0209649079 |  0.038689373 |  0.0388313129 | -0.102416455 |  0.021313699 | -0.0013274063 | -0.212847787 |  0.103156555 | -0.0041022600 | ... | -0.0791414724 | -0.5875138561 |  1.000000000 | -0.313110205 | -0.425266571 | -0.109034869 | -0.056066369 | -0.4579133143 | -0.501779870 |  0.230181003 |\n",
       "| poutcome |  0.019750327 |  0.0115042564 |  0.001912068 |  0.0170091842 |  0.023417483 | -0.011782581 | -0.0015110162 |  0.118743611 | -0.065012157 |  0.0187319515 | ... |  0.0325860354 | -0.4756188510 | -0.313110205 |  1.000000000 |  0.172637517 |  0.180117363 |  0.186706225 |  0.1533080470 |  0.119751688 |  0.129789470 |\n",
       "| emp.var.rate | -0.016575862 | -0.0153750615 | -0.082879710 | -0.0571703034 |  0.209159350 | -0.059581279 |  0.0023971155 |  0.413064921 | -0.172841180 |  0.0290312058 | ... |  0.1459847826 |  0.2910948901 | -0.425266571 |  0.172637517 |  1.000000000 |  0.606969366 |  0.140674802 |  0.9293452681 |  0.896748380 | -0.315255697 |\n",
       "| cons.price.idx |  0.045492424 |  0.0131364683 | -0.058244816 | -0.0096938036 |  0.104001767 | -0.060201318 | -0.0070043482 |  0.428343049 | -0.189730693 | -0.0186704914 | ... |  0.0887685001 |  0.0138463767 | -0.109034869 |  0.180117363 |  0.606969366 |  1.000000000 |  0.081006940 |  0.5258252282 |  0.424290069 | -0.068974860 |\n",
       "| cons.conf.idx |  0.127882955 |  0.0509813384 | -0.033370199 |  0.0734428814 |  0.031173429 | -0.037605239 | -0.0121547729 |  0.271664879 |  0.010597504 |  0.0417540143 | ... | -0.0074138092 | -0.0922097957 | -0.056066369 |  0.186706225 |  0.140674802 |  0.081006940 |  1.000000000 |  0.2168517944 |  0.109939811 |  0.055757271 |\n",
       "| euribor3m |  0.001020807 | -0.0127281636 | -0.094383522 | -0.0381330264 |  0.187651595 | -0.052844782 |  0.0001671285 |  0.374529444 | -0.049698338 |  0.0369657636 | ... |  0.1234638375 |  0.3199024977 | -0.457913314 |  0.153308047 |  0.929345268 |  0.525825228 |  0.216851794 |  1.0000000000 |  0.951086352 | -0.327421837 |\n",
       "| nr.employed | -0.017917462 | -0.0196656547 | -0.086150569 | -0.0417979916 |  0.190183623 | -0.045964314 |  0.0039238231 |  0.269908100 | -0.222280627 |  0.0283171723 | ... |  0.1442985736 |  0.3729509190 | -0.501779870 |  0.119751688 |  0.896748380 |  0.424290069 |  0.109939811 |  0.9510863516 |  1.000000000 | -0.354924685 |\n",
       "| y |  0.030398803 |  0.0251221699 |  0.046202607 |  0.0577988927 | -0.099351798 |  0.011551686 | -0.0049085933 | -0.144773056 | -0.006064778 |  0.0159671898 | ... | -0.0663574148 | -0.3249144776 |  0.230181003 |  0.129789470 | -0.315255697 | -0.068974860 |  0.055757271 | -0.3274218368 | -0.354924685 |  1.000000000 |\n",
       "\n"
      ],
      "text/plain": [
       "               age          job           marital      education    \n",
       "age             1.000000000  0.0012495914 -0.389753255 -0.1178920140\n",
       "job             0.001249591  1.0000000000  0.027897495  0.1341209518\n",
       "marital        -0.389753255  0.0278974953  1.000000000  0.1092195115\n",
       "education      -0.117892014  0.1341209518  0.109219511  1.0000000000\n",
       "default         0.164965292 -0.0282772477 -0.079450057 -0.1868587547\n",
       "housing        -0.001603329  0.0069620661  0.010466826  0.0168254780\n",
       "loan           -0.007368155 -0.0102088867  0.005788158  0.0063837076\n",
       "contact         0.007020948 -0.0251320719 -0.054500920 -0.1057256776\n",
       "month          -0.024877246 -0.0332133053 -0.007628582 -0.0826836245\n",
       "day_of_week    -0.017571507 -0.0008441851  0.002201850 -0.0179863714\n",
       "duration       -0.000865705 -0.0064896410  0.010290443 -0.0151020736\n",
       "campaign        0.004593580 -0.0069232951 -0.007240493  0.0003706314\n",
       "pdays          -0.034368951 -0.0284677429 -0.037941728 -0.0466261293\n",
       "previous        0.024364741  0.0209649079  0.038689373  0.0388313129\n",
       "poutcome        0.019750327  0.0115042564  0.001912068  0.0170091842\n",
       "emp.var.rate   -0.016575862 -0.0153750615 -0.082879710 -0.0571703034\n",
       "cons.price.idx  0.045492424  0.0131364683 -0.058244816 -0.0096938036\n",
       "cons.conf.idx   0.127882955  0.0509813384 -0.033370199  0.0734428814\n",
       "euribor3m       0.001020807 -0.0127281636 -0.094383522 -0.0381330264\n",
       "nr.employed    -0.017917462 -0.0196656547 -0.086150569 -0.0417979916\n",
       "y               0.030398803  0.0251221699  0.046202607  0.0577988927\n",
       "               default      housing      loan          contact     \n",
       "age             0.164965292 -0.001603329 -0.0073681548  0.007020948\n",
       "job            -0.028277248  0.006962066 -0.0102088867 -0.025132072\n",
       "marital        -0.079450057  0.010466826  0.0057881585 -0.054500920\n",
       "education      -0.186858755  0.016825478  0.0063837076 -0.105725678\n",
       "default         1.000000000 -0.015814545 -0.0037820611  0.135237728\n",
       "housing        -0.015814545  1.000000000  0.0442958069 -0.082185681\n",
       "loan           -0.003782061  0.044295807  1.0000000000 -0.008556335\n",
       "contact         0.135237728 -0.082185681 -0.0085563347  1.000000000\n",
       "month          -0.015829785 -0.018140803 -0.0057052364  0.276564568\n",
       "day_of_week    -0.008700921  0.003338940 -0.0093441852 -0.009575465\n",
       "duration       -0.011794197 -0.007658347 -0.0009162984 -0.026656806\n",
       "campaign        0.032824536 -0.011010006  0.0051655359  0.077367537\n",
       "pdays           0.080061684 -0.010550683  0.0003450298  0.117970321\n",
       "previous       -0.102416455  0.021313699 -0.0013274063 -0.212847787\n",
       "poutcome        0.023417483 -0.011782581 -0.0015110162  0.118743611\n",
       "emp.var.rate    0.209159350 -0.059581279  0.0023971155  0.413064921\n",
       "cons.price.idx  0.104001767 -0.060201318 -0.0070043482  0.428343049\n",
       "cons.conf.idx   0.031173429 -0.037605239 -0.0121547729  0.271664879\n",
       "euribor3m       0.187651595 -0.052844782  0.0001671285  0.374529444\n",
       "nr.employed     0.190183623 -0.045964314  0.0039238231  0.269908100\n",
       "y              -0.099351798  0.011551686 -0.0049085933 -0.144773056\n",
       "               month        day_of_week   ... campaign      pdays        \n",
       "age            -0.024877246 -0.0175715068 ...  0.0045935805 -0.0343689512\n",
       "job            -0.033213305 -0.0008441851 ... -0.0069232951 -0.0284677429\n",
       "marital        -0.007628582  0.0022018496 ... -0.0072404930 -0.0379417279\n",
       "education      -0.082683625 -0.0179863714 ...  0.0003706314 -0.0466261293\n",
       "default        -0.015829785 -0.0087009210 ...  0.0328245362  0.0800616841\n",
       "housing        -0.018140803  0.0033389395 ... -0.0110100056 -0.0105506834\n",
       "loan           -0.005705236 -0.0093441852 ...  0.0051655359  0.0003450298\n",
       "contact         0.276564568 -0.0095754648 ...  0.0773675370  0.1179703208\n",
       "month           1.000000000  0.0276770525 ... -0.0620588013 -0.0478910005\n",
       "day_of_week     0.027677052  1.0000000000 ... -0.0382875200 -0.0095306060\n",
       "duration        0.003689985  0.0219496366 ... -0.0716992263 -0.0475770154\n",
       "campaign       -0.062058801 -0.0382875200 ...  1.0000000000  0.0525835734\n",
       "pdays          -0.047891000 -0.0095306060 ...  0.0525835734  1.0000000000\n",
       "previous        0.103156555 -0.0041022600 ... -0.0791414724 -0.5875138561\n",
       "poutcome       -0.065012157  0.0187319515 ...  0.0325860354 -0.4756188510\n",
       "emp.var.rate   -0.172841180  0.0290312058 ...  0.1459847826  0.2910948901\n",
       "cons.price.idx -0.189730693 -0.0186704914 ...  0.0887685001  0.0138463767\n",
       "cons.conf.idx   0.010597504  0.0417540143 ... -0.0074138092 -0.0922097957\n",
       "euribor3m      -0.049698338  0.0369657636 ...  0.1234638375  0.3199024977\n",
       "nr.employed    -0.222280627  0.0283171723 ...  0.1442985736  0.3729509190\n",
       "y              -0.006064778  0.0159671898 ... -0.0663574148 -0.3249144776\n",
       "               previous     poutcome     emp.var.rate cons.price.idx\n",
       "age             0.024364741  0.019750327 -0.016575862  0.045492424  \n",
       "job             0.020964908  0.011504256 -0.015375061  0.013136468  \n",
       "marital         0.038689373  0.001912068 -0.082879710 -0.058244816  \n",
       "education       0.038831313  0.017009184 -0.057170303 -0.009693804  \n",
       "default        -0.102416455  0.023417483  0.209159350  0.104001767  \n",
       "housing         0.021313699 -0.011782581 -0.059581279 -0.060201318  \n",
       "loan           -0.001327406 -0.001511016  0.002397115 -0.007004348  \n",
       "contact        -0.212847787  0.118743611  0.413064921  0.428343049  \n",
       "month           0.103156555 -0.065012157 -0.172841180 -0.189730693  \n",
       "day_of_week    -0.004102260  0.018731952  0.029031206 -0.018670491  \n",
       "duration        0.020640351  0.033360435 -0.027835455 -0.001061290  \n",
       "campaign       -0.079141472  0.032586035  0.145984783  0.088768500  \n",
       "pdays          -0.587513856 -0.475618851  0.291094890  0.013846377  \n",
       "previous        1.000000000 -0.313110205 -0.425266571 -0.109034869  \n",
       "poutcome       -0.313110205  1.000000000  0.172637517  0.180117363  \n",
       "emp.var.rate   -0.425266571  0.172637517  1.000000000  0.606969366  \n",
       "cons.price.idx -0.109034869  0.180117363  0.606969366  1.000000000  \n",
       "cons.conf.idx  -0.056066369  0.186706225  0.140674802  0.081006940  \n",
       "euribor3m      -0.457913314  0.153308047  0.929345268  0.525825228  \n",
       "nr.employed    -0.501779870  0.119751688  0.896748380  0.424290069  \n",
       "y               0.230181003  0.129789470 -0.315255697 -0.068974860  \n",
       "               cons.conf.idx euribor3m     nr.employed  y           \n",
       "age             0.127882955   0.0010208069 -0.017917462  0.030398803\n",
       "job             0.050981338  -0.0127281636 -0.019665655  0.025122170\n",
       "marital        -0.033370199  -0.0943835224 -0.086150569  0.046202607\n",
       "education       0.073442881  -0.0381330264 -0.041797992  0.057798893\n",
       "default         0.031173429   0.1876515953  0.190183623 -0.099351798\n",
       "housing        -0.037605239  -0.0528447818 -0.045964314  0.011551686\n",
       "loan           -0.012154773   0.0001671285  0.003923823 -0.004908593\n",
       "contact         0.271664879   0.3745294436  0.269908100 -0.144773056\n",
       "month           0.010597504  -0.0496983379 -0.222280627 -0.006064778\n",
       "day_of_week     0.041754014   0.0369657636  0.028317172  0.015967190\n",
       "duration       -0.007015401  -0.0354840291 -0.044679588  0.405273801\n",
       "campaign       -0.007413809   0.1234638375  0.144298574 -0.066357415\n",
       "pdays          -0.092209796   0.3199024977  0.372950919 -0.324914478\n",
       "previous       -0.056066369  -0.4579133143 -0.501779870  0.230181003\n",
       "poutcome        0.186706225   0.1533080470  0.119751688  0.129789470\n",
       "emp.var.rate    0.140674802   0.9293452681  0.896748380 -0.315255697\n",
       "cons.price.idx  0.081006940   0.5258252282  0.424290069 -0.068974860\n",
       "cons.conf.idx   1.000000000   0.2168517944  0.109939811  0.055757271\n",
       "euribor3m       0.216851794   1.0000000000  0.951086352 -0.327421837\n",
       "nr.employed     0.109939811   0.9510863516  1.000000000 -0.354924685\n",
       "y               0.055757271  -0.3274218368 -0.354924685  1.000000000"
      ]
     },
     "metadata": {},
     "output_type": "display_data"
    }
   ],
   "source": [
    "cor(bank_cor,method = 'pearson')"
   ]
  },
  {
   "cell_type": "code",
   "execution_count": 232,
   "id": "23dd2042",
   "metadata": {},
   "outputs": [
    {
     "name": "stdout",
     "output_type": "stream",
     "text": [
      "[1] \"jobs vs Y\"\n"
     ]
    },
    {
     "data": {
      "text/plain": [
       "               y\n",
       "job               no  yes\n",
       "  admin.        9070 1352\n",
       "  blue-collar   8616  638\n",
       "  entrepreneur  1332  124\n",
       "  housemaid      954  106\n",
       "  management    2596  328\n",
       "  retired       1286  434\n",
       "  self-employed 1272  149\n",
       "  services      3646  323\n",
       "  student        600  275\n",
       "  technician    6013  730\n",
       "  unemployed     870  144\n",
       "  unknown        293   37"
      ]
     },
     "metadata": {},
     "output_type": "display_data"
    }
   ],
   "source": [
    "print('jobs vs Y')\n",
    "cross <- xtabs(~ job+y, data = train_df)\n",
    "cross"
   ]
  },
  {
   "cell_type": "code",
   "execution_count": 233,
   "id": "0bc07f86",
   "metadata": {},
   "outputs": [
    {
     "name": "stdout",
     "output_type": "stream",
     "text": [
      "[1] \"Yes / No\"\n"
     ]
    },
    {
     "data": {
      "text/html": [
       "<style>\n",
       ".dl-inline {width: auto; margin:0; padding: 0}\n",
       ".dl-inline>dt, .dl-inline>dd {float: none; width: auto; display: inline-block}\n",
       ".dl-inline>dt::after {content: \":\\0020\"; padding-right: .5ex}\n",
       ".dl-inline>dt:not(:first-of-type) {padding-left: .5ex}\n",
       "</style><dl class=dl-inline><dt>admin.</dt><dd>14.91</dd><dt>blue-collar</dt><dd>7.4</dd><dt>entrepreneur</dt><dd>9.31</dd><dt>housemaid</dt><dd>11.11</dd><dt>management</dt><dd>12.63</dd><dt>retired</dt><dd>33.75</dd><dt>self-employed</dt><dd>11.71</dd><dt>services</dt><dd>8.86</dd><dt>student</dt><dd>45.83</dd><dt>technician</dt><dd>12.14</dd><dt>unemployed</dt><dd>16.55</dd><dt>unknown</dt><dd>12.63</dd></dl>\n"
      ],
      "text/latex": [
       "\\begin{description*}\n",
       "\\item[admin.] 14.91\n",
       "\\item[blue-collar] 7.4\n",
       "\\item[entrepreneur] 9.31\n",
       "\\item[housemaid] 11.11\n",
       "\\item[management] 12.63\n",
       "\\item[retired] 33.75\n",
       "\\item[self-employed] 11.71\n",
       "\\item[services] 8.86\n",
       "\\item[student] 45.83\n",
       "\\item[technician] 12.14\n",
       "\\item[unemployed] 16.55\n",
       "\\item[unknown] 12.63\n",
       "\\end{description*}\n"
      ],
      "text/markdown": [
       "admin.\n",
       ":   14.91blue-collar\n",
       ":   7.4entrepreneur\n",
       ":   9.31housemaid\n",
       ":   11.11management\n",
       ":   12.63retired\n",
       ":   33.75self-employed\n",
       ":   11.71services\n",
       ":   8.86student\n",
       ":   45.83technician\n",
       ":   12.14unemployed\n",
       ":   16.55unknown\n",
       ":   12.63\n",
       "\n"
      ],
      "text/plain": [
       "       admin.   blue-collar  entrepreneur     housemaid    management \n",
       "        14.91          7.40          9.31         11.11         12.63 \n",
       "      retired self-employed      services       student    technician \n",
       "        33.75         11.71          8.86         45.83         12.14 \n",
       "   unemployed       unknown \n",
       "        16.55         12.63 "
      ]
     },
     "metadata": {},
     "output_type": "display_data"
    }
   ],
   "source": [
    "print('Yes / No')\n",
    "round(cross[1:12,2]/cross[1:12,1] *100,2)"
   ]
  },
  {
   "cell_type": "code",
   "execution_count": 234,
   "id": "b1565313",
   "metadata": {},
   "outputs": [
    {
     "data": {
      "text/plain": [
       "                     y\n",
       "education                no   yes\n",
       "  basic.4y             3748   428\n",
       "  basic.6y             2104   188\n",
       "  basic.9y             5572   473\n",
       "  high.school          8484  1031\n",
       "  illiterate             14     4\n",
       "  professional.course  4648   595\n",
       "  university.degree   10498  1670\n",
       "  unknown              1480   251"
      ]
     },
     "metadata": {},
     "output_type": "display_data"
    }
   ],
   "source": [
    "cross <- xtabs(~ education+y, data = train_df)\n",
    "cross"
   ]
  },
  {
   "cell_type": "code",
   "execution_count": 229,
   "id": "5645d022",
   "metadata": {},
   "outputs": [
    {
     "name": "stdout",
     "output_type": "stream",
     "text": [
      "[1] \"Yes / No\"\n"
     ]
    },
    {
     "data": {
      "text/html": [
       "<style>\n",
       ".dl-inline {width: auto; margin:0; padding: 0}\n",
       ".dl-inline>dt, .dl-inline>dd {float: none; width: auto; display: inline-block}\n",
       ".dl-inline>dt::after {content: \":\\0020\"; padding-right: .5ex}\n",
       ".dl-inline>dt:not(:first-of-type) {padding-left: .5ex}\n",
       "</style><dl class=dl-inline><dt>basic.4y</dt><dd>11.42</dd><dt>basic.6y</dt><dd>8.94</dd><dt>basic.9y</dt><dd>8.49</dd><dt>high.school</dt><dd>12.15</dd><dt>illiterate</dt><dd>28.57</dd><dt>professional.course</dt><dd>12.8</dd><dt>university.degree</dt><dd>15.91</dd><dt>unknown</dt><dd>16.96</dd></dl>\n"
      ],
      "text/latex": [
       "\\begin{description*}\n",
       "\\item[basic.4y] 11.42\n",
       "\\item[basic.6y] 8.94\n",
       "\\item[basic.9y] 8.49\n",
       "\\item[high.school] 12.15\n",
       "\\item[illiterate] 28.57\n",
       "\\item[professional.course] 12.8\n",
       "\\item[university.degree] 15.91\n",
       "\\item[unknown] 16.96\n",
       "\\end{description*}\n"
      ],
      "text/markdown": [
       "basic.4y\n",
       ":   11.42basic.6y\n",
       ":   8.94basic.9y\n",
       ":   8.49high.school\n",
       ":   12.15illiterate\n",
       ":   28.57professional.course\n",
       ":   12.8university.degree\n",
       ":   15.91unknown\n",
       ":   16.96\n",
       "\n"
      ],
      "text/plain": [
       "           basic.4y            basic.6y            basic.9y         high.school \n",
       "              11.42                8.94                8.49               12.15 \n",
       "         illiterate professional.course   university.degree             unknown \n",
       "              28.57               12.80               15.91               16.96 "
      ]
     },
     "metadata": {},
     "output_type": "display_data"
    }
   ],
   "source": [
    "print('Yes / No')\n",
    "round(cross[1:8,2]/cross[1:8,1] *100,2)"
   ]
  },
  {
   "cell_type": "code",
   "execution_count": 36,
   "id": "41503a07",
   "metadata": {},
   "outputs": [
    {
     "data": {
      "text/plain": [
       "           y\n",
       "day_of_week   no  yes\n",
       "        fri 6981  846\n",
       "        mon 7667  847\n",
       "        thu 7578 1045\n",
       "        tue 7137  953\n",
       "        wed 7185  949"
      ]
     },
     "metadata": {},
     "output_type": "display_data"
    }
   ],
   "source": [
    "cross <- xtabs(~ day_of_week+y, data = train_df)\n",
    "cross"
   ]
  },
  {
   "cell_type": "code",
   "execution_count": 37,
   "id": "4fd27be7",
   "metadata": {},
   "outputs": [
    {
     "name": "stdout",
     "output_type": "stream",
     "text": [
      "[1] \"Yes / No\"\n"
     ]
    },
    {
     "data": {
      "text/html": [
       "<dl class=dl-horizontal>\n",
       "\t<dt>fri</dt>\n",
       "\t\t<dd>12.12</dd>\n",
       "\t<dt>mon</dt>\n",
       "\t\t<dd>11.05</dd>\n",
       "\t<dt>thu</dt>\n",
       "\t\t<dd>13.79</dd>\n",
       "\t<dt>tue</dt>\n",
       "\t\t<dd>13.35</dd>\n",
       "\t<dt>wed</dt>\n",
       "\t\t<dd>13.21</dd>\n",
       "</dl>\n"
      ],
      "text/latex": [
       "\\begin{description*}\n",
       "\\item[fri] 12.12\n",
       "\\item[mon] 11.05\n",
       "\\item[thu] 13.79\n",
       "\\item[tue] 13.35\n",
       "\\item[wed] 13.21\n",
       "\\end{description*}\n"
      ],
      "text/markdown": [
       "fri\n",
       ":   12.12mon\n",
       ":   11.05thu\n",
       ":   13.79tue\n",
       ":   13.35wed\n",
       ":   13.21\n",
       "\n"
      ],
      "text/plain": [
       "  fri   mon   thu   tue   wed \n",
       "12.12 11.05 13.79 13.35 13.21 "
      ]
     },
     "metadata": {},
     "output_type": "display_data"
    },
    {
     "data": {
      "text/html": [
       "<dl class=dl-horizontal>\n",
       "\t<dt>fri</dt>\n",
       "\t\t<dd>7827</dd>\n",
       "\t<dt>mon</dt>\n",
       "\t\t<dd>8514</dd>\n",
       "\t<dt>thu</dt>\n",
       "\t\t<dd>8623</dd>\n",
       "\t<dt>tue</dt>\n",
       "\t\t<dd>8090</dd>\n",
       "\t<dt>wed</dt>\n",
       "\t\t<dd>8134</dd>\n",
       "</dl>\n"
      ],
      "text/latex": [
       "\\begin{description*}\n",
       "\\item[fri] 7827\n",
       "\\item[mon] 8514\n",
       "\\item[thu] 8623\n",
       "\\item[tue] 8090\n",
       "\\item[wed] 8134\n",
       "\\end{description*}\n"
      ],
      "text/markdown": [
       "fri\n",
       ":   7827mon\n",
       ":   8514thu\n",
       ":   8623tue\n",
       ":   8090wed\n",
       ":   8134\n",
       "\n"
      ],
      "text/plain": [
       " fri  mon  thu  tue  wed \n",
       "7827 8514 8623 8090 8134 "
      ]
     },
     "metadata": {},
     "output_type": "display_data"
    }
   ],
   "source": [
    "print('Yes / No')\n",
    "round(cross[1:5,2]/cross[1:5,1] *100,2)\n",
    "cross[1:5,2]+cross[1:5,1] "
   ]
  },
  {
   "cell_type": "code",
   "execution_count": 235,
   "id": "41d1513d",
   "metadata": {},
   "outputs": [
    {
     "name": "stdout",
     "output_type": "stream",
     "text": [
      "\n",
      "\t5-sample test for equality of proportions without continuity\n",
      "\tcorrection\n",
      "\n",
      "data:  c(846, 847, 1045, 953, 949) out of c(7827, 8514, 8623, 8090, 8134)\n",
      "X-squared = 26.145, df = 4, p-value = 0.00002958\n",
      "alternative hypothesis: two.sided\n",
      "sample estimates:\n",
      "   prop 1    prop 2    prop 3    prop 4    prop 5 \n",
      "0.1080874 0.0994832 0.1211875 0.1177998 0.1166708 \n",
      "\n"
     ]
    }
   ],
   "source": [
    "options(scipen=5)\n",
    "#teste de  proporção\n",
    "resultado <- prop.test(x = c(846,847,1045,953,949), n =c(7827,8514,8623,8090,8134))\n",
    "# Mostrando o resultado\n",
    "print(resultado)\n"
   ]
  },
  {
   "cell_type": "markdown",
   "id": "4518f74e",
   "metadata": {},
   "source": [
    "O p-valor do teste é 0.00002958, que é menor que o nível de significância alfa = 0,01. Podemos concluir que a proporção de adesão a campanha é estatisticamente diferente para os dias da semana\n",
    "\n"
   ]
  },
  {
   "cell_type": "code",
   "execution_count": 236,
   "id": "b5fdba5e",
   "metadata": {},
   "outputs": [
    {
     "data": {
      "text/plain": [
       "        y\n",
       "campaign    no   yes\n",
       "      1  15342  2300\n",
       "      2   9359  1211\n",
       "      3   4767   574\n",
       "      4   2402   249\n",
       "      5   1479   120\n",
       "      6    904    75\n",
       "      7    591    38\n",
       "      8    383    17\n",
       "      9    266    17\n",
       "      10   213    12\n",
       "      11   165    12\n",
       "      12   122     3\n",
       "      13    88     4\n",
       "      14    68     1\n",
       "      15    49     2\n",
       "      16    51     0\n",
       "      17    54     4\n",
       "      18    33     0\n",
       "      19    26     0\n",
       "      20    30     0\n",
       "      21    24     0\n",
       "      22    17     0\n",
       "      23    15     1\n",
       "      24    15     0\n",
       "      25     8     0\n",
       "      26     8     0\n",
       "      27    11     0\n",
       "      28     8     0\n",
       "      29    10     0\n",
       "      30     7     0\n",
       "      31     7     0\n",
       "      32     4     0\n",
       "      33     4     0\n",
       "      34     3     0\n",
       "      35     5     0\n",
       "      37     1     0\n",
       "      39     1     0\n",
       "      40     2     0\n",
       "      41     1     0\n",
       "      42     2     0\n",
       "      43     2     0\n",
       "      56     1     0"
      ]
     },
     "metadata": {},
     "output_type": "display_data"
    }
   ],
   "source": [
    "cross <- xtabs(~ campaign+y, data = train_df)\n",
    "cross"
   ]
  },
  {
   "cell_type": "markdown",
   "id": "db8c72ae",
   "metadata": {},
   "source": [
    "## 3) Aplicar um modelo (visto em aula ou não) para entregar uma resposta embasada à pergunta apresentada. Documentar a aplicação do modelo."
   ]
  },
  {
   "cell_type": "markdown",
   "id": "348259f2",
   "metadata": {},
   "source": [
    "Aplicaremos o modelo Regressão Logistica para obter estimativas de propensão ao fim do processo\n",
    "\n",
    " Também aplicaremos  o balanceamento de Classes utilizando o método SMOTE  para gerar dados sintéticos da classe minoritária no dataset e verificar qual modelo se ajusta melhor em métricas de sensibilidade a classe positiva"
   ]
  },
  {
   "cell_type": "markdown",
   "id": "1989b71f",
   "metadata": {},
   "source": [
    "### Feature Enginering "
   ]
  },
  {
   "cell_type": "markdown",
   "id": "561233a0",
   "metadata": {},
   "source": [
    "#### Tratando Age"
   ]
  },
  {
   "cell_type": "code",
   "execution_count": 504,
   "id": "255f438f",
   "metadata": {},
   "outputs": [
    {
     "name": "stdout",
     "output_type": "stream",
     "text": [
      "[1] \"Valores únicos :\"\n"
     ]
    },
    {
     "data": {
      "text/html": [
       "78"
      ],
      "text/latex": [
       "78"
      ],
      "text/markdown": [
       "78"
      ],
      "text/plain": [
       "[1] 78"
      ]
     },
     "metadata": {},
     "output_type": "display_data"
    },
    {
     "name": "stdout",
     "output_type": "stream",
     "text": [
      "[1] \"numero de classes Raiz(número de únicos) :\"\n"
     ]
    },
    {
     "data": {
      "text/html": [
       "8.83176086632785"
      ],
      "text/latex": [
       "8.83176086632785"
      ],
      "text/markdown": [
       "8.83176086632785"
      ],
      "text/plain": [
       "[1] 8.831761"
      ]
     },
     "metadata": {},
     "output_type": "display_data"
    },
    {
     "name": "stdout",
     "output_type": "stream",
     "text": [
      "[1] \"Máximos e Mínimos\"\n"
     ]
    },
    {
     "data": {
      "text/html": [
       "98"
      ],
      "text/latex": [
       "98"
      ],
      "text/markdown": [
       "98"
      ],
      "text/plain": [
       "[1] 98"
      ]
     },
     "metadata": {},
     "output_type": "display_data"
    },
    {
     "data": {
      "text/html": [
       "17"
      ],
      "text/latex": [
       "17"
      ],
      "text/markdown": [
       "17"
      ],
      "text/plain": [
       "[1] 17"
      ]
     },
     "metadata": {},
     "output_type": "display_data"
    },
    {
     "name": "stdout",
     "output_type": "stream",
     "text": [
      "[1] \"intervalo entre as classes : \"\n"
     ]
    },
    {
     "data": {
      "text/html": [
       "9.17144397657122"
      ],
      "text/latex": [
       "9.17144397657122"
      ],
      "text/markdown": [
       "9.17144397657122"
      ],
      "text/plain": [
       "[1] 9.171444"
      ]
     },
     "metadata": {},
     "output_type": "display_data"
    },
    {
     "data": {
      "text/plain": [
       "   Min. 1st Qu.  Median    Mean 3rd Qu.    Max. \n",
       "  17.00   32.00   38.00   40.02   47.00   98.00 "
      ]
     },
     "metadata": {},
     "output_type": "display_data"
    }
   ],
   "source": [
    "print('Valores únicos :')\n",
    "length((unique(train_df$age)))\n",
    "print('numero de classes Raiz(número de únicos) :')\n",
    "sqrt(length((unique(train_df$age))))\n",
    "print('Máximos e Mínimos')\n",
    "max(train_df$age)\n",
    "min(train_df$age)\n",
    "classes = (max(train_df$age) -  min(train_df$age)) /sqrt(length((unique(train_df$age))))\n",
    "print('intervalo entre as classes : ')\n",
    "classes\n",
    "\n",
    "age_i = summary(train_df$age,)\n",
    "age_i\n",
    "#print('Adotaremos um intervalo de 10 anos')"
   ]
  },
  {
   "cell_type": "code",
   "execution_count": 506,
   "id": "db33bbe0",
   "metadata": {},
   "outputs": [],
   "source": [
    "train_df$age_bin <-  ifelse(train_df$age >= 0 & train_df$age < 17, \"<17\",\n",
    "                            ifelse(train_df$age >= 17 & train_df$age <= 20, \"17-20\",\n",
    "                                   ifelse(train_df$age >= 21 & train_df$age <= 30, \"21-30\",\n",
    "                                          ifelse(train_df$age >= 21 & train_df$age <= 30, \"21-30\",\n",
    "                                                 ifelse(train_df$age >= 31 & train_df$age <= 40, \"31-40\",\n",
    "                                                        ifelse(train_df$age >= 41 & train_df$age <= 50, \"41-50\",\n",
    "                                                               ifelse(train_df$age >= 51 & train_df$age <= 60, \"51-60\", \n",
    "                                                                      ifelse(train_df$age >= 61 & train_df$age <= 70, \"61-70\",\n",
    "                                                                             ifelse(train_df$age >= 71 & train_df$age <= 80, \"71-80\", \n",
    "                                                                                    ifelse(train_df$age >= 81, \"80+\", 'unknown'))))))))))"
   ]
  },
  {
   "cell_type": "code",
   "execution_count": 367,
   "id": "c8af14f9",
   "metadata": {},
   "outputs": [
    {
     "data": {
      "text/html": [
       "<table class=\"dataframe\">\n",
       "<caption>A data.frame: 78 × 2</caption>\n",
       "<thead>\n",
       "\t<tr><th></th><th scope=col>age</th><th scope=col>age_bin</th></tr>\n",
       "\t<tr><th></th><th scope=col>&lt;int&gt;</th><th scope=col>&lt;chr&gt;</th></tr>\n",
       "</thead>\n",
       "<tbody>\n",
       "\t<tr><th scope=row>1</th><td>56</td><td>51-60</td></tr>\n",
       "\t<tr><th scope=row>2</th><td>57</td><td>51-60</td></tr>\n",
       "\t<tr><th scope=row>3</th><td>37</td><td>31-40</td></tr>\n",
       "\t<tr><th scope=row>4</th><td>40</td><td>31-40</td></tr>\n",
       "\t<tr><th scope=row>6</th><td>45</td><td>41-40</td></tr>\n",
       "\t<tr><th scope=row>7</th><td>59</td><td>51-60</td></tr>\n",
       "\t<tr><th scope=row>8</th><td>41</td><td>41-40</td></tr>\n",
       "\t<tr><th scope=row>9</th><td>24</td><td>21-30</td></tr>\n",
       "\t<tr><th scope=row>10</th><td>25</td><td>21-30</td></tr>\n",
       "\t<tr><th scope=row>13</th><td>29</td><td>21-30</td></tr>\n",
       "\t<tr><th scope=row>15</th><td>35</td><td>31-40</td></tr>\n",
       "\t<tr><th scope=row>16</th><td>54</td><td>51-60</td></tr>\n",
       "\t<tr><th scope=row>18</th><td>46</td><td>41-40</td></tr>\n",
       "\t<tr><th scope=row>19</th><td>50</td><td>41-40</td></tr>\n",
       "\t<tr><th scope=row>20</th><td>39</td><td>31-40</td></tr>\n",
       "\t<tr><th scope=row>21</th><td>30</td><td>21-30</td></tr>\n",
       "\t<tr><th scope=row>22</th><td>55</td><td>51-60</td></tr>\n",
       "\t<tr><th scope=row>33</th><td>49</td><td>41-40</td></tr>\n",
       "\t<tr><th scope=row>37</th><td>34</td><td>31-40</td></tr>\n",
       "\t<tr><th scope=row>38</th><td>52</td><td>51-60</td></tr>\n",
       "\t<tr><th scope=row>41</th><td>58</td><td>51-60</td></tr>\n",
       "\t<tr><th scope=row>42</th><td>32</td><td>31-40</td></tr>\n",
       "\t<tr><th scope=row>43</th><td>38</td><td>31-40</td></tr>\n",
       "\t<tr><th scope=row>45</th><td>44</td><td>41-40</td></tr>\n",
       "\t<tr><th scope=row>46</th><td>42</td><td>41-40</td></tr>\n",
       "\t<tr><th scope=row>53</th><td>60</td><td>51-60</td></tr>\n",
       "\t<tr><th scope=row>54</th><td>53</td><td>51-60</td></tr>\n",
       "\t<tr><th scope=row>61</th><td>47</td><td>41-40</td></tr>\n",
       "\t<tr><th scope=row>62</th><td>51</td><td>51-60</td></tr>\n",
       "\t<tr><th scope=row>65</th><td>48</td><td>41-40</td></tr>\n",
       "\t<tr><th scope=row>...</th><td>...</td><td>...</td></tr>\n",
       "\t<tr><th scope=row>27781</th><td>73</td><td>71-80</td></tr>\n",
       "\t<tr><th scope=row>27801</th><td>88</td><td>80+  </td></tr>\n",
       "\t<tr><th scope=row>27827</th><td>95</td><td>80+  </td></tr>\n",
       "\t<tr><th scope=row>27852</th><td>77</td><td>71-80</td></tr>\n",
       "\t<tr><th scope=row>27867</th><td>68</td><td>61-70</td></tr>\n",
       "\t<tr><th scope=row>27876</th><td>75</td><td>71-80</td></tr>\n",
       "\t<tr><th scope=row>27895</th><td>63</td><td>61-70</td></tr>\n",
       "\t<tr><th scope=row>27951</th><td>80</td><td>71-80</td></tr>\n",
       "\t<tr><th scope=row>27959</th><td>62</td><td>61-70</td></tr>\n",
       "\t<tr><th scope=row>28138</th><td>65</td><td>61-70</td></tr>\n",
       "\t<tr><th scope=row>28221</th><td>72</td><td>71-80</td></tr>\n",
       "\t<tr><th scope=row>28313</th><td>82</td><td>80+  </td></tr>\n",
       "\t<tr><th scope=row>28321</th><td>64</td><td>61-70</td></tr>\n",
       "\t<tr><th scope=row>28505</th><td>71</td><td>71-80</td></tr>\n",
       "\t<tr><th scope=row>28520</th><td>69</td><td>61-70</td></tr>\n",
       "\t<tr><th scope=row>29978</th><td>78</td><td>71-80</td></tr>\n",
       "\t<tr><th scope=row>30007</th><td>85</td><td>80+  </td></tr>\n",
       "\t<tr><th scope=row>30134</th><td>79</td><td>71-80</td></tr>\n",
       "\t<tr><th scope=row>30215</th><td>83</td><td>80+  </td></tr>\n",
       "\t<tr><th scope=row>30226</th><td>81</td><td>80+  </td></tr>\n",
       "\t<tr><th scope=row>36817</th><td>74</td><td>71-80</td></tr>\n",
       "\t<tr><th scope=row>37141</th><td>17</td><td>17-20</td></tr>\n",
       "\t<tr><th scope=row>37744</th><td>87</td><td>80+  </td></tr>\n",
       "\t<tr><th scope=row>38023</th><td>91</td><td>80+  </td></tr>\n",
       "\t<tr><th scope=row>38207</th><td>86</td><td>80+  </td></tr>\n",
       "\t<tr><th scope=row>38453</th><td>98</td><td>80+  </td></tr>\n",
       "\t<tr><th scope=row>38922</th><td>94</td><td>80+  </td></tr>\n",
       "\t<tr><th scope=row>39043</th><td>84</td><td>80+  </td></tr>\n",
       "\t<tr><th scope=row>39656</th><td>92</td><td>80+  </td></tr>\n",
       "\t<tr><th scope=row>39848</th><td>89</td><td>80+  </td></tr>\n",
       "</tbody>\n",
       "</table>\n"
      ],
      "text/latex": [
       "A data.frame: 78 × 2\n",
       "\\begin{tabular}{r|ll}\n",
       "  & age & age\\_bin\\\\\n",
       "  & <int> & <chr>\\\\\n",
       "\\hline\n",
       "\t1 & 56 & 51-60\\\\\n",
       "\t2 & 57 & 51-60\\\\\n",
       "\t3 & 37 & 31-40\\\\\n",
       "\t4 & 40 & 31-40\\\\\n",
       "\t6 & 45 & 41-40\\\\\n",
       "\t7 & 59 & 51-60\\\\\n",
       "\t8 & 41 & 41-40\\\\\n",
       "\t9 & 24 & 21-30\\\\\n",
       "\t10 & 25 & 21-30\\\\\n",
       "\t13 & 29 & 21-30\\\\\n",
       "\t15 & 35 & 31-40\\\\\n",
       "\t16 & 54 & 51-60\\\\\n",
       "\t18 & 46 & 41-40\\\\\n",
       "\t19 & 50 & 41-40\\\\\n",
       "\t20 & 39 & 31-40\\\\\n",
       "\t21 & 30 & 21-30\\\\\n",
       "\t22 & 55 & 51-60\\\\\n",
       "\t33 & 49 & 41-40\\\\\n",
       "\t37 & 34 & 31-40\\\\\n",
       "\t38 & 52 & 51-60\\\\\n",
       "\t41 & 58 & 51-60\\\\\n",
       "\t42 & 32 & 31-40\\\\\n",
       "\t43 & 38 & 31-40\\\\\n",
       "\t45 & 44 & 41-40\\\\\n",
       "\t46 & 42 & 41-40\\\\\n",
       "\t53 & 60 & 51-60\\\\\n",
       "\t54 & 53 & 51-60\\\\\n",
       "\t61 & 47 & 41-40\\\\\n",
       "\t62 & 51 & 51-60\\\\\n",
       "\t65 & 48 & 41-40\\\\\n",
       "\t... & ... & ...\\\\\n",
       "\t27781 & 73 & 71-80\\\\\n",
       "\t27801 & 88 & 80+  \\\\\n",
       "\t27827 & 95 & 80+  \\\\\n",
       "\t27852 & 77 & 71-80\\\\\n",
       "\t27867 & 68 & 61-70\\\\\n",
       "\t27876 & 75 & 71-80\\\\\n",
       "\t27895 & 63 & 61-70\\\\\n",
       "\t27951 & 80 & 71-80\\\\\n",
       "\t27959 & 62 & 61-70\\\\\n",
       "\t28138 & 65 & 61-70\\\\\n",
       "\t28221 & 72 & 71-80\\\\\n",
       "\t28313 & 82 & 80+  \\\\\n",
       "\t28321 & 64 & 61-70\\\\\n",
       "\t28505 & 71 & 71-80\\\\\n",
       "\t28520 & 69 & 61-70\\\\\n",
       "\t29978 & 78 & 71-80\\\\\n",
       "\t30007 & 85 & 80+  \\\\\n",
       "\t30134 & 79 & 71-80\\\\\n",
       "\t30215 & 83 & 80+  \\\\\n",
       "\t30226 & 81 & 80+  \\\\\n",
       "\t36817 & 74 & 71-80\\\\\n",
       "\t37141 & 17 & 17-20\\\\\n",
       "\t37744 & 87 & 80+  \\\\\n",
       "\t38023 & 91 & 80+  \\\\\n",
       "\t38207 & 86 & 80+  \\\\\n",
       "\t38453 & 98 & 80+  \\\\\n",
       "\t38922 & 94 & 80+  \\\\\n",
       "\t39043 & 84 & 80+  \\\\\n",
       "\t39656 & 92 & 80+  \\\\\n",
       "\t39848 & 89 & 80+  \\\\\n",
       "\\end{tabular}\n"
      ],
      "text/markdown": [
       "\n",
       "A data.frame: 78 × 2\n",
       "\n",
       "| <!--/--> | age &lt;int&gt; | age_bin &lt;chr&gt; |\n",
       "|---|---|---|\n",
       "| 1 | 56 | 51-60 |\n",
       "| 2 | 57 | 51-60 |\n",
       "| 3 | 37 | 31-40 |\n",
       "| 4 | 40 | 31-40 |\n",
       "| 6 | 45 | 41-40 |\n",
       "| 7 | 59 | 51-60 |\n",
       "| 8 | 41 | 41-40 |\n",
       "| 9 | 24 | 21-30 |\n",
       "| 10 | 25 | 21-30 |\n",
       "| 13 | 29 | 21-30 |\n",
       "| 15 | 35 | 31-40 |\n",
       "| 16 | 54 | 51-60 |\n",
       "| 18 | 46 | 41-40 |\n",
       "| 19 | 50 | 41-40 |\n",
       "| 20 | 39 | 31-40 |\n",
       "| 21 | 30 | 21-30 |\n",
       "| 22 | 55 | 51-60 |\n",
       "| 33 | 49 | 41-40 |\n",
       "| 37 | 34 | 31-40 |\n",
       "| 38 | 52 | 51-60 |\n",
       "| 41 | 58 | 51-60 |\n",
       "| 42 | 32 | 31-40 |\n",
       "| 43 | 38 | 31-40 |\n",
       "| 45 | 44 | 41-40 |\n",
       "| 46 | 42 | 41-40 |\n",
       "| 53 | 60 | 51-60 |\n",
       "| 54 | 53 | 51-60 |\n",
       "| 61 | 47 | 41-40 |\n",
       "| 62 | 51 | 51-60 |\n",
       "| 65 | 48 | 41-40 |\n",
       "| ... | ... | ... |\n",
       "| 27781 | 73 | 71-80 |\n",
       "| 27801 | 88 | 80+   |\n",
       "| 27827 | 95 | 80+   |\n",
       "| 27852 | 77 | 71-80 |\n",
       "| 27867 | 68 | 61-70 |\n",
       "| 27876 | 75 | 71-80 |\n",
       "| 27895 | 63 | 61-70 |\n",
       "| 27951 | 80 | 71-80 |\n",
       "| 27959 | 62 | 61-70 |\n",
       "| 28138 | 65 | 61-70 |\n",
       "| 28221 | 72 | 71-80 |\n",
       "| 28313 | 82 | 80+   |\n",
       "| 28321 | 64 | 61-70 |\n",
       "| 28505 | 71 | 71-80 |\n",
       "| 28520 | 69 | 61-70 |\n",
       "| 29978 | 78 | 71-80 |\n",
       "| 30007 | 85 | 80+   |\n",
       "| 30134 | 79 | 71-80 |\n",
       "| 30215 | 83 | 80+   |\n",
       "| 30226 | 81 | 80+   |\n",
       "| 36817 | 74 | 71-80 |\n",
       "| 37141 | 17 | 17-20 |\n",
       "| 37744 | 87 | 80+   |\n",
       "| 38023 | 91 | 80+   |\n",
       "| 38207 | 86 | 80+   |\n",
       "| 38453 | 98 | 80+   |\n",
       "| 38922 | 94 | 80+   |\n",
       "| 39043 | 84 | 80+   |\n",
       "| 39656 | 92 | 80+   |\n",
       "| 39848 | 89 | 80+   |\n",
       "\n"
      ],
      "text/plain": [
       "      age age_bin\n",
       "1     56  51-60  \n",
       "2     57  51-60  \n",
       "3     37  31-40  \n",
       "4     40  31-40  \n",
       "6     45  41-40  \n",
       "7     59  51-60  \n",
       "8     41  41-40  \n",
       "9     24  21-30  \n",
       "10    25  21-30  \n",
       "13    29  21-30  \n",
       "15    35  31-40  \n",
       "16    54  51-60  \n",
       "18    46  41-40  \n",
       "19    50  41-40  \n",
       "20    39  31-40  \n",
       "21    30  21-30  \n",
       "22    55  51-60  \n",
       "33    49  41-40  \n",
       "37    34  31-40  \n",
       "38    52  51-60  \n",
       "41    58  51-60  \n",
       "42    32  31-40  \n",
       "43    38  31-40  \n",
       "45    44  41-40  \n",
       "46    42  41-40  \n",
       "53    60  51-60  \n",
       "54    53  51-60  \n",
       "61    47  41-40  \n",
       "62    51  51-60  \n",
       "65    48  41-40  \n",
       "...   ... ...    \n",
       "27781 73  71-80  \n",
       "27801 88  80+    \n",
       "27827 95  80+    \n",
       "27852 77  71-80  \n",
       "27867 68  61-70  \n",
       "27876 75  71-80  \n",
       "27895 63  61-70  \n",
       "27951 80  71-80  \n",
       "27959 62  61-70  \n",
       "28138 65  61-70  \n",
       "28221 72  71-80  \n",
       "28313 82  80+    \n",
       "28321 64  61-70  \n",
       "28505 71  71-80  \n",
       "28520 69  61-70  \n",
       "29978 78  71-80  \n",
       "30007 85  80+    \n",
       "30134 79  71-80  \n",
       "30215 83  80+    \n",
       "30226 81  80+    \n",
       "36817 74  71-80  \n",
       "37141 17  17-20  \n",
       "37744 87  80+    \n",
       "38023 91  80+    \n",
       "38207 86  80+    \n",
       "38453 98  80+    \n",
       "38922 94  80+    \n",
       "39043 84  80+    \n",
       "39656 92  80+    \n",
       "39848 89  80+    "
      ]
     },
     "metadata": {},
     "output_type": "display_data"
    }
   ],
   "source": [
    "#library(dplyr)\n",
    "t <- train_df[!duplicated(train_df[,c('age','age_bin')]),]\n",
    "x <-t %>% select(age,age_bin)\n",
    "unique(x)"
   ]
  },
  {
   "cell_type": "code",
   "execution_count": 507,
   "id": "6e0f66d2",
   "metadata": {
    "scrolled": false
   },
   "outputs": [
    {
     "data": {
      "image/png": "[encoded data removed]",
      "text/plain": [
       "plot without title"
      ]
     },
     "metadata": {
      "image/png": {
       "height": 600,
       "width": 600
      }
     },
     "output_type": "display_data"
    },
    {
     "data": {
      "image/png": "[encoded data removed]",
      "text/plain": [
       "plot without title"
      ]
     },
     "metadata": {
      "image/png": {
       "height": 600,
       "width": 600
      }
     },
     "output_type": "display_data"
    }
   ],
   "source": [
    " options(repr.plot.width = 10, repr.plot.height =10)\n",
    "ggplot(train_df,aes(age,fill=y))+geom_bar()+\n",
    "  ggtitle(\"Age vs Deposit\")->p1\n",
    "p1\n",
    " \n",
    "ggplot(train_df,aes(age_bin,fill=y))+geom_bar()+\n",
    "  ggtitle(\"Age_bin vs Deposit\")->p2\n",
    "p2"
   ]
  },
  {
   "cell_type": "markdown",
   "id": "1f8ed25b",
   "metadata": {},
   "source": [
    "#### Trantando o Campaign"
   ]
  },
  {
   "cell_type": "code",
   "execution_count": 369,
   "id": "bf0f4ea2",
   "metadata": {},
   "outputs": [
    {
     "data": {
      "text/plain": [
       "        y\n",
       "campaign    no   yes\n",
       "      1  15342  2300\n",
       "      2   9359  1211\n",
       "      3   4767   574\n",
       "      4   2402   249\n",
       "      5   1479   120\n",
       "      6    904    75\n",
       "      7    591    38\n",
       "      8    383    17\n",
       "      9    266    17\n",
       "      10   213    12\n",
       "      11   165    12\n",
       "      12   122     3\n",
       "      13    88     4\n",
       "      14    68     1\n",
       "      15    49     2\n",
       "      16    51     0\n",
       "      17    54     4\n",
       "      18    33     0\n",
       "      19    26     0\n",
       "      20    30     0\n",
       "      21    24     0\n",
       "      22    17     0\n",
       "      23    15     1\n",
       "      24    15     0\n",
       "      25     8     0\n",
       "      26     8     0\n",
       "      27    11     0\n",
       "      28     8     0\n",
       "      29    10     0\n",
       "      30     7     0\n",
       "      31     7     0\n",
       "      32     4     0\n",
       "      33     4     0\n",
       "      34     3     0\n",
       "      35     5     0\n",
       "      37     1     0\n",
       "      39     1     0\n",
       "      40     2     0\n",
       "      41     1     0\n",
       "      42     2     0\n",
       "      43     2     0\n",
       "      56     1     0"
      ]
     },
     "metadata": {},
     "output_type": "display_data"
    }
   ],
   "source": [
    "cross <- xtabs(~ campaign+y, data = train_df)\n",
    "cross"
   ]
  },
  {
   "cell_type": "code",
   "execution_count": 370,
   "id": "770564d2",
   "metadata": {},
   "outputs": [
    {
     "name": "stdout",
     "output_type": "stream",
     "text": [
      "    1     2     3     4     5     6     7     8     9    10    11    12    13 \n",
      "14.99 12.94 12.04 10.37  8.11  8.30  6.43  4.44  6.39  5.63  7.27  2.46  4.55 \n",
      "   14    15    16    17    18    19    20    21    22    23    24    25    26 \n",
      " 1.47  4.08  0.00  7.41  0.00  0.00  0.00  0.00  0.00  6.67  0.00  0.00  0.00 \n",
      "   27    28    29    30    31    32    33    34    35    37    39    40    41 \n",
      " 0.00  0.00  0.00  0.00  0.00  0.00  0.00  0.00  0.00  0.00  0.00  0.00  0.00 \n",
      "   42    43    56 \n",
      " 0.00  0.00  0.00 \n"
     ]
    }
   ],
   "source": [
    "conversao =round(cross[1:42,2]/cross[1:42,1] *100,2)\n",
    "print(conversao)"
   ]
  },
  {
   "cell_type": "code",
   "execution_count": 371,
   "id": "7dc913f5",
   "metadata": {},
   "outputs": [
    {
     "data": {
      "image/png": "[encoded data removed]",
      "text/plain": [
       "plot without title"
      ]
     },
     "metadata": {
      "image/png": {
       "height": 300,
       "width": 300
      }
     },
     "output_type": "display_data"
    }
   ],
   "source": [
    "plot(conversao)\n",
    "abline(v = 11, \n",
    "       lty = 3)"
   ]
  },
  {
   "cell_type": "markdown",
   "id": "15041ce5",
   "metadata": {},
   "source": [
    "Com base na inspeção visual, julgamos factível cortar os dados de 11 para cima como um único factor, de modo a reduzir a variancia da variável"
   ]
  },
  {
   "cell_type": "code",
   "execution_count": 372,
   "id": "20ae675a",
   "metadata": {},
   "outputs": [],
   "source": [
    "train_df$campaign_bin <-  ifelse(train_df$campaign >= 1 & train_df$campaign <=11 , train_df$campaign, '11+')\n"
   ]
  },
  {
   "cell_type": "code",
   "execution_count": 373,
   "id": "4feba3db",
   "metadata": {},
   "outputs": [
    {
     "data": {
      "text/html": [
       "<table class=\"dataframe\">\n",
       "<caption>A data.frame: 42 × 2</caption>\n",
       "<thead>\n",
       "\t<tr><th></th><th scope=col>campaign</th><th scope=col>campaign_bin</th></tr>\n",
       "\t<tr><th></th><th scope=col>&lt;int&gt;</th><th scope=col>&lt;chr&gt;</th></tr>\n",
       "</thead>\n",
       "<tbody>\n",
       "\t<tr><th scope=row>1</th><td> 1</td><td>1  </td></tr>\n",
       "\t<tr><th scope=row>29</th><td> 2</td><td>2  </td></tr>\n",
       "\t<tr><th scope=row>102</th><td> 3</td><td>3  </td></tr>\n",
       "\t<tr><th scope=row>279</th><td> 4</td><td>4  </td></tr>\n",
       "\t<tr><th scope=row>333</th><td> 5</td><td>5  </td></tr>\n",
       "\t<tr><th scope=row>695</th><td> 6</td><td>6  </td></tr>\n",
       "\t<tr><th scope=row>888</th><td> 7</td><td>7  </td></tr>\n",
       "\t<tr><th scope=row>1044</th><td> 8</td><td>8  </td></tr>\n",
       "\t<tr><th scope=row>1468</th><td> 9</td><td>9  </td></tr>\n",
       "\t<tr><th scope=row>2184</th><td>10</td><td>10 </td></tr>\n",
       "\t<tr><th scope=row>2190</th><td>11</td><td>11 </td></tr>\n",
       "\t<tr><th scope=row>2235</th><td>12</td><td>11+</td></tr>\n",
       "\t<tr><th scope=row>2555</th><td>13</td><td>11+</td></tr>\n",
       "\t<tr><th scope=row>2632</th><td>19</td><td>11+</td></tr>\n",
       "\t<tr><th scope=row>2982</th><td>18</td><td>11+</td></tr>\n",
       "\t<tr><th scope=row>3220</th><td>23</td><td>11+</td></tr>\n",
       "\t<tr><th scope=row>3361</th><td>14</td><td>11+</td></tr>\n",
       "\t<tr><th scope=row>3371</th><td>22</td><td>11+</td></tr>\n",
       "\t<tr><th scope=row>3439</th><td>25</td><td>11+</td></tr>\n",
       "\t<tr><th scope=row>3485</th><td>16</td><td>11+</td></tr>\n",
       "\t<tr><th scope=row>3533</th><td>17</td><td>11+</td></tr>\n",
       "\t<tr><th scope=row>3540</th><td>15</td><td>11+</td></tr>\n",
       "\t<tr><th scope=row>3873</th><td>20</td><td>11+</td></tr>\n",
       "\t<tr><th scope=row>4108</th><td>56</td><td>11+</td></tr>\n",
       "\t<tr><th scope=row>4115</th><td>39</td><td>11+</td></tr>\n",
       "\t<tr><th scope=row>4140</th><td>35</td><td>11+</td></tr>\n",
       "\t<tr><th scope=row>4169</th><td>42</td><td>11+</td></tr>\n",
       "\t<tr><th scope=row>4651</th><td>28</td><td>11+</td></tr>\n",
       "\t<tr><th scope=row>4898</th><td>26</td><td>11+</td></tr>\n",
       "\t<tr><th scope=row>5338</th><td>27</td><td>11+</td></tr>\n",
       "\t<tr><th scope=row>5565</th><td>32</td><td>11+</td></tr>\n",
       "\t<tr><th scope=row>6535</th><td>21</td><td>11+</td></tr>\n",
       "\t<tr><th scope=row>7278</th><td>24</td><td>11+</td></tr>\n",
       "\t<tr><th scope=row>9014</th><td>29</td><td>11+</td></tr>\n",
       "\t<tr><th scope=row>9060</th><td>31</td><td>11+</td></tr>\n",
       "\t<tr><th scope=row>10428</th><td>30</td><td>11+</td></tr>\n",
       "\t<tr><th scope=row>11034</th><td>41</td><td>11+</td></tr>\n",
       "\t<tr><th scope=row>11594</th><td>37</td><td>11+</td></tr>\n",
       "\t<tr><th scope=row>11770</th><td>40</td><td>11+</td></tr>\n",
       "\t<tr><th scope=row>12643</th><td>33</td><td>11+</td></tr>\n",
       "\t<tr><th scope=row>12698</th><td>34</td><td>11+</td></tr>\n",
       "\t<tr><th scope=row>13448</th><td>43</td><td>11+</td></tr>\n",
       "</tbody>\n",
       "</table>\n"
      ],
      "text/latex": [
       "A data.frame: 42 × 2\n",
       "\\begin{tabular}{r|ll}\n",
       "  & campaign & campaign\\_bin\\\\\n",
       "  & <int> & <chr>\\\\\n",
       "\\hline\n",
       "\t1 &  1 & 1  \\\\\n",
       "\t29 &  2 & 2  \\\\\n",
       "\t102 &  3 & 3  \\\\\n",
       "\t279 &  4 & 4  \\\\\n",
       "\t333 &  5 & 5  \\\\\n",
       "\t695 &  6 & 6  \\\\\n",
       "\t888 &  7 & 7  \\\\\n",
       "\t1044 &  8 & 8  \\\\\n",
       "\t1468 &  9 & 9  \\\\\n",
       "\t2184 & 10 & 10 \\\\\n",
       "\t2190 & 11 & 11 \\\\\n",
       "\t2235 & 12 & 11+\\\\\n",
       "\t2555 & 13 & 11+\\\\\n",
       "\t2632 & 19 & 11+\\\\\n",
       "\t2982 & 18 & 11+\\\\\n",
       "\t3220 & 23 & 11+\\\\\n",
       "\t3361 & 14 & 11+\\\\\n",
       "\t3371 & 22 & 11+\\\\\n",
       "\t3439 & 25 & 11+\\\\\n",
       "\t3485 & 16 & 11+\\\\\n",
       "\t3533 & 17 & 11+\\\\\n",
       "\t3540 & 15 & 11+\\\\\n",
       "\t3873 & 20 & 11+\\\\\n",
       "\t4108 & 56 & 11+\\\\\n",
       "\t4115 & 39 & 11+\\\\\n",
       "\t4140 & 35 & 11+\\\\\n",
       "\t4169 & 42 & 11+\\\\\n",
       "\t4651 & 28 & 11+\\\\\n",
       "\t4898 & 26 & 11+\\\\\n",
       "\t5338 & 27 & 11+\\\\\n",
       "\t5565 & 32 & 11+\\\\\n",
       "\t6535 & 21 & 11+\\\\\n",
       "\t7278 & 24 & 11+\\\\\n",
       "\t9014 & 29 & 11+\\\\\n",
       "\t9060 & 31 & 11+\\\\\n",
       "\t10428 & 30 & 11+\\\\\n",
       "\t11034 & 41 & 11+\\\\\n",
       "\t11594 & 37 & 11+\\\\\n",
       "\t11770 & 40 & 11+\\\\\n",
       "\t12643 & 33 & 11+\\\\\n",
       "\t12698 & 34 & 11+\\\\\n",
       "\t13448 & 43 & 11+\\\\\n",
       "\\end{tabular}\n"
      ],
      "text/markdown": [
       "\n",
       "A data.frame: 42 × 2\n",
       "\n",
       "| <!--/--> | campaign &lt;int&gt; | campaign_bin &lt;chr&gt; |\n",
       "|---|---|---|\n",
       "| 1 |  1 | 1   |\n",
       "| 29 |  2 | 2   |\n",
       "| 102 |  3 | 3   |\n",
       "| 279 |  4 | 4   |\n",
       "| 333 |  5 | 5   |\n",
       "| 695 |  6 | 6   |\n",
       "| 888 |  7 | 7   |\n",
       "| 1044 |  8 | 8   |\n",
       "| 1468 |  9 | 9   |\n",
       "| 2184 | 10 | 10  |\n",
       "| 2190 | 11 | 11  |\n",
       "| 2235 | 12 | 11+ |\n",
       "| 2555 | 13 | 11+ |\n",
       "| 2632 | 19 | 11+ |\n",
       "| 2982 | 18 | 11+ |\n",
       "| 3220 | 23 | 11+ |\n",
       "| 3361 | 14 | 11+ |\n",
       "| 3371 | 22 | 11+ |\n",
       "| 3439 | 25 | 11+ |\n",
       "| 3485 | 16 | 11+ |\n",
       "| 3533 | 17 | 11+ |\n",
       "| 3540 | 15 | 11+ |\n",
       "| 3873 | 20 | 11+ |\n",
       "| 4108 | 56 | 11+ |\n",
       "| 4115 | 39 | 11+ |\n",
       "| 4140 | 35 | 11+ |\n",
       "| 4169 | 42 | 11+ |\n",
       "| 4651 | 28 | 11+ |\n",
       "| 4898 | 26 | 11+ |\n",
       "| 5338 | 27 | 11+ |\n",
       "| 5565 | 32 | 11+ |\n",
       "| 6535 | 21 | 11+ |\n",
       "| 7278 | 24 | 11+ |\n",
       "| 9014 | 29 | 11+ |\n",
       "| 9060 | 31 | 11+ |\n",
       "| 10428 | 30 | 11+ |\n",
       "| 11034 | 41 | 11+ |\n",
       "| 11594 | 37 | 11+ |\n",
       "| 11770 | 40 | 11+ |\n",
       "| 12643 | 33 | 11+ |\n",
       "| 12698 | 34 | 11+ |\n",
       "| 13448 | 43 | 11+ |\n",
       "\n"
      ],
      "text/plain": [
       "      campaign campaign_bin\n",
       "1      1       1           \n",
       "29     2       2           \n",
       "102    3       3           \n",
       "279    4       4           \n",
       "333    5       5           \n",
       "695    6       6           \n",
       "888    7       7           \n",
       "1044   8       8           \n",
       "1468   9       9           \n",
       "2184  10       10          \n",
       "2190  11       11          \n",
       "2235  12       11+         \n",
       "2555  13       11+         \n",
       "2632  19       11+         \n",
       "2982  18       11+         \n",
       "3220  23       11+         \n",
       "3361  14       11+         \n",
       "3371  22       11+         \n",
       "3439  25       11+         \n",
       "3485  16       11+         \n",
       "3533  17       11+         \n",
       "3540  15       11+         \n",
       "3873  20       11+         \n",
       "4108  56       11+         \n",
       "4115  39       11+         \n",
       "4140  35       11+         \n",
       "4169  42       11+         \n",
       "4651  28       11+         \n",
       "4898  26       11+         \n",
       "5338  27       11+         \n",
       "5565  32       11+         \n",
       "6535  21       11+         \n",
       "7278  24       11+         \n",
       "9014  29       11+         \n",
       "9060  31       11+         \n",
       "10428 30       11+         \n",
       "11034 41       11+         \n",
       "11594 37       11+         \n",
       "11770 40       11+         \n",
       "12643 33       11+         \n",
       "12698 34       11+         \n",
       "13448 43       11+         "
      ]
     },
     "metadata": {},
     "output_type": "display_data"
    }
   ],
   "source": [
    "t <- train_df[!duplicated(train_df[,c('campaign','campaign_bin')]),]\n",
    "t <- t %>% select(campaign,campaign_bin)\n",
    "unique(t)"
   ]
  },
  {
   "cell_type": "markdown",
   "id": "364661dc",
   "metadata": {},
   "source": [
    "#### Tratando pdays"
   ]
  },
  {
   "cell_type": "markdown",
   "id": "aba22298",
   "metadata": {},
   "source": [
    "Variável era numérica, entretanto, possuia um 999 que atrapalhava a escala. Trataremos para trabalhar com fator nessa variável"
   ]
  },
  {
   "cell_type": "code",
   "execution_count": 374,
   "id": "82e3c7f3",
   "metadata": {},
   "outputs": [],
   "source": [
    "train_df$pdays_bin <-  ifelse(train_df$pdays != '999',train_df$pdays, 'NA')"
   ]
  },
  {
   "cell_type": "code",
   "execution_count": 375,
   "id": "9cc66a77",
   "metadata": {},
   "outputs": [
    {
     "data": {
      "text/html": [
       "<table class=\"dataframe\">\n",
       "<caption>A data.frame: 27 × 2</caption>\n",
       "<thead>\n",
       "\t<tr><th></th><th scope=col>pdays</th><th scope=col>pdays_bin</th></tr>\n",
       "\t<tr><th></th><th scope=col>&lt;int&gt;</th><th scope=col>&lt;chr&gt;</th></tr>\n",
       "</thead>\n",
       "<tbody>\n",
       "\t<tr><th scope=row>1</th><td>999</td><td>NA</td></tr>\n",
       "\t<tr><th scope=row>24109</th><td>  6</td><td>6 </td></tr>\n",
       "\t<tr><th scope=row>24265</th><td>  4</td><td>4 </td></tr>\n",
       "\t<tr><th scope=row>24398</th><td>  3</td><td>3 </td></tr>\n",
       "\t<tr><th scope=row>24614</th><td>  5</td><td>5 </td></tr>\n",
       "\t<tr><th scope=row>24851</th><td>  1</td><td>1 </td></tr>\n",
       "\t<tr><th scope=row>25498</th><td>  0</td><td>0 </td></tr>\n",
       "\t<tr><th scope=row>27765</th><td> 10</td><td>10</td></tr>\n",
       "\t<tr><th scope=row>27769</th><td>  7</td><td>7 </td></tr>\n",
       "\t<tr><th scope=row>27841</th><td>  8</td><td>8 </td></tr>\n",
       "\t<tr><th scope=row>28123</th><td>  9</td><td>9 </td></tr>\n",
       "\t<tr><th scope=row>28219</th><td> 11</td><td>11</td></tr>\n",
       "\t<tr><th scope=row>28223</th><td>  2</td><td>2 </td></tr>\n",
       "\t<tr><th scope=row>30629</th><td> 12</td><td>12</td></tr>\n",
       "\t<tr><th scope=row>36342</th><td> 13</td><td>13</td></tr>\n",
       "\t<tr><th scope=row>36972</th><td> 14</td><td>14</td></tr>\n",
       "\t<tr><th scope=row>37125</th><td> 15</td><td>15</td></tr>\n",
       "\t<tr><th scope=row>37891</th><td> 16</td><td>16</td></tr>\n",
       "\t<tr><th scope=row>39136</th><td> 21</td><td>21</td></tr>\n",
       "\t<tr><th scope=row>39188</th><td> 17</td><td>17</td></tr>\n",
       "\t<tr><th scope=row>39550</th><td> 18</td><td>18</td></tr>\n",
       "\t<tr><th scope=row>39884</th><td> 22</td><td>22</td></tr>\n",
       "\t<tr><th scope=row>40235</th><td> 25</td><td>25</td></tr>\n",
       "\t<tr><th scope=row>40244</th><td> 26</td><td>26</td></tr>\n",
       "\t<tr><th scope=row>40837</th><td> 19</td><td>19</td></tr>\n",
       "\t<tr><th scope=row>40875</th><td> 27</td><td>27</td></tr>\n",
       "\t<tr><th scope=row>40894</th><td> 20</td><td>20</td></tr>\n",
       "</tbody>\n",
       "</table>\n"
      ],
      "text/latex": [
       "A data.frame: 27 × 2\n",
       "\\begin{tabular}{r|ll}\n",
       "  & pdays & pdays\\_bin\\\\\n",
       "  & <int> & <chr>\\\\\n",
       "\\hline\n",
       "\t1 & 999 & NA\\\\\n",
       "\t24109 &   6 & 6 \\\\\n",
       "\t24265 &   4 & 4 \\\\\n",
       "\t24398 &   3 & 3 \\\\\n",
       "\t24614 &   5 & 5 \\\\\n",
       "\t24851 &   1 & 1 \\\\\n",
       "\t25498 &   0 & 0 \\\\\n",
       "\t27765 &  10 & 10\\\\\n",
       "\t27769 &   7 & 7 \\\\\n",
       "\t27841 &   8 & 8 \\\\\n",
       "\t28123 &   9 & 9 \\\\\n",
       "\t28219 &  11 & 11\\\\\n",
       "\t28223 &   2 & 2 \\\\\n",
       "\t30629 &  12 & 12\\\\\n",
       "\t36342 &  13 & 13\\\\\n",
       "\t36972 &  14 & 14\\\\\n",
       "\t37125 &  15 & 15\\\\\n",
       "\t37891 &  16 & 16\\\\\n",
       "\t39136 &  21 & 21\\\\\n",
       "\t39188 &  17 & 17\\\\\n",
       "\t39550 &  18 & 18\\\\\n",
       "\t39884 &  22 & 22\\\\\n",
       "\t40235 &  25 & 25\\\\\n",
       "\t40244 &  26 & 26\\\\\n",
       "\t40837 &  19 & 19\\\\\n",
       "\t40875 &  27 & 27\\\\\n",
       "\t40894 &  20 & 20\\\\\n",
       "\\end{tabular}\n"
      ],
      "text/markdown": [
       "\n",
       "A data.frame: 27 × 2\n",
       "\n",
       "| <!--/--> | pdays &lt;int&gt; | pdays_bin &lt;chr&gt; |\n",
       "|---|---|---|\n",
       "| 1 | 999 | NA |\n",
       "| 24109 |   6 | 6  |\n",
       "| 24265 |   4 | 4  |\n",
       "| 24398 |   3 | 3  |\n",
       "| 24614 |   5 | 5  |\n",
       "| 24851 |   1 | 1  |\n",
       "| 25498 |   0 | 0  |\n",
       "| 27765 |  10 | 10 |\n",
       "| 27769 |   7 | 7  |\n",
       "| 27841 |   8 | 8  |\n",
       "| 28123 |   9 | 9  |\n",
       "| 28219 |  11 | 11 |\n",
       "| 28223 |   2 | 2  |\n",
       "| 30629 |  12 | 12 |\n",
       "| 36342 |  13 | 13 |\n",
       "| 36972 |  14 | 14 |\n",
       "| 37125 |  15 | 15 |\n",
       "| 37891 |  16 | 16 |\n",
       "| 39136 |  21 | 21 |\n",
       "| 39188 |  17 | 17 |\n",
       "| 39550 |  18 | 18 |\n",
       "| 39884 |  22 | 22 |\n",
       "| 40235 |  25 | 25 |\n",
       "| 40244 |  26 | 26 |\n",
       "| 40837 |  19 | 19 |\n",
       "| 40875 |  27 | 27 |\n",
       "| 40894 |  20 | 20 |\n",
       "\n"
      ],
      "text/plain": [
       "      pdays pdays_bin\n",
       "1     999   NA       \n",
       "24109   6   6        \n",
       "24265   4   4        \n",
       "24398   3   3        \n",
       "24614   5   5        \n",
       "24851   1   1        \n",
       "25498   0   0        \n",
       "27765  10   10       \n",
       "27769   7   7        \n",
       "27841   8   8        \n",
       "28123   9   9        \n",
       "28219  11   11       \n",
       "28223   2   2        \n",
       "30629  12   12       \n",
       "36342  13   13       \n",
       "36972  14   14       \n",
       "37125  15   15       \n",
       "37891  16   16       \n",
       "39136  21   21       \n",
       "39188  17   17       \n",
       "39550  18   18       \n",
       "39884  22   22       \n",
       "40235  25   25       \n",
       "40244  26   26       \n",
       "40837  19   19       \n",
       "40875  27   27       \n",
       "40894  20   20       "
      ]
     },
     "metadata": {},
     "output_type": "display_data"
    }
   ],
   "source": [
    "f<- train_df %>% select(pdays,pdays_bin)\n",
    "unique(f)"
   ]
  },
  {
   "cell_type": "markdown",
   "id": "29a5f0f8",
   "metadata": {},
   "source": [
    "##### Tratando previous"
   ]
  },
  {
   "cell_type": "code",
   "execution_count": 376,
   "id": "273c5dd2",
   "metadata": {},
   "outputs": [],
   "source": [
    "train_df$previous_bin <- factor(train_df$previous)"
   ]
  },
  {
   "cell_type": "code",
   "execution_count": 377,
   "id": "14764110",
   "metadata": {},
   "outputs": [
    {
     "data": {
      "text/html": [
       "<table class=\"dataframe\">\n",
       "<caption>A data.frame: 8 × 2</caption>\n",
       "<thead>\n",
       "\t<tr><th></th><th scope=col>previous</th><th scope=col>previous_bin</th></tr>\n",
       "\t<tr><th></th><th scope=col>&lt;int&gt;</th><th scope=col>&lt;fct&gt;</th></tr>\n",
       "</thead>\n",
       "<tbody>\n",
       "\t<tr><th scope=row>1</th><td>0</td><td>0</td></tr>\n",
       "\t<tr><th scope=row>24014</th><td>1</td><td>1</td></tr>\n",
       "\t<tr><th scope=row>25997</th><td>2</td><td>2</td></tr>\n",
       "\t<tr><th scope=row>28022</th><td>3</td><td>3</td></tr>\n",
       "\t<tr><th scope=row>36461</th><td>4</td><td>4</td></tr>\n",
       "\t<tr><th scope=row>39592</th><td>5</td><td>5</td></tr>\n",
       "\t<tr><th scope=row>40396</th><td>6</td><td>6</td></tr>\n",
       "\t<tr><th scope=row>41082</th><td>7</td><td>7</td></tr>\n",
       "</tbody>\n",
       "</table>\n"
      ],
      "text/latex": [
       "A data.frame: 8 × 2\n",
       "\\begin{tabular}{r|ll}\n",
       "  & previous & previous\\_bin\\\\\n",
       "  & <int> & <fct>\\\\\n",
       "\\hline\n",
       "\t1 & 0 & 0\\\\\n",
       "\t24014 & 1 & 1\\\\\n",
       "\t25997 & 2 & 2\\\\\n",
       "\t28022 & 3 & 3\\\\\n",
       "\t36461 & 4 & 4\\\\\n",
       "\t39592 & 5 & 5\\\\\n",
       "\t40396 & 6 & 6\\\\\n",
       "\t41082 & 7 & 7\\\\\n",
       "\\end{tabular}\n"
      ],
      "text/markdown": [
       "\n",
       "A data.frame: 8 × 2\n",
       "\n",
       "| <!--/--> | previous &lt;int&gt; | previous_bin &lt;fct&gt; |\n",
       "|---|---|---|\n",
       "| 1 | 0 | 0 |\n",
       "| 24014 | 1 | 1 |\n",
       "| 25997 | 2 | 2 |\n",
       "| 28022 | 3 | 3 |\n",
       "| 36461 | 4 | 4 |\n",
       "| 39592 | 5 | 5 |\n",
       "| 40396 | 6 | 6 |\n",
       "| 41082 | 7 | 7 |\n",
       "\n"
      ],
      "text/plain": [
       "      previous previous_bin\n",
       "1     0        0           \n",
       "24014 1        1           \n",
       "25997 2        2           \n",
       "28022 3        3           \n",
       "36461 4        4           \n",
       "39592 5        5           \n",
       "40396 6        6           \n",
       "41082 7        7           "
      ]
     },
     "metadata": {},
     "output_type": "display_data"
    }
   ],
   "source": [
    "x <- train_df %>% select(previous,previous_bin) \n",
    "unique(x)"
   ]
  },
  {
   "cell_type": "markdown",
   "id": "f84a4e47",
   "metadata": {},
   "source": [
    "#### Trabalhando as Variáveis de Contexto"
   ]
  },
  {
   "cell_type": "markdown",
   "id": "64a382bc",
   "metadata": {},
   "source": [
    "Adotaremos a abordagem de redução de dimensionalidade por meio do PCA para evitar a colinearidade das variaveis altamente correlacionadas "
   ]
  },
  {
   "cell_type": "code",
   "execution_count": 378,
   "id": "0f996c26",
   "metadata": {},
   "outputs": [],
   "source": [
    "train_social <- train_df %>% select(y,nr.employed,euribor3m,cons.price.idx,cons.conf.idx,emp.var.rate)\n",
    "for(i in 1:ncol(train_social)){\n",
    "  \n",
    "  train_social[,i]<- as.numeric(train_social[,i])\n",
    "}\n",
    "\n",
    "test_social <- test_df %>% select(nr.employed,euribor3m,cons.price.idx,cons.conf.idx,emp.var.rate)\n",
    "for(i in 1:ncol(test_social)){\n",
    "  \n",
    "  test_social[,i]<- as.numeric(test_social[,i])\n",
    "}\n"
   ]
  },
  {
   "cell_type": "code",
   "execution_count": 379,
   "id": "a5ffef51",
   "metadata": {},
   "outputs": [
    {
     "data": {
      "text/html": [
       "<table class=\"dataframe\">\n",
       "<caption>A psych: 6 × 13</caption>\n",
       "<thead>\n",
       "\t<tr><th></th><th scope=col>vars</th><th scope=col>n</th><th scope=col>mean</th><th scope=col>sd</th><th scope=col>median</th><th scope=col>trimmed</th><th scope=col>mad</th><th scope=col>min</th><th scope=col>max</th><th scope=col>range</th><th scope=col>skew</th><th scope=col>kurtosis</th><th scope=col>se</th></tr>\n",
       "\t<tr><th></th><th scope=col>&lt;int&gt;</th><th scope=col>&lt;dbl&gt;</th><th scope=col>&lt;dbl&gt;</th><th scope=col>&lt;dbl&gt;</th><th scope=col>&lt;dbl&gt;</th><th scope=col>&lt;dbl&gt;</th><th scope=col>&lt;dbl&gt;</th><th scope=col>&lt;dbl&gt;</th><th scope=col>&lt;dbl&gt;</th><th scope=col>&lt;dbl&gt;</th><th scope=col>&lt;dbl&gt;</th><th scope=col>&lt;dbl&gt;</th><th scope=col>&lt;dbl&gt;</th></tr>\n",
       "</thead>\n",
       "<tbody>\n",
       "\t<tr><th scope=row>y</th><td>1</td><td>41188</td><td>   1.1126542</td><td> 0.3161734</td><td>   1.000</td><td>   1.0158412</td><td> 0.0000000</td><td>   1.000</td><td>   2.000</td><td>  1.000</td><td> 2.4501517</td><td> 4.003340390</td><td>0.001557902</td></tr>\n",
       "\t<tr><th scope=row>nr.employed</th><td>2</td><td>41188</td><td>5167.0359109</td><td>72.2515277</td><td>5191.000</td><td>5178.4253338</td><td>55.0044600</td><td>4963.600</td><td>5228.100</td><td>264.500</td><td>-1.0441863</td><td>-0.004051071</td><td>0.356009578</td></tr>\n",
       "\t<tr><th scope=row>euribor3m</th><td>3</td><td>41188</td><td>   3.6212908</td><td> 1.7344474</td><td>   4.857</td><td>   3.8055852</td><td> 0.1601208</td><td>   0.634</td><td>   5.045</td><td>  4.411</td><td>-0.7091363</td><td>-1.406854882</td><td>0.008546254</td></tr>\n",
       "\t<tr><th scope=row>cons.price.idx</th><td>4</td><td>41188</td><td>  93.5756644</td><td> 0.5788400</td><td>  93.749</td><td>  93.5807666</td><td> 0.5633880</td><td>  92.201</td><td>  94.767</td><td>  2.566</td><td>-0.2308708</td><td>-0.829958893</td><td>0.002852156</td></tr>\n",
       "\t<tr><th scope=row>cons.conf.idx</th><td>5</td><td>41188</td><td> -40.5026003</td><td> 4.6281979</td><td> -41.800</td><td> -40.6015356</td><td> 6.5234400</td><td> -50.800</td><td> -26.900</td><td> 23.900</td><td> 0.3031578</td><td>-0.358788711</td><td>0.022804816</td></tr>\n",
       "\t<tr><th scope=row>emp.var.rate</th><td>6</td><td>41188</td><td>   0.0818855</td><td> 1.5709597</td><td>   1.100</td><td>   0.2661204</td><td> 0.4447800</td><td>  -3.400</td><td>   1.400</td><td>  4.800</td><td>-0.7240428</td><td>-1.062742274</td><td>0.007740691</td></tr>\n",
       "</tbody>\n",
       "</table>\n"
      ],
      "text/latex": [
       "A psych: 6 × 13\n",
       "\\begin{tabular}{r|lllllllllllll}\n",
       "  & vars & n & mean & sd & median & trimmed & mad & min & max & range & skew & kurtosis & se\\\\\n",
       "  & <int> & <dbl> & <dbl> & <dbl> & <dbl> & <dbl> & <dbl> & <dbl> & <dbl> & <dbl> & <dbl> & <dbl> & <dbl>\\\\\n",
       "\\hline\n",
       "\ty & 1 & 41188 &    1.1126542 &  0.3161734 &    1.000 &    1.0158412 &  0.0000000 &    1.000 &    2.000 &   1.000 &  2.4501517 &  4.003340390 & 0.001557902\\\\\n",
       "\tnr.employed & 2 & 41188 & 5167.0359109 & 72.2515277 & 5191.000 & 5178.4253338 & 55.0044600 & 4963.600 & 5228.100 & 264.500 & -1.0441863 & -0.004051071 & 0.356009578\\\\\n",
       "\teuribor3m & 3 & 41188 &    3.6212908 &  1.7344474 &    4.857 &    3.8055852 &  0.1601208 &    0.634 &    5.045 &   4.411 & -0.7091363 & -1.406854882 & 0.008546254\\\\\n",
       "\tcons.price.idx & 4 & 41188 &   93.5756644 &  0.5788400 &   93.749 &   93.5807666 &  0.5633880 &   92.201 &   94.767 &   2.566 & -0.2308708 & -0.829958893 & 0.002852156\\\\\n",
       "\tcons.conf.idx & 5 & 41188 &  -40.5026003 &  4.6281979 &  -41.800 &  -40.6015356 &  6.5234400 &  -50.800 &  -26.900 &  23.900 &  0.3031578 & -0.358788711 & 0.022804816\\\\\n",
       "\temp.var.rate & 6 & 41188 &    0.0818855 &  1.5709597 &    1.100 &    0.2661204 &  0.4447800 &   -3.400 &    1.400 &   4.800 & -0.7240428 & -1.062742274 & 0.007740691\\\\\n",
       "\\end{tabular}\n"
      ],
      "text/markdown": [
       "\n",
       "A psych: 6 × 13\n",
       "\n",
       "| <!--/--> | vars &lt;int&gt; | n &lt;dbl&gt; | mean &lt;dbl&gt; | sd &lt;dbl&gt; | median &lt;dbl&gt; | trimmed &lt;dbl&gt; | mad &lt;dbl&gt; | min &lt;dbl&gt; | max &lt;dbl&gt; | range &lt;dbl&gt; | skew &lt;dbl&gt; | kurtosis &lt;dbl&gt; | se &lt;dbl&gt; |\n",
       "|---|---|---|---|---|---|---|---|---|---|---|---|---|---|\n",
       "| y | 1 | 41188 |    1.1126542 |  0.3161734 |    1.000 |    1.0158412 |  0.0000000 |    1.000 |    2.000 |   1.000 |  2.4501517 |  4.003340390 | 0.001557902 |\n",
       "| nr.employed | 2 | 41188 | 5167.0359109 | 72.2515277 | 5191.000 | 5178.4253338 | 55.0044600 | 4963.600 | 5228.100 | 264.500 | -1.0441863 | -0.004051071 | 0.356009578 |\n",
       "| euribor3m | 3 | 41188 |    3.6212908 |  1.7344474 |    4.857 |    3.8055852 |  0.1601208 |    0.634 |    5.045 |   4.411 | -0.7091363 | -1.406854882 | 0.008546254 |\n",
       "| cons.price.idx | 4 | 41188 |   93.5756644 |  0.5788400 |   93.749 |   93.5807666 |  0.5633880 |   92.201 |   94.767 |   2.566 | -0.2308708 | -0.829958893 | 0.002852156 |\n",
       "| cons.conf.idx | 5 | 41188 |  -40.5026003 |  4.6281979 |  -41.800 |  -40.6015356 |  6.5234400 |  -50.800 |  -26.900 |  23.900 |  0.3031578 | -0.358788711 | 0.022804816 |\n",
       "| emp.var.rate | 6 | 41188 |    0.0818855 |  1.5709597 |    1.100 |    0.2661204 |  0.4447800 |   -3.400 |    1.400 |   4.800 | -0.7240428 | -1.062742274 | 0.007740691 |\n",
       "\n"
      ],
      "text/plain": [
       "               vars n     mean         sd         median   trimmed     \n",
       "y              1    41188    1.1126542  0.3161734    1.000    1.0158412\n",
       "nr.employed    2    41188 5167.0359109 72.2515277 5191.000 5178.4253338\n",
       "euribor3m      3    41188    3.6212908  1.7344474    4.857    3.8055852\n",
       "cons.price.idx 4    41188   93.5756644  0.5788400   93.749   93.5807666\n",
       "cons.conf.idx  5    41188  -40.5026003  4.6281979  -41.800  -40.6015356\n",
       "emp.var.rate   6    41188    0.0818855  1.5709597    1.100    0.2661204\n",
       "               mad        min      max      range   skew       kurtosis    \n",
       "y               0.0000000    1.000    2.000   1.000  2.4501517  4.003340390\n",
       "nr.employed    55.0044600 4963.600 5228.100 264.500 -1.0441863 -0.004051071\n",
       "euribor3m       0.1601208    0.634    5.045   4.411 -0.7091363 -1.406854882\n",
       "cons.price.idx  0.5633880   92.201   94.767   2.566 -0.2308708 -0.829958893\n",
       "cons.conf.idx   6.5234400  -50.800  -26.900  23.900  0.3031578 -0.358788711\n",
       "emp.var.rate    0.4447800   -3.400    1.400   4.800 -0.7240428 -1.062742274\n",
       "               se         \n",
       "y              0.001557902\n",
       "nr.employed    0.356009578\n",
       "euribor3m      0.008546254\n",
       "cons.price.idx 0.002852156\n",
       "cons.conf.idx  0.022804816\n",
       "emp.var.rate   0.007740691"
      ]
     },
     "metadata": {},
     "output_type": "display_data"
    }
   ],
   "source": [
    "describe(train_social)"
   ]
  },
  {
   "cell_type": "code",
   "execution_count": 380,
   "id": "a8b1231b",
   "metadata": {},
   "outputs": [
    {
     "data": {
      "text/html": [
       "<table class=\"dataframe\">\n",
       "<caption>A matrix: 6 × 6 of type dbl</caption>\n",
       "<thead>\n",
       "\t<tr><th></th><th scope=col>y</th><th scope=col>nr.employed</th><th scope=col>euribor3m</th><th scope=col>cons.price.idx</th><th scope=col>cons.conf.idx</th><th scope=col>emp.var.rate</th></tr>\n",
       "</thead>\n",
       "<tbody>\n",
       "\t<tr><th scope=row>y</th><td> 1.00000000</td><td>-0.3546783</td><td>-0.3077714</td><td>-0.13621121</td><td>0.05487795</td><td>-0.2983344</td></tr>\n",
       "\t<tr><th scope=row>nr.employed</th><td>-0.35467830</td><td> 1.0000000</td><td> 0.9451544</td><td> 0.52203398</td><td>0.10051343</td><td> 0.9069701</td></tr>\n",
       "\t<tr><th scope=row>euribor3m</th><td>-0.30777140</td><td> 0.9451544</td><td> 1.0000000</td><td> 0.68823011</td><td>0.27768622</td><td> 0.9722447</td></tr>\n",
       "\t<tr><th scope=row>cons.price.idx</th><td>-0.13621121</td><td> 0.5220340</td><td> 0.6882301</td><td> 1.00000000</td><td>0.05898618</td><td> 0.7753342</td></tr>\n",
       "\t<tr><th scope=row>cons.conf.idx</th><td> 0.05487795</td><td> 0.1005134</td><td> 0.2776862</td><td> 0.05898618</td><td>1.00000000</td><td> 0.1960413</td></tr>\n",
       "\t<tr><th scope=row>emp.var.rate</th><td>-0.29833443</td><td> 0.9069701</td><td> 0.9722447</td><td> 0.77533417</td><td>0.19604127</td><td> 1.0000000</td></tr>\n",
       "</tbody>\n",
       "</table>\n"
      ],
      "text/latex": [
       "A matrix: 6 × 6 of type dbl\n",
       "\\begin{tabular}{r|llllll}\n",
       "  & y & nr.employed & euribor3m & cons.price.idx & cons.conf.idx & emp.var.rate\\\\\n",
       "\\hline\n",
       "\ty &  1.00000000 & -0.3546783 & -0.3077714 & -0.13621121 & 0.05487795 & -0.2983344\\\\\n",
       "\tnr.employed & -0.35467830 &  1.0000000 &  0.9451544 &  0.52203398 & 0.10051343 &  0.9069701\\\\\n",
       "\teuribor3m & -0.30777140 &  0.9451544 &  1.0000000 &  0.68823011 & 0.27768622 &  0.9722447\\\\\n",
       "\tcons.price.idx & -0.13621121 &  0.5220340 &  0.6882301 &  1.00000000 & 0.05898618 &  0.7753342\\\\\n",
       "\tcons.conf.idx &  0.05487795 &  0.1005134 &  0.2776862 &  0.05898618 & 1.00000000 &  0.1960413\\\\\n",
       "\temp.var.rate & -0.29833443 &  0.9069701 &  0.9722447 &  0.77533417 & 0.19604127 &  1.0000000\\\\\n",
       "\\end{tabular}\n"
      ],
      "text/markdown": [
       "\n",
       "A matrix: 6 × 6 of type dbl\n",
       "\n",
       "| <!--/--> | y | nr.employed | euribor3m | cons.price.idx | cons.conf.idx | emp.var.rate |\n",
       "|---|---|---|---|---|---|---|\n",
       "| y |  1.00000000 | -0.3546783 | -0.3077714 | -0.13621121 | 0.05487795 | -0.2983344 |\n",
       "| nr.employed | -0.35467830 |  1.0000000 |  0.9451544 |  0.52203398 | 0.10051343 |  0.9069701 |\n",
       "| euribor3m | -0.30777140 |  0.9451544 |  1.0000000 |  0.68823011 | 0.27768622 |  0.9722447 |\n",
       "| cons.price.idx | -0.13621121 |  0.5220340 |  0.6882301 |  1.00000000 | 0.05898618 |  0.7753342 |\n",
       "| cons.conf.idx |  0.05487795 |  0.1005134 |  0.2776862 |  0.05898618 | 1.00000000 |  0.1960413 |\n",
       "| emp.var.rate | -0.29833443 |  0.9069701 |  0.9722447 |  0.77533417 | 0.19604127 |  1.0000000 |\n",
       "\n"
      ],
      "text/plain": [
       "               y           nr.employed euribor3m  cons.price.idx cons.conf.idx\n",
       "y               1.00000000 -0.3546783  -0.3077714 -0.13621121    0.05487795   \n",
       "nr.employed    -0.35467830  1.0000000   0.9451544  0.52203398    0.10051343   \n",
       "euribor3m      -0.30777140  0.9451544   1.0000000  0.68823011    0.27768622   \n",
       "cons.price.idx -0.13621121  0.5220340   0.6882301  1.00000000    0.05898618   \n",
       "cons.conf.idx   0.05487795  0.1005134   0.2776862  0.05898618    1.00000000   \n",
       "emp.var.rate   -0.29833443  0.9069701   0.9722447  0.77533417    0.19604127   \n",
       "               emp.var.rate\n",
       "y              -0.2983344  \n",
       "nr.employed     0.9069701  \n",
       "euribor3m       0.9722447  \n",
       "cons.price.idx  0.7753342  \n",
       "cons.conf.idx   0.1960413  \n",
       "emp.var.rate    1.0000000  "
      ]
     },
     "metadata": {},
     "output_type": "display_data"
    }
   ],
   "source": [
    "cor(train_social, method = 'pearson')"
   ]
  },
  {
   "cell_type": "markdown",
   "id": "410b5207",
   "metadata": {},
   "source": [
    "Pouca correlação entre as séries e a variável target e fortíssima correlação entre euribor3m e nr.employed e emp var rate. "
   ]
  },
  {
   "cell_type": "code",
   "execution_count": 381,
   "id": "064d1c65",
   "metadata": {},
   "outputs": [
    {
     "name": "stdout",
     "output_type": "stream",
     "text": [
      "'data.frame':\t41188 obs. of  5 variables:\n",
      " $ nr.employed   : num  5191 5191 5191 5191 5191 ...\n",
      " $ euribor3m     : num  4.86 4.86 4.86 4.86 4.86 ...\n",
      " $ cons.price.idx: num  94 94 94 94 94 ...\n",
      " $ cons.conf.idx : num  -36.4 -36.4 -36.4 -36.4 -36.4 -36.4 -36.4 -36.4 -36.4 -36.4 ...\n",
      " $ emp.var.rate  : num  1.1 1.1 1.1 1.1 1.1 1.1 1.1 1.1 1.1 1.1 ...\n"
     ]
    }
   ],
   "source": [
    "#dropando o Y\n",
    "train_social <- train_social[2:6]\n",
    "str(train_social)"
   ]
  },
  {
   "cell_type": "markdown",
   "id": "ef0a33f0",
   "metadata": {},
   "source": [
    "#### verificando quantidade de componentes necessária"
   ]
  },
  {
   "cell_type": "code",
   "execution_count": 382,
   "id": "1333fcc3",
   "metadata": {},
   "outputs": [
    {
     "data": {
      "text/plain": [
       "Importance of components:\n",
       "                          PC1    PC2    PC3     PC4     PC5\n",
       "Standard deviation     1.8631 0.9914 0.7143 0.15865 0.10346\n",
       "Proportion of Variance 0.6942 0.1966 0.1021 0.00503 0.00214\n",
       "Cumulative Proportion  0.6942 0.8908 0.9928 0.99786 1.00000"
      ]
     },
     "metadata": {},
     "output_type": "display_data"
    }
   ],
   "source": [
    "social.pca <- prcomp(scale(train_social),center = TRUE)\n",
    "summary(social.pca)"
   ]
  },
  {
   "cell_type": "markdown",
   "id": "7aa9173a",
   "metadata": {},
   "source": [
    "Três componentes são capazes de explicar 99% da variancia do contexto"
   ]
  },
  {
   "cell_type": "code",
   "execution_count": 385,
   "id": "c93ec042",
   "metadata": {},
   "outputs": [
    {
     "name": "stdout",
     "output_type": "stream",
     "text": [
      "[1] \"proportions of variance:\"\n",
      "[1] 0.694211134 0.196558308 0.102055396 0.005034281 0.002140881\n"
     ]
    },
    {
     "data": {
      "image/png": "[encoded data removed]",
      "text/plain": [
       "Plot with title \"x\""
      ]
     },
     "metadata": {
      "image/png": {
       "height": 720,
       "width": 720
      }
     },
     "output_type": "display_data"
    }
   ],
   "source": [
    "options(repr.plot.width = 12, repr.plot.height =12)\n",
    "pcaCharts <- function(x) {\n",
    "    x.var <- x$sdev ^ 2\n",
    "    x.pvar <- x.var/sum(x.var)\n",
    "    print(\"proportions of variance:\")\n",
    "    print(x.pvar)\n",
    "    \n",
    "    par(mfrow=c(2,2))\n",
    "    plot(x.pvar,xlab=\"Principal component\", ylab=\"Proportion of variance explained\", ylim=c(0,1), type='b')\n",
    "    plot(cumsum(x.pvar),xlab=\"Principal component\", ylab=\"Cumulative Proportion of variance explained\", ylim=c(0,1), type='b')\n",
    "    screeplot(x)\n",
    "    screeplot(x,type=\"l\")\n",
    "    par(mfrow=c(1,1))\n",
    "}\n",
    "\n",
    "pcaCharts(social.pca)"
   ]
  },
  {
   "cell_type": "markdown",
   "id": "83e1585a",
   "metadata": {},
   "source": [
    "### Normalizando as Variáveis"
   ]
  },
  {
   "cell_type": "code",
   "execution_count": 386,
   "id": "b37b789d",
   "metadata": {},
   "outputs": [],
   "source": [
    "#treinando o scaler e identificando PCAs\n",
    "pca = preProcess(x = train_social, method = 'pca', pcaComp = 3) #SCALER\n",
    " "
   ]
  },
  {
   "cell_type": "markdown",
   "id": "8619ddea",
   "metadata": {},
   "source": [
    "Modelo para scaler treinado  pode ser aplicado no dataset de teste sem \"vazar\" os dados para o treino"
   ]
  },
  {
   "cell_type": "code",
   "execution_count": 387,
   "id": "036f3836",
   "metadata": {},
   "outputs": [
    {
     "data": {
      "text/plain": [
       "Created from 41188 samples and 5 variables\n",
       "\n",
       "Pre-processing:\n",
       "  - centered (5)\n",
       "  - ignored (0)\n",
       "  - principal component signal extraction (5)\n",
       "  - scaled (5)\n",
       "\n",
       "PCA used 3 components as specified"
      ]
     },
     "metadata": {},
     "output_type": "display_data"
    }
   ],
   "source": [
    "pca"
   ]
  },
  {
   "cell_type": "markdown",
   "id": "ac40c554",
   "metadata": {},
   "source": [
    "### Aplicando o PCA"
   ]
  },
  {
   "cell_type": "code",
   "execution_count": 388,
   "id": "837a0ec8",
   "metadata": {},
   "outputs": [],
   "source": [
    "train_social = predict(pca, train_social)\n",
    "# aplicando o PCA treinado no test\n",
    "\n",
    "test_social <-  predict(pca, test_social)\n",
    " "
   ]
  },
  {
   "cell_type": "code",
   "execution_count": 389,
   "id": "ade23e3d",
   "metadata": {},
   "outputs": [
    {
     "data": {
      "text/html": [
       "<table class=\"dataframe\">\n",
       "<caption>A data.frame: 6 × 3</caption>\n",
       "<thead>\n",
       "\t<tr><th></th><th scope=col>PC1</th><th scope=col>PC2</th><th scope=col>PC3</th></tr>\n",
       "\t<tr><th></th><th scope=col>&lt;dbl&gt;</th><th scope=col>&lt;dbl&gt;</th><th scope=col>&lt;dbl&gt;</th></tr>\n",
       "</thead>\n",
       "<tbody>\n",
       "\t<tr><th scope=row>1</th><td>-1.306296</td><td>0.6966986</td><td>-0.3858233</td></tr>\n",
       "\t<tr><th scope=row>2</th><td>-1.306296</td><td>0.6966986</td><td>-0.3858233</td></tr>\n",
       "\t<tr><th scope=row>3</th><td>-1.306296</td><td>0.6966986</td><td>-0.3858233</td></tr>\n",
       "\t<tr><th scope=row>4</th><td>-1.306296</td><td>0.6966986</td><td>-0.3858233</td></tr>\n",
       "\t<tr><th scope=row>5</th><td>-1.306296</td><td>0.6966986</td><td>-0.3858233</td></tr>\n",
       "\t<tr><th scope=row>6</th><td>-1.306296</td><td>0.6966986</td><td>-0.3858233</td></tr>\n",
       "</tbody>\n",
       "</table>\n"
      ],
      "text/latex": [
       "A data.frame: 6 × 3\n",
       "\\begin{tabular}{r|lll}\n",
       "  & PC1 & PC2 & PC3\\\\\n",
       "  & <dbl> & <dbl> & <dbl>\\\\\n",
       "\\hline\n",
       "\t1 & -1.306296 & 0.6966986 & -0.3858233\\\\\n",
       "\t2 & -1.306296 & 0.6966986 & -0.3858233\\\\\n",
       "\t3 & -1.306296 & 0.6966986 & -0.3858233\\\\\n",
       "\t4 & -1.306296 & 0.6966986 & -0.3858233\\\\\n",
       "\t5 & -1.306296 & 0.6966986 & -0.3858233\\\\\n",
       "\t6 & -1.306296 & 0.6966986 & -0.3858233\\\\\n",
       "\\end{tabular}\n"
      ],
      "text/markdown": [
       "\n",
       "A data.frame: 6 × 3\n",
       "\n",
       "| <!--/--> | PC1 &lt;dbl&gt; | PC2 &lt;dbl&gt; | PC3 &lt;dbl&gt; |\n",
       "|---|---|---|---|\n",
       "| 1 | -1.306296 | 0.6966986 | -0.3858233 |\n",
       "| 2 | -1.306296 | 0.6966986 | -0.3858233 |\n",
       "| 3 | -1.306296 | 0.6966986 | -0.3858233 |\n",
       "| 4 | -1.306296 | 0.6966986 | -0.3858233 |\n",
       "| 5 | -1.306296 | 0.6966986 | -0.3858233 |\n",
       "| 6 | -1.306296 | 0.6966986 | -0.3858233 |\n",
       "\n"
      ],
      "text/plain": [
       "  PC1       PC2       PC3       \n",
       "1 -1.306296 0.6966986 -0.3858233\n",
       "2 -1.306296 0.6966986 -0.3858233\n",
       "3 -1.306296 0.6966986 -0.3858233\n",
       "4 -1.306296 0.6966986 -0.3858233\n",
       "5 -1.306296 0.6966986 -0.3858233\n",
       "6 -1.306296 0.6966986 -0.3858233"
      ]
     },
     "metadata": {},
     "output_type": "display_data"
    }
   ],
   "source": [
    "head(train_social)"
   ]
  },
  {
   "cell_type": "markdown",
   "id": "86a60766",
   "metadata": {},
   "source": [
    "### Resolvendo os desbalanceamento de classes"
   ]
  },
  {
   "cell_type": "markdown",
   "id": "276254e2",
   "metadata": {},
   "source": [
    "No SMOTE (Synthetic Minority Oversampling Technique), dados sintéticos são criados para a classe minoria na vizinhança dos elementos existentes\n",
    "\n",
    "Será aplicado após o PCA conforme a literatura  de referência\n",
    "https://arxiv.org/ftp/arxiv/papers/1403/1403.1949.pdf"
   ]
  },
  {
   "cell_type": "code",
   "execution_count": 390,
   "id": "4083feaa",
   "metadata": {},
   "outputs": [
    {
     "data": {
      "text/plain": [
       "\n",
       "   no   yes \n",
       "36548  4640 "
      ]
     },
     "metadata": {},
     "output_type": "display_data"
    },
    {
     "data": {
      "image/png": "[encoded data removed]",
      "text/plain": [
       "plot without title"
      ]
     },
     "metadata": {
      "image/png": {
       "height": 720,
       "width": 720
      }
     },
     "output_type": "display_data"
    }
   ],
   "source": [
    "#checando a tabela\n",
    "table(train_df$y)\n",
    " \n",
    "#check classes distribution\n",
    "barplot(prop.table(table(train_df$y)))"
   ]
  },
  {
   "cell_type": "markdown",
   "id": "1f522032",
   "metadata": {},
   "source": [
    "#### Dataset com variáveis PCA - train_df_pca"
   ]
  },
  {
   "cell_type": "code",
   "execution_count": 391,
   "id": "2e8cdee2",
   "metadata": {},
   "outputs": [
    {
     "name": "stdout",
     "output_type": "stream",
     "text": [
      "'data.frame':\t41188 obs. of  25 variables:\n",
      " $ age           : int  56 57 37 40 56 45 59 41 24 25 ...\n",
      " $ job           : Factor w/ 12 levels \"admin.\",\"blue-collar\",..: 4 8 8 1 8 8 1 2 10 8 ...\n",
      " $ marital       : Factor w/ 4 levels \"divorced\",\"married\",..: 2 2 2 2 2 2 2 2 3 3 ...\n",
      " $ education     : Factor w/ 8 levels \"basic.4y\",\"basic.6y\",..: 1 4 4 2 4 3 6 8 6 4 ...\n",
      " $ default       : Factor w/ 3 levels \"no\",\"unknown\",..: 1 2 1 1 1 2 1 2 1 1 ...\n",
      " $ housing       : Factor w/ 3 levels \"no\",\"unknown\",..: 1 1 3 1 1 1 1 1 3 3 ...\n",
      " $ loan          : Factor w/ 3 levels \"no\",\"unknown\",..: 1 1 1 1 3 1 1 1 1 1 ...\n",
      " $ contact       : Factor w/ 2 levels \"cellular\",\"telephone\": 2 2 2 2 2 2 2 2 2 2 ...\n",
      " $ month         : Factor w/ 10 levels \"apr\",\"aug\",\"dec\",..: 7 7 7 7 7 7 7 7 7 7 ...\n",
      " $ day_of_week   : Factor w/ 5 levels \"fri\",\"mon\",\"thu\",..: 2 2 2 2 2 2 2 2 2 2 ...\n",
      " $ duration      : int  261 149 226 151 307 198 139 217 380 50 ...\n",
      " $ campaign      : int  1 1 1 1 1 1 1 1 1 1 ...\n",
      " $ pdays         : int  999 999 999 999 999 999 999 999 999 999 ...\n",
      " $ previous      : int  0 0 0 0 0 0 0 0 0 0 ...\n",
      " $ poutcome      : Factor w/ 3 levels \"failure\",\"nonexistent\",..: 2 2 2 2 2 2 2 2 2 2 ...\n",
      " $ emp.var.rate  : num  1.1 1.1 1.1 1.1 1.1 1.1 1.1 1.1 1.1 1.1 ...\n",
      " $ cons.price.idx: num  94 94 94 94 94 ...\n",
      " $ cons.conf.idx : num  -36.4 -36.4 -36.4 -36.4 -36.4 -36.4 -36.4 -36.4 -36.4 -36.4 ...\n",
      " $ euribor3m     : num  4.86 4.86 4.86 4.86 4.86 ...\n",
      " $ nr.employed   : num  5191 5191 5191 5191 5191 ...\n",
      " $ y             : Factor w/ 2 levels \"no\",\"yes\": 1 1 1 1 1 1 1 1 1 1 ...\n",
      " $ age_bin       : Factor w/ 8 levels \"17-20\",\"21-30\",..: 5 5 3 3 5 4 5 4 2 2 ...\n",
      " $ campaign_bin  : Factor w/ 12 levels \"1\",\"10\",\"11\",..: 1 1 1 1 1 1 1 1 1 1 ...\n",
      " $ pdays_bin     : Factor w/ 27 levels \"0\",\"1\",\"10\",\"11\",..: 27 27 27 27 27 27 27 27 27 27 ...\n",
      " $ previous_bin  : Factor w/ 8 levels \"0\",\"1\",\"2\",\"3\",..: 1 1 1 1 1 1 1 1 1 1 ...\n"
     ]
    }
   ],
   "source": [
    "train_df$campaign_bin   <-factor(train_df$campaign_bin  )\n",
    "train_df$pdays_bin      <-factor(train_df$pdays_bin     )\n",
    "train_df$age_bin <-factor(train_df$age_bin)\n",
    "str(train_df)\n",
    "\n"
   ]
  },
  {
   "cell_type": "code",
   "execution_count": 392,
   "id": "571ac64a",
   "metadata": {},
   "outputs": [],
   "source": [
    "#removendo as colunas que foram tratadas\n",
    "g <-  subset(train_df, select = -c(age,campaign,pdays,previous,emp.var.rate,cons.price.idx,cons.conf.idx,euribor3m,nr.employed))\n",
    "g$pca1 <-train_social$PC1\n",
    "g$pca2 <-train_social$PC2\n",
    "g$pca3 <-train_social$PC3"
   ]
  },
  {
   "cell_type": "code",
   "execution_count": 393,
   "id": "2508b65d",
   "metadata": {},
   "outputs": [
    {
     "data": {
      "text/plain": [
       "\n",
       "   no   yes \n",
       "20861 20327 "
      ]
     },
     "metadata": {},
     "output_type": "display_data"
    },
    {
     "data": {
      "image/png": "[encoded data removed]",
      "text/plain": [
       "plot without title"
      ]
     },
     "metadata": {
      "image/png": {
       "height": 720,
       "width": 720
      }
     },
     "output_type": "display_data"
    }
   ],
   "source": [
    "\n",
    "train_df_pca <- ROSE(y ~ ., data = g, ,seed = 123, N = nrow(train_df))$data\n",
    "\n",
    "table(train_df_pca$y)\n",
    "barplot(table(train_df_pca$y))"
   ]
  },
  {
   "cell_type": "code",
   "execution_count": 394,
   "id": "b62ea7fd",
   "metadata": {},
   "outputs": [
    {
     "data": {
      "text/plain": [
       "          job            marital                    education    \n",
       " admin.     :11204   divorced: 4452   university.degree  :13278  \n",
       " blue-collar: 7725   married :23880   high.school        : 9455  \n",
       " technician : 6581   single  :12780   basic.9y           : 5271  \n",
       " services   : 3545   unknown :   76   professional.course: 5225  \n",
       " management : 2835                    basic.4y           : 3926  \n",
       " retired    : 2620                    basic.6y           : 2027  \n",
       " (Other)    : 6678                    (Other)            : 2006  \n",
       "    default         housing           loan            contact     \n",
       " no     :34666   no     :18226   no     :33917   cellular :29638  \n",
       " unknown: 6520   unknown:  994   unknown:  994   telephone:11550  \n",
       " yes    :    2   yes    :21968   yes    : 6277                    \n",
       "                                                                  \n",
       "                                                                  \n",
       "                                                                  \n",
       "                                                                  \n",
       "     month       day_of_week    duration             poutcome       y        \n",
       " may    :11219   fri:7607    Min.   :-328.2   failure    : 4753   no :20861  \n",
       " jul    : 6495   mon:8038    1st Qu.: 134.1   nonexistent:32271   yes:20327  \n",
       " aug    : 6046   thu:8890    Median : 271.6   success    : 4164              \n",
       " jun    : 5105   tue:8324    Mean   : 387.2                                  \n",
       " nov    : 3965   wed:8329    3rd Qu.: 534.9                                  \n",
       " apr    : 3689               Max.   :4906.0                                  \n",
       " (Other): 4669                                                               \n",
       "    age_bin       campaign_bin     pdays_bin      previous_bin  \n",
       " 31-40  :15382   1      :18913   NA     :36653   0      :32271  \n",
       " 41-40  : 9038   2      :10751   3      : 1404   1      : 6336  \n",
       " 21-30  : 8172   3      : 5258   6      : 1309   2      : 1768  \n",
       " 51-60  : 6203   4      : 2337   4      :  306   3      :  544  \n",
       " 61-70  : 1086   5      : 1340   2      :  169   4      :  193  \n",
       " 71-80  :  721   6      :  848   7      :  166   5      :   64  \n",
       " (Other):  586   (Other): 1741   (Other): 1181   (Other):   12  \n",
       "      pca1              pca2              pca3         \n",
       " Min.   :-3.6474   Min.   :-3.5643   Min.   :-4.20308  \n",
       " 1st Qu.:-1.3512   1st Qu.:-0.7857   1st Qu.:-0.49343  \n",
       " Median : 0.6305   Median :-0.1376   Median : 0.06978  \n",
       " Mean   : 0.6546   Mean   : 0.1295   Mean   :-0.17183  \n",
       " 3rd Qu.: 2.5673   3rd Qu.: 0.8212   3rd Qu.: 0.47514  \n",
       " Max.   : 5.6538   Max.   : 4.7472   Max.   : 2.13127  \n",
       "                                                       "
      ]
     },
     "metadata": {},
     "output_type": "display_data"
    },
    {
     "data": {
      "text/plain": [
       "      age                 job            marital     \n",
       " Min.   :17.00   admin.     :10422   divorced: 4612  \n",
       " 1st Qu.:32.00   blue-collar: 9254   married :24928  \n",
       " Median :38.00   technician : 6743   single  :11568  \n",
       " Mean   :40.02   services   : 3969   unknown :   80  \n",
       " 3rd Qu.:47.00   management : 2924                   \n",
       " Max.   :98.00   retired    : 1720                   \n",
       "                 (Other)    : 6156                   \n",
       "               education        default         housing           loan      \n",
       " university.degree  :12168   no     :32588   no     :18622   no     :33950  \n",
       " high.school        : 9515   unknown: 8597   unknown:  990   unknown:  990  \n",
       " basic.9y           : 6045   yes    :    3   yes    :21576   yes    : 6248  \n",
       " professional.course: 5243                                                  \n",
       " basic.4y           : 4176                                                  \n",
       " basic.6y           : 2292                                                  \n",
       " (Other)            : 1749                                                  \n",
       "      contact          month       day_of_week    duration     \n",
       " cellular :26144   may    :13769   fri:7827    Min.   :   0.0  \n",
       " telephone:15044   jul    : 7174   mon:8514    1st Qu.: 102.0  \n",
       "                   aug    : 6178   thu:8623    Median : 180.0  \n",
       "                   jun    : 5318   tue:8090    Mean   : 258.3  \n",
       "                   nov    : 4101   wed:8134    3rd Qu.: 319.0  \n",
       "                   apr    : 2632               Max.   :4918.0  \n",
       "                   (Other): 2016                               \n",
       "    campaign          pdays          previous            poutcome    \n",
       " Min.   : 1.000   Min.   :  0.0   Min.   :0.000   failure    : 4252  \n",
       " 1st Qu.: 1.000   1st Qu.:999.0   1st Qu.:0.000   nonexistent:35563  \n",
       " Median : 2.000   Median :999.0   Median :0.000   success    : 1373  \n",
       " Mean   : 2.568   Mean   :962.5   Mean   :0.173                      \n",
       " 3rd Qu.: 3.000   3rd Qu.:999.0   3rd Qu.:0.000                      \n",
       " Max.   :56.000   Max.   :999.0   Max.   :7.000                      \n",
       "                                                                     \n",
       "  emp.var.rate      cons.price.idx  cons.conf.idx     euribor3m    \n",
       " Min.   :-3.40000   Min.   :92.20   Min.   :-50.8   Min.   :0.634  \n",
       " 1st Qu.:-1.80000   1st Qu.:93.08   1st Qu.:-42.7   1st Qu.:1.344  \n",
       " Median : 1.10000   Median :93.75   Median :-41.8   Median :4.857  \n",
       " Mean   : 0.08189   Mean   :93.58   Mean   :-40.5   Mean   :3.621  \n",
       " 3rd Qu.: 1.40000   3rd Qu.:93.99   3rd Qu.:-36.4   3rd Qu.:4.961  \n",
       " Max.   : 1.40000   Max.   :94.77   Max.   :-26.9   Max.   :5.045  \n",
       "                                                                   \n",
       "  nr.employed     y            age_bin       campaign_bin     pdays_bin    \n",
       " Min.   :4964   no :36548   31-40  :16385   1      :17642   NA     :39673  \n",
       " 1st Qu.:5099   yes: 4640   41-40  :10240   2      :10570   3      :  439  \n",
       " Median :5191               21-30  : 7243   3      : 5341   6      :  412  \n",
       " Mean   :5167               51-60  : 6270   4      : 2651   4      :  118  \n",
       " 3rd Qu.:5228               61-70  :  488   5      : 1599   9      :   64  \n",
       " Max.   :5228               71-80  :  303   6      :  979   2      :   61  \n",
       "                            (Other):  259   (Other): 2406   (Other):  421  \n",
       "  previous_bin  \n",
       " 0      :35563  \n",
       " 1      : 4561  \n",
       " 2      :  754  \n",
       " 3      :  216  \n",
       " 4      :   70  \n",
       " 5      :   18  \n",
       " (Other):    6  "
      ]
     },
     "metadata": {},
     "output_type": "display_data"
    }
   ],
   "source": [
    "summary(train_df_pca)\n",
    "summary(train_df)"
   ]
  },
  {
   "cell_type": "markdown",
   "id": "3003f8a4",
   "metadata": {},
   "source": [
    "#### Dataset com variáveis não PCA train_df_npca"
   ]
  },
  {
   "cell_type": "code",
   "execution_count": 395,
   "id": "25012079",
   "metadata": {},
   "outputs": [],
   "source": [
    " \n",
    "n <-  subset(train_df, select = -c(age ,campaign ,pdays ,previous ))\n",
    "\n"
   ]
  },
  {
   "cell_type": "code",
   "execution_count": 396,
   "id": "dafeb551",
   "metadata": {},
   "outputs": [
    {
     "data": {
      "text/plain": [
       "\n",
       "   no   yes \n",
       "20861 20327 "
      ]
     },
     "metadata": {},
     "output_type": "display_data"
    }
   ],
   "source": [
    "\n",
    "train_df_npca <-  ROSE(y ~ ., data = n, ,seed = 123, N = nrow(train_df))$data\n",
    "table( train_df_npca$y)"
   ]
  },
  {
   "cell_type": "markdown",
   "id": "e68f7d48",
   "metadata": {},
   "source": [
    "#### Dataframe sem intervensões \n"
   ]
  },
  {
   "cell_type": "code",
   "execution_count": 397,
   "id": "43c704b5",
   "metadata": {},
   "outputs": [
    {
     "data": {
      "text/plain": [
       "\n",
       "   no   yes \n",
       "41517 40859 "
      ]
     },
     "metadata": {},
     "output_type": "display_data"
    }
   ],
   "source": [
    "w <- read.csv2(\"bank-additional-full.csv\",sep = ';', dec= '.')\n",
    " \n",
    "\n",
    "\n",
    "original_treino <-  ROSE(y ~ ., data = w ,seed = 123, N = nrow(train_df))$data\n",
    "table( original$y)"
   ]
  },
  {
   "cell_type": "markdown",
   "id": "0e164019",
   "metadata": {
    "scrolled": true
   },
   "source": [
    "### Dataframe Tratado para Rodar os Modelos"
   ]
  },
  {
   "cell_type": "markdown",
   "id": "f9dd3e9b",
   "metadata": {},
   "source": [
    "Variáveis desconsideradas \n",
    "\n",
    "- Duration: O arquivo de descrição do Dataset indica que essa variável precisa ser removida para um estimador robusto\n",
    "- default: Variável apesar de binária não tem informações na classe Yes (apenas 3 registros)\n",
    "\n",
    " \n",
    "\n",
    "\n",
    "Variáveis tratadas\n",
    "- age: Transformamos em classes com intervalos de 9 anos\n",
    "- campaign: transformamos em classes com intervalos e agrupamos os dias 11+ em um único categorico.\n",
    "- pdays: transformamos o tipo para categorico e tratamos o 999 para NA.\n",
    "- previous: Tratado para string\n",
    "\n",
    "\n",
    "Variáveis substituídas / geradas \n",
    "- nr.employed\t\n",
    "- euribor3m\t\n",
    "- cons.price.idx\t\n",
    "- cons.conf.idx\t\n",
    "- emp.var.rate\n",
    "\n",
    "\n",
    "- PCA1,PCA2,PCA3 : PCA analysis juntando as variáveis economicas em uma única, pois são muito correlacionadas.\n",
    "\n",
    "\n",
    " "
   ]
  },
  {
   "cell_type": "markdown",
   "id": "f56e9c18",
   "metadata": {},
   "source": [
    "Temos Três datasets treino e verificaremos a performance dos modelos treinados nesses tres conjuntos antes de responder a pergunta usando o mais adequado.\n",
    "\n",
    "- 1) Variaveis normalizadas + PCA  [train_df_pca]\n",
    "- 2) Variáveis normalizadas sem PCA   [train_df_npca]\n",
    "- 3) Variáveis não normalizadas sem PCA  [original_treino]\n",
    "\n",
    "\n",
    "Por consequencia da abordagem nossos conjuntos de teste também terão tres versões.\n",
    "\n",
    "obs: o modelo de pca e escaler são treinados apenas no conjunto treino, evitando o vazamento de dados do conjunto teste para o treino. \n",
    "\n",
    "- 1) Variaveis normalizadas + PCA   [test_df_pca]\n",
    "- 2) Variáveis normalizadas sem PCA   [test_df_npca]\n",
    "- 3) Variáveis não normalizadas sem PCA  [original_test]\n"
   ]
  },
  {
   "cell_type": "markdown",
   "id": "0e68d73a",
   "metadata": {},
   "source": [
    "### Dataframes - Treino/Teste Variaveis normalizadas + PCA  "
   ]
  },
  {
   "cell_type": "code",
   "execution_count": 398,
   "id": "74f74448",
   "metadata": {},
   "outputs": [
    {
     "data": {
      "text/html": [
       "<style>\n",
       ".list-inline {list-style: none; margin:0; padding: 0}\n",
       ".list-inline>li {display: inline-block}\n",
       ".list-inline>li:not(:last-child)::after {content: \"\\00b7\"; padding: 0 .5ex}\n",
       "</style>\n",
       "<ol class=list-inline><li>'job'</li><li>'marital'</li><li>'education'</li><li>'default'</li><li>'housing'</li><li>'loan'</li><li>'contact'</li><li>'month'</li><li>'day_of_week'</li><li>'duration'</li><li>'poutcome'</li><li>'y'</li><li>'age_bin'</li><li>'campaign_bin'</li><li>'pdays_bin'</li><li>'previous_bin'</li><li>'pca1'</li><li>'pca2'</li><li>'pca3'</li></ol>\n"
      ],
      "text/latex": [
       "\\begin{enumerate*}\n",
       "\\item 'job'\n",
       "\\item 'marital'\n",
       "\\item 'education'\n",
       "\\item 'default'\n",
       "\\item 'housing'\n",
       "\\item 'loan'\n",
       "\\item 'contact'\n",
       "\\item 'month'\n",
       "\\item 'day\\_of\\_week'\n",
       "\\item 'duration'\n",
       "\\item 'poutcome'\n",
       "\\item 'y'\n",
       "\\item 'age\\_bin'\n",
       "\\item 'campaign\\_bin'\n",
       "\\item 'pdays\\_bin'\n",
       "\\item 'previous\\_bin'\n",
       "\\item 'pca1'\n",
       "\\item 'pca2'\n",
       "\\item 'pca3'\n",
       "\\end{enumerate*}\n"
      ],
      "text/markdown": [
       "1. 'job'\n",
       "2. 'marital'\n",
       "3. 'education'\n",
       "4. 'default'\n",
       "5. 'housing'\n",
       "6. 'loan'\n",
       "7. 'contact'\n",
       "8. 'month'\n",
       "9. 'day_of_week'\n",
       "10. 'duration'\n",
       "11. 'poutcome'\n",
       "12. 'y'\n",
       "13. 'age_bin'\n",
       "14. 'campaign_bin'\n",
       "15. 'pdays_bin'\n",
       "16. 'previous_bin'\n",
       "17. 'pca1'\n",
       "18. 'pca2'\n",
       "19. 'pca3'\n",
       "\n",
       "\n"
      ],
      "text/plain": [
       " [1] \"job\"          \"marital\"      \"education\"    \"default\"      \"housing\"     \n",
       " [6] \"loan\"         \"contact\"      \"month\"        \"day_of_week\"  \"duration\"    \n",
       "[11] \"poutcome\"     \"y\"            \"age_bin\"      \"campaign_bin\" \"pdays_bin\"   \n",
       "[16] \"previous_bin\" \"pca1\"         \"pca2\"         \"pca3\"        "
      ]
     },
     "metadata": {},
     "output_type": "display_data"
    }
   ],
   "source": [
    "names(train_df_pca)"
   ]
  },
  {
   "cell_type": "code",
   "execution_count": 399,
   "id": "3bf32127",
   "metadata": {},
   "outputs": [
    {
     "name": "stdout",
     "output_type": "stream",
     "text": [
      "[1] \"DF Teste\"\n",
      "'data.frame':\t4119 obs. of  17 variables:\n",
      " $ job         : Factor w/ 12 levels \"admin.\",\"blue-collar\",..: 2 8 8 8 1 8 1 3 8 2 ...\n",
      " $ marital     : Factor w/ 4 levels \"divorced\",\"married\",..: 2 3 2 2 2 3 3 2 1 2 ...\n",
      " $ education   : Factor w/ 8 levels \"basic.4y\",\"basic.6y\",..: 3 4 4 3 7 7 7 7 6 3 ...\n",
      " $ housing     : Factor w/ 3 levels \"no\",\"unknown\",..: 3 1 3 2 3 1 3 3 1 1 ...\n",
      " $ loan        : Factor w/ 3 levels \"no\",\"unknown\",..: 1 1 1 2 1 1 1 1 1 1 ...\n",
      " $ contact     : Factor w/ 2 levels \"cellular\",\"telephone\": 1 2 2 2 1 1 1 1 1 2 ...\n",
      " $ month       : Factor w/ 10 levels \"apr\",\"aug\",\"dec\",..: 7 7 5 5 8 10 10 8 8 7 ...\n",
      " $ day_of_week : Factor w/ 5 levels \"fri\",\"mon\",\"thu\",..: 1 1 5 1 2 3 2 2 4 3 ...\n",
      " $ poutcome    : Factor w/ 3 levels \"failure\",\"nonexistent\",..: 2 2 2 2 2 1 2 2 1 2 ...\n",
      " $ y           : Factor w/ 2 levels \"no\",\"yes\": 1 1 1 1 1 1 1 1 1 1 ...\n",
      " $ age_bin     : Factor w/ 8 levels \"17-20\",\"21-30\",..: 2 3 2 3 4 3 3 4 3 3 ...\n",
      " $ campaign_bin: Factor w/ 12 levels \"1\",\"10\",\"11\",..: 5 7 1 6 1 6 7 5 1 1 ...\n",
      " $ pdays_bin   : Factor w/ 21 levels \"0\",\"1\",\"10\",\"11\",..: 21 21 21 21 21 21 21 21 21 21 ...\n",
      " $ previous_bin: Factor w/ 7 levels \"0\",\"1\",\"2\",\"3\",..: 1 1 1 1 1 3 1 1 2 1 ...\n",
      " $ pca1        : num  2.46331 -1.30569 -1.88166 -1.88075 0.00783 ...\n",
      " $ pca2        : num  -0.889 0.697 -0.653 -0.653 -0.208 ...\n",
      " $ pca3        : num  0.362 -0.386 -0.635 -0.635 0.839 ...\n",
      "[1] \"DF Treino\"\n",
      "'data.frame':\t41188 obs. of  17 variables:\n",
      " $ job         : Factor w/ 12 levels \"admin.\",\"blue-collar\",..: 2 1 1 1 1 10 5 1 10 2 ...\n",
      " $ marital     : Factor w/ 4 levels \"divorced\",\"married\",..: 1 3 2 2 2 2 3 2 2 2 ...\n",
      " $ education   : Factor w/ 8 levels \"basic.4y\",\"basic.6y\",..: 3 7 4 7 7 8 7 7 6 8 ...\n",
      " $ housing     : Factor w/ 3 levels \"no\",\"unknown\",..: 3 3 3 1 3 3 3 1 1 3 ...\n",
      " $ loan        : Factor w/ 3 levels \"no\",\"unknown\",..: 1 3 1 1 1 1 3 1 1 1 ...\n",
      " $ contact     : Factor w/ 2 levels \"cellular\",\"telephone\": 2 1 2 1 1 2 1 2 1 1 ...\n",
      " $ month       : Factor w/ 10 levels \"apr\",\"aug\",\"dec\",..: 7 7 5 4 4 5 7 7 8 4 ...\n",
      " $ day_of_week : Factor w/ 5 levels \"fri\",\"mon\",\"thu\",..: 3 3 4 5 1 1 4 4 3 1 ...\n",
      " $ poutcome    : Factor w/ 3 levels \"failure\",\"nonexistent\",..: 2 1 2 2 2 2 1 2 2 2 ...\n",
      " $ y           : Factor w/ 2 levels \"no\",\"yes\": 1 1 1 1 1 1 1 1 1 1 ...\n",
      " $ age_bin     : Factor w/ 8 levels \"17-20\",\"21-30\",..: 5 2 2 4 2 5 2 3 3 5 ...\n",
      " $ campaign_bin: Factor w/ 12 levels \"1\",\"10\",\"11\",..: 9 5 1 5 1 1 1 1 5 6 ...\n",
      " $ pdays_bin   : Factor w/ 27 levels \"0\",\"1\",\"10\",\"11\",..: 27 27 27 27 27 27 27 27 27 27 ...\n",
      " $ previous_bin: Factor w/ 8 levels \"0\",\"1\",\"2\",\"3\",..: 1 2 1 1 1 1 2 1 1 1 ...\n",
      " $ pca1        : num  -1.925 2.3 -1.971 -2.031 -0.989 ...\n",
      " $ pca2        : num  0.617 -0.748 -0.58 -0.634 -0.762 ...\n",
      " $ pca3        : num  -0.533 0.208 -0.768 0.123 0.164 ...\n"
     ]
    }
   ],
   "source": [
    "#Variáveis desconsideradas \n",
    "train_df_pca <-  subset(train_df_pca, select = -c(duration,default))\n",
    "test_df_pca <-  subset(test_df, select = -c(duration,default))\n",
    "\n",
    "#Variáveis tratadas\n",
    "test_df_pca$age_bin <-  ifelse(test_df_pca$age >= 0 & test_df_pca$age < 17, \"<17\",\n",
    "                            ifelse(test_df_pca$age >= 17 & test_df_pca$age <= 20, \"17-20\",\n",
    "                                   ifelse(test_df_pca$age >= 21 & test_df_pca$age <= 30, \"21-30\",\n",
    "                                          ifelse(test_df_pca$age >= 21 & test_df_pca$age <= 30, \"21-30\",\n",
    "                                                 ifelse(test_df_pca$age >= 31 & test_df_pca$age <= 40, \"31-40\",\n",
    "                                                        ifelse(test_df_pca$age >= 41 & test_df_pca$age <= 50, \"41-50\",\n",
    "                                                               ifelse(test_df_pca$age >= 51 & test_df_pca$age <= 60, \"51-60\", \n",
    "                                                                      ifelse(test_df_pca$age >= 61 & test_df_pca$age <= 70, \"61-70\",\n",
    "                                                                             ifelse(test_df_pca$age >= 71 & test_df_pca$age <= 80, \"71-80\", \n",
    "                                                                                    ifelse(test_df_pca$age >= 81, \"80+\", 'unknown'))))))))))\n",
    "\n",
    "\n",
    "\n",
    "test_df_pca$age_bin <-factor(test_df_pca$age_bin)\n",
    "\n",
    "test_df_pca$campaign_bin <-  ifelse(test_df_pca$campaign >= 1 & test_df_pca$campaign <=11 , test_df_pca$campaign, '11+')\n",
    "test_df_pca$campaign_bin <-factor(test_df_pca$campaign_bin)\n",
    "\n",
    "test_df_pca$pdays_bin <-  ifelse(test_df_pca$pdays != '999',test_df_pca$pdays, 'NA')\n",
    "test_df_pca$pdays_bin <-factor(test_df_pca$pdays_bin)\n",
    "test_df_pca$previous_bin <- factor(test_df_pca$previous)\n",
    "\n",
    "\n",
    "#tratadas as colunas, podemos dropar as originais\n",
    "\n",
    "#tratadas as colunas, podemos dropar as originais\n",
    "test_df_pca <-  subset(test_df_pca, select = -c(age,campaign,pdays,previous))\n",
    "\n",
    "\n",
    " \n",
    "#Variáveis substituídas / geradas\n",
    "\n",
    "test_df_pca$pca1 <-test_social$PC1\n",
    "test_df_pca$pca2 <-test_social$PC2\n",
    "test_df_pca$pca3 <-test_social$PC3\n",
    "\n",
    "#removendo as variáveis substituidas\n",
    "test_df_pca <-  subset(test_df_pca, select = -c(nr.employed,euribor3m,cons.price.idx,cons.conf.idx,emp.var.rate))\n",
    "\n",
    "\n",
    "print('DF Teste')\n",
    "str(test_df_pca)\n",
    "print('DF Treino') \n",
    "str(train_df_pca)\n",
    " \n",
    "    \n",
    " "
   ]
  },
  {
   "cell_type": "markdown",
   "id": "3e399f37",
   "metadata": {},
   "source": [
    "### Dataframes - Treino/Teste Variaveis normalizadas s/ PCA  \n"
   ]
  },
  {
   "cell_type": "code",
   "execution_count": 400,
   "id": "65aa5d62",
   "metadata": {},
   "outputs": [
    {
     "data": {
      "text/html": [
       "<style>\n",
       ".list-inline {list-style: none; margin:0; padding: 0}\n",
       ".list-inline>li {display: inline-block}\n",
       ".list-inline>li:not(:last-child)::after {content: \"\\00b7\"; padding: 0 .5ex}\n",
       "</style>\n",
       "<ol class=list-inline><li>'job'</li><li>'marital'</li><li>'education'</li><li>'default'</li><li>'housing'</li><li>'loan'</li><li>'contact'</li><li>'month'</li><li>'day_of_week'</li><li>'duration'</li><li>'poutcome'</li><li>'emp.var.rate'</li><li>'cons.price.idx'</li><li>'cons.conf.idx'</li><li>'euribor3m'</li><li>'nr.employed'</li><li>'y'</li><li>'age_bin'</li><li>'campaign_bin'</li><li>'pdays_bin'</li><li>'previous_bin'</li></ol>\n"
      ],
      "text/latex": [
       "\\begin{enumerate*}\n",
       "\\item 'job'\n",
       "\\item 'marital'\n",
       "\\item 'education'\n",
       "\\item 'default'\n",
       "\\item 'housing'\n",
       "\\item 'loan'\n",
       "\\item 'contact'\n",
       "\\item 'month'\n",
       "\\item 'day\\_of\\_week'\n",
       "\\item 'duration'\n",
       "\\item 'poutcome'\n",
       "\\item 'emp.var.rate'\n",
       "\\item 'cons.price.idx'\n",
       "\\item 'cons.conf.idx'\n",
       "\\item 'euribor3m'\n",
       "\\item 'nr.employed'\n",
       "\\item 'y'\n",
       "\\item 'age\\_bin'\n",
       "\\item 'campaign\\_bin'\n",
       "\\item 'pdays\\_bin'\n",
       "\\item 'previous\\_bin'\n",
       "\\end{enumerate*}\n"
      ],
      "text/markdown": [
       "1. 'job'\n",
       "2. 'marital'\n",
       "3. 'education'\n",
       "4. 'default'\n",
       "5. 'housing'\n",
       "6. 'loan'\n",
       "7. 'contact'\n",
       "8. 'month'\n",
       "9. 'day_of_week'\n",
       "10. 'duration'\n",
       "11. 'poutcome'\n",
       "12. 'emp.var.rate'\n",
       "13. 'cons.price.idx'\n",
       "14. 'cons.conf.idx'\n",
       "15. 'euribor3m'\n",
       "16. 'nr.employed'\n",
       "17. 'y'\n",
       "18. 'age_bin'\n",
       "19. 'campaign_bin'\n",
       "20. 'pdays_bin'\n",
       "21. 'previous_bin'\n",
       "\n",
       "\n"
      ],
      "text/plain": [
       " [1] \"job\"            \"marital\"        \"education\"      \"default\"       \n",
       " [5] \"housing\"        \"loan\"           \"contact\"        \"month\"         \n",
       " [9] \"day_of_week\"    \"duration\"       \"poutcome\"       \"emp.var.rate\"  \n",
       "[13] \"cons.price.idx\" \"cons.conf.idx\"  \"euribor3m\"      \"nr.employed\"   \n",
       "[17] \"y\"              \"age_bin\"        \"campaign_bin\"   \"pdays_bin\"     \n",
       "[21] \"previous_bin\"  "
      ]
     },
     "metadata": {},
     "output_type": "display_data"
    },
    {
     "data": {
      "text/html": [
       "<style>\n",
       ".list-inline {list-style: none; margin:0; padding: 0}\n",
       ".list-inline>li {display: inline-block}\n",
       ".list-inline>li:not(:last-child)::after {content: \"\\00b7\"; padding: 0 .5ex}\n",
       "</style>\n",
       "<ol class=list-inline><li>'age'</li><li>'job'</li><li>'marital'</li><li>'education'</li><li>'default'</li><li>'housing'</li><li>'loan'</li><li>'contact'</li><li>'month'</li><li>'day_of_week'</li><li>'duration'</li><li>'campaign'</li><li>'pdays'</li><li>'previous'</li><li>'poutcome'</li><li>'emp.var.rate'</li><li>'cons.price.idx'</li><li>'cons.conf.idx'</li><li>'euribor3m'</li><li>'nr.employed'</li><li>'y'</li></ol>\n"
      ],
      "text/latex": [
       "\\begin{enumerate*}\n",
       "\\item 'age'\n",
       "\\item 'job'\n",
       "\\item 'marital'\n",
       "\\item 'education'\n",
       "\\item 'default'\n",
       "\\item 'housing'\n",
       "\\item 'loan'\n",
       "\\item 'contact'\n",
       "\\item 'month'\n",
       "\\item 'day\\_of\\_week'\n",
       "\\item 'duration'\n",
       "\\item 'campaign'\n",
       "\\item 'pdays'\n",
       "\\item 'previous'\n",
       "\\item 'poutcome'\n",
       "\\item 'emp.var.rate'\n",
       "\\item 'cons.price.idx'\n",
       "\\item 'cons.conf.idx'\n",
       "\\item 'euribor3m'\n",
       "\\item 'nr.employed'\n",
       "\\item 'y'\n",
       "\\end{enumerate*}\n"
      ],
      "text/markdown": [
       "1. 'age'\n",
       "2. 'job'\n",
       "3. 'marital'\n",
       "4. 'education'\n",
       "5. 'default'\n",
       "6. 'housing'\n",
       "7. 'loan'\n",
       "8. 'contact'\n",
       "9. 'month'\n",
       "10. 'day_of_week'\n",
       "11. 'duration'\n",
       "12. 'campaign'\n",
       "13. 'pdays'\n",
       "14. 'previous'\n",
       "15. 'poutcome'\n",
       "16. 'emp.var.rate'\n",
       "17. 'cons.price.idx'\n",
       "18. 'cons.conf.idx'\n",
       "19. 'euribor3m'\n",
       "20. 'nr.employed'\n",
       "21. 'y'\n",
       "\n",
       "\n"
      ],
      "text/plain": [
       " [1] \"age\"            \"job\"            \"marital\"        \"education\"     \n",
       " [5] \"default\"        \"housing\"        \"loan\"           \"contact\"       \n",
       " [9] \"month\"          \"day_of_week\"    \"duration\"       \"campaign\"      \n",
       "[13] \"pdays\"          \"previous\"       \"poutcome\"       \"emp.var.rate\"  \n",
       "[17] \"cons.price.idx\" \"cons.conf.idx\"  \"euribor3m\"      \"nr.employed\"   \n",
       "[21] \"y\"             "
      ]
     },
     "metadata": {},
     "output_type": "display_data"
    }
   ],
   "source": [
    "names(train_df_npca)\n",
    "names(test_df)"
   ]
  },
  {
   "cell_type": "code",
   "execution_count": 401,
   "id": "6e41b87b",
   "metadata": {},
   "outputs": [
    {
     "name": "stdout",
     "output_type": "stream",
     "text": [
      "[1] \"DF Teste\"\n",
      "'data.frame':\t4119 obs. of  19 variables:\n",
      " $ job           : Factor w/ 12 levels \"admin.\",\"blue-collar\",..: 2 8 8 8 1 8 1 3 8 2 ...\n",
      " $ marital       : Factor w/ 4 levels \"divorced\",\"married\",..: 2 3 2 2 2 3 3 2 1 2 ...\n",
      " $ education     : Factor w/ 8 levels \"basic.4y\",\"basic.6y\",..: 3 4 4 3 7 7 7 7 6 3 ...\n",
      " $ housing       : Factor w/ 3 levels \"no\",\"unknown\",..: 3 1 3 2 3 1 3 3 1 1 ...\n",
      " $ loan          : Factor w/ 3 levels \"no\",\"unknown\",..: 1 1 1 2 1 1 1 1 1 1 ...\n",
      " $ contact       : Factor w/ 2 levels \"cellular\",\"telephone\": 1 2 2 2 1 1 1 1 1 2 ...\n",
      " $ month         : Factor w/ 10 levels \"apr\",\"aug\",\"dec\",..: 7 7 5 5 8 10 10 8 8 7 ...\n",
      " $ day_of_week   : Factor w/ 5 levels \"fri\",\"mon\",\"thu\",..: 1 1 5 1 2 3 2 2 4 3 ...\n",
      " $ poutcome      : Factor w/ 3 levels \"failure\",\"nonexistent\",..: 2 2 2 2 2 1 2 2 1 2 ...\n",
      " $ emp.var.rate  : num  -1.8 1.1 1.4 1.4 -0.1 -1.1 -1.1 -0.1 -0.1 1.1 ...\n",
      " $ cons.price.idx: num  92.9 94 94.5 94.5 93.2 ...\n",
      " $ cons.conf.idx : num  -46.2 -36.4 -41.8 -41.8 -42 -37.5 -37.5 -42 -42 -36.4 ...\n",
      " $ euribor3m     : num  1.31 4.86 4.96 4.96 4.19 ...\n",
      " $ nr.employed   : num  5099 5191 5228 5228 5196 ...\n",
      " $ y             : Factor w/ 2 levels \"no\",\"yes\": 1 1 1 1 1 1 1 1 1 1 ...\n",
      " $ age_bin       : Factor w/ 8 levels \"17-20\",\"21-30\",..: 2 3 2 3 4 3 3 4 3 3 ...\n",
      " $ campaign_bin  : Factor w/ 12 levels \"1\",\"10\",\"11\",..: 5 7 1 6 1 6 7 5 1 1 ...\n",
      " $ pdays_bin     : Factor w/ 21 levels \"0\",\"1\",\"10\",\"11\",..: 21 21 21 21 21 21 21 21 21 21 ...\n",
      " $ previous_bin  : Factor w/ 7 levels \"0\",\"1\",\"2\",\"3\",..: 1 1 1 1 1 3 1 1 2 1 ...\n",
      "[1] \"DF Treino\"\n",
      "'data.frame':\t41188 obs. of  19 variables:\n",
      " $ job           : Factor w/ 12 levels \"admin.\",\"blue-collar\",..: 2 1 1 1 1 10 5 1 10 2 ...\n",
      " $ marital       : Factor w/ 4 levels \"divorced\",\"married\",..: 1 3 2 2 2 2 3 2 2 2 ...\n",
      " $ education     : Factor w/ 8 levels \"basic.4y\",\"basic.6y\",..: 3 7 4 7 7 8 7 7 6 8 ...\n",
      " $ housing       : Factor w/ 3 levels \"no\",\"unknown\",..: 3 3 3 1 3 3 3 1 1 3 ...\n",
      " $ loan          : Factor w/ 3 levels \"no\",\"unknown\",..: 1 3 1 1 1 1 3 1 1 1 ...\n",
      " $ contact       : Factor w/ 2 levels \"cellular\",\"telephone\": 2 1 2 1 1 2 1 2 1 1 ...\n",
      " $ month         : Factor w/ 10 levels \"apr\",\"aug\",\"dec\",..: 7 7 5 4 4 5 7 7 8 4 ...\n",
      " $ day_of_week   : Factor w/ 5 levels \"fri\",\"mon\",\"thu\",..: 3 3 4 5 1 1 4 4 3 1 ...\n",
      " $ poutcome      : Factor w/ 3 levels \"failure\",\"nonexistent\",..: 2 1 2 2 2 2 1 2 2 2 ...\n",
      " $ emp.var.rate  : num  0.441 -1.989 1.273 0.789 1.9 ...\n",
      " $ cons.price.idx: num  93.9 93 94.5 93.9 93.8 ...\n",
      " $ cons.conf.idx : num  -37.7 -47.5 -42.9 -43.1 -42.7 ...\n",
      " $ euribor3m     : num  5.365 0.735 5.13 4.975 4.351 ...\n",
      " $ nr.employed   : num  5224 5080 5228 5242 5229 ...\n",
      " $ y             : Factor w/ 2 levels \"no\",\"yes\": 1 1 1 1 1 1 1 1 1 1 ...\n",
      " $ age_bin       : Factor w/ 8 levels \"17-20\",\"21-30\",..: 5 2 2 4 2 5 2 3 3 5 ...\n",
      " $ campaign_bin  : Factor w/ 12 levels \"1\",\"10\",\"11\",..: 9 5 1 5 1 1 1 1 5 6 ...\n",
      " $ pdays_bin     : Factor w/ 27 levels \"0\",\"1\",\"10\",\"11\",..: 27 27 27 27 27 27 27 27 27 27 ...\n",
      " $ previous_bin  : Factor w/ 8 levels \"0\",\"1\",\"2\",\"3\",..: 1 2 1 1 1 1 2 1 1 1 ...\n"
     ]
    }
   ],
   "source": [
    "#Variáveis tratadas\n",
    "test_df_npca <- test_df\n",
    "\n",
    "\n",
    "#Variáveis desconsideradas \n",
    "train_df_npca <-  subset(train_df_npca, select = -c(duration,default))\n",
    "test_df_npca <-  subset(test_df_npca, select = -c(duration,default))\n",
    "\n",
    "\n",
    "\n",
    "test_df_npca$age_bin <-  ifelse(test_df$age >= 0 & test_df$age < 17, \"<17\",\n",
    "                            ifelse(test_df$age >= 17 & test_df$age <= 20, \"17-20\",\n",
    "                                   ifelse(test_df$age >= 21 & test_df$age <= 30, \"21-30\",\n",
    "                                          ifelse(test_df$age >= 21 & test_df$age <= 30, \"21-30\",\n",
    "                                                 ifelse(test_df$age >= 31 & test_df$age <= 40, \"31-40\",\n",
    "                                                        ifelse(test_df$age >= 41 & test_df$age <= 50, \"41-40\",\n",
    "                                                               ifelse(test_df$age >= 51 & test_df$age <= 60, \"51-60\", \n",
    "                                                                      ifelse(test_df$age >= 61 & test_df$age <= 70, \"61-70\",\n",
    "                                                                             ifelse(test_df$age >= 71 & test_df$age <= 80, \"71-80\", \n",
    "                                                                                    ifelse(test_df$age >= 81, \"80+\", 'unknown'))))))))))\n",
    "\n",
    "\n",
    "\n",
    "test_df_npca$age_bin <-factor(test_df_npca$age_bin)\n",
    "\n",
    "test_df_npca$campaign_bin <-  ifelse(test_df_npca$campaign >= 1 & test_df_npca$campaign <=11 , test_df_npca$campaign, '11+')\n",
    "test_df_npca$campaign_bin <-factor(test_df_npca$campaign_bin)\n",
    "\n",
    "test_df_npca$pdays_bin <-  ifelse(test_df_npca$pdays != '999',test_df_npca$pdays, 'NA')\n",
    "test_df_npca$pdays_bin <-factor(test_df_npca$pdays_bin)\n",
    "test_df_npca$previous_bin <- factor(test_df_npca$previous)\n",
    "\n",
    "\n",
    " \n",
    "\n",
    "#tratadas as colunas, podemos dropar as originais\n",
    "test_df_npca <-  subset(test_df_npca, select = -c(age,campaign,pdays,previous))\n",
    "\n",
    "\n",
    " \n",
    "\n",
    " print('DF Teste')\n",
    "str(test_df_npca)\n",
    "print('DF Treino') \n",
    "str(train_df_npca)\n",
    "\n",
    " \n",
    "\n",
    " "
   ]
  },
  {
   "cell_type": "markdown",
   "id": "1b5799fb",
   "metadata": {},
   "source": [
    "### Dataframes - Original treino/teste"
   ]
  },
  {
   "cell_type": "code",
   "execution_count": 402,
   "id": "e30a5c0e",
   "metadata": {},
   "outputs": [],
   "source": [
    "original_teste=read.csv2(\"bank-additional.csv\",sep = ';',dec= '.')\n",
    "original_teste <-subset(original_teste, select =  -c(duration,default))\n",
    "\n",
    "#Variáveis desconsideradas \n",
    "original_treino <-  subset(original_treino, select = -c(duration,default))"
   ]
  },
  {
   "cell_type": "code",
   "execution_count": 403,
   "id": "ebfb887a",
   "metadata": {},
   "outputs": [
    {
     "data": {
      "text/html": [
       "<style>\n",
       ".list-inline {list-style: none; margin:0; padding: 0}\n",
       ".list-inline>li {display: inline-block}\n",
       ".list-inline>li:not(:last-child)::after {content: \"\\00b7\"; padding: 0 .5ex}\n",
       "</style>\n",
       "<ol class=list-inline><li>'age'</li><li>'job'</li><li>'marital'</li><li>'education'</li><li>'housing'</li><li>'loan'</li><li>'contact'</li><li>'month'</li><li>'day_of_week'</li><li>'campaign'</li><li>'pdays'</li><li>'previous'</li><li>'poutcome'</li><li>'emp.var.rate'</li><li>'cons.price.idx'</li><li>'cons.conf.idx'</li><li>'euribor3m'</li><li>'nr.employed'</li><li>'y'</li></ol>\n"
      ],
      "text/latex": [
       "\\begin{enumerate*}\n",
       "\\item 'age'\n",
       "\\item 'job'\n",
       "\\item 'marital'\n",
       "\\item 'education'\n",
       "\\item 'housing'\n",
       "\\item 'loan'\n",
       "\\item 'contact'\n",
       "\\item 'month'\n",
       "\\item 'day\\_of\\_week'\n",
       "\\item 'campaign'\n",
       "\\item 'pdays'\n",
       "\\item 'previous'\n",
       "\\item 'poutcome'\n",
       "\\item 'emp.var.rate'\n",
       "\\item 'cons.price.idx'\n",
       "\\item 'cons.conf.idx'\n",
       "\\item 'euribor3m'\n",
       "\\item 'nr.employed'\n",
       "\\item 'y'\n",
       "\\end{enumerate*}\n"
      ],
      "text/markdown": [
       "1. 'age'\n",
       "2. 'job'\n",
       "3. 'marital'\n",
       "4. 'education'\n",
       "5. 'housing'\n",
       "6. 'loan'\n",
       "7. 'contact'\n",
       "8. 'month'\n",
       "9. 'day_of_week'\n",
       "10. 'campaign'\n",
       "11. 'pdays'\n",
       "12. 'previous'\n",
       "13. 'poutcome'\n",
       "14. 'emp.var.rate'\n",
       "15. 'cons.price.idx'\n",
       "16. 'cons.conf.idx'\n",
       "17. 'euribor3m'\n",
       "18. 'nr.employed'\n",
       "19. 'y'\n",
       "\n",
       "\n"
      ],
      "text/plain": [
       " [1] \"age\"            \"job\"            \"marital\"        \"education\"     \n",
       " [5] \"housing\"        \"loan\"           \"contact\"        \"month\"         \n",
       " [9] \"day_of_week\"    \"campaign\"       \"pdays\"          \"previous\"      \n",
       "[13] \"poutcome\"       \"emp.var.rate\"   \"cons.price.idx\" \"cons.conf.idx\" \n",
       "[17] \"euribor3m\"      \"nr.employed\"    \"y\"             "
      ]
     },
     "metadata": {},
     "output_type": "display_data"
    }
   ],
   "source": [
    "names(original_teste)"
   ]
  },
  {
   "cell_type": "code",
   "execution_count": 404,
   "id": "543ab797",
   "metadata": {},
   "outputs": [
    {
     "data": {
      "text/html": [
       "<style>\n",
       ".list-inline {list-style: none; margin:0; padding: 0}\n",
       ".list-inline>li {display: inline-block}\n",
       ".list-inline>li:not(:last-child)::after {content: \"\\00b7\"; padding: 0 .5ex}\n",
       "</style>\n",
       "<ol class=list-inline><li>'age'</li><li>'job'</li><li>'marital'</li><li>'education'</li><li>'housing'</li><li>'loan'</li><li>'contact'</li><li>'month'</li><li>'day_of_week'</li><li>'campaign'</li><li>'pdays'</li><li>'previous'</li><li>'poutcome'</li><li>'emp.var.rate'</li><li>'cons.price.idx'</li><li>'cons.conf.idx'</li><li>'euribor3m'</li><li>'nr.employed'</li><li>'y'</li></ol>\n"
      ],
      "text/latex": [
       "\\begin{enumerate*}\n",
       "\\item 'age'\n",
       "\\item 'job'\n",
       "\\item 'marital'\n",
       "\\item 'education'\n",
       "\\item 'housing'\n",
       "\\item 'loan'\n",
       "\\item 'contact'\n",
       "\\item 'month'\n",
       "\\item 'day\\_of\\_week'\n",
       "\\item 'campaign'\n",
       "\\item 'pdays'\n",
       "\\item 'previous'\n",
       "\\item 'poutcome'\n",
       "\\item 'emp.var.rate'\n",
       "\\item 'cons.price.idx'\n",
       "\\item 'cons.conf.idx'\n",
       "\\item 'euribor3m'\n",
       "\\item 'nr.employed'\n",
       "\\item 'y'\n",
       "\\end{enumerate*}\n"
      ],
      "text/markdown": [
       "1. 'age'\n",
       "2. 'job'\n",
       "3. 'marital'\n",
       "4. 'education'\n",
       "5. 'housing'\n",
       "6. 'loan'\n",
       "7. 'contact'\n",
       "8. 'month'\n",
       "9. 'day_of_week'\n",
       "10. 'campaign'\n",
       "11. 'pdays'\n",
       "12. 'previous'\n",
       "13. 'poutcome'\n",
       "14. 'emp.var.rate'\n",
       "15. 'cons.price.idx'\n",
       "16. 'cons.conf.idx'\n",
       "17. 'euribor3m'\n",
       "18. 'nr.employed'\n",
       "19. 'y'\n",
       "\n",
       "\n"
      ],
      "text/plain": [
       " [1] \"age\"            \"job\"            \"marital\"        \"education\"     \n",
       " [5] \"housing\"        \"loan\"           \"contact\"        \"month\"         \n",
       " [9] \"day_of_week\"    \"campaign\"       \"pdays\"          \"previous\"      \n",
       "[13] \"poutcome\"       \"emp.var.rate\"   \"cons.price.idx\" \"cons.conf.idx\" \n",
       "[17] \"euribor3m\"      \"nr.employed\"    \"y\"             "
      ]
     },
     "metadata": {},
     "output_type": "display_data"
    }
   ],
   "source": [
    "names(original_treino)"
   ]
  },
  {
   "cell_type": "markdown",
   "id": "3fd4fdd3",
   "metadata": {},
   "source": [
    "### Instanciando Modelo Regressão Logistica"
   ]
  },
  {
   "cell_type": "code",
   "execution_count": 405,
   "id": "182233c2",
   "metadata": {},
   "outputs": [
    {
     "name": "stdout",
     "output_type": "stream",
     "text": [
      "Generalized Linear Model \n",
      "\n",
      "41188 samples\n",
      "   16 predictor\n",
      "    2 classes: 'no', 'yes' \n",
      "\n",
      "No pre-processing\n",
      "Resampling: Cross-Validated (5 fold) \n",
      "Summary of sample sizes: 32951, 32951, 32949, 32950, 32951 \n",
      "Resampling results:\n",
      "\n",
      "  Accuracy   Kappa    \n",
      "  0.7395844  0.4776592\n",
      "\n",
      "Generalized Linear Model \n",
      "\n",
      "41188 samples\n",
      "   18 predictor\n",
      "    2 classes: 'no', 'yes' \n",
      "\n",
      "No pre-processing\n",
      "Resampling: Cross-Validated (5 fold) \n",
      "Summary of sample sizes: 32951, 32951, 32950, 32949, 32951 \n",
      "Resampling results:\n",
      "\n",
      "  Accuracy   Kappa    \n",
      "  0.7385163  0.4756099\n",
      "\n",
      "Generalized Linear Model \n",
      "\n",
      "41188 samples\n",
      "   18 predictor\n",
      "    2 classes: 'no', 'yes' \n",
      "\n",
      "No pre-processing\n",
      "Resampling: Cross-Validated (5 fold) \n",
      "Summary of sample sizes: 32951, 32951, 32951, 32950, 32949 \n",
      "Resampling results:\n",
      "\n",
      "  Accuracy   Kappa    \n",
      "  0.7375691  0.4737417\n",
      "\n"
     ]
    }
   ],
   "source": [
    "#suprimindo warnning\n",
    "#oldw <- getOption(\"warn\")\n",
    "#options(warn = -1)\n",
    "\n",
    "#biblioteca para cross validation\n",
    "#library(caret)\n",
    "#library(e1071)\n",
    "\n",
    "#semente aleatoria\n",
    "set.seed(123) \n",
    "# Define training control\n",
    "ctrl <- trainControl(method = \"cv\", number = 5, classProbs = TRUE)\n",
    "\n",
    "\n",
    "# modelo com PCA\n",
    "log_fit_pca <- train(y ~., data = train_df_pca,\n",
    "                 method = \"glm\",\n",
    "                 trControl = ctrl)\n",
    "\n",
    "\n",
    "# modelo sem PCA\n",
    "log_fit_npca <- train(y ~., data = train_df_npca,\n",
    "                 method = \"glm\",\n",
    "                 trControl = ctrl)\n",
    "\n",
    "# modelo no original\n",
    "log_fit_orig <- train(y ~., data = original_treino,\n",
    "                 method = \"glm\",\n",
    "                 trControl = ctrl)\n",
    "\n",
    "\n",
    "print(log_fit_pca)\n",
    "print(log_fit_npca)\n",
    "print(log_fit_orig) "
   ]
  },
  {
   "cell_type": "markdown",
   "id": "1e249a79",
   "metadata": {},
   "source": [
    "#### Matriz de confusão e Previsões - Treino x Teste"
   ]
  },
  {
   "cell_type": "code",
   "execution_count": 511,
   "id": "2d28bf7b",
   "metadata": {},
   "outputs": [
    {
     "data": {
      "text/plain": [
       "Confusion Matrix and Statistics\n",
       "\n",
       "          Reference\n",
       "Prediction   no  yes\n",
       "       no  3134  172\n",
       "       yes  534  279\n",
       "                                        \n",
       "               Accuracy : 0.8286        \n",
       "                 95% CI : (0.8167, 0.84)\n",
       "    No Information Rate : 0.8905        \n",
       "    P-Value [Acc > NIR] : 1             \n",
       "                                        \n",
       "                  Kappa : 0.3499        \n",
       "                                        \n",
       " Mcnemar's Test P-Value : <2e-16        \n",
       "                                        \n",
       "            Sensitivity : 0.8544        \n",
       "            Specificity : 0.6186        \n",
       "         Pos Pred Value : 0.9480        \n",
       "         Neg Pred Value : 0.3432        \n",
       "             Prevalence : 0.8905        \n",
       "         Detection Rate : 0.7609        \n",
       "   Detection Prevalence : 0.8026        \n",
       "      Balanced Accuracy : 0.7365        \n",
       "                                        \n",
       "       'Positive' Class : no            \n",
       "                                        "
      ]
     },
     "metadata": {},
     "output_type": "display_data"
    },
    {
     "name": "stdout",
     "output_type": "stream",
     "text": [
      "[1] \"Modelo com PCA\"\n",
      "[1] \"precision\"\n",
      "[1] 0.3431734\n",
      "[1] \"recall\"\n",
      "[1] 0.6186253\n",
      "[1] \"F1\"\n"
     ]
    },
    {
     "data": {
      "text/html": [
       "0.441455696202532"
      ],
      "text/latex": [
       "0.441455696202532"
      ],
      "text/markdown": [
       "0.441455696202532"
      ],
      "text/plain": [
       "[1] 0.4414557"
      ]
     },
     "metadata": {},
     "output_type": "display_data"
    }
   ],
   "source": [
    "pred_log_pca <- predict(log_fit_pca, newdata = test_df_pca)\n",
    "confusionMatrix(pred_log_pca, test_df_pca$y)\n",
    "\n",
    " \n",
    "precision_teste <- posPredValue(pred_log_pca, test_df_pca$y, positive=\"yes\")\n",
    "recall_teste <- sensitivity(pred_log_pca,test_df_pca$y, positive=\"yes\")\n",
    "F1_teste <- (2 * precision_teste * recall_teste) / (precision_teste + recall_teste)\n",
    "\n",
    "\n",
    "print('Modelo com PCA')\n",
    "print('precision')\n",
    "print(precision_teste)\n",
    "print('recall')\n",
    "print(recall_teste)\n",
    "print('F1')\n",
    "F1_teste"
   ]
  },
  {
   "cell_type": "code",
   "execution_count": 512,
   "id": "66558889",
   "metadata": {},
   "outputs": [
    {
     "data": {
      "text/plain": [
       "Confusion Matrix and Statistics\n",
       "\n",
       "          Reference\n",
       "Prediction   no  yes\n",
       "       no  3111  169\n",
       "       yes  557  282\n",
       "                                          \n",
       "               Accuracy : 0.8237          \n",
       "                 95% CI : (0.8118, 0.8353)\n",
       "    No Information Rate : 0.8905          \n",
       "    P-Value [Acc > NIR] : 1               \n",
       "                                          \n",
       "                  Kappa : 0.3437          \n",
       "                                          \n",
       " Mcnemar's Test P-Value : <2e-16          \n",
       "                                          \n",
       "            Sensitivity : 0.8481          \n",
       "            Specificity : 0.6253          \n",
       "         Pos Pred Value : 0.9485          \n",
       "         Neg Pred Value : 0.3361          \n",
       "             Prevalence : 0.8905          \n",
       "         Detection Rate : 0.7553          \n",
       "   Detection Prevalence : 0.7963          \n",
       "      Balanced Accuracy : 0.7367          \n",
       "                                          \n",
       "       'Positive' Class : no              \n",
       "                                          "
      ]
     },
     "metadata": {},
     "output_type": "display_data"
    },
    {
     "name": "stdout",
     "output_type": "stream",
     "text": [
      "[1] \"Modelo com s/PCA\"\n",
      "[1] \"precision\"\n",
      "[1] 0.3361144\n",
      "[1] \"recall\"\n",
      "[1] 0.6252772\n",
      "[1] \"F1\"\n"
     ]
    },
    {
     "data": {
      "text/html": [
       "0.437209302325581"
      ],
      "text/latex": [
       "0.437209302325581"
      ],
      "text/markdown": [
       "0.437209302325581"
      ],
      "text/plain": [
       "[1] 0.4372093"
      ]
     },
     "metadata": {},
     "output_type": "display_data"
    }
   ],
   "source": [
    "pred_log_npca <- predict(log_fit_npca, newdata = test_df_npca)\n",
    "confusionMatrix(pred_log_npca, test_df_npca$y)\n",
    "\n",
    "precision <- posPredValue(pred_log_npca, test_df_npca$y, positive=\"yes\")\n",
    "recall <- sensitivity(pred_log_npca,test_df_npca$y, positive=\"yes\")\n",
    "F1 <- (2 * precision * recall) / (precision + recall)\n",
    "print('Modelo com s/PCA')\n",
    "print('precision')\n",
    "print(precision)\n",
    "print('recall')\n",
    "print(recall)\n",
    "print('F1')\n",
    "F1\n",
    "\n"
   ]
  },
  {
   "cell_type": "code",
   "execution_count": 442,
   "id": "36bb8837",
   "metadata": {},
   "outputs": [
    {
     "data": {
      "text/plain": [
       "          Reference\n",
       "Prediction   no  yes\n",
       "       no  3105  171\n",
       "       yes  563  280"
      ]
     },
     "metadata": {},
     "output_type": "display_data"
    },
    {
     "name": "stdout",
     "output_type": "stream",
     "text": [
      "[1] \"precision\"\n"
     ]
    },
    {
     "data": {
      "text/html": [
       "0.33214709371293"
      ],
      "text/latex": [
       "0.33214709371293"
      ],
      "text/markdown": [
       "0.33214709371293"
      ],
      "text/plain": [
       "[1] 0.3321471"
      ]
     },
     "metadata": {},
     "output_type": "display_data"
    },
    {
     "name": "stdout",
     "output_type": "stream",
     "text": [
      "[1] \"recall\"\n"
     ]
    },
    {
     "data": {
      "text/html": [
       "0.620842572062084"
      ],
      "text/latex": [
       "0.620842572062084"
      ],
      "text/markdown": [
       "0.620842572062084"
      ],
      "text/plain": [
       "[1] 0.6208426"
      ]
     },
     "metadata": {},
     "output_type": "display_data"
    },
    {
     "name": "stdout",
     "output_type": "stream",
     "text": [
      "[1] \"f1\"\n"
     ]
    },
    {
     "data": {
      "text/html": [
       "0.437209302325581"
      ],
      "text/latex": [
       "0.437209302325581"
      ],
      "text/markdown": [
       "0.437209302325581"
      ],
      "text/plain": [
       "[1] 0.4372093"
      ]
     },
     "metadata": {},
     "output_type": "display_data"
    }
   ],
   "source": [
    "pred_log_orig <- predict(log_fit_orig, newdata = original_teste)\n",
    "confusionMatrix(pred_log_orig, original_teste$y)\n",
    "\n",
    "precision = 280/(280+563) #tp/tp+fp\n",
    "recall =  280/(280+171)  #tp/tp + fn\n",
    "print('precision')\n",
    "precision\n",
    "print('recall')\n",
    "recall\n",
    "\n",
    "f1 = 2* (precision*recall)/(precision+recall) #2* (precision* recall)/ (precion + recall)\n",
    "print('f1')\n",
    "F1\n",
    " "
   ]
  },
  {
   "cell_type": "markdown",
   "id": "6a59c330",
   "metadata": {},
   "source": [
    "#### Importancia das variáveis"
   ]
  },
  {
   "cell_type": "code",
   "execution_count": 495,
   "id": "5abcd3a9",
   "metadata": {},
   "outputs": [
    {
     "data": {
      "text/plain": [
       "glm variable importance\n",
       "\n",
       "  only 20 most important variables shown (out of 91)\n",
       "\n",
       "                           Overall\n",
       "pca1                        33.424\n",
       "pca3                        21.607\n",
       "monthmay                    14.535\n",
       "contacttelephone            12.194\n",
       "monthmar                    11.000\n",
       "pca2                         8.861\n",
       "monthnov                     7.329\n",
       "`campaign_bin11+`            7.059\n",
       "educationuniversity.degree   6.193\n",
       "jobstudent                   5.020\n",
       "monthoct                     4.986\n",
       "campaign_bin5                4.535\n",
       "educationbasic.6y            4.251\n",
       "educationunknown             4.140\n",
       "campaign_bin7                4.068\n",
       "campaign_bin8                3.930\n",
       "day_of_weekwed               3.769\n",
       "poutcomesuccess              3.665\n",
       "maritalsingle                3.644\n",
       "educationhigh.school         3.599"
      ]
     },
     "metadata": {},
     "output_type": "display_data"
    }
   ],
   "source": [
    "log_imp <- varImp(log_fit_pca,scale = FALSE)\n",
    "log_imp"
   ]
  },
  {
   "cell_type": "markdown",
   "id": "e3843cd7",
   "metadata": {},
   "source": [
    "#### Estimando a propensão a aderir - Modelo Escolhido: c /PCA"
   ]
  },
  {
   "cell_type": "code",
   "execution_count": 464,
   "id": "08560425",
   "metadata": {},
   "outputs": [],
   "source": [
    "library(caret)\n",
    "#estimar a propensão a aderir\n",
    "fitted.results.tst.raw_treino <- predict( log_fit_pca , \n",
    "                                  newdata = train_df_pca, \n",
    "                                  type = 'prob')\n",
    "\n",
    "fitted.results.tst.raw_teste <- predict(log_fit_pca, \n",
    "                                  newdata = test_df_pca, \n",
    "                                  type = 'prob')\n",
    "\n"
   ]
  },
  {
   "cell_type": "code",
   "execution_count": 465,
   "id": "1106ea8f",
   "metadata": {},
   "outputs": [],
   "source": [
    "#insere no data frame\n",
    "train_df_pca$prob_aderir <-fitted.results.tst.raw_treino$yes\n",
    "test_df_pca$prob_aderir <-fitted.results.tst.raw_teste$yes"
   ]
  },
  {
   "cell_type": "code",
   "execution_count": 466,
   "id": "4641d55e",
   "metadata": {},
   "outputs": [
    {
     "data": {
      "text/html": [
       "<table class=\"dataframe\">\n",
       "<caption>A data.frame: 5 × 18</caption>\n",
       "<thead>\n",
       "\t<tr><th></th><th scope=col>job</th><th scope=col>marital</th><th scope=col>education</th><th scope=col>housing</th><th scope=col>loan</th><th scope=col>contact</th><th scope=col>month</th><th scope=col>day_of_week</th><th scope=col>poutcome</th><th scope=col>y</th><th scope=col>age_bin</th><th scope=col>campaign_bin</th><th scope=col>pdays_bin</th><th scope=col>previous_bin</th><th scope=col>pca1</th><th scope=col>pca2</th><th scope=col>pca3</th><th scope=col>prob_aderir</th></tr>\n",
       "\t<tr><th></th><th scope=col>&lt;fct&gt;</th><th scope=col>&lt;fct&gt;</th><th scope=col>&lt;fct&gt;</th><th scope=col>&lt;fct&gt;</th><th scope=col>&lt;fct&gt;</th><th scope=col>&lt;fct&gt;</th><th scope=col>&lt;fct&gt;</th><th scope=col>&lt;fct&gt;</th><th scope=col>&lt;fct&gt;</th><th scope=col>&lt;fct&gt;</th><th scope=col>&lt;fct&gt;</th><th scope=col>&lt;fct&gt;</th><th scope=col>&lt;fct&gt;</th><th scope=col>&lt;fct&gt;</th><th scope=col>&lt;dbl&gt;</th><th scope=col>&lt;dbl&gt;</th><th scope=col>&lt;dbl&gt;</th><th scope=col>&lt;dbl&gt;</th></tr>\n",
       "</thead>\n",
       "<tbody>\n",
       "\t<tr><th scope=row>1</th><td>blue-collar</td><td>divorced</td><td>basic.9y         </td><td>yes</td><td>no </td><td>telephone</td><td>may</td><td>thu</td><td>nonexistent</td><td>no</td><td>51-60</td><td>6</td><td>NA</td><td>0</td><td>-1.9251030</td><td> 0.6173449</td><td>-0.5331471</td><td>0.1515928</td></tr>\n",
       "\t<tr><th scope=row>2</th><td>admin.     </td><td>single  </td><td>university.degree</td><td>yes</td><td>yes</td><td>cellular </td><td>may</td><td>thu</td><td>failure    </td><td>no</td><td>21-30</td><td>2</td><td>NA</td><td>1</td><td> 2.3001778</td><td>-0.7483783</td><td> 0.2082946</td><td>0.4337112</td></tr>\n",
       "\t<tr><th scope=row>3</th><td>admin.     </td><td>married </td><td>high.school      </td><td>yes</td><td>no </td><td>telephone</td><td>jun</td><td>tue</td><td>nonexistent</td><td>no</td><td>21-30</td><td>1</td><td>NA</td><td>0</td><td>-1.9707944</td><td>-0.5798382</td><td>-0.7678536</td><td>0.3266396</td></tr>\n",
       "\t<tr><th scope=row>4</th><td>admin.     </td><td>married </td><td>university.degree</td><td>no </td><td>no </td><td>cellular </td><td>jul</td><td>wed</td><td>nonexistent</td><td>no</td><td>41-40</td><td>2</td><td>NA</td><td>0</td><td>-2.0313087</td><td>-0.6337924</td><td> 0.1231449</td><td>0.3618767</td></tr>\n",
       "\t<tr><th scope=row>5</th><td>admin.     </td><td>married </td><td>university.degree</td><td>yes</td><td>no </td><td>cellular </td><td>jul</td><td>fri</td><td>nonexistent</td><td>no</td><td>21-30</td><td>1</td><td>NA</td><td>0</td><td>-0.9888617</td><td>-0.7624516</td><td> 0.1641998</td><td>0.4481662</td></tr>\n",
       "</tbody>\n",
       "</table>\n"
      ],
      "text/latex": [
       "A data.frame: 5 × 18\n",
       "\\begin{tabular}{r|llllllllllllllllll}\n",
       "  & job & marital & education & housing & loan & contact & month & day\\_of\\_week & poutcome & y & age\\_bin & campaign\\_bin & pdays\\_bin & previous\\_bin & pca1 & pca2 & pca3 & prob\\_aderir\\\\\n",
       "  & <fct> & <fct> & <fct> & <fct> & <fct> & <fct> & <fct> & <fct> & <fct> & <fct> & <fct> & <fct> & <fct> & <fct> & <dbl> & <dbl> & <dbl> & <dbl>\\\\\n",
       "\\hline\n",
       "\t1 & blue-collar & divorced & basic.9y          & yes & no  & telephone & may & thu & nonexistent & no & 51-60 & 6 & NA & 0 & -1.9251030 &  0.6173449 & -0.5331471 & 0.1515928\\\\\n",
       "\t2 & admin.      & single   & university.degree & yes & yes & cellular  & may & thu & failure     & no & 21-30 & 2 & NA & 1 &  2.3001778 & -0.7483783 &  0.2082946 & 0.4337112\\\\\n",
       "\t3 & admin.      & married  & high.school       & yes & no  & telephone & jun & tue & nonexistent & no & 21-30 & 1 & NA & 0 & -1.9707944 & -0.5798382 & -0.7678536 & 0.3266396\\\\\n",
       "\t4 & admin.      & married  & university.degree & no  & no  & cellular  & jul & wed & nonexistent & no & 41-40 & 2 & NA & 0 & -2.0313087 & -0.6337924 &  0.1231449 & 0.3618767\\\\\n",
       "\t5 & admin.      & married  & university.degree & yes & no  & cellular  & jul & fri & nonexistent & no & 21-30 & 1 & NA & 0 & -0.9888617 & -0.7624516 &  0.1641998 & 0.4481662\\\\\n",
       "\\end{tabular}\n"
      ],
      "text/markdown": [
       "\n",
       "A data.frame: 5 × 18\n",
       "\n",
       "| <!--/--> | job &lt;fct&gt; | marital &lt;fct&gt; | education &lt;fct&gt; | housing &lt;fct&gt; | loan &lt;fct&gt; | contact &lt;fct&gt; | month &lt;fct&gt; | day_of_week &lt;fct&gt; | poutcome &lt;fct&gt; | y &lt;fct&gt; | age_bin &lt;fct&gt; | campaign_bin &lt;fct&gt; | pdays_bin &lt;fct&gt; | previous_bin &lt;fct&gt; | pca1 &lt;dbl&gt; | pca2 &lt;dbl&gt; | pca3 &lt;dbl&gt; | prob_aderir &lt;dbl&gt; |\n",
       "|---|---|---|---|---|---|---|---|---|---|---|---|---|---|---|---|---|---|---|\n",
       "| 1 | blue-collar | divorced | basic.9y          | yes | no  | telephone | may | thu | nonexistent | no | 51-60 | 6 | NA | 0 | -1.9251030 |  0.6173449 | -0.5331471 | 0.1515928 |\n",
       "| 2 | admin.      | single   | university.degree | yes | yes | cellular  | may | thu | failure     | no | 21-30 | 2 | NA | 1 |  2.3001778 | -0.7483783 |  0.2082946 | 0.4337112 |\n",
       "| 3 | admin.      | married  | high.school       | yes | no  | telephone | jun | tue | nonexistent | no | 21-30 | 1 | NA | 0 | -1.9707944 | -0.5798382 | -0.7678536 | 0.3266396 |\n",
       "| 4 | admin.      | married  | university.degree | no  | no  | cellular  | jul | wed | nonexistent | no | 41-40 | 2 | NA | 0 | -2.0313087 | -0.6337924 |  0.1231449 | 0.3618767 |\n",
       "| 5 | admin.      | married  | university.degree | yes | no  | cellular  | jul | fri | nonexistent | no | 21-30 | 1 | NA | 0 | -0.9888617 | -0.7624516 |  0.1641998 | 0.4481662 |\n",
       "\n"
      ],
      "text/plain": [
       "  job         marital  education         housing loan contact   month\n",
       "1 blue-collar divorced basic.9y          yes     no   telephone may  \n",
       "2 admin.      single   university.degree yes     yes  cellular  may  \n",
       "3 admin.      married  high.school       yes     no   telephone jun  \n",
       "4 admin.      married  university.degree no      no   cellular  jul  \n",
       "5 admin.      married  university.degree yes     no   cellular  jul  \n",
       "  day_of_week poutcome    y  age_bin campaign_bin pdays_bin previous_bin\n",
       "1 thu         nonexistent no 51-60   6            NA        0           \n",
       "2 thu         failure     no 21-30   2            NA        1           \n",
       "3 tue         nonexistent no 21-30   1            NA        0           \n",
       "4 wed         nonexistent no 41-40   2            NA        0           \n",
       "5 fri         nonexistent no 21-30   1            NA        0           \n",
       "  pca1       pca2       pca3       prob_aderir\n",
       "1 -1.9251030  0.6173449 -0.5331471 0.1515928  \n",
       "2  2.3001778 -0.7483783  0.2082946 0.4337112  \n",
       "3 -1.9707944 -0.5798382 -0.7678536 0.3266396  \n",
       "4 -2.0313087 -0.6337924  0.1231449 0.3618767  \n",
       "5 -0.9888617 -0.7624516  0.1641998 0.4481662  "
      ]
     },
     "metadata": {},
     "output_type": "display_data"
    }
   ],
   "source": [
    "head(train_df_pca, n =5 )"
   ]
  },
  {
   "cell_type": "code",
   "execution_count": 467,
   "id": "264d683a",
   "metadata": {
    "scrolled": true
   },
   "outputs": [
    {
     "data": {
      "text/html": [
       "<table class=\"dataframe\">\n",
       "<caption>A data.frame: 5 × 18</caption>\n",
       "<thead>\n",
       "\t<tr><th></th><th scope=col>job</th><th scope=col>marital</th><th scope=col>education</th><th scope=col>housing</th><th scope=col>loan</th><th scope=col>contact</th><th scope=col>month</th><th scope=col>day_of_week</th><th scope=col>poutcome</th><th scope=col>y</th><th scope=col>age_bin</th><th scope=col>campaign_bin</th><th scope=col>pdays_bin</th><th scope=col>previous_bin</th><th scope=col>pca1</th><th scope=col>pca2</th><th scope=col>pca3</th><th scope=col>prob_aderir</th></tr>\n",
       "\t<tr><th></th><th scope=col>&lt;fct&gt;</th><th scope=col>&lt;fct&gt;</th><th scope=col>&lt;fct&gt;</th><th scope=col>&lt;fct&gt;</th><th scope=col>&lt;fct&gt;</th><th scope=col>&lt;fct&gt;</th><th scope=col>&lt;fct&gt;</th><th scope=col>&lt;fct&gt;</th><th scope=col>&lt;fct&gt;</th><th scope=col>&lt;fct&gt;</th><th scope=col>&lt;fct&gt;</th><th scope=col>&lt;fct&gt;</th><th scope=col>&lt;fct&gt;</th><th scope=col>&lt;fct&gt;</th><th scope=col>&lt;dbl&gt;</th><th scope=col>&lt;dbl&gt;</th><th scope=col>&lt;dbl&gt;</th><th scope=col>&lt;dbl&gt;</th></tr>\n",
       "</thead>\n",
       "<tbody>\n",
       "\t<tr><th scope=row>1</th><td>blue-collar</td><td>married</td><td>basic.9y         </td><td>yes    </td><td>no     </td><td>cellular </td><td>may</td><td>fri</td><td>nonexistent</td><td>no</td><td>21-30</td><td>2</td><td>NA</td><td>0</td><td> 2.463312732</td><td>-0.8892648</td><td> 0.3620131</td><td>0.4606031</td></tr>\n",
       "\t<tr><th scope=row>2</th><td>services   </td><td>single </td><td>high.school      </td><td>no     </td><td>no     </td><td>telephone</td><td>may</td><td>fri</td><td>nonexistent</td><td>no</td><td>31-40</td><td>4</td><td>NA</td><td>0</td><td>-1.305685445</td><td> 0.6966415</td><td>-0.3860336</td><td>0.2039021</td></tr>\n",
       "\t<tr><th scope=row>3</th><td>services   </td><td>married</td><td>high.school      </td><td>yes    </td><td>no     </td><td>telephone</td><td>jun</td><td>wed</td><td>nonexistent</td><td>no</td><td>21-30</td><td>1</td><td>NA</td><td>0</td><td>-1.881664605</td><td>-0.6525913</td><td>-0.6345447</td><td>0.3299149</td></tr>\n",
       "\t<tr><th scope=row>4</th><td>services   </td><td>married</td><td>basic.9y         </td><td>unknown</td><td>unknown</td><td>telephone</td><td>jun</td><td>fri</td><td>nonexistent</td><td>no</td><td>31-40</td><td>3</td><td>NA</td><td>0</td><td>-1.880748714</td><td>-0.6526770</td><td>-0.6348600</td><td>0.2742567</td></tr>\n",
       "\t<tr><th scope=row>5</th><td>admin.     </td><td>married</td><td>university.degree</td><td>yes    </td><td>no     </td><td>cellular </td><td>nov</td><td>mon</td><td>nonexistent</td><td>no</td><td>41-40</td><td>1</td><td>NA</td><td>0</td><td> 0.007829363</td><td>-0.2082649</td><td> 0.8394845</td><td>0.3031294</td></tr>\n",
       "</tbody>\n",
       "</table>\n"
      ],
      "text/latex": [
       "A data.frame: 5 × 18\n",
       "\\begin{tabular}{r|llllllllllllllllll}\n",
       "  & job & marital & education & housing & loan & contact & month & day\\_of\\_week & poutcome & y & age\\_bin & campaign\\_bin & pdays\\_bin & previous\\_bin & pca1 & pca2 & pca3 & prob\\_aderir\\\\\n",
       "  & <fct> & <fct> & <fct> & <fct> & <fct> & <fct> & <fct> & <fct> & <fct> & <fct> & <fct> & <fct> & <fct> & <fct> & <dbl> & <dbl> & <dbl> & <dbl>\\\\\n",
       "\\hline\n",
       "\t1 & blue-collar & married & basic.9y          & yes     & no      & cellular  & may & fri & nonexistent & no & 21-30 & 2 & NA & 0 &  2.463312732 & -0.8892648 &  0.3620131 & 0.4606031\\\\\n",
       "\t2 & services    & single  & high.school       & no      & no      & telephone & may & fri & nonexistent & no & 31-40 & 4 & NA & 0 & -1.305685445 &  0.6966415 & -0.3860336 & 0.2039021\\\\\n",
       "\t3 & services    & married & high.school       & yes     & no      & telephone & jun & wed & nonexistent & no & 21-30 & 1 & NA & 0 & -1.881664605 & -0.6525913 & -0.6345447 & 0.3299149\\\\\n",
       "\t4 & services    & married & basic.9y          & unknown & unknown & telephone & jun & fri & nonexistent & no & 31-40 & 3 & NA & 0 & -1.880748714 & -0.6526770 & -0.6348600 & 0.2742567\\\\\n",
       "\t5 & admin.      & married & university.degree & yes     & no      & cellular  & nov & mon & nonexistent & no & 41-40 & 1 & NA & 0 &  0.007829363 & -0.2082649 &  0.8394845 & 0.3031294\\\\\n",
       "\\end{tabular}\n"
      ],
      "text/markdown": [
       "\n",
       "A data.frame: 5 × 18\n",
       "\n",
       "| <!--/--> | job &lt;fct&gt; | marital &lt;fct&gt; | education &lt;fct&gt; | housing &lt;fct&gt; | loan &lt;fct&gt; | contact &lt;fct&gt; | month &lt;fct&gt; | day_of_week &lt;fct&gt; | poutcome &lt;fct&gt; | y &lt;fct&gt; | age_bin &lt;fct&gt; | campaign_bin &lt;fct&gt; | pdays_bin &lt;fct&gt; | previous_bin &lt;fct&gt; | pca1 &lt;dbl&gt; | pca2 &lt;dbl&gt; | pca3 &lt;dbl&gt; | prob_aderir &lt;dbl&gt; |\n",
       "|---|---|---|---|---|---|---|---|---|---|---|---|---|---|---|---|---|---|---|\n",
       "| 1 | blue-collar | married | basic.9y          | yes     | no      | cellular  | may | fri | nonexistent | no | 21-30 | 2 | NA | 0 |  2.463312732 | -0.8892648 |  0.3620131 | 0.4606031 |\n",
       "| 2 | services    | single  | high.school       | no      | no      | telephone | may | fri | nonexistent | no | 31-40 | 4 | NA | 0 | -1.305685445 |  0.6966415 | -0.3860336 | 0.2039021 |\n",
       "| 3 | services    | married | high.school       | yes     | no      | telephone | jun | wed | nonexistent | no | 21-30 | 1 | NA | 0 | -1.881664605 | -0.6525913 | -0.6345447 | 0.3299149 |\n",
       "| 4 | services    | married | basic.9y          | unknown | unknown | telephone | jun | fri | nonexistent | no | 31-40 | 3 | NA | 0 | -1.880748714 | -0.6526770 | -0.6348600 | 0.2742567 |\n",
       "| 5 | admin.      | married | university.degree | yes     | no      | cellular  | nov | mon | nonexistent | no | 41-40 | 1 | NA | 0 |  0.007829363 | -0.2082649 |  0.8394845 | 0.3031294 |\n",
       "\n"
      ],
      "text/plain": [
       "  job         marital education         housing loan    contact   month\n",
       "1 blue-collar married basic.9y          yes     no      cellular  may  \n",
       "2 services    single  high.school       no      no      telephone may  \n",
       "3 services    married high.school       yes     no      telephone jun  \n",
       "4 services    married basic.9y          unknown unknown telephone jun  \n",
       "5 admin.      married university.degree yes     no      cellular  nov  \n",
       "  day_of_week poutcome    y  age_bin campaign_bin pdays_bin previous_bin\n",
       "1 fri         nonexistent no 21-30   2            NA        0           \n",
       "2 fri         nonexistent no 31-40   4            NA        0           \n",
       "3 wed         nonexistent no 21-30   1            NA        0           \n",
       "4 fri         nonexistent no 31-40   3            NA        0           \n",
       "5 mon         nonexistent no 41-40   1            NA        0           \n",
       "  pca1         pca2       pca3       prob_aderir\n",
       "1  2.463312732 -0.8892648  0.3620131 0.4606031  \n",
       "2 -1.305685445  0.6966415 -0.3860336 0.2039021  \n",
       "3 -1.881664605 -0.6525913 -0.6345447 0.3299149  \n",
       "4 -1.880748714 -0.6526770 -0.6348600 0.2742567  \n",
       "5  0.007829363 -0.2082649  0.8394845 0.3031294  "
      ]
     },
     "metadata": {},
     "output_type": "display_data"
    }
   ],
   "source": [
    "head(test_df_pca, n =5 )"
   ]
  },
  {
   "cell_type": "code",
   "execution_count": 468,
   "id": "edf9cadb",
   "metadata": {},
   "outputs": [],
   "source": [
    "full_df<- rbind(test_df_pca ,train_df_pca)\n"
   ]
  },
  {
   "cell_type": "code",
   "execution_count": 469,
   "id": "7d3af102",
   "metadata": {},
   "outputs": [],
   "source": [
    "#salvando o arquivo Csv\n",
    "write.csv2(full_df,'C:\\\\Users\\\\Pichau\\\\Documents\\\\Trabalho R\\\\r_works\\\\full_df.csv' ) "
   ]
  },
  {
   "cell_type": "code",
   "execution_count": 499,
   "id": "5e53b486",
   "metadata": {},
   "outputs": [
    {
     "data": {
      "image/png": "[encoded data removed]",
      "text/plain": [
       "Plot with title \"Histogram of full_df$prob_aderir\""
      ]
     },
     "metadata": {
      "image/png": {
       "height": 360,
       "width": 360
      }
     },
     "output_type": "display_data"
    }
   ],
   "source": [
    "options(repr.plot.width = 6, repr.plot.height =6)\n",
    "hist(full_df$prob_aderir)\n"
   ]
  },
  {
   "cell_type": "markdown",
   "id": "80455efe",
   "metadata": {},
   "source": [
    "A distribuição ficou muito aproximada a curva bimodal."
   ]
  },
  {
   "cell_type": "markdown",
   "id": "68826b29",
   "metadata": {},
   "source": [
    "## 4) Apresentar as conclusões da análise realizada."
   ]
  },
  {
   "cell_type": "markdown",
   "id": "43365153",
   "metadata": {},
   "source": [
    "- Percebemos forte influência das variáveis de contexto na decisão em aderir a campanha.  \n",
    "- o Mês de maio, teve uma influencia mais forte do que os outros na probabilade\n",
    "- Os contatos serem feitos por telefone são o quarto fator condicional mais relevante na probabilidade de adesão.\n",
    "\n",
    " \n"
   ]
  }
 ],
 "metadata": {
  "kernelspec": {
   "display_name": "R",
   "language": "R",
   "name": "ir"
  },
  "language_info": {
   "codemirror_mode": "r",
   "file_extension": ".r",
   "mimetype": "text/x-r-source",
   "name": "R",
   "pygments_lexer": "r",
   "version": "3.6.3"
  }
 },
 "nbformat": 4,
 "nbformat_minor": 5
}
